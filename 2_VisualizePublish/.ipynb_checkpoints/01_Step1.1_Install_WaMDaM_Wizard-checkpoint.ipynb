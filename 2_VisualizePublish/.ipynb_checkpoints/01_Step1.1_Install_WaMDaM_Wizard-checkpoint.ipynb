{
 "cells": [
  {
   "cell_type": "markdown",
   "metadata": {},
   "source": [
    "## WaMDaM Directions and Use Cases\n",
    "\n",
    "### By Adel M. Abdallah, Utah State University, Feb 2019"
   ]
  },
  {
   "cell_type": "markdown",
   "metadata": {},
   "source": [
    "# Step 1: Install WaMDaM Wizard\n",
    "\n",
    "\n",
    "### i.\tDownload the WaMDaM Wizard software    \n",
    "Download the latest release from https://github.com/WamdamProject/WaMDaM_Wizard/releases\n",
    "\n",
    "### ii.\tLaunch WaMDaM Wizard     \n",
    "Once downloaded, double click at the executable “wamdam.exe” and this main window will appear. Click **More info** hyperlink if you encounter warning dialog box (Figure 1), then click **Run anyway** which will show the Wizard infterface (Figure 2)\n",
    "\n",
    "  <img src=\"https://github.com/WamdamProject/WaMDaM-software-ecosystem/blob/master/mkdocs/Edit_MD_Files/images/run.PNG?raw=true\" style=\"float:center;width:600px;padding:20px\">\n",
    "  <h3><center>**Figure 1:** Instalation</center></h3>\n",
    "\n",
    "\n",
    "  <img src=\"https://github.com/WamdamProject/WaMDaM-software-ecosystem/blob/master/mkdocs/Edit_MD_Files/images/Wizard.PNG?raw=true\" style=\"float:center;width:600px;padding:20px\">\n",
    "  <h3><center>**Figure 2:** WaMDaM Wizard landing interface</center></h3>\n",
    "\n",
    "\n",
    "If you’re interested, the source code of the Wizard is available on GitHub here https://github.com/WamdamProject/WaMDaM_Wizard\n",
    "<br>\n"
   ]
  },
  {
   "cell_type": "markdown",
   "metadata": {},
   "source": [
    "### iii. Connect to the SQLite database file \n",
    "Click the **Connect to SQLite** tab (Figure 1), then click the button **Connect to an Existing SQLite WaMDaM database** \n",
    "\n",
    "Browsed to the SQLite file on your local machine (e.g., C:\\WEAP_WASH_BearRiver.sqlite). \n",
    "\n",
    "<br>  \n",
    "\n"
   ]
  },
  {
   "cell_type": "markdown",
   "metadata": {},
   "source": [
    "# Use Case 1: Visualize WEAP and WASH Models in OpenAgua"
   ]
  },
  {
   "cell_type": "markdown",
   "metadata": {},
   "source": [
    "### Visualize in OpenAgua\n",
    "\n",
    "First make sure you can succesfully login to OpenAgua. Check out the public projects like in this screenshot\n",
    "\n",
    "  <img src=\"https://github.com/WamdamProject/WaMDaM-software-ecosystem/blob/master/mkdocs/Edit_MD_Files/images/OpenAgua_public.PNG?raw=true\" style=\"float:center;width:600px;padding:20px\">\n",
    "  <h3><center>**Figure 3:** Public projects in OpenAgua</center></h3>\n",
    "  \n",
    "###  Upload the WEAP 2017 network into OpenAgua. \n",
    "In the WaMDaM Wizard main window, click at **Visualize and Publish** tab, then click at the OpenAgua button. \n",
    "\n",
    "* provide your user name and password to OpenAgua then click login. \n",
    "\n",
    "* provide a project name of your choice. For example, \"YourName WEAP Project\"\n",
    "\n",
    "* Select a model in the db. here it is WEAP\n",
    "\n",
    "* Select a network: here it is Bear River Network \n",
    "\n",
    "* Select a scenario: here it is WEAP 2017 model \n",
    "\n",
    "* click upload to OpenAgua \n",
    "\n",
    "  <img src=\"https://github.com/WamdamProject/WaMDaM-software-ecosystem/blob/master/mkdocs/Edit_MD_Files/images/Viz_OpenAgua.PNG?raw=true\" style=\"float:center;width:600px;padding:20px\">\n",
    "  <h3><center>**Figure 4:** Visualize WEAP 2017 network in OpenAgua</center></h3>\n",
    "  \n",
    "##  Upload the WEAP 2012 network into OpenAgua. \n",
    "\n",
    "* Repeate the same steps above but this time choose the Lower Bear River network and the 2012 scenario. \n",
    "\n",
    "<img src=\"https://github.com/WamdamProject/WaMDaM-software-ecosystem/blob/master/mkdocs/Edit_MD_Files/images/Viz_OpenAgua2.PNG?raw=true\" style=\"float:center;width:600px;padding:20px\">\n",
    "<h3><center>**Figure 5:** Visualize WEAP 2012 network in OpenAgua</center></h3>\n",
    "\n",
    "##  Upload the WEAP 2012 network into OpenAgua. \n",
    "\n",
    "* Repeate the same steps above but this time choose the WASH model, Lower Bear River network, and One Year scenario. \n",
    "      \n",
    "<img src=\"https://github.com/WamdamProject/WaMDaM-software-ecosystem/blob/master/mkdocs/Edit_MD_Files/images/Viz_OpenAgua3.PNG?raw=true\" style=\"float:center;width:600px;padding:20px\">\n",
    "  <h3><center>**Figure 6:** Visualize WASH in OpenAgua</center></h3>\n"
   ]
  },
  {
   "cell_type": "markdown",
   "metadata": {},
   "source": [
    "# Congratualtions! \n",
    "Go to your OpenAgua account and hard refresh the browswer to see the uploaded WEAP and WASH models "
   ]
  },
  {
   "cell_type": "markdown",
   "metadata": {},
   "source": [
    "## Replicate Figure 2 in the Ecosystem Paper\n",
    "\n",
    "* In your browser, right click at the OpenAgua then choose duplicate tab which will create you another window.\n",
    "* Open the WEAP project by cliking at the name which is a hyperlink. In the second window, open the WASH project\n",
    "* In the WEAP window, choose the 2017 network. In athe WASH window, choose the One year and only scenario \n",
    "* On the left side of the OpenAgua portal, click at he double arrows icon to see the supported toolbar items. \n",
    "* Click at the network editor icon.\n",
    "* Take some time to explore the map. Zome in and out.  \n",
    "* Click at the databse icon at he far top right corner of the OpenAgua portal to see the object types for this model\n",
    "\n",
    "<img src=\"https://github.com/WamdamProject/WaMDaM-software-ecosystem/blob/master/mkdocs/Edit_MD_Files/images/NavigateOpenAgua.PNG?raw=true\" style=\"float:center;width:600px;padding:20px\">\n",
    "  <h3><center>**Figure 7:** Navigate OpenAgua toolbar</center></h3>\n",
    "  \n",
    "\n",
    "\n",
    "<img src=\"https://github.com/WamdamProject/WaMDaM-software-ecosystem/blob/master/mkdocs/Edit_MD_Files/images/ObjectTypes_OpenAgua.PNG?raw=true\" style=\"float:center;width:600px;padding:20px\">\n",
    "  <h3><center>**Figure 8:** See the Object types </center></h3>\n",
    "  \n",
    "  \n",
    "  \n",
    "* Right click at the icons and see how you could edit their data.\n",
    "\n",
    "<img src=\"https://github.com/WamdamProject/WaMDaM-software-ecosystem/blob/master/mkdocs/Edit_MD_Files/images/OpenAgua_editData.PNG?raw=true\" style=\"float:center;width:600px;padding:20px\">\n",
    "  <h3><center>**Figure 9:** View input data</center></h3>\n",
    "  \n",
    "* Check the Scenarios editor. Select a scenario, then click at \"Time Settings\" to see the time step and the start and end dates of the model \n",
    "  "
   ]
  },
  {
   "cell_type": "markdown",
   "metadata": {},
   "source": [
    "# Import from OpenAgua into a WaMDaM Excel Workbook template"
   ]
  },
  {
   "cell_type": "markdown",
   "metadata": {},
   "source": [
    "\n",
    "\n",
    "Monterrey-WaMDaM"
   ]
  },
  {
   "cell_type": "markdown",
   "metadata": {},
   "source": [
    "* Click at the **Import Data to WaMDaM** tab in the WaMDaM Wizard. Then click at the button **Import From OpenAgua**\n",
    "* provide your user name and password to OpenAgua then click connect. \n",
    "* If you havent yet, email Adel Abdalla @ amabdallah@aggiemail.usu.edu to let hm know your username (email) to share a project with you as part of replicating this use case.\n",
    "* After Adel shares the Monterrey Project with you, here you will be able to see and select it \n",
    "* then select the model name, network, and scenario. \n",
    "* Select a directory on your local computer to download and save the WaMDaM workbook template with the Monterry project.\n",
    "* Click import. Once done, open the downloaded excel file and check its sheets. You will see the sheets for the object types, attributes. Then you will see the nodes and links. finally, you'll see the data values like the numeric and time series data. \n",
    "\n",
    "  <img src=\"https://github.com/WamdamProject/WaMDaM-software-ecosystem/blob/master/mkdocs/Edit_MD_Files/images/ImportOpenAgua.PNG?raw=true\" style=\"float:center;width:600px;padding:20px\">\n",
    "  <h3><center>**Figure 1:** WaMDaM Wizard landing interface</center></h3>"
   ]
  },
  {
   "cell_type": "code",
   "execution_count": null,
   "metadata": {
    "collapsed": true
   },
   "outputs": [],
   "source": []
  },
  {
   "cell_type": "code",
   "execution_count": null,
   "metadata": {
    "collapsed": true
   },
   "outputs": [],
   "source": []
  },
  {
   "cell_type": "code",
   "execution_count": null,
   "metadata": {
    "collapsed": true
   },
   "outputs": [],
   "source": []
  },
  {
   "cell_type": "code",
   "execution_count": null,
   "metadata": {
    "collapsed": true
   },
   "outputs": [],
   "source": []
  },
  {
   "cell_type": "code",
   "execution_count": null,
   "metadata": {
    "collapsed": true
   },
   "outputs": [],
   "source": []
  },
  {
   "cell_type": "markdown",
   "metadata": {},
   "source": [
    "# Publish into HydroShare"
   ]
  },
  {
   "cell_type": "markdown",
   "metadata": {},
   "source": [
    "* In the WaMDaM Wizard main window, click at **Visualize and Publish** tab, then click at the Hydrohare button. \n",
    "* provide your user name and password to HydroShare then click login. \n",
    "* Provide a tite, abstract, and your name as an author to a resource you will create in HydroShare for the WEAP and WASH model SQLite file. For the sake of demonestration, adding a few words should work. Being descritive is always a good practice.  \n",
    "* Click publish. \n",
    "* Go to your borwser and hard refresh HydroShare page. Go to **My Resources** tab in HydroShare. You will see the newly uploaded resource. \n",
    "\n",
    "<img src=\"https://github.com/WamdamProject/WaMDaM-software-ecosystem/blob/master/mkdocs/Edit_MD_Files/images/HydroShare.PNG?raw=true\" style=\"float:center;width:600px;padding:20px\">\n",
    "  <h3><center>**Figure 1:** WaMDaM Wizard Window to Uplaod to HydroShare</center></h3>\n",
    "  \n",
    "  \n",
    "<img src=\"https://github.com/WamdamProject/WaMDaM-software-ecosystem/blob/master/mkdocs/Edit_MD_Files/images/HydroShareResources.PNG?raw=true\" style=\"float:center;width:600px;padding:20px\">\n",
    "  <h3><center>**Figure 1:** HydroShare \"My Resources\" page</center></h3>\n",
    "  \n",
    "  \n",
    "<img src=\"https://github.com/WamdamProject/WaMDaM-software-ecosystem/blob/master/mkdocs/Edit_MD_Files/images/HydroShare_metadata.PNG?raw=true\" style=\"float:center;width:600px;padding:20px\">\n",
    "<h3><center>**Figure 1:** HydroShare metadata</center></h3>\n",
    "  "
   ]
  },
  {
   "cell_type": "code",
   "execution_count": null,
   "metadata": {
    "collapsed": true
   },
   "outputs": [],
   "source": []
  }
 ],
 "metadata": {
  "kernelspec": {
   "display_name": "Python 2",
   "language": "python",
   "name": "python2"
  },
  "language_info": {
   "codemirror_mode": {
    "name": "ipython",
    "version": 2
   },
   "file_extension": ".py",
   "mimetype": "text/x-python",
   "name": "python",
   "nbconvert_exporter": "python",
   "pygments_lexer": "ipython2",
   "version": "2.7.13"
  }
 },
 "nbformat": 4,
 "nbformat_minor": 2
}
