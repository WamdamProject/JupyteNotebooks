{
 "cells": [
  {
   "cell_type": "markdown",
   "metadata": {},
   "source": [
    "## WaMDaM Directions and Use Cases\n",
    "\n",
    "### Step 1: Setup / Installation on Local Machine\n",
    "\n",
    "#### By Adel M. Abdallah, Utah State University, August 2018"
   ]
  },
  {
   "cell_type": "markdown",
   "metadata": {},
   "source": [
    "# Step 1.2: Use the Wizard to load datasets to WaMDaM\n",
    "\n",
    "### i. Download the input datasets to load them into WaMDaM\n",
    "\n",
    "<font color=red>**Warning!**</font> This step might take up to 2 days to load all the datasets one at-at-a-time, especially the two large datasets: the Idaho Flow Dataset and the Utah Flow Datasets where both have millions of records.  \n",
    "\n",
    "**Alternatively**, skip this step, proceed to Step # 1.7 to work with a preloaded, populated SQLite file that we provide. \n",
    "\n",
    "Next, load data using one of three supported importers:   \n",
    "i) from a WaMDaM Excel workbook template,  \n",
    "ii) from the Consortium of Universities for the Advancement of Hydrologic Science, Inc. (CUAHSI) web-service, and  \n",
    "iii) from the US Bureau Reclamation Water Information System (RWIS).    \n",
    "\n",
    "Clone or download the use case data files from the **2_Workbooks_datasets** folder in the following GitHub repository to a folder on your local machine.  \n",
    "\n",
    "https://github.com/WamdamProject/WaMDaM_UseCases/tree/master/2_Workbooks_datasets      \n",
    "The data files are Excel macro template file (.xlsm) that is WaMDaM compliant and WaterML (.wml) from the Bureau of Reclamation Information System (Table 1). \n",
    "\n",
    "The Excel template must have 19 WaMDaM needed spreadsheets and their headers. You can download the blank template at following link. Open the template and view the HomePage spreadsheet for more info on its structure and how to populate it with data\n",
    "https://github.com/WamdamProject/WaMDaM_UseCases/tree/master/0_WorkbookTemplates/InputData_Template    \n",
    "\n",
    "\n",
    "### ii. load each file into the WaMDaM database file you created in Step 1.1  \n",
    "\n",
    "Click the third tab **Import Data into WaMDaM** to load the datasets in (Table 1) based on their type: Excel, USBOR file, or CUAHSI as described below.\n",
    "\n",
    "<br>\n",
    "\n",
    "\n",
    "\n",
    "#### i. Excel files (.xlsm)     \n",
    "Click the button **From Excel**. Navigate to the folder you downloaded above, select the file 03BearWyomingModel_August_2018.xlsm, then click **Load data**. Repeat this step for the remaining .xlsm files (Table 1).   \n",
    "\n",
    "There is also a log- text file that records all the data loading activities into the same SQLite file that you’ll find in the same directory where your WaMDaM Wizard is placed or installed.\n",
    "\n",
    "Should you have an error, share the file log- text file with the developer. The file is in the folder:\n",
    "\n",
    "> C:\\Program Files\\WaMDaM_v1.03_UtahStateUniversity\\wamdam_log_dbName.log\n",
    "\n",
    "### iii. Use this newly populated database for WaMDaM use cases  \n",
    "Copy the db file and paste it inside the JupyterNotebook folder called \"QuerySelect\" in [03_Step1.3_Setup_local_Jupyter directions Notebook](https://github.com/WamdamProject/WaMDaM_JupyteNotebooks/blob/master/1_QuerySelect/03_Step1.3_Setup_local_Jupyter.ipynb). Then update the name of the db in the all the use case notebooks in the cell that connects to the db   \n",
    "\n",
    "  <img src=\"https://github.com/WamdamProject/WaMDaM-software-ecosystem/blob/master/mkdocs/Edit_MD_Files/QuerySelect/images/ConnectToDB_Cell.PNG?raw=true\" style=\"float:center;width:600px;padding:20px\">\n",
    "**Figure 1:** Jupyter Notebook cell in the other Use Case Notebooks to connect to the WaMDaM SQLite db and update it to the new one\n",
    "  \n",
    "  \n",
    "\n"
   ]
  },
  {
   "cell_type": "markdown",
   "metadata": {
    "collapsed": true
   },
   "source": [
    "<font color=red>**Congratulations!**</font> You have finished loading the 13 water resources management datasets into a WaMDaM SQLite file."
   ]
  },
  {
   "cell_type": "code",
   "execution_count": null,
   "metadata": {
    "collapsed": true
   },
   "outputs": [],
   "source": []
  }
 ],
 "metadata": {
  "kernelspec": {
   "display_name": "Python 2",
   "language": "python",
   "name": "python2"
  },
  "language_info": {
   "codemirror_mode": {
    "name": "ipython",
    "version": 2
   },
   "file_extension": ".py",
   "mimetype": "text/x-python",
   "name": "python",
   "nbconvert_exporter": "python",
   "pygments_lexer": "ipython2",
   "version": "2.7.13"
  }
 },
 "nbformat": 4,
 "nbformat_minor": 2
}
