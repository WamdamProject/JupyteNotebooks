{
 "cells": [
  {
   "cell_type": "markdown",
   "metadata": {},
   "source": [
    "## Instructions to use the WaMDaM Wizard and its connections with OpenAgua and HydroShare\n",
    "\n",
    "#### By Adel M. Abdallah, Utah State University, Jan 2019\n",
    "\n",
    "Execute the following cells by pressing `Shift-Enter`, or by pressing the play button <img style='display:inline;padding-bottom:15px' src='play-button.png'> on the toolbar above.\n"
   ]
  },
  {
   "cell_type": "markdown",
   "metadata": {
    "collapsed": true
   },
   "source": [
    "## WaMDaM Directions and Use Cases\n",
    "\n",
    "\n",
    "\n",
    "#### By Adel M. Abdallah, Utah State University, August 2018\n",
    "\n",
    "The Water Management Data Model (WaMDaM) is a database design with companion software that uses contextual metadata and controlled vocabularies to organize water management data from multiple sources and models. The design addressed the problem of using multiple methods to query and analyze water management data to identify input data to develop or extend a water management model. The consistent design allows modelers to query, plot, compare data, and choose input data and serve it to run models.    \n",
    "Active development of WaMDaM software continues at the WaMDaM project on GitHub at https://github.com/WamdamProject\n",
    "\n",
    "\n",
    "### The instructions here will help you to replicate the process to \n",
    "\n",
    "* Use the WaMDaM Wizard to load 13 different water management datasets into a WaMDaM SQLite database file.      \n",
    "\n",
    "* Execute SQL and Python to query, compare, and plot example data analysis in four use cases to choose it as input to a model in the Bear River Watershed, USA.   \n",
    "\n",
    "* Serve the selected data for a fifth use case into a Water Evaluation and Planning system (WEAP) model in the Bear River Watershed    \n",
    "\n",
    "Many WaMDaM steps can be executed within this Notebook, other steps require actions on a local machine. The Notebooks use the Python 2.7 libraries pandas and SQLite that are already installed as part of the Anaconda Distribution.\n",
    "\n",
    "If you want to share this Notebook with others, please share this URL.\n",
    "https://github.com/WamdamProject/WaMDaM_JupyteNotebooks/blob/master/1_QuerySelect/00_WaMDaM_Directions_and_Use_Cases.ipynb\n",
    "\n",
    "**Note**, URLs that contain (https://hub.mybinder.org.....) will become invalid after  few minutes of inactivity.\n",
    "\n",
    "\n",
    "### Required Software \n",
    "* Windows 7 or 10 64-bit operating systems, both up to date.  \n",
    "* Internet connection and Google Chrome v. 69 or FireFox Quantum v. 62.0 browsers     \n",
    "* Microsoft Excel (versions after 2007)  \n",
    "* Anaconda distribution for Python 2.7. Having Anaconda distribution for Python 3.5 installed on the same machine may cause confusion in the used Python libraries. Its recommneded to only having the 2.7 installed for a smoother experiance.\n",
    "* Water Evaluation and Planning System (WEAP) (WEAP requires a license to run the model.   \n",
    "    If you don’t have access to a WEAP license, you will still be able to replicate all the results except for the last   \n",
    "    use case)."
   ]
  },
  {
   "cell_type": "markdown",
   "metadata": {},
   "source": [
    "<h1><center>Step 1: Setup / Installation on a local machine</center></h1>\n",
    "\n",
    "## Step 1.1: Install WaMDaM Wizard\n",
    "\n",
    "[01_Step1.1_Install_WaMDaM_Wizard directions Notebook](https://github.com/WamdamProject/WaMDaM_JupyteNotebooks/blob/master/1_QuerySelect/01_Step1.1_Install_WaMDaM_Wizard.ipynb)   \n",
    "<br>\n",
    "\n",
    "\n",
    "## Step 1.2: Use the Wizard to load datasets to WaMDaM\n",
    "<font color=red>If you intend to run all the use cases #1-5 using the provided WaMDaM database file that is preloaded with data, skip this step! </font>\n",
    " \n",
    "[02_Step1.2_Load_Datasets_Wizard directions Notebook](https://github.com/WamdamProject/WaMDaM_JupyteNotebooks/blob/master/1_QuerySelect/02_Step1.2_Load_Datasets_Wizard.ipynb)   \n",
    "<br>\n",
    "\n",
    "\n",
    "## Step 1.3: Set up a local Jupyter Notebook server on a local machine\n",
    " \n",
    "[03_Step1.3_Setup_local_Jupyter directions Notebook](https://github.com/WamdamProject/WaMDaM_JupyteNotebooks/blob/master/1_QuerySelect/03_Step1.3_Setup_local_Jupyter.ipynb)   \n",
    "<br>\n"
   ]
  },
  {
   "cell_type": "markdown",
   "metadata": {},
   "source": [
    "<h1><center> Step 2: Replicate use cases</center></h1>\n",
    "\n",
    "<font color=green> This step is ready for Option 1: Skip data loading and run Use Cases #1-3 live on the fly, with no setup at all </font>\n",
    "\n",
    "\n",
    "## Step 2.1: Execute Jupyter Notebook in the cloud\n",
    "\n",
    "\n",
    "<a name=\"Use Case 1\"></a>\n",
    "\n",
    "### Use Case 1: What data entered by others can be used to develop a WEAP model for the entire Bear River basin?\n",
    "\n",
    "[UseCase 1 live Notebook](https://mybinder.org/v2/gh/WamdamProject/WaMDaM_JupyteNotebooks/master?filepath=1_QuerySelect/04_UseCase1_DataAvailabilityForModels.ipynb) \n",
    "\n",
    "<a name=\"Use Case 2\"></a>\n",
    "### Use Case 2: What network connectivity to use in a model? \n",
    "\n",
    " \n",
    "[UseCase 2 live Notebook](https://mybinder.org/v2/gh/WamdamProject/JupyteNotebooks/master?filepath=1_QuerySelect/05_UseCase2_Choose_Network.ipynb)\n",
    "\n",
    "<a name=\"Use Case 3\"></a>\n",
    "### Use Case 3: How do data values differ across datasets and which value to choose for a model? \n",
    "\n",
    "\n",
    "#### Use Case 3.1: What differences are there across datasets in flow data values at a site? \n",
    "\n",
    "\n",
    "a.  [Use Case 3.1-a Flow TimeSeries plot live Notebook](https://mybinder.org/v2/gh/WamdamProject/JupyteNotebooks/master?filepath=1_QuerySelect/06_Use_Case_3.1_a_Flow_TimeSeries.ipynb)\n",
    "\n",
    "<br>\n",
    "\n",
    "b. [Use Case 3.1-b Flow Seasonal plot live Notebook](https://mybinder.org/v2/gh/WamdamProject/JupyteNotebooks/master?filepath=1_QuerySelect/07_Use_Case_3.1_b_FlowSeasonal.ipynb)\n",
    "\n",
    "\n",
    "================================================================================================================\n",
    "\n",
    "\n",
    "#### Use Case 3.2: What differences are there across datasets in agriculture water use in an area?\n",
    "\n",
    "\n",
    "[Use Case_3.2_Seasonal_Demand Live Notebook](https://mybinder.org/v2/gh/WamdamProject/JupyteNotebooks/master?filepath=1_QuerySelect/08_Use_Case_3.2_Seasonal_Demand.ipynb)\n",
    "\n",
    "\n",
    "================================================================================================================\n",
    "\n",
    "#### Use Case 3.3: What differences are there across datasets in volume and elevation curves of a reservoir?   \n",
    "\n",
    "\n",
    "[UseCase_3.3_Array_reservoir live Notebook](https://mybinder.org/v2/gh/WamdamProject/JupyteNotebooks/master?filepath=1_QuerySelect/09_Use_Case_3.3_array_reservoir.ipynb)\n",
    "\n",
    "\n",
    "================================================================================================================\n",
    "\n",
    "\n",
    "#### Use Case 3.4: What differences are there across datasets in dam heights, installed hydropower capacity, and number of generators for two reservoirs? \n",
    "<font color=red> This is bonus Use case not presented in the WaMDaM paper</font>\n",
    "\n",
    "[UseCase_3.4_Hydropower live Notebook](https://mybinder.org/v2/gh/WamdamProject/JupyteNotebooks/master?filepath=1_QuerySelect/10_Use_Case_3.4_Hydropower.ipynb)\n",
    "\n",
    "\n"
   ]
  },
  {
   "cell_type": "markdown",
   "metadata": {},
   "source": []
  },
  {
   "cell_type": "code",
   "execution_count": null,
   "metadata": {
    "collapsed": true
   },
   "outputs": [],
   "source": []
  },
  {
   "cell_type": "code",
   "execution_count": null,
   "metadata": {
    "collapsed": true
   },
   "outputs": [],
   "source": []
  },
  {
   "cell_type": "markdown",
   "metadata": {},
   "source": [
    "# Info\n",
    "\n",
    "### Sponsors and Credit\n",
    "This material is based upon work [supported](http://docs.wamdam.org/SponsorsCredit/) by the National Science Foundation (NSF) under Grants 1135482 (CI-Water) and 1208732 (iUtah). Any opinions, findings, and conclusions or recommendations expressed in this material are those of the author(s) and do not necessarily reflect the views of the NSF.\n",
    "\n",
    "### License\n",
    "WaMDaM and its products are disturbed under a BSD 3-Clause [license](http://docs.wamdam.org/License/)\n",
    "\n",
    "### Authors\n",
    "[Adel M. Abdallah](http://adelmabdallah.com/) has been the lead in WaMDaM development as part of his PhD dissertation at Utah State University under the advising of Dr. David Rosenberg. \n",
    "\n",
    "If you have questions, feel free to email me at: [amabdallah@aggiemail.usu.edu](mailto:amabdallah@aggiemail.usu.edu) \n",
    "\n",
    "### Citation\n",
    "Adel M. Abdallah and David E. Rosenberg (In review). A Data Model to Manage Data for Water Resources Systems Modeling. Environmental Modelling & Software"
   ]
  },
  {
   "cell_type": "markdown",
   "metadata": {},
   "source": [
    "# The End :) Congratulations!"
   ]
  },
  {
   "cell_type": "code",
   "execution_count": null,
   "metadata": {
    "collapsed": true
   },
   "outputs": [],
   "source": []
  }
 ],
 "metadata": {
  "kernelspec": {
   "display_name": "Python 2",
   "language": "python",
   "name": "python2"
  },
  "language_info": {
   "codemirror_mode": {
    "name": "ipython",
    "version": 2
   },
   "file_extension": ".py",
   "mimetype": "text/x-python",
   "name": "python",
   "nbconvert_exporter": "python",
   "pygments_lexer": "ipython2",
   "version": "2.7.13"
  }
 },
 "nbformat": 4,
 "nbformat_minor": 2
}
