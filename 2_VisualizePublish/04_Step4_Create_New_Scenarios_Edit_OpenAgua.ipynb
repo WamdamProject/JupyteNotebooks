{
 "cells": [
  {
   "cell_type": "markdown",
   "metadata": {},
   "source": [
    "## Step 4: Create scenarios and download them into WaMDaM\n",
    "\n",
    "### By Adel M. Abdallah, Utah State University, Feb 2019"
   ]
  },
  {
   "cell_type": "markdown",
   "metadata": {},
   "source": [
    "## Create new WEAP Scenarios in OpenAgua\n",
    "\n",
    "* \n"
   ]
  },
  {
   "cell_type": "markdown",
   "metadata": {},
   "source": []
  },
  {
   "cell_type": "markdown",
   "metadata": {},
   "source": [
    "<img src=\"https://github.com/WamdamProject/WaMDaM-software-ecosystem/blob/master/mkdocs/Edit_MD_Files/images/Add_Scenarios.PNG?raw=true\" style=\"float:center;width:600px;padding:20px\">\n",
    "<h3><center>**Figure 1:** Add new scenarios </center></h3>\n",
    "  \n",
    "  \n",
    "  \n",
    "  \n",
    "<img src=\"https://github.com/WamdamProject/WaMDaM-software-ecosystem/blob/master/mkdocs/Edit_MD_Files/images/EditInput_WEAP.PNG?raw=true\" style=\"float:center;width:600px;padding:20px\">\n",
    "<h3><center>**Figure 2:** Edit demand data for each new scenario in WEAP</center></h3>\n",
    "  \n",
    "  \n",
    "  \n",
    "  \n",
    "<img src=\"https://github.com/WamdamProject/WaMDaM-software-ecosystem/blob/master/mkdocs/Edit_MD_Files/images/Edit_WASH.PNG?raw=true\" style=\"float:center;width:600px;padding:20px\">\n",
    "<h3><center>**Figure 3:** Edit demand data for each new scenario in WASH</center></h3>"
   ]
  },
  {
   "cell_type": "code",
   "execution_count": null,
   "metadata": {
    "collapsed": true
   },
   "outputs": [],
   "source": []
  },
  {
   "cell_type": "code",
   "execution_count": null,
   "metadata": {
    "collapsed": true
   },
   "outputs": [],
   "source": []
  },
  {
   "cell_type": "code",
   "execution_count": null,
   "metadata": {
    "collapsed": true
   },
   "outputs": [],
   "source": []
  },
  {
   "cell_type": "markdown",
   "metadata": {},
   "source": [
    "# Congratualtions! \n",
    "* Now you have both WEAP and WASH models with two new scnearios each.   \n",
    "\n",
    "* Next, we will use the WaMDaM Wizard to download them into a WaMDaM Excel Workbook and then into a SQLite database  \n",
    "\n",
    "* We will also download a third model that is publically avialable in OpenAgua for Monterrey Mexico   "
   ]
  },
  {
   "cell_type": "markdown",
   "metadata": {},
   "source": [
    "# Import from OpenAgua into a WaMDaM Excel Workbook template"
   ]
  },
  {
   "cell_type": "markdown",
   "metadata": {},
   "source": [
    "* Click at the **Import Data to WaMDaM** tab in the WaMDaM Wizard. Then click at the button **Import From OpenAgua**\n",
    "* provide your user name and password to OpenAgua then click connect. \n",
    "* Import both WEAP and WASH models  \n",
    "* If you havent yet, email Adel Abdalla @ amabdallah@aggiemail.usu.edu to let hm know your username (email) to share a project with you as part of replicating this use case.\n",
    "* After Adel shares the Monterrey Project with you, here you will be able to see and select it \n",
    "* then select the model name, network, and scenario. \n",
    "* Select a directory on your local computer to download and save the WaMDaM workbook template with the Monterry project.\n",
    "* Click import. Once done, open the downloaded excel file and check its sheets. You will see the sheets for the object types, attributes. Then you will see the nodes and links. finally, you'll see the data values like the numeric and time series data. \n",
    "\n",
    "  <img src=\"https://github.com/WamdamProject/WaMDaM-software-ecosystem/blob/master/mkdocs/Edit_MD_Files/images/ImportOpenAgua.PNG?raw=true\" style=\"float:center;width:600px;padding:20px\">\n",
    "  <h3><center>**Figure 1:** WaMDaM Wizard landing interface</center></h3>"
   ]
  },
  {
   "cell_type": "markdown",
   "metadata": {
    "collapsed": true
   },
   "source": [
    "## Copy the Excel file content into the WaMDaM Excel template "
   ]
  },
  {
   "cell_type": "code",
   "execution_count": null,
   "metadata": {
    "collapsed": true
   },
   "outputs": [],
   "source": []
  },
  {
   "cell_type": "markdown",
   "metadata": {
    "collapsed": true
   },
   "source": [
    "### Use the WaMDaM Wizard to load the Workbook into a WaMDaM SQLite database for the Monterrey model"
   ]
  },
  {
   "cell_type": "code",
   "execution_count": null,
   "metadata": {
    "collapsed": true
   },
   "outputs": [],
   "source": []
  },
  {
   "cell_type": "markdown",
   "metadata": {
    "collapsed": true
   },
   "source": [
    "### Congratulations! You're ready to publish this Monterry model into HydroShare"
   ]
  },
  {
   "cell_type": "code",
   "execution_count": null,
   "metadata": {
    "collapsed": true
   },
   "outputs": [],
   "source": []
  }
 ],
 "metadata": {
  "kernelspec": {
   "display_name": "Python 2",
   "language": "python",
   "name": "python2"
  },
  "language_info": {
   "codemirror_mode": {
    "name": "ipython",
    "version": 2
   },
   "file_extension": ".py",
   "mimetype": "text/x-python",
   "name": "python",
   "nbconvert_exporter": "python",
   "pygments_lexer": "ipython2",
   "version": "2.7.13"
  }
 },
 "nbformat": 4,
 "nbformat_minor": 2
}
