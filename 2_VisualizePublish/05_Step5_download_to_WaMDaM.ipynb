{
 "cells": [
  {
   "cell_type": "markdown",
   "metadata": {},
   "source": [
    "## WaMDaM Directions and Use Cases\n",
    "\n",
    "### By Adel M. Abdallah, Utah State University, Feb 2019"
   ]
  },
  {
   "cell_type": "markdown",
   "metadata": {},
   "source": [
    "# Step 5:  Download new scenarios into WaMDaM\n"
   ]
  },
  {
   "cell_type": "markdown",
   "metadata": {},
   "source": [
    "### You will import three seperate Networks in OpenAgua into WaMDaM workbooks \n",
    "* Download the Monterrey, Mexico Model \n",
    "* Download the WEAP Model with its new scnearios\n",
    "* Download the WASH with its new scenarios\n"
   ]
  },
  {
   "cell_type": "markdown",
   "metadata": {},
   "source": [
    "**Steps**\n",
    "* Click at the **Import Data to WaMDaM** tab in the WaMDaM Wizard. Then click at the button **Import From OpenAgua**\n",
    "* provide your user name and password to OpenAgua then click connect. \n",
    "* If you havent yet, email Adel Abdalla @ amabdallah@aggiemail.usu.edu to let hm know your username (email) to share a project with you as part of replicating this use case.\n",
    "* After Adel shares the Monterrey Project with you, here you will be able to see and select it \n",
    "* then select the model name, network, and scenario. \n",
    "* Select a directory on your local computer to download and save the WaMDaM workbook template with the Monterry project.\n",
    "* Click import. Once done, open the downloaded excel file and check its sheets. You will see the sheets for the object types, attributes. Then you will see the nodes and links. finally, you'll see the data values like the numeric and time series data. \n",
    "\n",
    "  <img src=\"https://github.com/WamdamProject/WaMDaM-software-ecosystem/blob/master/mkdocs/Edit_MD_Files/images/ImportOpenAgua.PNG?raw=true\" style=\"float:center;width:600px;padding:20px\">\n",
    "  <h3><center>**Figure 1:** WaMDaM Wizard landing interface</center></h3>"
   ]
  },
  {
   "cell_type": "markdown",
   "metadata": {
    "collapsed": true
   },
   "source": [
    "## Copy the Excel file content into the WaMDaM Excel template, provide metadata + CVs"
   ]
  },
  {
   "cell_type": "code",
   "execution_count": null,
   "metadata": {
    "collapsed": true
   },
   "outputs": [],
   "source": []
  },
  {
   "cell_type": "markdown",
   "metadata": {
    "collapsed": true
   },
   "source": [
    "### Use the WaMDaM Wizard to load the Workbook into a WaMDaM SQLite database for the three models"
   ]
  },
  {
   "cell_type": "code",
   "execution_count": null,
   "metadata": {
    "collapsed": true
   },
   "outputs": [],
   "source": []
  },
  {
   "cell_type": "markdown",
   "metadata": {
    "collapsed": true
   },
   "source": [
    "### Congratulations!\n",
    "* You're ready to publish this Monterry model into HydroShare\n",
    "* Serve the WEAP and WASH scenario data into each model"
   ]
  },
  {
   "cell_type": "code",
   "execution_count": null,
   "metadata": {
    "collapsed": true
   },
   "outputs": [],
   "source": []
  }
 ],
 "metadata": {
  "kernelspec": {
   "display_name": "Python 2",
   "language": "python",
   "name": "python2"
  },
  "language_info": {
   "codemirror_mode": {
    "name": "ipython",
    "version": 2
   },
   "file_extension": ".py",
   "mimetype": "text/x-python",
   "name": "python",
   "nbconvert_exporter": "python",
   "pygments_lexer": "ipython2",
   "version": "2.7.13"
  }
 },
 "nbformat": 4,
 "nbformat_minor": 2
}
