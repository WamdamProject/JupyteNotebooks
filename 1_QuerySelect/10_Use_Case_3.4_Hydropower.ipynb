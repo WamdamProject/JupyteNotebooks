{
 "cells": [
  {
   "cell_type": "markdown",
   "metadata": {},
   "source": [
    "## WaMDaM_Use_Case 3.4: what are dams that have hydropower in Utah and California?\n",
    "\n",
    "#### By Adel M. Abdallah, Utah State University, December 2018\n",
    "\n",
    "\n",
    "This notebook demonstrates basic WaMDaM use cases analysis using scientific Python libraries such as [pandas](https://pandas.pydata.org/) and [plotly](https://plot.ly/).  It reads WaMDaM SQLite data from a published HydroShare Generic Resource, runs SQL script, and them uses Python plotly to visualize the results\n",
    "\n",
    "\n",
    "\n",
    "Execute the following cells by pressing `Shift-Enter`, or by pressing the play button \n",
    "<img style='display:inline;padding-bottom:15px' src='play-button.png'>\n",
    "on the toolbar above.\n",
    "\n",
    "\n",
    "This use case identifies and compares dams and hydropower plants in Utah and California \n",
    "\n",
    "\n",
    "\n",
    "### Steps to reproduce this use case results and plots \n",
    "\n",
    "1.[Import python libraries](#Import)   \n",
    "   \n",
    "   \n",
    "2.[Connect to the WaMDaM populated SQLite file](#Connect)    \n",
    " \n",
    " \n",
    "3.[Query WaMDaM database to compare Hydropower in Shasta and Flaming Gorge Reservoirs](#QueryCompare)   \n",
    "  \n",
    "  \n",
    "4.[Query WaMDaM database to identify Utah dams with Hydropower purpose](#QueryUtahDams)   \n",
    " \n",
    " \n",
    "5.[Query WaMDaM database to identify Utah power plants](#QueryUtahPowerPlants)   \n",
    "\n",
    "\n",
    "6.[Query WaMDaM database to identify California dams with Hydropower purpose](#QueryCaliDams)   \n",
    "\n",
    "\n",
    "7.[Query WaMDaM database to identify California power plants](#QueryCaliPowerPlants)   \n",
    " \n",
    "     \n",
    "8.[Close the SQLite and WEAP API connections](#Close)  \n",
    "\n"
   ]
  },
  {
   "cell_type": "markdown",
   "metadata": {},
   "source": [
    "<a name=\"Import\"></a>\n",
    "## 1. Import python libraries \n"
   ]
  },
  {
   "cell_type": "code",
   "execution_count": 1,
   "metadata": {
    "collapsed": false
   },
   "outputs": [
    {
     "data": {
      "text/html": [
       "<script>requirejs.config({paths: { 'plotly': ['https://cdn.plot.ly/plotly-latest.min']},});if(!window.Plotly) {{require(['plotly'],function(plotly) {window.Plotly=plotly;});}}</script>"
      ],
      "text/vnd.plotly.v1+html": [
       "<script>requirejs.config({paths: { 'plotly': ['https://cdn.plot.ly/plotly-latest.min']},});if(!window.Plotly) {{require(['plotly'],function(plotly) {window.Plotly=plotly;});}}</script>"
      ]
     },
     "metadata": {},
     "output_type": "display_data"
    },
    {
     "data": {
      "text/html": [
       "<script>requirejs.config({paths: { 'plotly': ['https://cdn.plot.ly/plotly-latest.min']},});if(!window.Plotly) {{require(['plotly'],function(plotly) {window.Plotly=plotly;});}}</script>"
      ],
      "text/vnd.plotly.v1+html": [
       "<script>requirejs.config({paths: { 'plotly': ['https://cdn.plot.ly/plotly-latest.min']},});if(!window.Plotly) {{require(['plotly'],function(plotly) {window.Plotly=plotly;});}}</script>"
      ]
     },
     "metadata": {},
     "output_type": "display_data"
    },
    {
     "name": "stdout",
     "output_type": "stream",
     "text": [
      "The needed Python libraries have been imported\n"
     ]
    }
   ],
   "source": [
    "# 1. Import python libraries \n",
    "### set the notebook mode to embed the figures within the cell\n",
    "\n",
    "import plotly\n",
    "plotly.__version__\n",
    "import plotly.offline as offline\n",
    "import plotly.graph_objs as go\n",
    "from plotly.offline import download_plotlyjs, init_notebook_mode, plot, iplot\n",
    "offline.init_notebook_mode(connected=True)\n",
    "from plotly.offline import init_notebook_mode, iplot\n",
    "from plotly.graph_objs import *\n",
    "\n",
    "init_notebook_mode(connected=True)         # initiate notebook for offline plot\n",
    "\n",
    "import os\n",
    "import csv\n",
    "from collections import OrderedDict\n",
    "import sqlite3\n",
    "import pandas as pd\n",
    "import numpy as np\n",
    "from IPython.display import display, Image, SVG, Math, YouTubeVideo\n",
    "import urllib\n",
    "\n",
    "print 'The needed Python libraries have been imported'"
   ]
  },
  {
   "cell_type": "markdown",
   "metadata": {},
   "source": [
    "<a name=\"Connect\"></a>\n",
    "## 2. Connect to the WaMDaM populated SQLite file "
   ]
  },
  {
   "cell_type": "code",
   "execution_count": 2,
   "metadata": {
    "collapsed": false
   },
   "outputs": [
    {
     "name": "stdout",
     "output_type": "stream",
     "text": [
      "Connected to the WaMDaM SQLite file called: BearRiverDatasets_Dec2018.sqlite\n"
     ]
    }
   ],
   "source": [
    "# 2. Connect to the WaMDaM populated SQLite file \n",
    "\n",
    "\n",
    "# Then we can run queries against it within this notebook :)  \n",
    "\n",
    "# the SQLite file is published here \n",
    "\n",
    "WaMDaM_SQLite_Name='BearRiverDatasets_Dec2018.sqlite'\n",
    "# WaMDaM_SQLite_Name='replicateWaMDaM.sqlite'\n",
    "\n",
    "\n",
    "conn = sqlite3.connect(WaMDaM_SQLite_Name)\n",
    "\n",
    "\n",
    "print 'Connected to the WaMDaM SQLite file called'+': '+ WaMDaM_SQLite_Name"
   ]
  },
  {
   "cell_type": "markdown",
   "metadata": {},
   "source": [
    "<a name=\"QueryCompare\"></a>\n",
    "## 3. Query WaMDaM database to compare Hydropower in Shasta and Flaming Gorge Reservoirs\n",
    "It takes a bit of time please wait"
   ]
  },
  {
   "cell_type": "code",
   "execution_count": 3,
   "metadata": {
    "collapsed": false
   },
   "outputs": [
    {
     "data": {
      "text/html": [
       "<div>\n",
       "<style>\n",
       "    .dataframe thead tr:only-child th {\n",
       "        text-align: right;\n",
       "    }\n",
       "\n",
       "    .dataframe thead th {\n",
       "        text-align: left;\n",
       "    }\n",
       "\n",
       "    .dataframe tbody tr th {\n",
       "        vertical-align: top;\n",
       "    }\n",
       "</style>\n",
       "<table border=\"1\" class=\"dataframe\">\n",
       "  <thead>\n",
       "    <tr style=\"text-align: right;\">\n",
       "      <th></th>\n",
       "      <th>ResourceTypeAcronymDamHEIGHT</th>\n",
       "      <th>InstanceNameCVDamHEIGHT</th>\n",
       "      <th>DamHEIGHT</th>\n",
       "      <th>UnitNameHeight</th>\n",
       "      <th>InstalledCapacity</th>\n",
       "      <th>UnitNameCap</th>\n",
       "      <th>N_Gen</th>\n",
       "    </tr>\n",
       "  </thead>\n",
       "  <tbody>\n",
       "    <tr>\n",
       "      <th>0</th>\n",
       "      <td>US Major Dams</td>\n",
       "      <td>Shasta Reservoir</td>\n",
       "      <td>602.0</td>\n",
       "      <td>foot</td>\n",
       "      <td>714.0</td>\n",
       "      <td>Megawatt</td>\n",
       "      <td>7.0</td>\n",
       "    </tr>\n",
       "    <tr>\n",
       "      <th>1</th>\n",
       "      <td>US Major Dams</td>\n",
       "      <td>Flaming Gorge Reservoir</td>\n",
       "      <td>502.0</td>\n",
       "      <td>foot</td>\n",
       "      <td>151.8</td>\n",
       "      <td>Megawatt</td>\n",
       "      <td>3.0</td>\n",
       "    </tr>\n",
       "    <tr>\n",
       "      <th>2</th>\n",
       "      <td>US Major Dams</td>\n",
       "      <td>Cutler Reservoir</td>\n",
       "      <td>114.0</td>\n",
       "      <td>foot</td>\n",
       "      <td>30.0</td>\n",
       "      <td>Megawatt</td>\n",
       "      <td>2.0</td>\n",
       "    </tr>\n",
       "  </tbody>\n",
       "</table>\n",
       "</div>"
      ],
      "text/plain": [
       "  ResourceTypeAcronymDamHEIGHT  InstanceNameCVDamHEIGHT  DamHEIGHT  \\\n",
       "0                US Major Dams         Shasta Reservoir      602.0   \n",
       "1                US Major Dams  Flaming Gorge Reservoir      502.0   \n",
       "2                US Major Dams         Cutler Reservoir      114.0   \n",
       "\n",
       "  UnitNameHeight  InstalledCapacity UnitNameCap  N_Gen  \n",
       "0           foot              714.0    Megawatt    7.0  \n",
       "1           foot              151.8    Megawatt    3.0  \n",
       "2           foot               30.0    Megawatt    2.0  "
      ]
     },
     "metadata": {},
     "output_type": "display_data"
    },
    {
     "name": "stdout",
     "output_type": "stream",
     "text": [
      "Queries are done\n"
     ]
    }
   ],
   "source": [
    "# 3.4 Identify_aggregate_TimeSeriesValues.csv\n",
    "Query_UseCase3_4_URL=\"\"\"\n",
    "https://raw.githubusercontent.com/WamdamProject/WaMDaM_UseCases/master/4_Queries_SQL/UseCase3/UseCase3.4/2_CompareShastaFlamingGorge.sql\n",
    "\n",
    "\"\"\"\n",
    "\n",
    "# Read the query text inside the URL\n",
    "Query_UseCase3_4_text = urllib.urlopen(Query_UseCase3_4_URL).read()\n",
    "\n",
    "\n",
    "# return query result in a pandas data frame\n",
    "result_df_UseCase3_4= pd.read_sql_query(Query_UseCase3_4_text, conn)\n",
    "\n",
    "# uncomment the below line to see the list of attributes\n",
    "display (result_df_UseCase3_4)\n",
    "\n",
    "# it takes some time (maybe 10-20 seconds) to return back the result\n",
    "print \"Queries are done\""
   ]
  },
  {
   "cell_type": "markdown",
   "metadata": {},
   "source": [
    "<a name=\"QueryUtahDams\"></a>\n",
    "## 4. Query WaMDaM database to identify Utah dams with Hydropower purpose\n",
    "\n",
    "It takes a bit of time please wait"
   ]
  },
  {
   "cell_type": "code",
   "execution_count": 4,
   "metadata": {
    "collapsed": false
   },
   "outputs": [
    {
     "data": {
      "text/html": [
       "<div>\n",
       "<style>\n",
       "    .dataframe thead tr:only-child th {\n",
       "        text-align: right;\n",
       "    }\n",
       "\n",
       "    .dataframe thead th {\n",
       "        text-align: left;\n",
       "    }\n",
       "\n",
       "    .dataframe tbody tr th {\n",
       "        vertical-align: top;\n",
       "    }\n",
       "</style>\n",
       "<table border=\"1\" class=\"dataframe\">\n",
       "  <thead>\n",
       "    <tr style=\"text-align: right;\">\n",
       "      <th></th>\n",
       "      <th>ResourceTypeAcronymPurpose</th>\n",
       "      <th>InstanceNamePurpose</th>\n",
       "      <th>CategoricalvaluePurpose</th>\n",
       "      <th>ResourceTypeAcronymState</th>\n",
       "      <th>InstanceNameState</th>\n",
       "      <th>FreeTextValueState</th>\n",
       "    </tr>\n",
       "  </thead>\n",
       "  <tbody>\n",
       "    <tr>\n",
       "      <th>0</th>\n",
       "      <td>US Major Dams</td>\n",
       "      <td>GUNLOCK</td>\n",
       "      <td>H</td>\n",
       "      <td>US Major Dams</td>\n",
       "      <td>GUNLOCK</td>\n",
       "      <td>UT</td>\n",
       "    </tr>\n",
       "    <tr>\n",
       "      <th>1</th>\n",
       "      <td>US Major Dams</td>\n",
       "      <td>VERNON</td>\n",
       "      <td>H</td>\n",
       "      <td>US Major Dams</td>\n",
       "      <td>VERNON</td>\n",
       "      <td>UT</td>\n",
       "    </tr>\n",
       "    <tr>\n",
       "      <th>2</th>\n",
       "      <td>US Major Dams</td>\n",
       "      <td>SOLDIER CREEK</td>\n",
       "      <td>H</td>\n",
       "      <td>US Major Dams</td>\n",
       "      <td>SOLDIER CREEK</td>\n",
       "      <td>UT</td>\n",
       "    </tr>\n",
       "    <tr>\n",
       "      <th>3</th>\n",
       "      <td>US Major Dams</td>\n",
       "      <td>DEER CREEK</td>\n",
       "      <td>H</td>\n",
       "      <td>US Major Dams</td>\n",
       "      <td>DEER CREEK</td>\n",
       "      <td>UT</td>\n",
       "    </tr>\n",
       "    <tr>\n",
       "      <th>4</th>\n",
       "      <td>US Major Dams</td>\n",
       "      <td>WANSHIP</td>\n",
       "      <td>H</td>\n",
       "      <td>US Major Dams</td>\n",
       "      <td>WANSHIP</td>\n",
       "      <td>UT</td>\n",
       "    </tr>\n",
       "    <tr>\n",
       "      <th>5</th>\n",
       "      <td>US Major Dams</td>\n",
       "      <td>FLAMING GORGE</td>\n",
       "      <td>H</td>\n",
       "      <td>US Major Dams</td>\n",
       "      <td>FLAMING GORGE</td>\n",
       "      <td>UT</td>\n",
       "    </tr>\n",
       "    <tr>\n",
       "      <th>6</th>\n",
       "      <td>US Major Dams</td>\n",
       "      <td>ECHO</td>\n",
       "      <td>H</td>\n",
       "      <td>US Major Dams</td>\n",
       "      <td>ECHO</td>\n",
       "      <td>UT</td>\n",
       "    </tr>\n",
       "    <tr>\n",
       "      <th>7</th>\n",
       "      <td>US Major Dams</td>\n",
       "      <td>PINEVIEW</td>\n",
       "      <td>H</td>\n",
       "      <td>US Major Dams</td>\n",
       "      <td>PINEVIEW</td>\n",
       "      <td>UT</td>\n",
       "    </tr>\n",
       "    <tr>\n",
       "      <th>8</th>\n",
       "      <td>US Major Dams</td>\n",
       "      <td>UTAH POWER &amp; LIGHT - CUTLER</td>\n",
       "      <td>H</td>\n",
       "      <td>US Major Dams</td>\n",
       "      <td>UTAH POWER &amp; LIGHT - CUTLER</td>\n",
       "      <td>UT</td>\n",
       "    </tr>\n",
       "  </tbody>\n",
       "</table>\n",
       "</div>"
      ],
      "text/plain": [
       "  ResourceTypeAcronymPurpose          InstanceNamePurpose  \\\n",
       "0              US Major Dams                      GUNLOCK   \n",
       "1              US Major Dams                       VERNON   \n",
       "2              US Major Dams                SOLDIER CREEK   \n",
       "3              US Major Dams                   DEER CREEK   \n",
       "4              US Major Dams                      WANSHIP   \n",
       "5              US Major Dams                FLAMING GORGE   \n",
       "6              US Major Dams                         ECHO   \n",
       "7              US Major Dams                     PINEVIEW   \n",
       "8              US Major Dams  UTAH POWER & LIGHT - CUTLER   \n",
       "\n",
       "  CategoricalvaluePurpose ResourceTypeAcronymState  \\\n",
       "0                       H            US Major Dams   \n",
       "1                       H            US Major Dams   \n",
       "2                       H            US Major Dams   \n",
       "3                       H            US Major Dams   \n",
       "4                       H            US Major Dams   \n",
       "5                       H            US Major Dams   \n",
       "6                       H            US Major Dams   \n",
       "7                       H            US Major Dams   \n",
       "8                       H            US Major Dams   \n",
       "\n",
       "             InstanceNameState FreeTextValueState  \n",
       "0                      GUNLOCK                 UT  \n",
       "1                       VERNON                 UT  \n",
       "2                SOLDIER CREEK                 UT  \n",
       "3                   DEER CREEK                 UT  \n",
       "4                      WANSHIP                 UT  \n",
       "5                FLAMING GORGE                 UT  \n",
       "6                         ECHO                 UT  \n",
       "7                     PINEVIEW                 UT  \n",
       "8  UTAH POWER & LIGHT - CUTLER                 UT  "
      ]
     },
     "metadata": {},
     "output_type": "display_data"
    },
    {
     "name": "stdout",
     "output_type": "stream",
     "text": [
      "Queries are done\n"
     ]
    }
   ],
   "source": [
    "# 3.4 Identify_aggregate_TimeSeriesValues.csv\n",
    "Query_UseCase3_4_URL=\"\"\"\n",
    "https://raw.githubusercontent.com/WamdamProject/WaMDaM_UseCases/master/4_Queries_SQL/UseCase3/UseCase3.4/1_HydroPower_UT_USDams.sql\n",
    "\n",
    "\"\"\"\n",
    "\n",
    "# Read the query text inside the URL\n",
    "Query_UseCase3_4_text = urllib.urlopen(Query_UseCase3_4_URL).read()\n",
    "\n",
    "\n",
    "# return query result in a pandas data frame\n",
    "result_df_UseCase3_4= pd.read_sql_query(Query_UseCase3_4_text, conn)\n",
    "\n",
    "# uncomment the below line to see the list of attributes\n",
    "display (result_df_UseCase3_4)\n",
    "\n",
    "# it takes some time (maybe 10-20 seconds) to return back the result\n",
    "print \"Queries are done\""
   ]
  },
  {
   "cell_type": "markdown",
   "metadata": {},
   "source": [
    "<a name=\"QueryUtahPowerPlants\"></a>\n",
    "## 5. Query WaMDaM database to identify Utah power plants\n",
    "\n"
   ]
  },
  {
   "cell_type": "code",
   "execution_count": null,
   "metadata": {
    "collapsed": false
   },
   "outputs": [],
   "source": [
    "# 3.4 Identify_aggregate_TimeSeriesValues.csv\n",
    "Query_UseCase3_4_URL=\"\"\"\n",
    "https://raw.githubusercontent.com/WamdamProject/WaMDaM_UseCases/master/4_Queries_SQL/UseCase3/UseCase3.4/3_HydroPowerPlants_UT.sql\n",
    "\n",
    "\"\"\"\n",
    "\n",
    "# Read the query text inside the URL\n",
    "Query_UseCase3_4_text = urllib.urlopen(Query_UseCase3_4_URL).read()\n",
    "\n",
    "\n",
    "# return query result in a pandas data frame\n",
    "result_df_UseCase3_4= pd.read_sql_query(Query_UseCase3_4_text, conn)\n",
    "\n",
    "# uncomment the below line to see the list of attributes\n",
    "display (result_df_UseCase3_4)\n",
    "\n",
    "# it takes some time (maybe 10-20 seconds) to return back the result\n",
    "print \"Queries are done\""
   ]
  },
  {
   "cell_type": "markdown",
   "metadata": {},
   "source": [
    "<a name=\"QueryCaliDams\"></a>\n",
    "## 6. Query WaMDaM database to identify California dams with Hydropower purpose"
   ]
  },
  {
   "cell_type": "code",
   "execution_count": null,
   "metadata": {
    "collapsed": false
   },
   "outputs": [],
   "source": [
    "# 3.4 Identify_aggregate_TimeSeriesValues.csv\n",
    "Query_UseCase3_4_URL=\"\"\"\n",
    "https://raw.githubusercontent.com/WamdamProject/WaMDaM_UseCases/master/4_Queries_SQL/UseCase3/UseCase3.4/4_HydroPower_CA_USDams.sql\n",
    "\n",
    "\"\"\"\n",
    "\n",
    "# Read the query text inside the URL\n",
    "Query_UseCase3_4_text = urllib.urlopen(Query_UseCase3_4_URL).read()\n",
    "\n",
    "\n",
    "# return query result in a pandas data frame\n",
    "result_df_UseCase3_4= pd.read_sql_query(Query_UseCase3_4_text, conn)\n",
    "\n",
    "# uncomment the below line to see the list of attributes\n",
    "display (result_df_UseCase3_4)\n",
    "\n",
    "# it takes some time (maybe 10-20 seconds) to return back the result\n",
    "print \"Queries are done\""
   ]
  },
  {
   "cell_type": "markdown",
   "metadata": {},
   "source": [
    "<a name=\"QueryCaliPowerPlants\"></a>\n",
    "## 7.Query WaMDaM database to identify California power plants\n"
   ]
  },
  {
   "cell_type": "code",
   "execution_count": null,
   "metadata": {
    "collapsed": false
   },
   "outputs": [],
   "source": [
    "# 3.4 Identify_aggregate_TimeSeriesValues.csv\n",
    "Query_UseCase3_4_URL=\"\"\"\n",
    "https://raw.githubusercontent.com/WamdamProject/WaMDaM_UseCases/master/4_Queries_SQL/UseCase3/UseCase3.4/5_HydroPowerPlants_CA.sql\n",
    "\n",
    "\"\"\"\n",
    "\n",
    "# Read the query text inside the URL\n",
    "Query_UseCase3_4_text = urllib.urlopen(Query_UseCase3_4_URL).read()\n",
    "\n",
    "\n",
    "# return query result in a pandas data frame\n",
    "result_df_UseCase3_4= pd.read_sql_query(Query_UseCase3_4_text, conn)\n",
    "\n",
    "# uncomment the below line to see the list of attributes\n",
    "display (result_df_UseCase3_4)\n",
    "\n",
    "# it takes some time (maybe 10-20 seconds) to return back the result\n",
    "\n",
    "print \"Queries are done\""
   ]
  },
  {
   "cell_type": "markdown",
   "metadata": {},
   "source": [
    "<a name=\"Close\"></a>\n",
    "# 8. Close the SQLite aconnection"
   ]
  },
  {
   "cell_type": "code",
   "execution_count": null,
   "metadata": {
    "collapsed": true
   },
   "outputs": [],
   "source": [
    "conn.close()\n",
    "\n",
    "print 'Connection to SQLite engine is disconnected'"
   ]
  },
  {
   "cell_type": "markdown",
   "metadata": {},
   "source": [
    "# The End :) Congratulations, you have replicated this use case!"
   ]
  },
  {
   "cell_type": "code",
   "execution_count": null,
   "metadata": {
    "collapsed": true
   },
   "outputs": [],
   "source": []
  }
 ],
 "metadata": {
  "kernelspec": {
   "display_name": "Python 2",
   "language": "python",
   "name": "python2"
  },
  "language_info": {
   "codemirror_mode": {
    "name": "ipython",
    "version": 2
   },
   "file_extension": ".py",
   "mimetype": "text/x-python",
   "name": "python",
   "nbconvert_exporter": "python",
   "pygments_lexer": "ipython2",
   "version": "2.7.13"
  }
 },
 "nbformat": 4,
 "nbformat_minor": 2
}
