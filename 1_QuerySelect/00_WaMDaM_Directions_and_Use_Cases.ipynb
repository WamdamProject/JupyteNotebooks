{
 "cells": [
  {
   "cell_type": "markdown",
   "metadata": {},
   "source": [
    "\n",
    "<h1><center>WaMDaM Directions and Use Cases</center></h1>\n",
    "\n",
    "\n",
    "\n",
    "<h3><center>By Adel M. Abdallah, Utah State University, August 2018</center></h3>\n",
    "\n",
    "This notebook provides directions to set up and run the WaMDaM Wizard and demonstrates example use case analysis to query the Water Management Data Model (WaMDaM) database in SQLite which faciliates preparing input data for models. Active development of WaMDaM software continues at the WaMDaM project on GitHub at https://github.com/WamdamProject\n",
    "\n",
    "Many WaMDaM steps can be executed within this Notebook, other steps require actions on a local machine. The Notebooks use the Python 2.7 libraries pandas, SQLite and plotly that are aready installed as part of the Anacona Distribution.\n",
    "\n",
    "\n",
    "### Required Software \n",
    "•\tWindows 7 or 10 64 bit operating systems  \n",
    "•\tInternet connection  \n",
    "•\tMicrosoft Excel (versions after 2007)  \n",
    "•   Anaconda distribution for Python 2.7   \n",
    "•\tWater Evaluation and Planning System (WEAP) (WEAP requires a license to run the model.   \n",
    "    If you don’t have access to a WEAP license, you will still be able to replicate all the results except for the last   \n",
    "    use case).\n",
    "\n",
    "### Difficulty level\n",
    "No coding or database experience are needed to replicate the work but some knowledge of coding like in Python and awareness of Structure Query Language (SQL) are a plus.   \n",
    "\n",
    "### Required time\n",
    "* Step 1:  up to 2 days (to load large datasets into a SQLite file)  \n",
    "* Steps 2 - Use Cases 1-3: 1 hour (skip Step 1 and start with pre-populated SQLite file).\n",
    "* Step 2- Use case 4: 1 hour (Step 1.1-1.2)\n",
    "* Step 2- Use case 5: 2 hours (Step 1.5)  \n",
    "\n",
    "\n",
    "### How to use the Notebook   \n",
    "The Notebook reads data from a WaMDaM SQLite pre-populated file, runs SQL script for each use case, and then uses plotly to visualize the results. The SQL quries used in the use cases are referenced directly from GitHub to maintain a managable and simple Notebook at https://github.com/WamdamProject/WaMDaM_UseCases/tree/master/UseCases_files/4Queries_SQL\n",
    "\n",
    "Execute the Notebook cells that contain Python code by pressing `Shift-Enter`, or by pressing the play button \n",
    "<img style='display:inline;padding-bottom:15px' src='play-button.png'>\n",
    "on the toolbar above.\n",
    "\n",
    "\n",
    "\n"
   ]
  },
  {
   "cell_type": "markdown",
   "metadata": {},
   "source": [
    "# Step 1: Setup / Installation on a local machine\n"
   ]
  },
  {
   "cell_type": "markdown",
   "metadata": {
    "collapsed": true
   },
   "source": [
    "\n",
    "<font color=red>If you intend to run Use Cases #1 to #3 on this live Juptyer notebook using a WaMDaM database file that is preloaded with data, no set up is needed! \n",
    "<br>\n",
    "Continue to Step #2.</font>\n",
    "\n",
    "\n",
    "To load the datasets into a new SQLite file and run Use Cases #4 and #5, follow the instuctions on this Notebook \n",
    "<br> \n",
    "[Setup and Installation Live Notebook](https://mybinder.org/v2/gh/WamdamProject/WaMDaM_JupyteNotebooks/master?filepath=1_QuerySelect/01_Step1_Setup_Installation_Local_Machine.ipynb)   \n",
    "<br>\n"
   ]
  },
  {
   "cell_type": "markdown",
   "metadata": {},
   "source": [
    "# Step 2: Execute the use cases \n"
   ]
  },
  {
   "cell_type": "markdown",
   "metadata": {},
   "source": [
    "\n",
    "<a name=\"Use Case 1\"></a>\n",
    "\n",
    "## Use Case 1: What data entered by others can be used to develop a WEAP model for the entire Bear River basin?\n",
    "\n",
    "If you skipped loading data, run this live Jupyter Notebook on the fly, live no setup at all<br>\n",
    " \n",
    "[UseCase 1 Live Notebook](https://mybinder.org/v2/gh/WamdamProject/WaMDaM_JupyteNotebooks/master?filepath=1_QuerySelect/02_UseCase1_DataAvailabilityForModels.ipynb\n",
    ") \n",
    "\n"
   ]
  },
  {
   "cell_type": "markdown",
   "metadata": {},
   "source": [
    "<a name=\"Use Case 2\"></a>\n",
    "## Use Case 2: What network connectivity to use in a model? \n",
    "\n",
    "\n",
    "If you skipped loading data, you can run this live Jupyter Notebook on the fly, live, with no login, no setup at all\n",
    "<br>\n",
    " \n",
    "[UseCase 2 Live Notebook](https://mybinder.org/v2/gh/WamdamProject/JupyteNotebooks/master?filepath=1_QuerySelect/03_UseCase2_Choose_Network.ipynb\n",
    ")\n",
    "\n",
    "\n"
   ]
  },
  {
   "cell_type": "markdown",
   "metadata": {},
   "source": [
    "<a name=\"Use Case 3\"></a>\n",
    "## Use Case 3: How do data values differ across datasets and which value to choose for a model? \n",
    "\n",
    "\n",
    "### Use Case 3.1: What differences are there across datasets in flow data values at a site? \n",
    "\n",
    "If you skipped loading data, you can run these two live Jupyter Notebook on the fly, live, with no login, no setup at all <br>\n",
    "\n",
    "a.  [Use Case 3.1-a Flow TimeSeries plot live Notebook](https://mybinder.org/v2/gh/WamdamProject/JupyteNotebooks/master?filepath=1_QuerySelect/04_Use_Case_3.1_a_Flow_TimeSeries.ipynb)\n",
    "\n",
    "<br>\n",
    "\n",
    "b. [Use Case 3.1-b Flow Seasonal plot live Notebook](https://mybinder.org/v2/gh/WamdamProject/JupyteNotebooks/master?filepath=1_QuerySelect/05_Use_Case_3.1_b_FlowSeasonal.ipynb)\n",
    "\n",
    "\n",
    "================================================================================================================\n",
    "\n",
    "\n",
    "### Use Case 3.2: What differences are there across datasets in agriculture water use in an area?\n",
    "\n",
    "\n",
    "If you skipped loading data, you can run this live Jupyter Notebook on the fly, live, with no login, no setup at all   \n",
    "\n",
    "[Use Case_3.2_Seasonal_Demand Live Notebook](https://mybinder.org/v2/gh/WamdamProject/JupyteNotebooks/master?filepath=1_QuerySelect/06_Use_Case_3.2_Seasonal_Demand.ipynb)\n",
    "\n",
    "\n",
    "================================================================================================================\n",
    "\n",
    "### Use Case 3.3: What differences are there across datasets in volume and elevation curves of a reservoir?   \n",
    "\n",
    "\n",
    "If you skipped loading data, you can run this live Jupyter Notebook on the fly, live, with no login, no setup at all <br>\n",
    "[UseCase_3.3_Array_reservoir](https://mybinder.org/v2/gh/WamdamProject/JupyteNotebooks/master?filepath=1_QuerySelect/07_Use_Case_3.3_array_reservoir.ipynb)\n",
    "\n",
    "\n",
    "================================================================================================================\n",
    "\n",
    "\n",
    "### Use Case 3.4: What differences are there across datasets in dam heights, installed hydropower capacity, and number of generators for two reservoirs? \n",
    "<font color=red> [This is bonus Use case not presented in the WaMDaM paper</font>\n",
    "\n",
    "If you skipped loading data, you can run this live Jupyter Notebook on the fly, live, with no login, no setup at all <br>  \n",
    "[UseCase_3.4_Hydropower live Notebook](https://mybinder.org/v2/gh/WamdamProject/JupyteNotebooks/master?filepath=1_QuerySelect/08_Use_Case_3.4_Hydropower.ipynb)\n",
    "\n"
   ]
  },
  {
   "cell_type": "markdown",
   "metadata": {},
   "source": [
    "<a name=\"Use Case 4\"></a>\n",
    "## Use Case 4: What is the difference between two scenarios and which one to use in a model? \n",
    "\n",
    "<font color=red> This use case uses the WaMDaM Wizard, you need to install it in </font>\n",
    "[Step 1.5: Setup and Installation](https://mybinder.org/v2/gh/WamdamProject/WaMDaM_JupyteNotebooks/master?filepath=1_QuerySelect/01_Step1_Setup_Installation_Local_Machine.ipynb#SetUp_Jupyter_server)  \n",
    "\n",
    "The insructions to replciate this use cases exist here <br>  \n",
    "\n",
    "[UseCase4_Compare_Scenarios live Notebook](https://mybinder.org/v2/gh/WamdamProject/JupyteNotebooks/master?filepath=1_QuerySelect/09_UseCase_4_Compare_Scenarios.ipynb)\n",
    "\n",
    "\n"
   ]
  },
  {
   "cell_type": "markdown",
   "metadata": {},
   "source": [
    "<a name=\"Use Case 5\"></a>\n",
    "## Use Case 5: How does annual water shortages at the Bear River Migratory Bird Refuge in the Bear River basin change after updating the Bear River WEAP Model 2017 model with new bathymetry, flow, and demand data as selected in use cases 2-3?\n",
    "\n",
    "<font color=red> This use case only works on a local Jupyter Notebook server installed on your machine along with WEAP. So it does not work on the online Notebooks.</font> <br>\n",
    "You need to install Jupyter Server in Step 1.5 at [Step 1.5: Setup Jupyter Notebook Server](https://mybinder.org/v2/gh/WamdamProject/WaMDaM_JupyteNotebooks/master?filepath=1_QuerySelect/01_Step1_Setup_Installation_Local_Machine.ipynb#SetUp_Jupyter_server) then proceed here. \n",
    "\n",
    "View the the Notebook here. <font color=red> Scritps related to connecting to WEAP API WILL NOT WORK HERE </font> <br>\n",
    "[UseCase5_Serve Data to Run WEAP live notebook ](https://mybinder.org/v2/gh/WamdamProject/JupyteNotebooks/master?filepath=1_QuerySelect/10_Use_Case_5_ServeDataRunWEAP.ipynb)\n",
    "\n",
    "\n"
   ]
  },
  {
   "cell_type": "markdown",
   "metadata": {},
   "source": [
    "### Sponsors and Credit\n",
    "This material is based upon work [supported](http://docs.wamdam.org/SponsorsCredit/) by the National Science Foundation (NSF) under Grants 1135482 (CI-Water) and 1208732 (iUtah). Any opinions, findings, and conclusions or recommendations expressed in this material are those of the author(s) and do not necessarily reflect the views of the NSF.\n",
    "\n",
    "### License\n",
    "WaMDaM and its products are disturbed under a BSD 3-Clause [license](http://docs.wamdam.org/License/)\n",
    "\n",
    "### Authors\n",
    "[Adel M. Abdallah](http://adelmabdallah.com/) has been the lead in WaMDaM development as part of his PhD dissertation at Utah State University under the advising of Dr. David Rosenberg. \n",
    "\n",
    "If you have questions, feel free to email me at: [amabdallah@aggiemail.usu.edu](mailto:amabdallah@aggiemail.usu.edu) \n",
    "\n",
    "### Citation\n",
    "Adel M. Abdallah and David E. Rosenberg (In review)). A Data Model to Manage Data for Water Resources Systems Modeling. Environmental Modelling & Software"
   ]
  },
  {
   "cell_type": "markdown",
   "metadata": {},
   "source": [
    "# The End :) Congratulations!"
   ]
  },
  {
   "cell_type": "code",
   "execution_count": null,
   "metadata": {
    "collapsed": true
   },
   "outputs": [],
   "source": []
  }
 ],
 "metadata": {
  "kernelspec": {
   "display_name": "Python 2",
   "language": "python",
   "name": "python2"
  },
  "language_info": {
   "codemirror_mode": {
    "name": "ipython",
    "version": 2
   },
   "file_extension": ".py",
   "mimetype": "text/x-python",
   "name": "python",
   "nbconvert_exporter": "python",
   "pygments_lexer": "ipython2",
   "version": "2.7.13"
  }
 },
 "nbformat": 4,
 "nbformat_minor": 2
}
