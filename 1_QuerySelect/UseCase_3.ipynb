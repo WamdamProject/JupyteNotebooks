{
 "cells": [
  {
   "cell_type": "markdown",
   "metadata": {},
   "source": [
    "<a name=\"Use Case 3\"></a>\n",
    "# **Use Case 3:** What differences are there across datasets in data values of properties of a water system component? \n",
    "\n",
    "Once modelers have identified data availability in Use Case 1, next they need to determine which datasets and values to use in their model. Modelers often use many data management methods to query, manipulate, and join different water management data types (e.g., time series, multi-column arrays) to analyze and prepare them for systems models. \n",
    "\n",
    "Modelers also manually search for descriptive metadata stored separately in many files like PDF of HTML pages. This use case shows how a modeler can use WaMDaM’s multiple data types, controlled vocabularies, conditional queries, and metadata design features to consistently query and compare different types of data values across datasets.\n",
    "\n",
    "[**Use Case 3.1:** What differences are there across datasets in flow data values at a site?]  \n",
    "\n",
    "This case queries and compares multiple datasets that have the flow data where a modeler can use it to populate a model\n",
    "\n",
    "### use case Jupyter Notebook file (run it on the fly, live, with no login, no setup at all)\n",
    "\n",
    "**3_Use_Case_3.1_TimeSeries**\n",
    "\n",
    "https://mybinder.org/v2/gh/WamdamProject/JupyteNotebooks/master?filepath=1_QuerySelect/3_Use_Case_3.1_TimeSeries.ipynb\n",
    "\n",
    "**4_Use_Case_3.1_Seasonal**\n",
    "### use case Jupyter Notebook file (run it on the fly, live, with no login, no setup at all)\n",
    "https://mybinder.org/v2/gh/WamdamProject/WaMDaM_JupyteNotebooks/master?filepath=1_QuerySelect/4_Use_Case_3.1_Seasonal.ipynb\n",
    "\n",
    "\n",
    "**Use Case 3.2:** What differences are there across datasets in agriculture water use in an area?  \n",
    "\n",
    "Modelers often require data for agriculture and other water uses, which are often derived (not measured like flow).] \n",
    "\n",
    "### use case Jupyter Notebook file (run it on the fly, live, with no login, no setup at all)\n",
    "\n",
    "https://mybinder.org/v2/gh/WamdamProject/WaMDaM_JupyteNotebooks/master?filepath=1_QuerySelect/5_Use_Case_3.2_Seasonal_Demand.ipynb\n",
    "\n",
    "\n",
    "\n",
    "**Use Case 3.3:** What differences are there across datasets in volume and elevation curves of a reservoir?  \n",
    "\n",
    "Molders also search for attributes with another type of data like multi-attribute series, which can describe a reservoir bathymetry in relationships between elevation and storage to represent reservoirs physical capacity in the model\n",
    "### use case Jupyter Notebook file (run it on the fly, live, with no login, no setup at all)\n",
    "\n",
    "https://mybinder.org/v2/gh/WamdamProject/WaMDaM_JupyteNotebooks/master?filepath=1_QuerySelect/6_Use_Case_3.3_array_reservoir.ipynb\n",
    "\n",
    "\n",
    "\n",
    "**Use Case 3.4:** What differences are there across datasets in dam heights, installed hydropower capacity, and number of generators for two reservoirs?  \n",
    "**7_Use_Case_3.4_Hydropower**  \n",
    "\n",
    "https://mybinder.org/v2/gh/WamdamProject/WaMDaM_JupyteNotebooks/master?filepath=1_QuerySelect/7_Use_Case_3.4_Hydropower.ipynb\n",
    "Modelers may search for attributes with numeric and descriptive values to correctly understand and represent the functions of water systems like modeling hydropower in Reservoirs. In this case, we use the controlled Instances of Shasta Reservoir, California and Flaming Gorge Reservoir, Utah to identify and compare and relate their dam heights, installed hydropower capacity, and number of generators across both the US Dams and the National Hydropower Datasets (Table 5). With a 100 feet higher dam and four more installed generators, the Shasta Reservoir has a hydropower capacity at about five times of the Flaming Gorge Reservoir. "
   ]
  },
  {
   "cell_type": "code",
   "execution_count": null,
   "metadata": {
    "collapsed": true
   },
   "outputs": [],
   "source": []
  }
 ],
 "metadata": {
  "kernelspec": {
   "display_name": "Python 2",
   "language": "python",
   "name": "python2"
  },
  "language_info": {
   "codemirror_mode": {
    "name": "ipython",
    "version": 2
   },
   "file_extension": ".py",
   "mimetype": "text/x-python",
   "name": "python",
   "nbconvert_exporter": "python",
   "pygments_lexer": "ipython2",
   "version": "2.7.14"
  }
 },
 "nbformat": 4,
 "nbformat_minor": 2
}
