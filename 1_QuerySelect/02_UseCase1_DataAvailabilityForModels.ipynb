{
 "cells": [
  {
   "cell_type": "markdown",
   "metadata": {},
   "source": [
    "### Use Case 1:  What data entered by others can be used to develop a WEAP model for the entire Bear River basin? \n",
    "\n",
    "\n",
    "#### By Adel M. Abdallah, Utah State University, August 2018\n",
    "\n",
    "This notebook demonstrates basic WaMDaM use cases analysis using scientific Python libraries such as [pandas](https://pandas.pydata.org/) and [plotly](https://plot.ly/).  It reads WaMDaM SQLite data from a published HydroShare Generic Resource, runs SQL script, and them uses Python plotly to visualize the results\n",
    "\n",
    "\n",
    "Execute the following cells by pressing `Shift-Enter`, or by pressing the play button \n",
    "<img style='display:inline;padding-bottom:15px' src='play-button.png'>\n",
    "on the toolbar above.\n",
    "\n",
    "\n",
    "  <img src=\"https://github.com/WamdamProject/WaMDaM-software-ecosystem/blob/master/mkdocs/Edit_MD_Files/QuerySelect/images/UseCase1.jpg?raw=true\" style=\"float:right;width:800px;padding:20px\">   \n",
    "Example conceptual mapping showing how the use of controlled vocabulary can help retrieve different available native attributes in datasets for reservoirs in the WEAP model instance.\n",
    "\n",
    "\n",
    "### Steps to reproduce this use case results and plots \n",
    "\n",
    "1. [Import python libraries](#Import) \n",
    "2. [Connect to the WaMDaM populated SQLite file](#Connect) \n",
    "3. [Search for data to expand the WEAP Model from the Lower into the entire Bear River Watershed](#SearchWEAP)\n",
    "4. [Search for data to expand the WASH Model from the Lower into the entire Bear River Watershed](#SearchWASH)\n",
    "5. [Plot the data availability summary Figure](#Plot) \n",
    "6. [Close the SQLite connection](#Close)"
   ]
  },
  {
   "cell_type": "markdown",
   "metadata": {},
   "source": [
    "<a name=\"Import\"></a>\n",
    "# 1. Import python libraries \n"
   ]
  },
  {
   "cell_type": "code",
   "execution_count": 1,
   "metadata": {
    "collapsed": false
   },
   "outputs": [
    {
     "data": {
      "text/html": [
       "<script>requirejs.config({paths: { 'plotly': ['https://cdn.plot.ly/plotly-latest.min']},});if(!window.Plotly) {{require(['plotly'],function(plotly) {window.Plotly=plotly;});}}</script>"
      ],
      "text/vnd.plotly.v1+html": [
       "<script>requirejs.config({paths: { 'plotly': ['https://cdn.plot.ly/plotly-latest.min']},});if(!window.Plotly) {{require(['plotly'],function(plotly) {window.Plotly=plotly;});}}</script>"
      ]
     },
     "metadata": {},
     "output_type": "display_data"
    },
    {
     "data": {
      "text/html": [
       "<script>requirejs.config({paths: { 'plotly': ['https://cdn.plot.ly/plotly-latest.min']},});if(!window.Plotly) {{require(['plotly'],function(plotly) {window.Plotly=plotly;});}}</script>"
      ],
      "text/vnd.plotly.v1+html": [
       "<script>requirejs.config({paths: { 'plotly': ['https://cdn.plot.ly/plotly-latest.min']},});if(!window.Plotly) {{require(['plotly'],function(plotly) {window.Plotly=plotly;});}}</script>"
      ]
     },
     "metadata": {},
     "output_type": "display_data"
    },
    {
     "name": "stdout",
     "output_type": "stream",
     "text": [
      "The needed Python libraries have been imported\n"
     ]
    }
   ],
   "source": [
    "# 1. Import python libraries \n",
    "\n",
    "# set the notebook mode to embed the figures within the cell\n",
    "\n",
    "import plotly\n",
    "plotly.__version__\n",
    "import plotly.offline as offline\n",
    "import plotly.graph_objs as go\n",
    "from plotly.offline import download_plotlyjs, init_notebook_mode, plot, iplot\n",
    "offline.init_notebook_mode(connected=True)\n",
    "from plotly.offline import init_notebook_mode, iplot\n",
    "from plotly.graph_objs import *\n",
    "\n",
    "init_notebook_mode(connected=True)         # initiate notebook for offline plot\n",
    "\n",
    "import os\n",
    "import csv\n",
    "from collections import OrderedDict\n",
    "import sqlite3\n",
    "import pandas as pd\n",
    "import numpy as np\n",
    "from IPython.display import display, Image, SVG, Math, YouTubeVideo\n",
    "import urllib\n",
    "\n",
    "print 'The needed Python libraries have been imported'"
   ]
  },
  {
   "cell_type": "markdown",
   "metadata": {},
   "source": [
    "<a name=\"Connect\"></a>\n",
    "# 2. Connect to the WaMDaM populated SQLite file "
   ]
  },
  {
   "cell_type": "code",
   "execution_count": 9,
   "metadata": {
    "collapsed": false
   },
   "outputs": [
    {
     "name": "stdout",
     "output_type": "stream",
     "text": [
      "Connected to the WaMDaM SQLite file called: BearRiverDatasets_June_2018_Final.sqlite\n"
     ]
    }
   ],
   "source": [
    "# Then we can run queries against it within this notebook :)  \n",
    "\n",
    "# the SQLite file is published here \n",
    "\n",
    "\n",
    "WaMDaM_SQLite_Name='BearRiverDatasets_June_2018_Final.sqlite'\n",
    "\n",
    "\n",
    "conn = sqlite3.connect(WaMDaM_SQLite_Name)\n",
    "\n",
    "print 'Connected to the WaMDaM SQLite file called'+': '+ WaMDaM_SQLite_Name"
   ]
  },
  {
   "cell_type": "markdown",
   "metadata": {},
   "source": [
    "<a name=\"SearchWEAP\"></a>\n",
    "# 3. Search for data to expand the WEAP Model"
   ]
  },
  {
   "cell_type": "code",
   "execution_count": 3,
   "metadata": {
    "collapsed": false
   },
   "outputs": [
    {
     "ename": "DatabaseError",
     "evalue": "Execution failed on sql '/*\n1.01Identify_WEAPmodel_requirements.sql\n\nUsers can automatically identify the list of Object types and their attributes that are required/used by a model. \nThe model must be already defined in WaMDaM previously. Users can define a model input data at once \nusing the WaMDaM Excel template. \nOnce in WaMDaM, users can filter the model requirements based on object types and/or categories. They also can use these lists \nor required object types and their attributes to automatically search for available data in \ndatasets in WaMDaM and identify additional needed data not available in WaMDaM database.\n\n\nAdel Abdallah \nLast updated July 24, 2018\n\n*/\n\nSELECT DISTINCT  ObjectType,ObjectCategoryName,ObjectTypeCV ,AttributeName_Abstract, AttributeCategoryName,AttributeNameCV \nFROM \"ResourceTypes\"\n\nLEFT JOIN \"ObjectTypes\" \nON \"ObjectTypes\".\"ResourceTypeID\"=\"ResourceTypes\".\"ResourceTypeID\"\n\nLEFT JOIN  \"ObjectCategories\"\nON \"ObjectCategories\".\"ObjectCategoryID\"=\"ObjectTypes\".\"ObjectCategoryID\" \n\nLEFT JOIN  \"Attributes\"\nON \"Attributes\".\"ObjectTypeID\"=\"ObjectTypes\".\"ObjectTypeID\" \n\nLEFT JOIN  \"AttributeCategories\"\nON \"AttributeCategories\".\"AttributeCategoryID\"=\"Attributes\".\"AttributeCategoryID\" \n\n-- Provide the model name \nWHERE \"ResourceTypeAcronym\"='WEAP' \n--WHERE \"ResourceTypeAcronym\"='WASH' \n\n--exclude the dummy attributes that are just used to connect Object Types with their Instances. \nAND AttributeName!='ObjectTypeInstances' \n\nAND (AttributeCategoryName not in ('Water Quality','Cost') or  AttributeCategoryName is NULL and  ObjectType!='Catchment')\n': no such table: ResourceTypes",
     "output_type": "error",
     "traceback": [
      "\u001b[0;31m---------------------------------------------------------------------------\u001b[0m",
      "\u001b[0;31mDatabaseError\u001b[0m                             Traceback (most recent call last)",
      "\u001b[0;32m<ipython-input-3-52a63ed6454e>\u001b[0m in \u001b[0;36m<module>\u001b[0;34m()\u001b[0m\n\u001b[1;32m      7\u001b[0m \u001b[0mQuery_required_text\u001b[0m \u001b[1;33m=\u001b[0m \u001b[0murllib\u001b[0m\u001b[1;33m.\u001b[0m\u001b[0murlopen\u001b[0m\u001b[1;33m(\u001b[0m\u001b[0mQuery_required_URL\u001b[0m\u001b[1;33m)\u001b[0m\u001b[1;33m.\u001b[0m\u001b[0mread\u001b[0m\u001b[1;33m(\u001b[0m\u001b[1;33m)\u001b[0m\u001b[1;33m\u001b[0m\u001b[0m\n\u001b[1;32m      8\u001b[0m \u001b[1;31m# return query result in a pandas data frame\u001b[0m\u001b[1;33m\u001b[0m\u001b[1;33m\u001b[0m\u001b[0m\n\u001b[0;32m----> 9\u001b[0;31m \u001b[0mresult_df_required\u001b[0m\u001b[1;33m=\u001b[0m \u001b[0mpd\u001b[0m\u001b[1;33m.\u001b[0m\u001b[0mread_sql_query\u001b[0m\u001b[1;33m(\u001b[0m\u001b[0mQuery_required_text\u001b[0m\u001b[1;33m,\u001b[0m \u001b[0mconn\u001b[0m\u001b[1;33m)\u001b[0m\u001b[1;33m\u001b[0m\u001b[0m\n\u001b[0m\u001b[1;32m     10\u001b[0m \u001b[1;33m\u001b[0m\u001b[0m\n\u001b[1;32m     11\u001b[0m \u001b[1;31m# uncomment the below line to see the list of attributes\u001b[0m\u001b[1;33m\u001b[0m\u001b[1;33m\u001b[0m\u001b[0m\n",
      "\u001b[0;32mC:\\Users\\Adel\\AppData\\Roaming\\Python\\Python27\\site-packages\\pandas\\io\\sql.pyc\u001b[0m in \u001b[0;36mread_sql_query\u001b[0;34m(sql, con, index_col, coerce_float, params, parse_dates, chunksize)\u001b[0m\n\u001b[1;32m    330\u001b[0m     return pandas_sql.read_query(\n\u001b[1;32m    331\u001b[0m         \u001b[0msql\u001b[0m\u001b[1;33m,\u001b[0m \u001b[0mindex_col\u001b[0m\u001b[1;33m=\u001b[0m\u001b[0mindex_col\u001b[0m\u001b[1;33m,\u001b[0m \u001b[0mparams\u001b[0m\u001b[1;33m=\u001b[0m\u001b[0mparams\u001b[0m\u001b[1;33m,\u001b[0m \u001b[0mcoerce_float\u001b[0m\u001b[1;33m=\u001b[0m\u001b[0mcoerce_float\u001b[0m\u001b[1;33m,\u001b[0m\u001b[1;33m\u001b[0m\u001b[0m\n\u001b[0;32m--> 332\u001b[0;31m         parse_dates=parse_dates, chunksize=chunksize)\n\u001b[0m\u001b[1;32m    333\u001b[0m \u001b[1;33m\u001b[0m\u001b[0m\n\u001b[1;32m    334\u001b[0m \u001b[1;33m\u001b[0m\u001b[0m\n",
      "\u001b[0;32mC:\\Users\\Adel\\AppData\\Roaming\\Python\\Python27\\site-packages\\pandas\\io\\sql.pyc\u001b[0m in \u001b[0;36mread_query\u001b[0;34m(self, sql, index_col, coerce_float, params, parse_dates, chunksize)\u001b[0m\n\u001b[1;32m   1437\u001b[0m \u001b[1;33m\u001b[0m\u001b[0m\n\u001b[1;32m   1438\u001b[0m         \u001b[0margs\u001b[0m \u001b[1;33m=\u001b[0m \u001b[0m_convert_params\u001b[0m\u001b[1;33m(\u001b[0m\u001b[0msql\u001b[0m\u001b[1;33m,\u001b[0m \u001b[0mparams\u001b[0m\u001b[1;33m)\u001b[0m\u001b[1;33m\u001b[0m\u001b[0m\n\u001b[0;32m-> 1439\u001b[0;31m         \u001b[0mcursor\u001b[0m \u001b[1;33m=\u001b[0m \u001b[0mself\u001b[0m\u001b[1;33m.\u001b[0m\u001b[0mexecute\u001b[0m\u001b[1;33m(\u001b[0m\u001b[1;33m*\u001b[0m\u001b[0margs\u001b[0m\u001b[1;33m)\u001b[0m\u001b[1;33m\u001b[0m\u001b[0m\n\u001b[0m\u001b[1;32m   1440\u001b[0m         \u001b[0mcolumns\u001b[0m \u001b[1;33m=\u001b[0m \u001b[1;33m[\u001b[0m\u001b[0mcol_desc\u001b[0m\u001b[1;33m[\u001b[0m\u001b[1;36m0\u001b[0m\u001b[1;33m]\u001b[0m \u001b[1;32mfor\u001b[0m \u001b[0mcol_desc\u001b[0m \u001b[1;32min\u001b[0m \u001b[0mcursor\u001b[0m\u001b[1;33m.\u001b[0m\u001b[0mdescription\u001b[0m\u001b[1;33m]\u001b[0m\u001b[1;33m\u001b[0m\u001b[0m\n\u001b[1;32m   1441\u001b[0m \u001b[1;33m\u001b[0m\u001b[0m\n",
      "\u001b[0;32mC:\\Users\\Adel\\AppData\\Roaming\\Python\\Python27\\site-packages\\pandas\\io\\sql.pyc\u001b[0m in \u001b[0;36mexecute\u001b[0;34m(self, *args, **kwargs)\u001b[0m\n\u001b[1;32m   1414\u001b[0m             ex = DatabaseError(\n\u001b[1;32m   1415\u001b[0m                 \"Execution failed on sql '%s': %s\" % (args[0], exc))\n\u001b[0;32m-> 1416\u001b[0;31m             \u001b[0mraise_with_traceback\u001b[0m\u001b[1;33m(\u001b[0m\u001b[0mex\u001b[0m\u001b[1;33m)\u001b[0m\u001b[1;33m\u001b[0m\u001b[0m\n\u001b[0m\u001b[1;32m   1417\u001b[0m \u001b[1;33m\u001b[0m\u001b[0m\n\u001b[1;32m   1418\u001b[0m     \u001b[1;33m@\u001b[0m\u001b[0mstaticmethod\u001b[0m\u001b[1;33m\u001b[0m\u001b[0m\n",
      "\u001b[0;32mC:\\Users\\Adel\\AppData\\Roaming\\Python\\Python27\\site-packages\\pandas\\io\\sql.pyc\u001b[0m in \u001b[0;36mexecute\u001b[0;34m(self, *args, **kwargs)\u001b[0m\n\u001b[1;32m   1402\u001b[0m                 \u001b[0mcur\u001b[0m\u001b[1;33m.\u001b[0m\u001b[0mexecute\u001b[0m\u001b[1;33m(\u001b[0m\u001b[1;33m*\u001b[0m\u001b[0margs\u001b[0m\u001b[1;33m,\u001b[0m \u001b[1;33m**\u001b[0m\u001b[0mkwargs\u001b[0m\u001b[1;33m)\u001b[0m\u001b[1;33m\u001b[0m\u001b[0m\n\u001b[1;32m   1403\u001b[0m             \u001b[1;32melse\u001b[0m\u001b[1;33m:\u001b[0m\u001b[1;33m\u001b[0m\u001b[0m\n\u001b[0;32m-> 1404\u001b[0;31m                 \u001b[0mcur\u001b[0m\u001b[1;33m.\u001b[0m\u001b[0mexecute\u001b[0m\u001b[1;33m(\u001b[0m\u001b[1;33m*\u001b[0m\u001b[0margs\u001b[0m\u001b[1;33m)\u001b[0m\u001b[1;33m\u001b[0m\u001b[0m\n\u001b[0m\u001b[1;32m   1405\u001b[0m             \u001b[1;32mreturn\u001b[0m \u001b[0mcur\u001b[0m\u001b[1;33m\u001b[0m\u001b[0m\n\u001b[1;32m   1406\u001b[0m         \u001b[1;32mexcept\u001b[0m \u001b[0mException\u001b[0m \u001b[1;32mas\u001b[0m \u001b[0mexc\u001b[0m\u001b[1;33m:\u001b[0m\u001b[1;33m\u001b[0m\u001b[0m\n",
      "\u001b[0;31mDatabaseError\u001b[0m: Execution failed on sql '/*\n1.01Identify_WEAPmodel_requirements.sql\n\nUsers can automatically identify the list of Object types and their attributes that are required/used by a model. \nThe model must be already defined in WaMDaM previously. Users can define a model input data at once \nusing the WaMDaM Excel template. \nOnce in WaMDaM, users can filter the model requirements based on object types and/or categories. They also can use these lists \nor required object types and their attributes to automatically search for available data in \ndatasets in WaMDaM and identify additional needed data not available in WaMDaM database.\n\n\nAdel Abdallah \nLast updated July 24, 2018\n\n*/\n\nSELECT DISTINCT  ObjectType,ObjectCategoryName,ObjectTypeCV ,AttributeName_Abstract, AttributeCategoryName,AttributeNameCV \nFROM \"ResourceTypes\"\n\nLEFT JOIN \"ObjectTypes\" \nON \"ObjectTypes\".\"ResourceTypeID\"=\"ResourceTypes\".\"ResourceTypeID\"\n\nLEFT JOIN  \"ObjectCategories\"\nON \"ObjectCategories\".\"ObjectCategoryID\"=\"ObjectTypes\".\"ObjectCategoryID\" \n\nLEFT JOIN  \"Attributes\"\nON \"Attributes\".\"ObjectTypeID\"=\"ObjectTypes\".\"ObjectTypeID\" \n\nLEFT JOIN  \"AttributeCategories\"\nON \"AttributeCategories\".\"AttributeCategoryID\"=\"Attributes\".\"AttributeCategoryID\" \n\n-- Provide the model name \nWHERE \"ResourceTypeAcronym\"='WEAP' \n--WHERE \"ResourceTypeAcronym\"='WASH' \n\n--exclude the dummy attributes that are just used to connect Object Types with their Instances. \nAND AttributeName!='ObjectTypeInstances' \n\nAND (AttributeCategoryName not in ('Water Quality','Cost') or  AttributeCategoryName is NULL and  ObjectType!='Catchment')\n': no such table: ResourceTypes"
     ]
    }
   ],
   "source": [
    "\n",
    "# 1. Total required attributes\n",
    "Query_required_URL=\"\"\"\n",
    "https://raw.githubusercontent.com/WamdamProject/WaMDaM_UseCases/master/4_Queries_SQL/UseCase1/WEAP/1.1_Identify_WEAPmodel_requirements.sql\n",
    "\"\"\"\n",
    "# Read the query text inside the URL\n",
    "Query_required_text = urllib.urlopen(Query_required_URL).read()\n",
    "# return query result in a pandas data frame\n",
    "result_df_required= pd.read_sql_query(Query_required_text, conn)\n",
    "\n",
    "# uncomment the below line to see the list of attributes\n",
    "# display (result_df_required)\n",
    "\n",
    "\n",
    "# Save the datafrom as a csv file into the Jupyter notebook working space\n",
    "result_df_required.to_csv('UseCases_Results_csv\\WEAP_result_df_required.csv', index = False)\n",
    "\n",
    "\n",
    "\n",
    "# Count the total number of required attributes needed for WEAP models\n",
    "Count_req_Att=result_df_required.shape[0] #gives number of row count\n",
    "# -----------------------------------------------------------------------------------------------\n",
    "\n",
    "# 2. Total Available attributes\n",
    "Query_Available_URL=\"\"\"\n",
    "https://raw.githubusercontent.com/WamdamProject/WaMDaM_UseCases/master/4_Queries_SQL/UseCase1/WEAP/1.2_WHICHAvailableDataForModel_WEAP.sql\n",
    "\"\"\"\n",
    "\n",
    "# Read the query text inside the URL\n",
    "Query_Available_text = urllib.urlopen(Query_Available_URL).read()\n",
    "# return query result in a pandas data frame\n",
    "result_df_Available= pd.read_sql_query(Query_Available_text, conn)\n",
    "\n",
    "# uncomment the below line to see the list of attributes\n",
    "print 'Table 1: Summary of available attributes with data to expand the USU 2017 WEAP model to the entire Bear River Basin' \n",
    "display (result_df_Available)\n",
    "\n",
    "\n",
    "# Save the datafrom as a csv file into the Jupyter notebook working space\n",
    "result_df_Available.to_csv('UseCases_Results_csv\\WEAP_result_df_Available.csv', index = False)\n",
    "\n",
    "\n",
    "# Count the total number of Available attributes needed for WEAP models\n",
    "Count_Available_Att=result_df_Available.shape[0] #gives number of row count\n",
    "\n",
    "# -----------------------------------------------------------------------------------------------\n",
    "\n",
    "# 3. Redundant available to choose from\n",
    "Query_Redundant_URL=\"\"\"\n",
    "https://raw.githubusercontent.com/WamdamProject/WaMDaM_UseCases/master/4_Queries_SQL/UseCase1/WEAP/1.3_WHEREAvailableDataForModel_WEAP.sql\n",
    "\"\"\"\n",
    "\n",
    "# Read the query text inside the URL\n",
    "Query_Redundant_text = urllib.urlopen(Query_Redundant_URL).read()\n",
    "# return query result in a pandas data frame\n",
    "result_df_Redundant= pd.read_sql_query(Query_Redundant_text, conn)\n",
    "print '========================================================================='\n",
    "# uncomment the below line to see the list of attributes\n",
    "print 'Table 2: List of available attributes, nodes and links instances, and sources with data to expand the USU 2017 WEAP model to the entire Bear River Basin' \n",
    "\n",
    "display (result_df_Redundant)\n",
    "\n",
    "\n",
    "\n",
    "\n",
    "\n",
    "\n",
    "# Save the datafrom as a csv file into the Jupyter notebook working space\n",
    "result_df_Redundant.to_csv('UseCases_Results_csv\\WEAP_result_df_Redundant.csv', index = False)\n",
    "\n",
    "\n",
    "# Count the total number of Redundant attributes needed for WEAP models\n",
    "# Count_Redundant_Att=result_df_Redundant.shape[0] #gives number of row count\n",
    "dfList = result_df_Redundant['SourceAttributeName'].tolist()\n",
    "\n",
    "\n",
    "uniqueVals = np.unique(dfList)\n",
    "\n",
    "Count_Redundant_Att=len(uniqueVals)\n",
    "\n",
    "# Count_Redundant_Att_uniq=\n",
    "\n",
    "# myset = set(Count_Redundant_Att)\n",
    "\n",
    "\n",
    "\n",
    "# -----------------------------------------------------------------------------------------------\n",
    "\n",
    "# 3.1 instances \n",
    "Query_instances_URL=\"\"\"\n",
    "https://raw.githubusercontent.com/WamdamProject/WaMDaM_UseCases/master/4_Queries_SQL/UseCase1/WEAP/WHERE_Instances.sql\n",
    "\"\"\"\n",
    "\n",
    "\n",
    "# Read the query text inside the URL\n",
    "Query_instances_text = urllib.urlopen(Query_instances_URL).read()\n",
    "# return query result in a pandas data frame\n",
    "result_df_Instances= pd.read_sql_query(Query_instances_text, conn)\n",
    "print '========================================================================='\n",
    "\n",
    "# uncomment the below line to see the list of attributes\n",
    "print 'Table 3: List of instances to and their sources to expand the USU 2017 WEAP model to the entire Bear River Basin' \n",
    "\n",
    "display (result_df_Instances)\n",
    "\n",
    "\n",
    "\n",
    "# 4. No data available\n",
    "Query_NoData_URL=\"\"\"\n",
    "https://raw.githubusercontent.com/WamdamProject/WaMDaM_UseCases/master/4_Queries_SQL/UseCase1/WEAP/1.4_AdditionalDataForModel_WEAP.sql\n",
    "\"\"\"\n",
    "\n",
    "# Read the query text inside the URL\n",
    "Query_NoData_text = urllib.urlopen(Query_NoData_URL).read()\n",
    "# return query result in a pandas data frame\n",
    "result_df_NoData= pd.read_sql_query(Query_NoData_text, conn)\n",
    "\n",
    "# uncomment the below line to see the list of attributes\n",
    "# display (result_df_NoData)\n",
    "\n",
    "\n",
    "# Save the datafrom as a csv file into the Jupyter notebook working space\n",
    "result_df_NoData.to_csv('UseCases_Results_csv\\WEAP_result_df_NoData.csv', index = False)\n",
    "\n",
    "\n",
    "# Count the total number attributes with of NoData as needed for WEAP models\n",
    "Count_NoData_Att=result_df_NoData.shape[0] #gives number of row count\n",
    "\n",
    "# -----------------------------------------------------------------------------------------------\n",
    "\n",
    "\n",
    "\n",
    "# prepare the bar chart values to the plot function below\n",
    "Y_values_WEAP=[Count_Available_Att,Count_Redundant_Att]\n",
    "#Y_values_WEAP=[Count_req_Att,Count_Available_Att,Count_Redundant_Att,Count_NoData_Att]\n",
    "Count_req_Att_WEAP=Count_req_Att\n",
    "\n",
    "print Y_values_WEAP,Count_req_Att_WEAP\n",
    "\n",
    "print \"Queries are done\""
   ]
  },
  {
   "cell_type": "markdown",
   "metadata": {},
   "source": [
    "<a name=\"SearchWASH\"></a>\n",
    "# 4. Search for data to expand the WASH Model"
   ]
  },
  {
   "cell_type": "markdown",
   "metadata": {},
   "source": [
    "<a name=\"Plot\"></a>\n",
    "# 5. Plot the data availability summary\n",
    "#### It shows data vailability summary to the WEAP and WASH models in the upper Bear River Watershed in Utah, Idaho, and Wyoming states\n",
    "\n"
   ]
  },
  {
   "cell_type": "code",
   "execution_count": 9,
   "metadata": {
    "collapsed": false
   },
   "outputs": [
    {
     "data": {
      "text/html": [
       "<div>\n",
       "<style>\n",
       "    .dataframe thead tr:only-child th {\n",
       "        text-align: right;\n",
       "    }\n",
       "\n",
       "    .dataframe thead th {\n",
       "        text-align: left;\n",
       "    }\n",
       "\n",
       "    .dataframe tbody tr th {\n",
       "        vertical-align: top;\n",
       "    }\n",
       "</style>\n",
       "<table border=\"1\" class=\"dataframe\">\n",
       "  <thead>\n",
       "    <tr style=\"text-align: right;\">\n",
       "      <th></th>\n",
       "      <th>WASHObjectType</th>\n",
       "      <th>WASHAttributeName</th>\n",
       "    </tr>\n",
       "  </thead>\n",
       "  <tbody>\n",
       "    <tr>\n",
       "      <th>0</th>\n",
       "      <td>dem</td>\n",
       "      <td>dReq</td>\n",
       "    </tr>\n",
       "    <tr>\n",
       "      <th>1</th>\n",
       "      <td>v</td>\n",
       "      <td>InitSTOR</td>\n",
       "    </tr>\n",
       "    <tr>\n",
       "      <th>2</th>\n",
       "      <td>v</td>\n",
       "      <td>RA_par</td>\n",
       "    </tr>\n",
       "    <tr>\n",
       "      <th>3</th>\n",
       "      <td>v</td>\n",
       "      <td>evap</td>\n",
       "    </tr>\n",
       "    <tr>\n",
       "      <th>4</th>\n",
       "      <td>v</td>\n",
       "      <td>maxstor</td>\n",
       "    </tr>\n",
       "    <tr>\n",
       "      <th>5</th>\n",
       "      <td>v</td>\n",
       "      <td>minstor</td>\n",
       "    </tr>\n",
       "  </tbody>\n",
       "</table>\n",
       "</div>"
      ],
      "text/plain": [
       "  WASHObjectType WASHAttributeName\n",
       "0            dem              dReq\n",
       "1              v          InitSTOR\n",
       "2              v            RA_par\n",
       "3              v              evap\n",
       "4              v           maxstor\n",
       "5              v           minstor"
      ]
     },
     "metadata": {},
     "output_type": "display_data"
    },
    {
     "name": "stdout",
     "output_type": "stream",
     "text": [
      "[6, 19] 61\n",
      "Queries are done\n"
     ]
    }
   ],
   "source": [
    "\n",
    "# 1. Total required attributes\n",
    "Query_required_URL=\"\"\"\n",
    "https://raw.githubusercontent.com/WamdamProject/WaMDaM_UseCases/master/4_Queries_SQL/UseCase1/WASH/1.5_Identify_WASHmodel_requirements.sql\n",
    "\"\"\"\n",
    "# Read the query text inside the URL\n",
    "Query_required_text = urllib.urlopen(Query_required_URL).read()\n",
    "# return query result in a pandas data frame\n",
    "result_df_required= pd.read_sql_query(Query_required_text, conn)\n",
    "\n",
    "# uncomment the below line to see the list of attributes\n",
    "# display (result_df_required)\n",
    "\n",
    "\n",
    "# Save the datafrom as a csv file into the Jupyter notebook working space\n",
    "result_df_required.to_csv('UseCases_Results_csv\\WASH_result_df_required.csv', index = False)\n",
    "\n",
    "\n",
    "# Count the total number of required attributes needed for WEAP models\n",
    "Count_req_Att=result_df_required.shape[0] #gives number of row count\n",
    "# -----------------------------------------------------------------------------------------------\n",
    "\n",
    "# 2. Total Available attributes\n",
    "Query_Available_URL=\"\"\"\n",
    "https://raw.githubusercontent.com/WamdamProject/WaMDaM_UseCases/master/4_Queries_SQL/UseCase1/WASH/1.6_WHICHAvailableDataForModel_WASH.sql\n",
    "\"\"\"\n",
    "\n",
    "# Read the query text inside the URL\n",
    "Query_Available_text = urllib.urlopen(Query_Available_URL).read()\n",
    "# return query result in a pandas data frame\n",
    "result_df_Available= pd.read_sql_query(Query_Available_text, conn)\n",
    "\n",
    "# uncomment the below line to see the list of attributes\n",
    "display (result_df_Available)\n",
    "\n",
    "# Save the datafrom as a csv file into the Jupyter notebook working space\n",
    "result_df_Available.to_csv('UseCases_Results_csv\\WASH_result_df_Available.csv', index = False)\n",
    "\n",
    "\n",
    "# Count the total number of Available attributes needed for WEAP models\n",
    "Count_Available_Att=result_df_Available.shape[0] #gives number of row count\n",
    "\n",
    "# -----------------------------------------------------------------------------------------------\n",
    "\n",
    "# 3. Redundant available to choose from\n",
    "Query_Redundant_URL=\"\"\"\n",
    "https://raw.githubusercontent.com/WamdamProject/WaMDaM_UseCases/master/4_Queries_SQL/UseCase1/WASH/1.7_WHEREAvailableDataForModel_WASH.sql\n",
    "\"\"\"\n",
    "\n",
    "# Read the query text inside the URL\n",
    "Query_Redundant_text = urllib.urlopen(Query_Redundant_URL).read()\n",
    "# return query result in a pandas data frame\n",
    "result_df_Redundant= pd.read_sql_query(Query_Redundant_text, conn)\n",
    "\n",
    "# uncomment the below line to see the list of attributes\n",
    "# display (result_df_Redundant)\n",
    "\n",
    "# Save the datafrom as a csv file into the Jupyter notebook working space\n",
    "result_df_Redundant.to_csv('UseCases_Results_csv\\WASH_result_df_Redundant.csv', index = False)\n",
    "\n",
    "# Count the total number of Redundant attributes needed for WEAP models\n",
    "Count_Redundant_Att=result_df_Redundant.shape[0] #gives number of row count\n",
    "\n",
    "# -----------------------------------------------------------------------------------------------\n",
    "\n",
    "# 4. No data available\n",
    "Query_NoData_URL=\"\"\"\n",
    "https://raw.githubusercontent.com/WamdamProject/WaMDaM_UseCases/master/4_Queries_SQL/UseCase1/WASH/1.8_AdditionalDataForModel_WASH.sql\n",
    "\"\"\"\n",
    "\n",
    "# Read the query text inside the URL\n",
    "Query_NoData_text = urllib.urlopen(Query_NoData_URL).read()\n",
    "# return query result in a pandas data frame\n",
    "result_df_NoData= pd.read_sql_query(Query_NoData_text, conn)\n",
    "\n",
    "# uncomment the below line to see the list of attributes\n",
    "# display (result_df_NoData)\n",
    "\n",
    "# Save the datafrom as a csv file into the Jupyter notebook working space\n",
    "result_df_NoData.to_csv('UseCases_Results_csv\\WASH_result_df_NoData.csv', index = False)\n",
    "\n",
    "\n",
    "# Count the total number attributes with of NoData as needed for WEAP models\n",
    "Count_NoData_Att=result_df_NoData.shape[0] #gives number of row count\n",
    "\n",
    "# -----------------------------------------------------------------------------------------------\n",
    "\n",
    "\n",
    "# prepare the bar chart values to the plot function below\n",
    "Y_values_WASH=[Count_Available_Att,Count_Redundant_Att]\n",
    "# Y_values_WASH=[Count_req_Att,Count_Available_Att,Count_Redundant_Att,Count_NoData_Att]\n",
    "Count_req_Att_WASH=Count_req_Att\n",
    "print Y_values_WASH,Count_req_Att_WASH\n",
    "\n",
    "print \"Queries are done\""
   ]
  },
  {
   "cell_type": "markdown",
   "metadata": {},
   "source": [
    "# Plot needed and available data for WEAP and WASH  \n",
    "\n",
    "**Bonus plot not reported in the WaMDaM paper**"
   ]
  },
  {
   "cell_type": "code",
   "execution_count": 10,
   "metadata": {
    "collapsed": false
   },
   "outputs": [
    {
     "name": "stdout",
     "output_type": "stream",
     "text": [
      "[15, 18]\n"
     ]
    },
    {
     "data": {
      "application/vnd.plotly.v1+json": {
       "data": [
        {
         "marker": {
          "color": "#003FFF"
         },
         "name": "Expand WEAP to entire basin",
         "type": "bar",
         "x": [
          "Model attributes with new data ",
          "Available in many sources"
         ],
         "y": [
          15,
          18
         ]
        },
        {
         "marker": {
          "color": "#65BFFF"
         },
         "name": "Expand WASH to entire basin",
         "type": "bar",
         "x": [
          "Model attributes with new data ",
          "Available in many sources"
         ],
         "y": [
          6,
          19
         ]
        },
        {
         "line": {
          "color": "#003FFF",
          "dash": "dot",
          "shape": "vh",
          "width": 4
         },
         "mode": "lines",
         "name": "WEAP",
         "showlegend": false,
         "type": "scatter",
         "x": [
          "Model attributes with new data ",
          "Available in many sources"
         ],
         "y": [
          72,
          72
         ]
        },
        {
         "line": {
          "color": "#65BFFF",
          "dash": "dot",
          "shape": "vh",
          "width": 4
         },
         "mode": "lines",
         "name": "WASH",
         "showlegend": false,
         "type": "scatter",
         "x": [
          "Model attributes with new data ",
          "Available in many sources"
         ],
         "y": [
          61,
          61
         ]
        }
       ],
       "layout": {
        "annotations": [
         {
          "showarrow": false,
          "text": "Required",
          "x": -0.15,
          "y": 72
         },
         {
          "showarrow": false,
          "text": "Required",
          "x": -0.15,
          "y": 61
         }
        ],
        "autosize": false,
        "barmode": "group",
        "font": {
         "color": "#000000",
         "family": "arial",
         "size": 20
        },
        "height": 650,
        "legend": {
         "orientation": "v",
         "x": 0.25,
         "y": 0.6
        },
        "margin": {
         "b": 50,
         "t": 50
        },
        "width": 860,
        "xaxis": {
         "tickfont": {
          "color": "#000000",
          "family": "arial",
          "size": 20
         }
        },
        "yaxis": {
         "tickfont": {
          "color": "#000000",
          "family": "arial",
          "size": 20
         },
         "title": "# of attributes",
         "titlefont": {
          "color": "#000000",
          "family": "arial",
          "size": 20
         }
        }
       }
      },
      "text/html": [
       "<div id=\"e4d47f89-273d-4760-974d-83ef372a9ca9\" style=\"height: 650px; width: 860px;\" class=\"plotly-graph-div\"></div><script type=\"text/javascript\">require([\"plotly\"], function(Plotly) { window.PLOTLYENV=window.PLOTLYENV || {};window.PLOTLYENV.BASE_URL=\"https://plot.ly\";Plotly.newPlot(\"e4d47f89-273d-4760-974d-83ef372a9ca9\", [{\"marker\": {\"color\": \"#003FFF\"}, \"y\": [15, 18], \"type\": \"bar\", \"name\": \"Expand WEAP to entire basin\", \"x\": [\"Model attributes with new data \", \"Available in many sources\"]}, {\"marker\": {\"color\": \"#65BFFF\"}, \"y\": [6, 19], \"type\": \"bar\", \"name\": \"Expand WASH to entire basin\", \"x\": [\"Model attributes with new data \", \"Available in many sources\"]}, {\"showlegend\": false, \"name\": \"WEAP\", \"mode\": \"lines\", \"y\": [72, 72], \"x\": [\"Model attributes with new data \", \"Available in many sources\"], \"line\": {\"color\": \"#003FFF\", \"dash\": \"dot\", \"shape\": \"vh\", \"width\": 4}, \"type\": \"scatter\"}, {\"showlegend\": false, \"name\": \"WASH\", \"mode\": \"lines\", \"y\": [61, 61], \"x\": [\"Model attributes with new data \", \"Available in many sources\"], \"line\": {\"color\": \"#65BFFF\", \"dash\": \"dot\", \"shape\": \"vh\", \"width\": 4}, \"type\": \"scatter\"}], {\"autosize\": false, \"yaxis\": {\"tickfont\": {\"color\": \"#000000\", \"family\": \"arial\", \"size\": 20}, \"titlefont\": {\"color\": \"#000000\", \"family\": \"arial\", \"size\": 20}, \"title\": \"# of attributes\"}, \"height\": 650, \"width\": 860, \"annotations\": [{\"y\": 72, \"text\": \"Required\", \"x\": -0.15, \"showarrow\": false}, {\"y\": 61, \"text\": \"Required\", \"x\": -0.15, \"showarrow\": false}], \"xaxis\": {\"tickfont\": {\"color\": \"#000000\", \"family\": \"arial\", \"size\": 20}}, \"barmode\": \"group\", \"font\": {\"color\": \"#000000\", \"family\": \"arial\", \"size\": 20}, \"margin\": {\"b\": 50, \"t\": 50}, \"legend\": {\"y\": 0.6, \"x\": 0.25, \"orientation\": \"v\"}}, {\"linkText\": \"Export to plot.ly\", \"showLink\": true})});</script>"
      ],
      "text/vnd.plotly.v1+html": [
       "<div id=\"e4d47f89-273d-4760-974d-83ef372a9ca9\" style=\"height: 650px; width: 860px;\" class=\"plotly-graph-div\"></div><script type=\"text/javascript\">require([\"plotly\"], function(Plotly) { window.PLOTLYENV=window.PLOTLYENV || {};window.PLOTLYENV.BASE_URL=\"https://plot.ly\";Plotly.newPlot(\"e4d47f89-273d-4760-974d-83ef372a9ca9\", [{\"marker\": {\"color\": \"#003FFF\"}, \"y\": [15, 18], \"type\": \"bar\", \"name\": \"Expand WEAP to entire basin\", \"x\": [\"Model attributes with new data \", \"Available in many sources\"]}, {\"marker\": {\"color\": \"#65BFFF\"}, \"y\": [6, 19], \"type\": \"bar\", \"name\": \"Expand WASH to entire basin\", \"x\": [\"Model attributes with new data \", \"Available in many sources\"]}, {\"showlegend\": false, \"name\": \"WEAP\", \"mode\": \"lines\", \"y\": [72, 72], \"x\": [\"Model attributes with new data \", \"Available in many sources\"], \"line\": {\"color\": \"#003FFF\", \"dash\": \"dot\", \"shape\": \"vh\", \"width\": 4}, \"type\": \"scatter\"}, {\"showlegend\": false, \"name\": \"WASH\", \"mode\": \"lines\", \"y\": [61, 61], \"x\": [\"Model attributes with new data \", \"Available in many sources\"], \"line\": {\"color\": \"#65BFFF\", \"dash\": \"dot\", \"shape\": \"vh\", \"width\": 4}, \"type\": \"scatter\"}], {\"autosize\": false, \"yaxis\": {\"tickfont\": {\"color\": \"#000000\", \"family\": \"arial\", \"size\": 20}, \"titlefont\": {\"color\": \"#000000\", \"family\": \"arial\", \"size\": 20}, \"title\": \"# of attributes\"}, \"height\": 650, \"width\": 860, \"annotations\": [{\"y\": 72, \"text\": \"Required\", \"x\": -0.15, \"showarrow\": false}, {\"y\": 61, \"text\": \"Required\", \"x\": -0.15, \"showarrow\": false}], \"xaxis\": {\"tickfont\": {\"color\": \"#000000\", \"family\": \"arial\", \"size\": 20}}, \"barmode\": \"group\", \"font\": {\"color\": \"#000000\", \"family\": \"arial\", \"size\": 20}, \"margin\": {\"b\": 50, \"t\": 50}, \"legend\": {\"y\": 0.6, \"x\": 0.25, \"orientation\": \"v\"}}, {\"linkText\": \"Export to plot.ly\", \"showLink\": true})});</script>"
      ]
     },
     "metadata": {},
     "output_type": "display_data"
    },
    {
     "name": "stdout",
     "output_type": "stream",
     "text": [
      "the plot is generated\n"
     ]
    }
   ],
   "source": [
    "# Use Plotly \n",
    "\n",
    "WEAP_bars = go.Bar(\n",
    "    x=['Model attributes with new data ', 'Available in many sources'],\n",
    "    y=Y_values_WEAP,\n",
    "    name='Expand WEAP to entire basin',\n",
    "    marker=dict(\n",
    "        color='#003FFF'),\n",
    ")\n",
    "\n",
    "\n",
    "WASH_bars = go.Bar(\n",
    "    x=['Model attributes with new data ', 'Available in many sources'],\n",
    "    y=Y_values_WASH,\n",
    "    name='Expand WASH to entire basin',\n",
    "    marker=dict(\n",
    "        color='#65BFFF'))\n",
    "\n",
    "data = [WEAP_bars, WASH_bars]\n",
    "\n",
    "print Y_values_WEAP\n",
    "# horizontal line data required \n",
    "WEAPHo = go.Scatter(\n",
    "    x=['Model attributes with new data ', 'Available in many sources'],\n",
    "    y=[Count_req_Att_WEAP, Count_req_Att_WEAP],\n",
    "    mode='lines',\n",
    "        name='WEAP',\n",
    "#     hoverinfo='dry',\n",
    "    showlegend=False,\n",
    "    line=dict(\n",
    "        shape='vh',\n",
    "        width=4,\n",
    "        dash = 'dot',\n",
    "        color = '#003FFF'\n",
    "            )\n",
    "                    )\n",
    "data.append(WEAPHo)\n",
    "#\n",
    "# horizontal line data required \n",
    "WASHHo = go.Scatter(\n",
    "    x=['Model attributes with new data ', 'Available in many sources'],\n",
    "    y=[Count_req_Att_WASH, Count_req_Att_WASH],\n",
    "    mode='lines',\n",
    "        name='WASH',\n",
    "#     hoverinfo='dry',\n",
    "    showlegend=False,\n",
    "    line=dict(\n",
    "        shape='vh',\n",
    "        width=4,\n",
    "        dash = 'dot',\n",
    "        color = '#65BFFF'\n",
    "            )\n",
    "                    )\n",
    "data.append(WASHHo)\n",
    "\n",
    "\n",
    "\n",
    "\n",
    "Count_req_Att_WASH\n",
    "\n",
    "layout = go.Layout(\n",
    "    barmode='group',\n",
    "    \n",
    "    legend=dict(\n",
    "        x=0.25,\n",
    "        y=0.6,orientation=\"v\"),\n",
    "    \n",
    "    annotations=[\n",
    "        dict(\n",
    "            x=-0.15,\n",
    "            y=Count_req_Att_WEAP,\n",
    "            text='Required',\n",
    "            showarrow=False,\n",
    "\n",
    "        ),\n",
    "        dict(\n",
    "            x=-0.15,\n",
    "            y=Count_req_Att_WASH,\n",
    "            text='Required',\n",
    "            showarrow=False,\n",
    "\n",
    "        )\n",
    "    ],\n",
    "    \n",
    "    xaxis=dict(\n",
    "        tickfont=dict(\n",
    "            size=20,\n",
    "           color='#000000',family='arial'\n",
    "        )\n",
    "    ),\n",
    "    yaxis=dict(\n",
    "        title='# of attributes',\n",
    "        titlefont=dict(\n",
    "            size=20,\n",
    "           color='#000000',family='arial'\n",
    "        ),\n",
    "        tickfont=dict(\n",
    "            size=20,\n",
    "            color='#000000',family='arial'\n",
    "        )\n",
    "    ),    \n",
    "     autosize=False,\n",
    "    width=860,\n",
    "    height=650,\n",
    "        margin=dict(\n",
    "         b=50,t=50), \n",
    "font=dict(size=20,family='arial',color='#000000'),\n",
    "\n",
    ")\n",
    "\n",
    "fig = {\n",
    "    'data': data,\n",
    "    'layout': layout,}\n",
    "\n",
    "\n",
    "# plotly.offline.iplot(fig,filename = 'UseCase1b.html',image='png')\n",
    "plotly.offline.iplot(fig,filename = 'UseCase1b.html')\n",
    "\n",
    "\n",
    "###########################################################################################################\n",
    "# Have you encounterd the messages below?\n",
    "# ----------------------------------------------\n",
    "# Javascript error adding output!\n",
    "# ReferenceError: Plotly is not defined\n",
    "# See your browser Javascript console for more details.\n",
    "# ----------------------------------------------\n",
    "\n",
    "# Do the follwoing:\n",
    "\n",
    "# Kernel -> Restart -> Clear all outputs and restart\n",
    "# Save\n",
    "# Close browser\n",
    "# Open browser and run again\n",
    "\n",
    "print \"the plot is generated\""
   ]
  },
  {
   "cell_type": "markdown",
   "metadata": {},
   "source": [
    "<a name=\"Close\"></a>\n",
    "# 6. Close the SQLite connection"
   ]
  },
  {
   "cell_type": "code",
   "execution_count": null,
   "metadata": {
    "collapsed": true
   },
   "outputs": [],
   "source": [
    "conn.close()\n",
    "\n",
    "print 'Connection to SQLite engine is disconnected'"
   ]
  },
  {
   "cell_type": "markdown",
   "metadata": {},
   "source": [
    "# The End :) Congratulations!"
   ]
  },
  {
   "cell_type": "markdown",
   "metadata": {},
   "source": [
    "\n",
    "![]('https://raw.githubusercontent.com/WamdamProject/WaMDaM_UseCases/master/UseCases_files/8Figures_jpg/UseCase1b.png')\n",
    "\n"
   ]
  }
 ],
 "metadata": {
  "kernelspec": {
   "display_name": "Python 2",
   "language": "python",
   "name": "python2"
  },
  "language_info": {
   "codemirror_mode": {
    "name": "ipython",
    "version": 2
   },
   "file_extension": ".py",
   "mimetype": "text/x-python",
   "name": "python",
   "nbconvert_exporter": "python",
   "pygments_lexer": "ipython2",
   "version": "2.7.13"
  }
 },
 "nbformat": 4,
 "nbformat_minor": 2
}
