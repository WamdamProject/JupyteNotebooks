{
 "cells": [
  {
   "cell_type": "markdown",
   "metadata": {},
   "source": [
    "# Use Case 2: What network connectivity to use in a model?  \n",
    "\n",
    "How does connectivity of natural and built infrastructure components compare in a particular area across datasets? \n",
    "\n",
    "#### By Adel M. Abdallah, Utah State University, August 2018\n",
    "\n",
    "This notebook demonstrates basic WaMDaM use cases analysis using scientific Python libraries such as [pandas](https://pandas.pydata.org/) and [plotly](https://plot.ly/).  It reads WaMDaM SQLite data from a published HydroShare Generic Resource, runs SQL script, and them uses Python plotly to visualize the results\n",
    "\n",
    "\n",
    "Execute the following cells by pressing `Shift-Enter`, or by pressing the play button \n",
    "<img style='display:inline;padding-bottom:15px' src='play-button.png'>\n",
    "on the toolbar above.\n",
    "\n",
    "\n",
    "\n",
    "This use case identifies three models connectives for Hyrum Reservoir, UT \n",
    "\n",
    "  <img src=\"https://github.com/WamdamProject/WaMDaM-software-ecosystem/blob/master/mkdocs/Edit_MD_Files/QuerySelect/images/networks.png?raw=true\" style=\"float:center\">\n",
    "  <h3><center>**Figure x:** WaMDaM Paper</center></h3>\n",
    "\n",
    "\n",
    "### Steps to reproduce this use case results and plots \n",
    "\n",
    "1. [Import python libraries](#Import) \n",
    "\n",
    "2. [Connect to the WaMDaM populated SQLite file](#Connect) \n",
    "\n",
    "3. [Get network connections at Hyrum Reservoir, Utah](#NetworkAtHyrum)\n",
    "\n",
    "4. [Get network connections at Hyrum Reservoir, Utah](#NetworkAtHyrum)\n",
    "\n",
    "5. [Get network connections at Bear River Migratory Bird Refuge, Utah](#NetworkAtRefuge)\n",
    "\n",
    "6. [Get network connections at Shasta Reservoir, California](#NetworkAtShasta)\n",
    "\n",
    "7. [Close the SQLite connection](#Close)\n",
    "\n"
   ]
  },
  {
   "cell_type": "markdown",
   "metadata": {},
   "source": [
    "<a name=\"Import\"></a>\n",
    "# 1. Import python libraries "
   ]
  },
  {
   "cell_type": "code",
   "execution_count": null,
   "metadata": {
    "collapsed": false
   },
   "outputs": [],
   "source": [
    "# 1. Import python libraries \n",
    "\n",
    "import os\n",
    "import csv\n",
    "from collections import OrderedDict\n",
    "import sqlite3\n",
    "import pandas as pd\n",
    "import numpy as np\n",
    "from IPython.display import display, Image, SVG, Math, YouTubeVideo\n",
    "import urllib\n",
    "\n",
    "print 'The libraries are imported'"
   ]
  },
  {
   "cell_type": "markdown",
   "metadata": {},
   "source": [
    "<a name=\"Connect\"></a>\n",
    "# 2. Connect to the WaMDaM populated SQLite file \n"
   ]
  },
  {
   "cell_type": "code",
   "execution_count": null,
   "metadata": {
    "collapsed": false
   },
   "outputs": [],
   "source": [
    "# 2. Connect to the WaMDaM populated SQLite file \n",
    "\n",
    "# Then we can run queries against it within this notebook :)  \n",
    "\n",
    "# Change the name here into your database name (e.g., ReplicateWaMDamDb.SQLite)\n",
    "WaMDaM_SQLite_Name='BearRiverDatasets_August_2018.sqlite'\n",
    "\n",
    "\n",
    "conn = sqlite3.connect(WaMDaM_SQLite_Name)\n",
    "\n",
    "print 'Connected to the WaMDaM SQLite file called'+': '+ WaMDaM_SQLite_Name"
   ]
  },
  {
   "cell_type": "markdown",
   "metadata": {},
   "source": [
    "<a name=\"NetworkAtHyrum\"></a>\n",
    "# 3. Get network connections at Hyrum Reservoir, Utah\n"
   ]
  },
  {
   "cell_type": "code",
   "execution_count": null,
   "metadata": {
    "collapsed": false,
    "scrolled": true
   },
   "outputs": [],
   "source": [
    "# Get network connctions at Hyrum Reservoir, Utah\n",
    "\n",
    "Query_connect_URL=\"\"\"\n",
    "https://raw.githubusercontent.com/WamdamProject/WaMDaM_UseCases/master/4_Queries_SQL/UseCase2/1_FindNodeLinkInstances_Hyrum.sql\n",
    "\"\"\"\n",
    "# Read the query text inside the URL\n",
    "Query_connect_text = urllib.urlopen(Query_connect_URL).read()\n",
    "# return query result in a pandas data frame\n",
    "result_df_connect= pd.read_sql_query(Query_connect_text, conn)\n",
    "\n",
    "# print the dataframe to inspect it    \n",
    "# display (result_df_connect) \n",
    "print \"Queries are done\"\n",
    "# Save the datafrom as a csv file into the Jupyter notebook working space\n",
    "result_df_connect.to_csv('UseCases_Results_csv\\Hyrum_connect.csv', index = False)\n",
    "\n",
    "column_name = \"ScenarioName\"\n",
    "\n",
    "subsets = result_df_connect.groupby(column_name)\n",
    "print '------------------------------------------------'\n",
    "for subset in subsets.groups.keys():\n",
    "    #print subset\n",
    "    dt = subsets.get_group(name=subset)\n",
    "    print 'Replcate the table with links, start and end nodes for each model to plot Figure 4 in the WaMDaM paper'  \n",
    "    display (dt)\n",
    "\n",
    "\n"
   ]
  },
  {
   "cell_type": "markdown",
   "metadata": {
    "collapsed": true
   },
   "source": [
    "<a name=\"Reproduce\"></a>\n",
    "# 4. Reproduce the plot above?\n"
   ]
  },
  {
   "cell_type": "markdown",
   "metadata": {},
   "source": [
    "#### Use Microsoft Visio or any other charting software like Lucidchart to plot the node of interest and all the lines that connet to it. \n",
    "\n"
   ]
  },
  {
   "cell_type": "markdown",
   "metadata": {
    "collapsed": true
   },
   "source": [
    "<a name=\"NetworkAtRefuge\"></a>\n",
    "# 5. Get network connctions at Bear River Migratory Bird Refuge, Utah\n",
    "\n",
    "<font color=green>Bonus use case not reported in the WaMDaM paper</font>\n"
   ]
  },
  {
   "cell_type": "code",
   "execution_count": null,
   "metadata": {
    "collapsed": false
   },
   "outputs": [],
   "source": [
    "# query connectivity at the Bear River Migratory Bird Refuge, Utah\n",
    "Query_connect_URL=\"\"\"\n",
    "https://raw.githubusercontent.com/WamdamProject/WaMDaM_UseCases/master/4_Queries_SQL/UseCase2/2_FindNodeLinkInstances_refuge.sql\n",
    "\"\"\"\n",
    "# Read the query text inside the URL\n",
    "Query_connect_text = urllib.urlopen(Query_connect_URL).read()\n",
    "# return query result in a pandas data frame\n",
    "result_df_connect= pd.read_sql_query(Query_connect_text, conn)\n",
    "\n",
    "# print the dataframe to inspect it    \n",
    "# display (result_df_connect) \n",
    "\n",
    "# Save the datafrom as a csv file into the Jupyter notebook working space\n",
    "result_df_connect.to_csv('UseCases_Results_csv\\BirdRefuge_connect.csv', index = False)\n",
    "\n",
    "\n",
    "column_name = \"ScenarioName\"\n",
    "\n",
    "subsets = result_df_connect.groupby(column_name)\n",
    "print '------------------------------------------------'\n",
    "for subset in subsets.groups.keys():\n",
    "    #print subset\n",
    "    dt = subsets.get_group(name=subset)\n",
    "    print 'Get the links, start and end nodes for each model to plot connections to the Refuge'  \n",
    "    display (dt)\n",
    "\n",
    "\n"
   ]
  },
  {
   "cell_type": "markdown",
   "metadata": {
    "collapsed": true
   },
   "source": [
    "<a name=\"NetworkAtShasta\"></a>\n",
    "# 6. Get network connctions at Shasta Reservoir, California\t\n",
    "<font color=green>Bonus use case not reported in the WaMDaM paper</font>\n"
   ]
  },
  {
   "cell_type": "code",
   "execution_count": null,
   "metadata": {
    "collapsed": false
   },
   "outputs": [],
   "source": [
    "# Get network connctions at Shasta Reservoir, California\t\n",
    "\n",
    "# query connectivity at the Shasta Reservoir, California\n",
    "Query_connect_URL=\"\"\"\n",
    "https://raw.githubusercontent.com/WamdamProject/WaMDaM_UseCases/master/4_Queries_SQL/UseCase2/3_FindNodeLinkInstances_Shasta.sql\n",
    "\"\"\"\n",
    "# Read the query text inside the URL\n",
    "Query_connect_text = urllib.urlopen(Query_connect_URL).read()\n",
    "# return query result in a pandas data frame\n",
    "result_df_connect= pd.read_sql_query(Query_connect_text, conn)\n",
    "\n",
    "# print the dataframe to inspect it    \n",
    "# display (result_df_connect) \n",
    "\n",
    "# Save the datafrom as a csv file into the Jupyter notebook working space\n",
    "result_df_connect.to_csv('UseCases_Results_csv\\Shasta_connect.csv', index = False)\n",
    "\n",
    "\n",
    "display (result_df_connect)\n",
    "\n",
    "print \"Queries are done\""
   ]
  },
  {
   "cell_type": "markdown",
   "metadata": {},
   "source": [
    "<a name=\"Close\"></a>\n",
    "# 7. Close the SQLite connection\n"
   ]
  },
  {
   "cell_type": "code",
   "execution_count": null,
   "metadata": {
    "collapsed": true
   },
   "outputs": [],
   "source": [
    "conn.close()\n",
    "\n",
    "print 'connection disconnected'"
   ]
  },
  {
   "cell_type": "markdown",
   "metadata": {
    "collapsed": true
   },
   "source": [
    "# The End :) Congratulations, you have replicated this use case!"
   ]
  },
  {
   "cell_type": "code",
   "execution_count": null,
   "metadata": {
    "collapsed": true
   },
   "outputs": [],
   "source": []
  }
 ],
 "metadata": {
  "kernelspec": {
   "display_name": "Python 2",
   "language": "python",
   "name": "python2"
  },
  "language_info": {
   "codemirror_mode": {
    "name": "ipython",
    "version": 2
   },
   "file_extension": ".py",
   "mimetype": "text/x-python",
   "name": "python",
   "nbconvert_exporter": "python",
   "pygments_lexer": "ipython2",
   "version": "2.7.13"
  }
 },
 "nbformat": 4,
 "nbformat_minor": 2
}
