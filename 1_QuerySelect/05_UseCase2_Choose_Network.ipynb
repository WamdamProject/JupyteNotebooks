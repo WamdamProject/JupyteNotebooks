{
 "cells": [
  {
   "cell_type": "markdown",
   "metadata": {},
   "source": [
    "# Use Case 2: What network connectivity to use in a model?  \n",
    "\n",
    "How does connectivity of natural and built infrastructure components compare in a particular area across datasets? \n",
    "\n",
    "#### By Adel M. Abdallah, Utah State University, December 2018\n",
    "\n",
    "This notebook demonstrates basic WaMDaM use cases analysis using scientific Python libraries such as [pandas](https://pandas.pydata.org/) and [plotly](https://plot.ly/).  It reads WaMDaM SQLite data from a published HydroShare Generic Resource, runs SQL script, and them uses Python plotly to visualize the results\n",
    "\n",
    "\n",
    "Execute the following cells by pressing `Shift-Enter`, or by pressing the play button \n",
    "<img style='display:inline;padding-bottom:15px' src='play-button.png'>\n",
    "on the toolbar above.\n",
    "\n",
    "\n",
    "\n",
    "This use case identifies three models connectives for Hyrum Reservoir, UT \n",
    "\n",
    "  <img src=\"https://github.com/WamdamProject/WaMDaM-software-ecosystem/blob/master/mkdocs/Edit_MD_Files/QuerySelect/images/networks.png?raw=true\" style=\"float:center\">\n",
    "  <h3><center>**Figure x:** WaMDaM Paper</center></h3>\n",
    "\n",
    "\n",
    "### Steps to reproduce this use case results and plots \n",
    "\n",
    "1. [Import python libraries](#Import) \n",
    "\n",
    "2. [Connect to the WaMDaM populated SQLite file](#Connect) \n",
    "\n",
    "3. [Get network connections at Hyrum Reservoir, Utah](#NetworkAtHyrum)\n",
    "\n",
    "4. [Get network connections at Hyrum Reservoir, Utah](#NetworkAtHyrum)\n",
    "\n",
    "5. [Get network connections at Bear River Migratory Bird Refuge, Utah](#NetworkAtRefuge)\n",
    "\n",
    "6. [Get network connections at Shasta Reservoir, California](#NetworkAtShasta)\n",
    "\n",
    "7. [Close the SQLite connection](#Close)\n",
    "\n"
   ]
  },
  {
   "cell_type": "markdown",
   "metadata": {},
   "source": [
    "<a name=\"Import\"></a>\n",
    "# 1. Import python libraries "
   ]
  },
  {
   "cell_type": "code",
   "execution_count": 1,
   "metadata": {
    "collapsed": false
   },
   "outputs": [
    {
     "name": "stdout",
     "output_type": "stream",
     "text": [
      "The libraries are imported\n"
     ]
    }
   ],
   "source": [
    "# 1. Import python libraries \n",
    "\n",
    "import os\n",
    "import csv\n",
    "from collections import OrderedDict\n",
    "import sqlite3\n",
    "import pandas as pd\n",
    "import numpy as np\n",
    "from IPython.display import display, Image, SVG, Math, YouTubeVideo\n",
    "import urllib\n",
    "\n",
    "print 'The libraries are imported'"
   ]
  },
  {
   "cell_type": "markdown",
   "metadata": {},
   "source": [
    "<a name=\"Connect\"></a>\n",
    "# 2. Connect to the WaMDaM populated SQLite file \n"
   ]
  },
  {
   "cell_type": "code",
   "execution_count": 2,
   "metadata": {
    "collapsed": false
   },
   "outputs": [
    {
     "name": "stdout",
     "output_type": "stream",
     "text": [
      "Connected to the WaMDaM SQLite file called: BearRiverDatasets_Dec2018.sqlite\n"
     ]
    }
   ],
   "source": [
    "# 2. Connect to the WaMDaM populated SQLite file \n",
    "\n",
    "# Then we can run queries against it within this notebook :)  \n",
    "\n",
    "# Change the name here into your database name (e.g., ReplicateWaMDamDb.SQLite)\n",
    "WaMDaM_SQLite_Name='BearRiverDatasets_Dec2018.sqlite'\n",
    "\n",
    "# WaMDaM_SQLite_Name='replicateWaMDaM.sqlite'\n",
    "\n",
    "\n",
    "conn = sqlite3.connect(WaMDaM_SQLite_Name)\n",
    "\n",
    "print 'Connected to the WaMDaM SQLite file called'+': '+ WaMDaM_SQLite_Name"
   ]
  },
  {
   "cell_type": "markdown",
   "metadata": {},
   "source": [
    "<a name=\"NetworkAtHyrum\"></a>\n",
    "# 3. Get network connections at Hyrum Reservoir, Utah\n"
   ]
  },
  {
   "cell_type": "code",
   "execution_count": 3,
   "metadata": {
    "collapsed": false,
    "scrolled": true
   },
   "outputs": [
    {
     "name": "stdout",
     "output_type": "stream",
     "text": [
      "Queries are done\n",
      "------------------------------------------------\n",
      "Replcate the table with links, start and end nodes for each model to plot Figure 4 in the WaMDaM paper\n"
     ]
    },
    {
     "data": {
      "text/html": [
       "<div>\n",
       "<style>\n",
       "    .dataframe thead tr:only-child th {\n",
       "        text-align: right;\n",
       "    }\n",
       "\n",
       "    .dataframe thead th {\n",
       "        text-align: left;\n",
       "    }\n",
       "\n",
       "    .dataframe tbody tr th {\n",
       "        vertical-align: top;\n",
       "    }\n",
       "</style>\n",
       "<table border=\"1\" class=\"dataframe\">\n",
       "  <thead>\n",
       "    <tr style=\"text-align: right;\">\n",
       "      <th></th>\n",
       "      <th>ResourceTypeAcronym</th>\n",
       "      <th>ScenarioName</th>\n",
       "      <th>LinkInstanceName</th>\n",
       "      <th>LinkObjectType</th>\n",
       "      <th>ObjectTypeCV</th>\n",
       "      <th>StartEndNode</th>\n",
       "      <th>StartInstanceLong</th>\n",
       "      <th>StartLatitude_y</th>\n",
       "      <th>StartNodeObjectType</th>\n",
       "      <th>EndNodeInstance</th>\n",
       "      <th>EndStartInstanceLong</th>\n",
       "      <th>EndLatitude_y</th>\n",
       "      <th>EndNodeObjectType</th>\n",
       "    </tr>\n",
       "  </thead>\n",
       "  <tbody>\n",
       "    <tr>\n",
       "      <th>0</th>\n",
       "      <td>WASH</td>\n",
       "      <td>OneYear</td>\n",
       "      <td>j29j27</td>\n",
       "      <td>DiversionExist</td>\n",
       "      <td>Diversion</td>\n",
       "      <td>j29</td>\n",
       "      <td>-111.860</td>\n",
       "      <td>41.6203</td>\n",
       "      <td>v</td>\n",
       "      <td>j27</td>\n",
       "      <td>-111.862</td>\n",
       "      <td>41.6780</td>\n",
       "      <td>dem</td>\n",
       "    </tr>\n",
       "    <tr>\n",
       "      <th>1</th>\n",
       "      <td>WASH</td>\n",
       "      <td>OneYear</td>\n",
       "      <td>j29j28</td>\n",
       "      <td>DiversionExist</td>\n",
       "      <td>Diversion</td>\n",
       "      <td>j29</td>\n",
       "      <td>-111.860</td>\n",
       "      <td>41.6203</td>\n",
       "      <td>v</td>\n",
       "      <td>j28</td>\n",
       "      <td>-111.898</td>\n",
       "      <td>41.6820</td>\n",
       "      <td>dem</td>\n",
       "    </tr>\n",
       "    <tr>\n",
       "      <th>2</th>\n",
       "      <td>WASH</td>\n",
       "      <td>OneYear</td>\n",
       "      <td>j29j44</td>\n",
       "      <td>DiversionExist</td>\n",
       "      <td>Diversion</td>\n",
       "      <td>j29</td>\n",
       "      <td>-111.860</td>\n",
       "      <td>41.6203</td>\n",
       "      <td>v</td>\n",
       "      <td>j44</td>\n",
       "      <td>-111.962</td>\n",
       "      <td>41.6320</td>\n",
       "      <td>dem</td>\n",
       "    </tr>\n",
       "    <tr>\n",
       "      <th>3</th>\n",
       "      <td>WASH</td>\n",
       "      <td>OneYear</td>\n",
       "      <td>j29j24</td>\n",
       "      <td>envSiteExist</td>\n",
       "      <td>Stream</td>\n",
       "      <td>j29</td>\n",
       "      <td>-111.860</td>\n",
       "      <td>41.6203</td>\n",
       "      <td>v</td>\n",
       "      <td>j24</td>\n",
       "      <td>-111.946</td>\n",
       "      <td>41.7429</td>\n",
       "      <td>j</td>\n",
       "    </tr>\n",
       "    <tr>\n",
       "      <th>4</th>\n",
       "      <td>WASH</td>\n",
       "      <td>OneYear</td>\n",
       "      <td>j32j29</td>\n",
       "      <td>envSiteExist</td>\n",
       "      <td>Stream</td>\n",
       "      <td>j32</td>\n",
       "      <td>-111.821</td>\n",
       "      <td>41.5279</td>\n",
       "      <td>j</td>\n",
       "      <td>j29</td>\n",
       "      <td>-111.860</td>\n",
       "      <td>41.6203</td>\n",
       "      <td>v</td>\n",
       "    </tr>\n",
       "    <tr>\n",
       "      <th>5</th>\n",
       "      <td>WASH</td>\n",
       "      <td>OneYear</td>\n",
       "      <td>j41j29</td>\n",
       "      <td>returnFlowExist</td>\n",
       "      <td>Return flow</td>\n",
       "      <td>j41</td>\n",
       "      <td>-111.769</td>\n",
       "      <td>41.5890</td>\n",
       "      <td>dem</td>\n",
       "      <td>j29</td>\n",
       "      <td>-111.860</td>\n",
       "      <td>41.6203</td>\n",
       "      <td>v</td>\n",
       "    </tr>\n",
       "    <tr>\n",
       "      <th>6</th>\n",
       "      <td>WASH</td>\n",
       "      <td>OneYear</td>\n",
       "      <td>j42j29</td>\n",
       "      <td>returnFlowExist</td>\n",
       "      <td>Return flow</td>\n",
       "      <td>j42</td>\n",
       "      <td>-111.822</td>\n",
       "      <td>41.5990</td>\n",
       "      <td>dem</td>\n",
       "      <td>j29</td>\n",
       "      <td>-111.860</td>\n",
       "      <td>41.6203</td>\n",
       "      <td>v</td>\n",
       "    </tr>\n",
       "  </tbody>\n",
       "</table>\n",
       "</div>"
      ],
      "text/plain": [
       "  ResourceTypeAcronym ScenarioName LinkInstanceName   LinkObjectType  \\\n",
       "0                WASH      OneYear           j29j27   DiversionExist   \n",
       "1                WASH      OneYear           j29j28   DiversionExist   \n",
       "2                WASH      OneYear           j29j44   DiversionExist   \n",
       "3                WASH      OneYear           j29j24     envSiteExist   \n",
       "4                WASH      OneYear           j32j29     envSiteExist   \n",
       "5                WASH      OneYear           j41j29  returnFlowExist   \n",
       "6                WASH      OneYear           j42j29  returnFlowExist   \n",
       "\n",
       "  ObjectTypeCV StartEndNode  StartInstanceLong  StartLatitude_y  \\\n",
       "0    Diversion          j29           -111.860          41.6203   \n",
       "1    Diversion          j29           -111.860          41.6203   \n",
       "2    Diversion          j29           -111.860          41.6203   \n",
       "3       Stream          j29           -111.860          41.6203   \n",
       "4       Stream          j32           -111.821          41.5279   \n",
       "5  Return flow          j41           -111.769          41.5890   \n",
       "6  Return flow          j42           -111.822          41.5990   \n",
       "\n",
       "  StartNodeObjectType EndNodeInstance  EndStartInstanceLong  EndLatitude_y  \\\n",
       "0                   v             j27              -111.862        41.6780   \n",
       "1                   v             j28              -111.898        41.6820   \n",
       "2                   v             j44              -111.962        41.6320   \n",
       "3                   v             j24              -111.946        41.7429   \n",
       "4                   j             j29              -111.860        41.6203   \n",
       "5                 dem             j29              -111.860        41.6203   \n",
       "6                 dem             j29              -111.860        41.6203   \n",
       "\n",
       "  EndNodeObjectType  \n",
       "0               dem  \n",
       "1               dem  \n",
       "2               dem  \n",
       "3                 j  \n",
       "4                 v  \n",
       "5                 v  \n",
       "6                 v  "
      ]
     },
     "metadata": {},
     "output_type": "display_data"
    }
   ],
   "source": [
    "# Get network connctions at Hyrum Reservoir, Utah\n",
    "\n",
    "Query_connect_URL=\"\"\"\n",
    "https://raw.githubusercontent.com/WamdamProject/WaMDaM_UseCases/master/4_Queries_SQL/UseCase2/1_FindNodeLinkInstances_Hyrum.sql\n",
    "\"\"\"\n",
    "# Read the query text inside the URL\n",
    "Query_connect_text = urllib.urlopen(Query_connect_URL).read()\n",
    "# return query result in a pandas data frame\n",
    "result_df_connect= pd.read_sql_query(Query_connect_text, conn)\n",
    "\n",
    "# print the dataframe to inspect it    \n",
    "# display (result_df_connect) \n",
    "print \"Queries are done\"\n",
    "# Save the datafrom as a csv file into the Jupyter notebook working space\n",
    "result_df_connect.to_csv('UseCases_Results_csv\\Hyrum_connect.csv', index = False)\n",
    "\n",
    "column_name = \"ScenarioName\"\n",
    "\n",
    "subsets = result_df_connect.groupby(column_name)\n",
    "print '------------------------------------------------'\n",
    "for subset in subsets.groups.keys():\n",
    "    #print subset\n",
    "    dt = subsets.get_group(name=subset)\n",
    "    print 'Replcate the table with links, start and end nodes for each model to plot Figure 4 in the WaMDaM paper'  \n",
    "    display (dt)\n",
    "\n",
    "\n"
   ]
  },
  {
   "cell_type": "markdown",
   "metadata": {
    "collapsed": true
   },
   "source": [
    "<a name=\"Reproduce\"></a>\n",
    "# 4. Reproduce the plot above?\n"
   ]
  },
  {
   "cell_type": "markdown",
   "metadata": {},
   "source": [
    "#### Use Microsoft Visio or any other charting software like Lucidchart to plot the node of interest and all the lines that connet to it. \n",
    "\n"
   ]
  },
  {
   "cell_type": "markdown",
   "metadata": {
    "collapsed": true
   },
   "source": [
    "<a name=\"NetworkAtRefuge\"></a>\n",
    "# 5. Get network connctions at Bear River Migratory Bird Refuge, Utah\n",
    "\n",
    "<font color=green>Bonus use case not reported in the WaMDaM paper</font>\n"
   ]
  },
  {
   "cell_type": "code",
   "execution_count": 4,
   "metadata": {
    "collapsed": false
   },
   "outputs": [
    {
     "name": "stdout",
     "output_type": "stream",
     "text": [
      "------------------------------------------------\n",
      "Get the links, start and end nodes for each model to plot connections to the Refuge\n"
     ]
    },
    {
     "data": {
      "text/html": [
       "<div>\n",
       "<style>\n",
       "    .dataframe thead tr:only-child th {\n",
       "        text-align: right;\n",
       "    }\n",
       "\n",
       "    .dataframe thead th {\n",
       "        text-align: left;\n",
       "    }\n",
       "\n",
       "    .dataframe tbody tr th {\n",
       "        vertical-align: top;\n",
       "    }\n",
       "</style>\n",
       "<table border=\"1\" class=\"dataframe\">\n",
       "  <thead>\n",
       "    <tr style=\"text-align: right;\">\n",
       "      <th></th>\n",
       "      <th>ResourceTypeAcronym</th>\n",
       "      <th>ScenarioName</th>\n",
       "      <th>LinkInstanceName</th>\n",
       "      <th>LinkObjectType</th>\n",
       "      <th>ObjectTypeCV</th>\n",
       "      <th>StartEndNode</th>\n",
       "      <th>StartInstanceLong</th>\n",
       "      <th>StartLatitude_y</th>\n",
       "      <th>StartNodeObjectType</th>\n",
       "      <th>EndNodeInstance</th>\n",
       "      <th>EndStartInstanceLong</th>\n",
       "      <th>EndLatitude_y</th>\n",
       "      <th>EndNodeObjectType</th>\n",
       "    </tr>\n",
       "  </thead>\n",
       "  <tbody>\n",
       "    <tr>\n",
       "      <th>0</th>\n",
       "      <td>WASH</td>\n",
       "      <td>OneYear</td>\n",
       "      <td>j20j21</td>\n",
       "      <td>envSiteExist</td>\n",
       "      <td>Stream</td>\n",
       "      <td>j20</td>\n",
       "      <td>-112.117</td>\n",
       "      <td>41.5861</td>\n",
       "      <td>j</td>\n",
       "      <td>j21</td>\n",
       "      <td>-112.143</td>\n",
       "      <td>41.4910</td>\n",
       "      <td>j</td>\n",
       "    </tr>\n",
       "    <tr>\n",
       "      <th>1</th>\n",
       "      <td>WASH</td>\n",
       "      <td>OneYear</td>\n",
       "      <td>j21j23</td>\n",
       "      <td>envSiteExist</td>\n",
       "      <td>Stream</td>\n",
       "      <td>j21</td>\n",
       "      <td>-112.143</td>\n",
       "      <td>41.4910</td>\n",
       "      <td>j</td>\n",
       "      <td>j23</td>\n",
       "      <td>-112.222</td>\n",
       "      <td>41.4747</td>\n",
       "      <td>j</td>\n",
       "    </tr>\n",
       "  </tbody>\n",
       "</table>\n",
       "</div>"
      ],
      "text/plain": [
       "  ResourceTypeAcronym ScenarioName LinkInstanceName LinkObjectType  \\\n",
       "0                WASH      OneYear           j20j21   envSiteExist   \n",
       "1                WASH      OneYear           j21j23   envSiteExist   \n",
       "\n",
       "  ObjectTypeCV StartEndNode  StartInstanceLong  StartLatitude_y  \\\n",
       "0       Stream          j20           -112.117          41.5861   \n",
       "1       Stream          j21           -112.143          41.4910   \n",
       "\n",
       "  StartNodeObjectType EndNodeInstance  EndStartInstanceLong  EndLatitude_y  \\\n",
       "0                   j             j21              -112.143        41.4910   \n",
       "1                   j             j23              -112.222        41.4747   \n",
       "\n",
       "  EndNodeObjectType  \n",
       "0                 j  \n",
       "1                 j  "
      ]
     },
     "metadata": {},
     "output_type": "display_data"
    }
   ],
   "source": [
    "# query connectivity at the Bear River Migratory Bird Refuge, Utah\n",
    "Query_connect_URL=\"\"\"\n",
    "https://raw.githubusercontent.com/WamdamProject/WaMDaM_UseCases/master/4_Queries_SQL/UseCase2/2_FindNodeLinkInstances_refuge.sql\n",
    "\"\"\"\n",
    "# Read the query text inside the URL\n",
    "Query_connect_text = urllib.urlopen(Query_connect_URL).read()\n",
    "# return query result in a pandas data frame\n",
    "result_df_connect= pd.read_sql_query(Query_connect_text, conn)\n",
    "\n",
    "# print the dataframe to inspect it    \n",
    "# display (result_df_connect) \n",
    "\n",
    "# Save the datafrom as a csv file into the Jupyter notebook working space\n",
    "result_df_connect.to_csv('UseCases_Results_csv\\BirdRefuge_connect.csv', index = False)\n",
    "\n",
    "\n",
    "column_name = \"ScenarioName\"\n",
    "\n",
    "subsets = result_df_connect.groupby(column_name)\n",
    "print '------------------------------------------------'\n",
    "for subset in subsets.groups.keys():\n",
    "    #print subset\n",
    "    dt = subsets.get_group(name=subset)\n",
    "    print 'Get the links, start and end nodes for each model to plot connections to the Refuge'  \n",
    "    display (dt)\n",
    "\n",
    "\n"
   ]
  },
  {
   "cell_type": "markdown",
   "metadata": {
    "collapsed": true
   },
   "source": [
    "<a name=\"NetworkAtShasta\"></a>\n",
    "# 6. Get network connctions at Shasta Reservoir, California\t\n",
    "<font color=green>Bonus use case not reported in the WaMDaM paper</font>\n"
   ]
  },
  {
   "cell_type": "code",
   "execution_count": 6,
   "metadata": {
    "collapsed": false
   },
   "outputs": [
    {
     "data": {
      "text/html": [
       "<div>\n",
       "<style>\n",
       "    .dataframe thead tr:only-child th {\n",
       "        text-align: right;\n",
       "    }\n",
       "\n",
       "    .dataframe thead th {\n",
       "        text-align: left;\n",
       "    }\n",
       "\n",
       "    .dataframe tbody tr th {\n",
       "        vertical-align: top;\n",
       "    }\n",
       "</style>\n",
       "<table border=\"1\" class=\"dataframe\">\n",
       "  <thead>\n",
       "    <tr style=\"text-align: right;\">\n",
       "      <th></th>\n",
       "      <th>ResourceTypeAcronym</th>\n",
       "      <th>ScenarioName</th>\n",
       "      <th>LinkInstanceName</th>\n",
       "      <th>LinkObjectType</th>\n",
       "      <th>ObjectTypeCV</th>\n",
       "      <th>StartEndNode</th>\n",
       "      <th>StartInstanceLong</th>\n",
       "      <th>StartLatitude_y</th>\n",
       "      <th>StartNodeObjectType</th>\n",
       "      <th>EndNodeInstance</th>\n",
       "      <th>EndStartInstanceLong</th>\n",
       "      <th>EndLatitude_y</th>\n",
       "      <th>EndNodeObjectType</th>\n",
       "    </tr>\n",
       "  </thead>\n",
       "  <tbody>\n",
       "    <tr>\n",
       "      <th>0</th>\n",
       "      <td>CALVIN</td>\n",
       "      <td>Base Case</td>\n",
       "      <td>SR_SHA,D5</td>\n",
       "      <td>Calvin Link</td>\n",
       "      <td>None</td>\n",
       "      <td>SR_SHA</td>\n",
       "      <td>40.716872</td>\n",
       "      <td>-122.418122</td>\n",
       "      <td>Surface Storage</td>\n",
       "      <td>D5</td>\n",
       "      <td>40.612004</td>\n",
       "      <td>-122.446023</td>\n",
       "      <td>Junction</td>\n",
       "    </tr>\n",
       "  </tbody>\n",
       "</table>\n",
       "</div>"
      ],
      "text/plain": [
       "  ResourceTypeAcronym ScenarioName LinkInstanceName LinkObjectType  \\\n",
       "0              CALVIN    Base Case        SR_SHA,D5    Calvin Link   \n",
       "\n",
       "  ObjectTypeCV StartEndNode  StartInstanceLong  StartLatitude_y  \\\n",
       "0         None       SR_SHA          40.716872      -122.418122   \n",
       "\n",
       "  StartNodeObjectType EndNodeInstance  EndStartInstanceLong  EndLatitude_y  \\\n",
       "0     Surface Storage              D5             40.612004    -122.446023   \n",
       "\n",
       "  EndNodeObjectType  \n",
       "0          Junction  "
      ]
     },
     "metadata": {},
     "output_type": "display_data"
    },
    {
     "name": "stdout",
     "output_type": "stream",
     "text": [
      "Queries are done\n"
     ]
    }
   ],
   "source": [
    "# Get network connctions at Shasta Reservoir, California\t\n",
    "\n",
    "# query connectivity at the Shasta Reservoir, California\n",
    "Query_connect_URL=\"\"\"\n",
    "https://raw.githubusercontent.com/WamdamProject/WaMDaM_UseCases/master/4_Queries_SQL/UseCase2/3_FindNodeLinkInstances_Shasta.sql\n",
    "\"\"\"\n",
    "# Read the query text inside the URL\n",
    "Query_connect_text = urllib.urlopen(Query_connect_URL).read()\n",
    "# return query result in a pandas data frame\n",
    "result_df_connect= pd.read_sql_query(Query_connect_text, conn)\n",
    "\n",
    "# print the dataframe to inspect it    \n",
    "# display (result_df_connect) \n",
    "\n",
    "# Save the datafrom as a csv file into the Jupyter notebook working space\n",
    "result_df_connect.to_csv('UseCases_Results_csv\\Shasta_connect.csv', index = False)\n",
    "\n",
    "\n",
    "display (result_df_connect)\n",
    "\n",
    "print \"Queries are done\""
   ]
  },
  {
   "cell_type": "markdown",
   "metadata": {},
   "source": [
    "<a name=\"Close\"></a>\n",
    "# 7. Close the SQLite connection\n"
   ]
  },
  {
   "cell_type": "code",
   "execution_count": 7,
   "metadata": {
    "collapsed": false
   },
   "outputs": [
    {
     "name": "stdout",
     "output_type": "stream",
     "text": [
      "connection disconnected\n"
     ]
    }
   ],
   "source": [
    "conn.close()\n",
    "\n",
    "print 'connection disconnected'"
   ]
  },
  {
   "cell_type": "markdown",
   "metadata": {
    "collapsed": true
   },
   "source": [
    "# The End :) Congratulations, you have replicated this use case!"
   ]
  },
  {
   "cell_type": "code",
   "execution_count": null,
   "metadata": {
    "collapsed": true
   },
   "outputs": [],
   "source": []
  }
 ],
 "metadata": {
  "kernelspec": {
   "display_name": "Python 2",
   "language": "python",
   "name": "python2"
  },
  "language_info": {
   "codemirror_mode": {
    "name": "ipython",
    "version": 2
   },
   "file_extension": ".py",
   "mimetype": "text/x-python",
   "name": "python",
   "nbconvert_exporter": "python",
   "pygments_lexer": "ipython2",
   "version": "2.7.13"
  }
 },
 "nbformat": 4,
 "nbformat_minor": 2
}
