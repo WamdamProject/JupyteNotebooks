{
 "cells": [
  {
   "cell_type": "markdown",
   "metadata": {},
   "source": [
    "## WaMDaM Directions and Use Cases\n",
    "\n",
    "## Step 1: Setup / Installation on Local Machine\n",
    "\n",
    "### By Adel M. Abdallah, Utah State University, August 2018"
   ]
  },
  {
   "cell_type": "markdown",
   "metadata": {},
   "source": [
    "# Step 1.1: Install WaMDaM Wizard\n",
    "\n",
    "\n",
    "### i.\tDownload the WaMDaM Wizard software    \n",
    "Download the latest release from https://github.com/WamdamProject/WaMDaM_Wizard/releases\n",
    "Choose a software option \n",
    "\n",
    "> **a.**\tSave and run the WaMDaM Wizard executable “wamdam.exe” if you don’t have administrative access to the windows machine you are using. Click **Run** \n",
    "\n",
    "> **b.**\tWaMDaM Wizard installer “WaMDaM_v1.03_UtahStateUniversity-1.03-amd64.msi” which can be installed and leaves a shortcut on your desktop. Click **More info** hyperlink you encounter a Windows warning dialog box, then click **Run anyway**\n",
    "\n",
    "If you’re interested, the source code of the Wizard is available on GitHub here https://github.com/WamdamProject/WaMDaM_Wizard\n",
    "<br>\n",
    "\n",
    "\n",
    "\n"
   ]
  },
  {
   "cell_type": "markdown",
   "metadata": {},
   "source": [
    "### ii.\tLaunch WaMDaM Wizard     \n",
    "Once installed, right click at the Wizard's shortcut and choose to run as an <font color=red>**Administrator**</font>. If you don’t run as Admin, some functionalities will not work.\n",
    "\n",
    "Or double click at the executable and this main window will appear. Click **More info** hyperlink you encounter a Windows warning dialog box, then click **Run anyway** which will show the Wizard infterface (Figure 1)\n",
    "\n",
    "  <img src=\"https://github.com/WamdamProject/WaMDaM-software-ecosystem/blob/master/mkdocs/Edit_MD_Files/QuerySelect/images/Wizard.png?raw=true\" style=\"float:center;width:600px;padding:20px\">\n",
    "  <h3><center>**Figure 1:** WaMDaM Wizard landing interface</center></h3>"
   ]
  },
  {
   "cell_type": "markdown",
   "metadata": {},
   "source": [
    "### iii. Create a new, blank SQLite database file and connect to it\n",
    "Click the **Connect to SQLite** tab (Figure 1), then click the button **Connect to a blank SQLite WaMDaM database** \n",
    "\n",
    "Provide the name of the database file (e.g., replicateWaMDaM) and specify where you want to store the file on your local machine (e.g., C:\\desktop). The Wizard then will create a blank WaMDaM database with empty tables. You are ready to load data into the file.\n",
    "\n",
    "Directions to deploy the WaMDaM database in three other relational database systems are available at https://github.com/WamdamProject/WaMDaM_Information_Model. _Note_, the wizard only works with SQLite database files.\n",
    "\n",
    "<br>\n",
    "\n",
    "Directions to deploy the WaMDaM database in three other relational database systems are available at https://github.com/WamdamProject/WaMDaM_Information_Model. Note, the wizard only works with SQLite database files.\n",
    "\n",
    "<br>  \n",
    "\n",
    "<font color=Blue>**I encourage you to check out the next two optional sub-steps. Otherwise, you can proceed**</font>\n",
    "\n"
   ]
  },
  {
   "cell_type": "markdown",
   "metadata": {
    "collapsed": true
   },
   "source": [
    "### iv.\tView loaded data in WaMDaM tables (Optional)\n",
    "This step here is not needed to replicate the work. If you want to view the WaMDaM table structure and populated data,\n",
    "\n",
    "•\tDownload and install the free and open source tool **DB Browser For SQLite** to query the database and view its tables. Download from https://sqlitebrowser.org/\n",
    "•\tDownload the already populated SQL **BearRiverDatasets_August_2018_Final.sqlite** file from GitHub at \n",
    "https://github.com/WamdamProject/WaMDaM_UseCases/tree/master/UseCases_files/3SQLite_database\n",
    "\n",
    "•\tLaunch **DB Browser For SQLite** and Connect to the SQLite file you downloaded (Figure 2). Click Open Database. You can see the structure of WaMDaM tables by clicking at **Database Structure**. Click **Browse Data** to see the populated tables. Click \n",
    "**Execute SQL**. \n",
    "Type this simple query below and click at the execute triangle button. \n",
    "\n",
    "    SELECT * FROM ObjectTypes \n",
    "\n",
    "The query results in all the Object Type table columns with all its populated data in rows for all the Resource Types in the database. \n",
    "\n",
    "\n",
    "<img src=\"https://github.com/WamdamProject/WaMDaM-software-ecosystem/blob/master/mkdocs/Edit_MD_Files/QuerySelect/images/DB_BrowserSQL.png?raw=true\" style=\"float:center;width:700px;padding:20px\"> \n",
    "\n",
    "\n",
    "**Figure 2:** The interface for _DB Browser For SQLite_ software which views SQLite tables and enables executing SQL queries against WaMDaM database\n"
   ]
  },
  {
   "cell_type": "markdown",
   "metadata": {},
   "source": [
    "### v. Learn about controlled vocabularies (Optional)\n",
    "This step is just for your information and in case you want to use it or make changes to the existing workbooks \n",
    "\n",
    "*  This step is also optional and not needed to replicate the work. Read further if you want to see how WaMDaM controlled vocabularies work or to suggesting new terms to add.   \n",
    "<br>\n",
    "*  WaMDaM controlled vocabulary are hosted online and can be accessed at http://vocabulary.wamdam.org/   \n",
    "<br>\n",
    "\n",
    "*  Each time you use the WaMDaM Wizard to load water management data, it calls this repository to download and update the SQLite controlled vocabulary tables.     \n",
    "<br>\n",
    "*  Continue to use your model’s native terms (e.g., how your model refers to object types, attributes, and instances). Add the controlled term next to each native term (i.e., register them against each other). Registering your model's native terms against these CVs will allow you to relate, query, and compare all your model’s data to other registered data from other models and datasets within the database. Open one of the Excel workbook examples to see how the CVs work.    \n",
    "\n",
    "    In the HomePage spreadsheet, click at the button **Update Controlled Vocabularies** which will call the online WaMDaM controlled vocabulary registry and download or update the most recent vocabularies to your template.   \n",
    "\n",
    "    Open the far right spreadsheet **ControlledVocabularies** which lists all of the downloaded terms for use as a dropdown menu in the rest of the input data spreadsheets.    \n",
    "<br>\n",
    "*  The source code for the vocabulary app can be accessed at https://github.com/WamdamProject/WaMDaM_ControlledVocabularies\n"
   ]
  }
 ],
 "metadata": {
  "kernelspec": {
   "display_name": "Python 2",
   "language": "python",
   "name": "python2"
  },
  "language_info": {
   "codemirror_mode": {
    "name": "ipython",
    "version": 2
   },
   "file_extension": ".py",
   "mimetype": "text/x-python",
   "name": "python",
   "nbconvert_exporter": "python",
   "pygments_lexer": "ipython2",
   "version": "2.7.14"
  }
 },
 "nbformat": 4,
 "nbformat_minor": 2
}
