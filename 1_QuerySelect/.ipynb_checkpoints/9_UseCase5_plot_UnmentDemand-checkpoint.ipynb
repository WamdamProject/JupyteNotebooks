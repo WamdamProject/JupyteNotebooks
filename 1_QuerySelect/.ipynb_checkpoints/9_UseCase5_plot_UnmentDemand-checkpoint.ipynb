{
 "cells": [
  {
   "cell_type": "markdown",
   "metadata": {},
   "source": [
    "# Plot modeling results"
   ]
  },
  {
   "cell_type": "code",
   "execution_count": null,
   "metadata": {
    "collapsed": false
   },
   "outputs": [],
   "source": [
    "# 1. Import python libraries \n",
    "### set the notebook mode to embed the figures within the cell\n",
    "\n",
    "import plotly\n",
    "plotly.__version__\n",
    "import plotly.offline as offline\n",
    "import plotly.graph_objs as go\n",
    "from plotly.offline import download_plotlyjs, init_notebook_mode, plot, iplot\n",
    "offline.init_notebook_mode(connected=True)\n",
    "from plotly.offline import init_notebook_mode, iplot\n",
    "from plotly.graph_objs import *\n",
    "\n",
    "init_notebook_mode(connected=True)         # initiate notebook for offline plot\n",
    "\n",
    "import os\n",
    "import csv\n",
    "from collections import OrderedDict\n",
    "import sqlite3\n",
    "import pandas as pd\n",
    "import numpy as np\n",
    "from IPython.display import display, Image, SVG, Math, YouTubeVideo\n",
    "import urllib\n",
    "\n",
    "print 'imported'"
   ]
  },
  {
   "cell_type": "code",
   "execution_count": null,
   "metadata": {
    "collapsed": false
   },
   "outputs": [],
   "source": [
    "\n",
    "\n",
    "xx=['Reference','Cache County <br> demand','Hyrum  <br> Bathymetry','Headflow <br> supply']\n",
    "\n",
    "yy=[57472,55160,57462,83039]\n",
    "\n",
    "ss= go.Scatter(\n",
    "            x=xx,\n",
    "            y=yy,\n",
    "            mode = 'markers',\n",
    "            marker = dict(\n",
    "                size =15,\n",
    "                color = '#0c0c0c',\n",
    "                maxdisplayed=20,\n",
    "                symbol ='circle',\n",
    "                )\n",
    ")\n",
    "\n",
    "data=[ss]\n",
    "\n",
    "layout = dict(\n",
    "    #title = \"Use Case 3.3\",\n",
    "    yaxis = dict(\n",
    "        title = \"Total unmet <br> demand in 2004 <br> (acre-feet))\",\n",
    "        tickformat= ',',\n",
    "        showline=True,\n",
    "        dtick='20000',\n",
    "        ticks='outside',\n",
    "        ticklen=10,\n",
    "         range = ['0', '90000']\n",
    "\n",
    "\n",
    "                ),\n",
    "    \n",
    "    xaxis = dict(\n",
    "        title = \"Updated input parameters <br> USU WEAP 2017 Model\",\n",
    "        showline=True,\n",
    "        ticks='outside',\n",
    "\n",
    "        ticklen=10\n",
    "                    ),\n",
    "    legend=dict(\n",
    "        x=0.1,y=0.6,\n",
    "          bordercolor='#00000',\n",
    "            borderwidth=2\n",
    "        \n",
    "               ),\n",
    "    width=1200,\n",
    "    height=800,\n",
    "    #paper_bgcolor='rgb(233,233,233)',\n",
    "    #plot_bgcolor='rgb(233,233,233)',\n",
    "    margin=go.Margin(l=300,b=200),\n",
    "    font=dict(size=30)\n",
    "             )\n",
    "# create a figure object\n",
    "fig = dict(data=data, layout=layout)\n",
    "#py.iplot(fig, filename = \"2.3Identify_SeasonalValues\") \n",
    "\n",
    "\n",
    "## it can be run from the local machine on Pycharm like this like below\n",
    "## It would also work here offline but in a seperate window  \n",
    "offline.iplot(fig,filename = 'jupyter/UnmentDemand@BirdRefuge' )       \n",
    "\n"
   ]
  },
  {
   "cell_type": "code",
   "execution_count": null,
   "metadata": {
    "collapsed": true
   },
   "outputs": [],
   "source": []
  }
 ],
 "metadata": {
  "kernelspec": {
   "display_name": "Python 2",
   "language": "python",
   "name": "python2"
  },
  "language_info": {
   "codemirror_mode": {
    "name": "ipython",
    "version": 2
   },
   "file_extension": ".py",
   "mimetype": "text/x-python",
   "name": "python",
   "nbconvert_exporter": "python",
   "pygments_lexer": "ipython2",
   "version": "2.7.13"
  }
 },
 "nbformat": 4,
 "nbformat_minor": 2
}
