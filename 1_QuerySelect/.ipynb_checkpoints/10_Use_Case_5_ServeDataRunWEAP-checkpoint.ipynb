{
 "cells": [
  {
   "cell_type": "markdown",
   "metadata": {},
   "source": [
    "# WaMDaM_Use_Case 5: Serve Data to WEAP and demand shortage at the Bird Refuge, Utah\n",
    "\n",
    "#### By Adel M. Abdallah, Utah State University, August 2018\n",
    "\n",
    "Execute the following cells by pressing `Shift-Enter`, or by pressing the play button \n",
    "<img style='display:inline;padding-bottom:15px' src='play-button.png'>\n",
    "on the toolbar above.\n",
    "\n",
    "\n",
    "EDIT THESE LINES\n",
    "This use case identifies five time series and seasonal flow data for the site below Stewart Dam, Idaho\n",
    "\n",
    "\n",
    "\n",
    "### Steps to reproduce this use case results \n",
    "\n",
    "1.[Import python libraries](#Import)   \n",
    "\n",
    "2.[Connect to the WEAP API](#ConnectWEAP)  \n",
    "\n",
    "3.[Add Scenarios to WEAP](#AddScenarios)\n",
    "\n",
    "4.[Connect to the WaMDaM populated SQLite file](#Connect)    \n",
    " \n",
    "----------------------\n",
    "A. [Query Supply Flow Data and load it to WEAP](#QuerySupplyDataLoadWEAP)\n",
    "\n",
    "A.1 [Query WaMDaM dababase for flow time series and prepare it for WEAP](#QueryFlowData) \n",
    "\n",
    "A.2 [Load the seasonal headflow data into WEAP](#LoadFlow)\n",
    "\n",
    "----------------------\n",
    "\n",
    "B. [Query demand data and load it to WEAP ](#QueryandLoadDemand)\n",
    "\n",
    "B.1 [Query WaMDaM dababase for flow time series and prepare it for WEAP](#QueryDemandData) \n",
    "\n",
    "B.2 [Load the seasonal headflow data into WEAP](#LoadDemand)\n",
    "\n",
    "----------------------\n",
    "\n",
    "\n",
    "C. [Query Bathymetry data and load it to WEAP](#QueryLoadBathymetry)\n",
    "\n",
    "C.1 [Create a new WEAP Area for with new Reservoir Bathymetry](#CreateWEAP_Area)\n",
    "\n",
    "C.2 [Query the multi-column array: Reservoir Bathymetry](#QueryBathymetry) \n",
    "\n",
    "C.3 [Load the Bathymetry to WEAP](#LoadBathymetry)\n",
    "\n",
    "----------------------\n",
    "\n",
    "   \n",
    "[Close the SQLite and WEAP API connections](#Close)  \n",
    "\n"
   ]
  },
  {
   "cell_type": "markdown",
   "metadata": {},
   "source": [
    "<a name=\"Import\"></a>\n",
    "# 1. Import python libraries \n",
    "### Install any missing ones you dont have. How? see at this link here\n",
    "https://jakevdp.github.io/blog/2017/12/05/installing-python-packages-from-jupyter/\n"
   ]
  },
  {
   "cell_type": "code",
   "execution_count": 15,
   "metadata": {
    "collapsed": false,
    "scrolled": true
   },
   "outputs": [
    {
     "data": {
      "text/html": [
       "<script>requirejs.config({paths: { 'plotly': ['https://cdn.plot.ly/plotly-latest.min']},});if(!window.Plotly) {{require(['plotly'],function(plotly) {window.Plotly=plotly;});}}</script>"
      ],
      "text/vnd.plotly.v1+html": [
       "<script>requirejs.config({paths: { 'plotly': ['https://cdn.plot.ly/plotly-latest.min']},});if(!window.Plotly) {{require(['plotly'],function(plotly) {window.Plotly=plotly;});}}</script>"
      ]
     },
     "metadata": {},
     "output_type": "display_data"
    },
    {
     "data": {
      "text/html": [
       "<script>requirejs.config({paths: { 'plotly': ['https://cdn.plot.ly/plotly-latest.min']},});if(!window.Plotly) {{require(['plotly'],function(plotly) {window.Plotly=plotly;});}}</script>"
      ],
      "text/vnd.plotly.v1+html": [
       "<script>requirejs.config({paths: { 'plotly': ['https://cdn.plot.ly/plotly-latest.min']},});if(!window.Plotly) {{require(['plotly'],function(plotly) {window.Plotly=plotly;});}}</script>"
      ]
     },
     "metadata": {},
     "output_type": "display_data"
    },
    {
     "name": "stdout",
     "output_type": "stream",
     "text": [
      "The needed Python libraries have been imported\n"
     ]
    }
   ],
   "source": [
    "# 1. Import python libraries \n",
    "### set the notebook mode to embed the figures within the cell\n",
    "\n",
    "\n",
    "import plotly\n",
    "plotly.__version__\n",
    "import plotly.offline as offline\n",
    "import plotly.graph_objs as go\n",
    "from plotly.offline import download_plotlyjs, init_notebook_mode, plot, iplot\n",
    "offline.init_notebook_mode(connected=True)\n",
    "from plotly.offline import init_notebook_mode, iplot\n",
    "from plotly.graph_objs import *\n",
    "\n",
    "init_notebook_mode(connected=True)         # initiate notebook for offline plot\n",
    "\n",
    "import os\n",
    "import csv\n",
    "from collections import OrderedDict\n",
    "import sqlite3\n",
    "import pandas as pd\n",
    "import numpy as np\n",
    "from IPython.display import display, Image, SVG, Math, YouTubeVideo\n",
    "import urllib\n",
    "from scipy import stats\n",
    "import calendar\n",
    "\n",
    "print 'The needed Python libraries have been imported'"
   ]
  },
  {
   "cell_type": "markdown",
   "metadata": {},
   "source": [
    "<a name=\"ConnectWEAP\"></a>\n",
    "# 2. Connect to the WEAP API\n",
    "\n",
    "### You need to have WEAP already installed on your machine\n",
    "\n",
    "First make sure to have a copy of the Water Evaluation And Planning\" system (WEAP) installed on your local machine (Windows). \n",
    "You will need to have an active licence to use the API\n",
    "For more info, see here http://www.weap21.org/index.asp?action=40\n",
    "\n",
    "## WEAP API info \n",
    "http://www.weap21.org/WebHelp/API.htm\n",
    "\n",
    "## Install dependency and register WEAP\n",
    "### A. Install pywin32 extensions which provide access to many of the Windows APIs from Python.\n",
    "**Choose on option**\n",
    "1. Install using an executable basedon your python version. I used Python 2.7\n",
    "https://github.com/mhammond/pywin32/releases\n",
    "\n",
    "2. Install from source code (for advanced users) \n",
    "https://github.com/mhammond/pywin32\n",
    "\n",
    "### B. Register WEAP with Windows \n",
    "\n",
    "\n",
    "# Install WEAP and Resiger it \n",
    "\n",
    "\n",
    "This use case only works on a local Jupyter Notebook server installed on your machine along with WEAP. So it does not work on the online Notebooks in Step 2.1. You need to install Jupyter Server in Step 2.2 then proceed here.\n",
    "\n",
    "2.1\tInstall WEAP software. \n",
    "If you don’t have it installed, download and install the WEAP software which allows you to run the Bear River WEAP model and its scenarios for Use Case 5. https://www.weap21.org/. You need to have a WEAP License. See here (https://www.weap21.org/index.asp?action=217) \n",
    "\n",
    "\n",
    "2.2 Register WEAP with Windows to allow the WEAP API to be accessed \n",
    "Use Windows \"Command Prompt\". Right click and then run as Administrator, navigate to the WEAP installation directory. For example, type this command \n",
    "\n",
    "\n",
    "\n",
    "Use Windows \"Command Prompt\" as Administrator, go to WEAP install directory such as:\n",
    "\n",
    "\n",
    "```\n",
    "cd C:\\Program Files (x86)\\WEAP\n",
    "```\n",
    "\n",
    "Then run the following command in the command prompt\n",
    "```\n",
    "WEAP /regserver\n",
    "```\n",
    "\n",
    "2.3 In some cases, you need to install this dependency \n",
    "•\tYou need to install pywin32 extensions which provide access to many of the Windows APIs from Python.\n",
    "\n",
    "•\tInstall using an executable based on your python version. I used Python 2.7 https://github.com/mhammond/pywin32/releases\n",
    "For advanced users, you can run the WaMDaM from source code at https://github.com/mhammond/pywin32\n",
    "\n",
    "\n",
    "\n",
    "\n",
    "<img src=\"https://github.com/WamdamProject/WaMDaM-software-ecosystem/blob/master/mkdocs/Edit_MD_Files/QuerySelect/images/RegisterWEAP_CMD.png?raw=true\" style=\"float:center;width:700px;padding:20px\"> \n",
    "Figure 1: Register WEAP API with windows using the Command Prompt (Run as Administrator)\n"
   ]
  },
  {
   "cell_type": "code",
   "execution_count": 3,
   "metadata": {
    "collapsed": false,
    "scrolled": true
   },
   "outputs": [
    {
     "name": "stdout",
     "output_type": "stream",
     "text": [
      "Connected to WEAP API\n",
      "-------------\n",
      "ActiveArea= USU_WEAP_2017\n",
      "-------------\n",
      "\n",
      " ActiveScenario= Current Accounts\n",
      "-------------\n",
      "C:\\Users\\Adel\\Documents\\WEAP Areas\\\n",
      "\n",
      " \n",
      " You're connected to the WEAP API\n"
     ]
    }
   ],
   "source": [
    "# this library is needed to connect to the WEAP API\n",
    "import win32com.client\n",
    "\n",
    "# this command will open the WEAP software (if closed) and get the last active model\n",
    "# you could change the active area to another one inside WEAP or by passing it to the command here\n",
    "#WEAP.ActiveArea = \"BearRiverFeb2017_V10.9\"\n",
    "\n",
    "\n",
    "WEAP=win32com.client.Dispatch(\"WEAP.WEAPApplication\")\n",
    "\n",
    "# WEAP.Visible = 'FALSE'\n",
    "\n",
    "\n",
    "WEAP.ActiveArea = \"USU_WEAP_2017\"  \n",
    "\n",
    "print 'Connected to WEAP API'\n",
    "print '-------------'\n",
    "if not WEAP.Registered:\n",
    "    print \"Because WEAP is not registered, you cannot use the API\"\n",
    "\n",
    "# get the active WEAP Area (model) to serve data into it \n",
    "ActiveArea=WEAP.ActiveArea.Name \n",
    "print  'ActiveArea= '+ActiveArea\n",
    "\n",
    "# get the active WEAP scenario to serve data into it \n",
    "print '-------------'\n",
    "\n",
    "ActiveScenario= WEAP.ActiveScenario.Name\n",
    "print '\\n ActiveScenario= '+ActiveScenario\n",
    "print '-------------'\n",
    "\n",
    "WEAP_Area_dir=WEAP.AreasDirectory\n",
    "print WEAP_Area_dir\n",
    "\n",
    "\n",
    "print \"\\n \\n You're connected to the WEAP API\""
   ]
  },
  {
   "cell_type": "markdown",
   "metadata": {},
   "source": [
    "<a name=\"CreateWEAP_Area\"></a>\n",
    "# C.1 Create a new WEAP Area for with new Reservoir Bathymetry\n"
   ]
  },
  {
   "cell_type": "code",
   "execution_count": 4,
   "metadata": {
    "collapsed": false
   },
   "outputs": [
    {
     "name": "stdout",
     "output_type": "stream",
     "text": [
      "A new WEA area has been created and a scenario is added to it\n",
      "ActiveArea= USU_WEAP_2017\n",
      "Connection with WEAP API is disconnected\n"
     ]
    }
   ],
   "source": [
    "# Create a copy of the WEAP AREA to serve the updated Hyrym Reservoir to it \n",
    "\n",
    "# UpdateHyrumBathym\n",
    "\n",
    "WEAP.SaveAreaAs(\"USU_WEAP_2017_UpdateHyrumBathym\")\n",
    "\n",
    "WEAP.Scenarios.Add('UpdateHyrumBathym','Current Accounts')\n",
    "# WEAP.Scenarios.Add('UpdateBearHeadFlowDry','Current Accounts')\n",
    "WEAP.ActiveArea.Save\n",
    "print 'A new WEA area has been created and a scenario is added to it'    \n",
    "WEAP.ActiveArea = \"USU_WEAP_2017\"  \n",
    "print  'ActiveArea= '+WEAP.ActiveArea.Name\n",
    "\n",
    "WEAP.Quit\n",
    "\n",
    "print 'Connection with WEAP API is disconnected'"
   ]
  },
  {
   "cell_type": "markdown",
   "metadata": {},
   "source": [
    "<a name=\"AddScenarios\"></a>\n",
    "# 3. Add new scenarios from the Reference\n",
    " Add new Scenario\n",
    " Add(NewScenarioName, ParentScenarioName or Index): \n",
    " Create a new scenario as a child of the parent scenario specified.  \n",
    " The new scenario will become the selected scenario in the Data View.  "
   ]
  },
  {
   "cell_type": "code",
   "execution_count": 5,
   "metadata": {
    "collapsed": false
   },
   "outputs": [
    {
     "name": "stdout",
     "output_type": "stream",
     "text": [
      "ActiveArea= USU_WEAP_2017\n",
      "UpdateBearHeadFlowDry\n",
      "UpdateCacheDemand\n",
      "----------------------\n",
      "\n",
      " Scenarios added to the original WEAP area\n"
     ]
    }
   ],
   "source": [
    "WEAP=win32com.client.Dispatch(\"WEAP.WEAPApplication\")\n",
    "# WEAP.Visible = FALSE\n",
    "\n",
    "\n",
    "WEAP.ActiveArea = \"USU_WEAP_2017\"  \n",
    "\n",
    "print  'ActiveArea= '+ WEAP.ActiveArea.Name\n",
    "\n",
    "Scenarios=[]\n",
    "\n",
    "Scenarios=['UpdateBearHeadFlowDry','UpdateCacheDemand']#,'UpdateHyrumBathym']\n",
    "\n",
    "\n",
    "for scen in Scenarios:\n",
    "    print scen\n",
    "    WEAP.Scenarios.Add(scen,'Reference')\n",
    "    \n",
    "WEAP.ActiveArea.Save\n",
    "WEAP.SaveArea\n",
    "\n",
    "WEAP.Quit\n",
    "\n",
    "# or add the scenarios one by one using this command   \n",
    "    \n",
    "# Make a copy from the reference (base) scenario\n",
    "# WEAP.Scenarios.Add('UpdateCacheDemand','Reference')\n",
    "print '----------------------'\n",
    "print '\\n Scenarios added to the original WEAP area'    "
   ]
  },
  {
   "cell_type": "markdown",
   "metadata": {},
   "source": [
    "<a name=\"Connect\"></a>\n",
    "# 4. Connect to the WaMDaM populated SQLite file \n"
   ]
  },
  {
   "cell_type": "code",
   "execution_count": 6,
   "metadata": {
    "collapsed": false,
    "scrolled": true
   },
   "outputs": [
    {
     "name": "stdout",
     "output_type": "stream",
     "text": [
      "Connected to the WaMDaM SQLite file called: BearRiverDatasets_June_2018_Final\n"
     ]
    }
   ],
   "source": [
    "# Then we can run queries against it within this notebook :)  \n",
    "\n",
    "# the SQLite file is published here \n",
    "#https://github.com/WamdamProject/WaMDaM_UseCases/blob/master/UseCases_files/3SQLite_database/BearRiverDatasets_June_2018.sqlite\n",
    "\n",
    "conn = sqlite3.connect('BearRiverDatasets_June_2018_Final.sqlite')\n",
    "\n",
    "print 'Connected to the WaMDaM SQLite file called: BearRiverDatasets_June_2018_Final'"
   ]
  },
  {
   "cell_type": "markdown",
   "metadata": {},
   "source": [
    "<a name=\"QuerySupplyDataLoadWEAP\"></a>\n",
    "# A. Query Supply Flow TimeSeries Data and load it to WEAP \n"
   ]
  },
  {
   "cell_type": "markdown",
   "metadata": {},
   "source": [
    "<a name=\"QueryFlowData\"></a>\n",
    "# A.1 Query WaMDaM dababase for flow time series and prepare it for WEAP"
   ]
  },
  {
   "cell_type": "code",
   "execution_count": 7,
   "metadata": {
    "collapsed": false
   },
   "outputs": [
    {
     "name": "stdout",
     "output_type": "stream",
     "text": [
      "MonthlyValues(Jan,122.98,Feb,111.07,Mar,190.41,Apr,192.4,May,184.46,Jun,184.46,Jul,67.0,Aug,119.0,Sep,109.09,Oct,171.0,Nov,178.51,Dec,144.0)\n",
      "Query and data preperation are done\n"
     ]
    }
   ],
   "source": [
    "# Use Case 3.1Identify_aggregate_TimeSeriesValues.csv\n",
    "# plot aggregated to monthly and converted to acre-feet time series data of multiple sources\n",
    "\n",
    "\n",
    "# 2.2Identify_aggregate_TimeSeriesValues.csv\n",
    "Query_UseCase3_1_URL=\"\"\"\n",
    "https://raw.githubusercontent.com/WamdamProject/WaMDaM_UseCases/master/UseCases_files/4Queries_SQL/UseCase3/UseCase3.1/2_Identify_aggregate_TimeSeriesValues.sql\n",
    "\n",
    "\"\"\"\n",
    "\n",
    "# Read the query text inside the URL\n",
    "Query_UseCase3_1_text = urllib.urlopen(Query_UseCase3_1_URL).read()\n",
    "\n",
    "\n",
    "# return query result in a pandas data frame\n",
    "result_df_UseCase3_1= pd.read_sql_query(Query_UseCase3_1_text, conn)\n",
    "\n",
    "# uncomment the below line to see the list of attributes\n",
    "# display (result_df_UseCase3_1)\n",
    "\n",
    "\n",
    "# Save the datafrom as a csv file into the Jupyter notebook working space\n",
    "# result_df_UseCase3_1.to_csv('UseCases_Results_csv\\UseCase3_1.csv', index = False)\n",
    "\n",
    "df_TimeSeries=result_df_UseCase3_1\n",
    "\n",
    "\n",
    "# Use Case 2.4_plotcdf \n",
    "\n",
    "# plot Cumulative flow for June for the UDWR dataset. \n",
    "# Then get the percentage of time it exceeds dry and wet years \n",
    "\n",
    "# Adel Abdallah\n",
    "# July 31, 2018\n",
    "\n",
    "## read the input data from GitHub csv file which is a direct query output for this  query:\n",
    "# 3.2Identify_aggregate_TimeSeriesValues.sql\n",
    "\n",
    "# Convert CalenderYear column data type to datetime\n",
    "df_TimeSeries['CalenderYear'] = pd.to_datetime(df_TimeSeries['CalenderYear'], errors='coerce')\n",
    "\n",
    "# Slice rows based on DatasetAcronym column\n",
    "subsets = df_TimeSeries.groupby('ResourceTypeAcronym')\n",
    "\n",
    "# Select rows where DatasetAcronym is UDWRFlowData\n",
    "dt = subsets.get_group(name='UDWRFlowData')\n",
    "months=[]\n",
    "drySeasonal=[]\n",
    "for m in range(1, 13):\n",
    "    # From the selected rows, select rows where month is June\n",
    "    specific_month = dt.CalenderYear.dt.month == m\n",
    "    #  print specific_month[6]\n",
    "    # CumulativeMonthly data of the desired DatasetAcronym name and month\n",
    "    cumulative_monthly = dt[specific_month].CumulativeMonthly.values.tolist()\n",
    "\n",
    "    # Sort cumulative_monthly in ascending order\n",
    "    cumulative_monthly.sort()\n",
    "\n",
    "\n",
    "    # Save the filtered data to csv, CumulativeMonthly and CalenderYear columns\n",
    "    filtered_data = dt[specific_month][['CumulativeMonthly', 'CalenderYear']]\n",
    "    # filtered_data.to_csv('Filtered Data.csv', index=False)\n",
    "    \n",
    "\n",
    "    p = np.percentile(cumulative_monthly, 5,interpolation=\"lower\") # return 50th percentile, e.g median.\n",
    "    drySeasonal.append(p)\n",
    "    \n",
    "    month=calendar.month_abbr[m]\n",
    "    months.append(month)\n",
    "\n",
    "\n",
    "d={'SeasonName':months,'SeasonNumericValue':drySeasonal}\n",
    "df_Seasonal=pd.DataFrame(d)    \n",
    "\n",
    "# display (df_Seasonal)\n",
    "# SeasonName,SeasonNumericValue\n",
    "SeasonalParam = ''\n",
    "# print df_Seasonal['SeasonName']\n",
    "for i in range(len(df_Seasonal['SeasonName'])):\n",
    "#     if i<1:\n",
    "#         continue \n",
    "    m_data = df_Seasonal['SeasonName'][i]\n",
    "    n_data = df_Seasonal['SeasonNumericValue'][i]\n",
    "    SeasonalParam += '{},{}'.format(m_data, n_data)\n",
    "    if i != len(df_Seasonal['SeasonName']) - 1:\n",
    "        SeasonalParam += ','\n",
    "\n",
    "Seasonal_value=\"MonthlyValues(\"+SeasonalParam+\")\"\n",
    "\n",
    "\n",
    "\n",
    "print Seasonal_value\n",
    "print 'Query and data preperation are done'    "
   ]
  },
  {
   "cell_type": "markdown",
   "metadata": {},
   "source": [
    "<a name=\"LoadFlow\"></a>\n",
    "# A2. Load the seasonal headflow data into WEAP"
   ]
  },
  {
   "cell_type": "code",
   "execution_count": 8,
   "metadata": {
    "collapsed": false
   },
   "outputs": [
    {
     "name": "stdout",
     "output_type": "stream",
     "text": [
      "USU_WEAP_2017\n",
      "UpdateBearHeadFlowDry\n",
      "\n",
      " The seasonal dry headflow data have been sucsesfully loaded into WEAP\n",
      "\n",
      " \n",
      " The updated data have been saved\n"
     ]
    }
   ],
   "source": [
    "# 9. Load the seasonal data into WEAP\n",
    "WEAP=win32com.client.Dispatch(\"WEAP.WEAPApplication\")\n",
    "# WEAP.Visible = FALSE\n",
    "\n",
    "\n",
    "\n",
    "WEAP.ActiveArea = \"USU_WEAP_2017\"  \n",
    "\n",
    "print WEAP.ActiveArea.Name\n",
    "\n",
    "WEAP.ActiveScenario = \"UpdateBearHeadFlowDry\"\n",
    "print WEAP.ActiveScenario.Name\n",
    "\n",
    "\n",
    "InstanceName='Central Bear'\n",
    "AttributeName='Headflow'\n",
    "\n",
    "\n",
    "# Get the Instance Name and Attribute names and pass them to \n",
    "# the function below to load their values into WEAP\n",
    "\n",
    "# Seasonal_value contains the string of month value pairs \n",
    "\n",
    "for Branch in WEAP.Branches:\n",
    "    if Branch.Name == InstanceName:\n",
    "        GetInstanceFullBranch = Branch.FullName\n",
    "        WEAP.Branch(GetInstanceFullBranch).Variable(AttributeName).Expression = Seasonal_value\n",
    "\n",
    "print '\\n The seasonal dry headflow data have been sucsesfully loaded into WEAP'\n",
    "\n",
    "WEAP.SaveArea\n",
    "\n",
    "print '\\n \\n The updated data have been saved'"
   ]
  },
  {
   "cell_type": "markdown",
   "metadata": {},
   "source": [
    "<a name=\"QueryandLoadDemand\"></a>\n",
    "# B. Query demand data and load it to WEAP "
   ]
  },
  {
   "cell_type": "markdown",
   "metadata": {},
   "source": [
    "<a name=\"QueryDemand\"></a>\n",
    "# B1. Query Cache County Demand"
   ]
  },
  {
   "cell_type": "code",
   "execution_count": 9,
   "metadata": {
    "collapsed": false
   },
   "outputs": [
    {
     "name": "stdout",
     "output_type": "stream",
     "text": [
      "AnnualCacheCoDemand=\n",
      "214621.640521\n",
      "Multiplier=\n",
      "2.03174927829\n",
      "\n",
      " Query and data preperation are done\n"
     ]
    }
   ],
   "source": [
    "# 2.2Identify_aggregate_TimeSeriesValues.csv\n",
    "Query_UseCase3_2c_URL=\"\"\"\n",
    "https://raw.githubusercontent.com/WamdamProject/WaMDaM_UseCases/master/UseCases_files/4Queries_SQL/UseCase3/UseCase3.2/2_IdentifyDemandSites_Seasonal_Numeric_totals.sql\n",
    "\"\"\"\n",
    "\n",
    "# Read the query text inside the URL\n",
    "Query_UseCase3_2c_text = urllib.urlopen(Query_UseCase3_2c_URL).read()\n",
    "\n",
    "\n",
    "# return query result in a pandas data frame\n",
    "result_df_UseCase3_2c= pd.read_sql_query(Query_UseCase3_2c_text, conn)\n",
    "\n",
    "# uncomment the below line to see the list of attributes\n",
    "# display (result_df_required)\n",
    "\n",
    "dfc=result_df_UseCase3_2c\n",
    "\n",
    "# display (dfc)\n",
    "\n",
    "# DataFrame.get_value(index, col, takeable=False)[source]\n",
    "\n",
    "USU_WEAP_Model_2017_Numeric=dfc.get_value(1,'TotalNumeric')\n",
    "# print USU_WEAP_Model_2017_Numeric\n",
    "\n",
    "USU_WEAP_Model_2017_Seasonal=dfc.get_value(2,'TotalAnnualUseCacheCanals')\n",
    "# print USU_WEAP_Model_2017_Seasonal\n",
    "\n",
    "AnnualCacheCoDemand=USU_WEAP_Model_2017_Seasonal+ USU_WEAP_Model_2017_Numeric\n",
    "\n",
    "print \"AnnualCacheCoDemand=\" \n",
    "print AnnualCacheCoDemand\n",
    "\n",
    "#Max Delivered flow for Cache County as in the WaDE data source\n",
    "WaDE_max=256430\n",
    "\n",
    "# add the additional demand to West Cache Irr demand site as a multipler to the existing demand\n",
    "\n",
    "Difference=WaDE_max-AnnualCacheCoDemand\n",
    "\n",
    "WestCacheIrr_Dem=40521.82091\n",
    "\n",
    "Multiplier=(Difference+WestCacheIrr_Dem)/WestCacheIrr_Dem\n",
    "print \"Multiplier=\"\n",
    "print Multiplier\n",
    "print '\\n Query and data preperation are done'    "
   ]
  },
  {
   "cell_type": "markdown",
   "metadata": {},
   "source": [
    "<a name=\"LoadDemand\"></a>\n",
    "# B2. Use WEAP API to load the demand data"
   ]
  },
  {
   "cell_type": "code",
   "execution_count": 10,
   "metadata": {
    "collapsed": false
   },
   "outputs": [
    {
     "name": "stdout",
     "output_type": "stream",
     "text": [
      "UpdateCacheDemand\n",
      "MonthlyValues( Oct, 2001.128561,  Nov, 0,  Dec, 0,  Jan, 0,  Feb, 0,  Mar, 0,  Apr, 233.0187168,  May, 6825.728728,  Jun, 8624.459468,  Jul, 8854.235203,  Aug, 8302.969805,  Sep, 5680.037701 )\n",
      "MonthlyValues( Oct, 2001.128561,  Nov, 0,  Dec, 0,  Jan, 0,  Feb, 0,  Mar, 0,  Apr, 233.0187168,  May, 6825.728728,  Jun, 8624.459468,  Jul, 8854.235203,  Aug, 8302.969805,  Sep, 5680.037701 )*2.03174927829\n",
      "0\n",
      "Area is saved\n",
      "MonthlyValues( Oct, 2001.128561,  Nov, 0,  Dec, 0,  Jan, 0,  Feb, 0,  Mar, 0,  Apr, 233.0187168,  May, 6825.728728,  Jun, 8624.459468,  Jul, 8854.235203,  Aug, 8302.969805,  Sep, 5680.037701 )*2.03174927829\n",
      " \n",
      " \n",
      " Demand data loaded to WEAP\n",
      "Area is saved\n",
      " \n",
      " \n",
      " The updated data have been saved\n",
      "WEAP is saved and closed\n"
     ]
    }
   ],
   "source": [
    "# Make a copy from the reference (base) scenario\n",
    "# WEAP.Scenarios.Add('UpdateCacheDemand','Reference')\n",
    "# WEAP.Areas(\"USU_WEAP_2017\").Open\n",
    "# Activate the scenario\n",
    "WEAP.Scenarios(\"UpdateCacheDemand\").Activate \n",
    "\n",
    "WEAP.ActiveScenario = \"UpdateCacheDemand\"\n",
    "\n",
    "print WEAP.ActiveScenario.Name\n",
    "\n",
    "# Update the WEAP Monthly Demand at West Cache Irr by adding the multiplier\n",
    "for Branch in WEAP.Branches:\n",
    "    for V in Branch.Variables:\n",
    "        if Branch.Name == 'West Cache Irr' and V.Name== 'Monthly Demand':\n",
    "            GetExpresValue = V.Expression\n",
    "            print GetExpresValue\n",
    "            SetExpresValue=GetExpresValue+'*2.03174927829'\n",
    "            print SetExpresValue\n",
    "            WEAP.Branch(Branch.FullName).Variable('Monthly Demand').Expression=0\n",
    "            print V.Expression\n",
    "\n",
    "            WEAP.SaveArea            \n",
    "            WEAP.ActiveArea.Save\n",
    "\n",
    "            WEAP.Branch(Branch.FullName).Variable('Monthly Demand').Expression=SetExpresValue\n",
    "            WEAP.ActiveArea.Save\n",
    "            WEAP.SaveArea \n",
    "            print 'Area is saved'\n",
    "            print V.Expression\n",
    "\n",
    "print ' \\n \\n Demand data loaded to WEAP'  \n",
    "\n",
    "# WEAP.ActiveArea.Save\n",
    "print 'Area is saved'\n",
    "WEAP.SaveArea\n",
    "print ' \\n \\n The updated data have been saved'\n",
    "\n",
    "WEAP.Quit\n",
    "print 'WEAP is saved and closed' \n"
   ]
  },
  {
   "cell_type": "markdown",
   "metadata": {},
   "source": [
    "<a name=\"QueryLoadBathymetry\"></a>\n",
    "# C. Query Bathymetry data and load it to WEAP "
   ]
  },
  {
   "cell_type": "markdown",
   "metadata": {
    "collapsed": true
   },
   "source": [
    "<a name=\"QueryBathymetry\"></a>\n",
    "# C.2 Query the multi-column array: Reservoir Bathymetry and prepare it for WEAP\n"
   ]
  },
  {
   "cell_type": "code",
   "execution_count": 11,
   "metadata": {
    "collapsed": false,
    "scrolled": true
   },
   "outputs": [
    {
     "name": "stdout",
     "output_type": "stream",
     "text": [
      "####################################\n",
      "query is done\n",
      "VolumeElevation data is prepared\n"
     ]
    }
   ],
   "source": [
    "# Use Case 3.1Identify_aggregate_TimeSeriesValues.csv\n",
    "# plot aggregated to monthly and converted to acre-feet time series data of multiple sources\n",
    "\n",
    "\n",
    "# display (df_Seasonal)\n",
    "\n",
    "\n",
    "# column_name = \"InstanceName\"\n",
    "# subsets = df_Seasonal.groupby(column_name)\n",
    "\n",
    "\n",
    "# 4.3MergeTimeSeriesValues\n",
    "Query_UseCase3_3b_URL=\"\"\"\n",
    "https://raw.githubusercontent.com/WamdamProject/WaMDaM_UseCases/master/UseCases_files/4Queries_SQL/UseCase3/UseCase3.3/4_MultiAttributeValues.sql\n",
    "\n",
    "\"\"\"\n",
    "\n",
    "# Read the query text inside the URL\n",
    "Query_UseCase3_3b_text = urllib.urlopen(Query_UseCase3_3b_URL).read()\n",
    "\n",
    "\n",
    "# return query result in a pandas data frame\n",
    "result_df_UseCase3_3b= pd.read_sql_query(Query_UseCase3_3b_text, conn)\n",
    "\n",
    "# uncomment the below line to see the list of attributes\n",
    "# display (result_df_required)\n",
    "\n",
    "\n",
    "# Save the datafrom as a csv file into the Jupyter notebook working space\n",
    "# result_df_UseCase3_3b.to_csv('UseCases_Results_csv\\result_df_UseCase3_3b.csv', index = False)\n",
    "\n",
    "df=result_df_UseCase3_3b\n",
    "# result_df_UseCase3_3b.to_csv('result_df_UseCase3_3b.csv', index = False)\n",
    "\n",
    "# display (df)\n",
    "\n",
    "\n",
    "\n",
    "# cur = conn.cursor()\n",
    "# data = cur.execute(Query_UseCase3_3b_text)\n",
    "\n",
    "# print data\n",
    "\n",
    "# df = df.to_csv(header=True, index=False).strip('\\n').split('\\n')\n",
    "# df=df.values.tolist()\n",
    "\n",
    "# xx=df.to_csv(header=False, index=False)\n",
    "# display (xx)\n",
    "\n",
    "#@@@@@@@@@@@@@@@@@@@@@@@@@@@@@@@\n",
    "\n",
    "\n",
    "# 4.3MergeTimeSeriesValues\n",
    "Query_UseCase3_3a_URL=\"\"\"\n",
    "https://raw.githubusercontent.com/WamdamProject/WaMDaM_UseCases/master/UseCases_files/4Queries_SQL/UseCase3/UseCase3.3/3_MergeTimeSeriesValues.sql\n",
    "\n",
    "\"\"\"\n",
    "\n",
    "# Read the query text inside the URL\n",
    "Query_UseCase3_3a_text = urllib.urlopen(Query_UseCase3_3a_URL).read()\n",
    "\n",
    "\n",
    "# return query result in a pandas data frame\n",
    "result_df_UseCase3_3a= pd.read_sql_query(Query_UseCase3_3a_text, conn)\n",
    "\n",
    "# result_df_UseCase3_3a.to_csv('result_df_UseCase3_3a.csv', index = False)\n",
    "\n",
    "\n",
    "# uncomment the below line to see the list of attributes\n",
    "# display (result_df_required)\n",
    "\n",
    "\n",
    "# Save the datafrom as a csv file into the Jupyter notebook working space\n",
    "# result_df_UseCase3_3a.to_csv('UseCases_Results_csv\\result_df_UseCase3_3a.csv', index = False)\n",
    "\n",
    "df2=result_df_UseCase3_3a\n",
    "# df2 = df2.to_csv(header=True, index=False).strip('\\n').split('\\n')\n",
    "\n",
    "# display (df2)\n",
    "\n",
    "print '####################################'\n",
    "print 'query is done'\n",
    "\n",
    "import pandas as pd\n",
    "df = pd.read_csv(\n",
    "    \n",
    "\"\"\"https://raw.githubusercontent.com/WamdamProject/WaMDaM_UseCases/master/UseCases_files/5Results_CSV/4.2MultiAttributeValues.csv\"\"\")\n",
    "#print df\n",
    "subsets = df.groupby('ScenarioName')\n",
    "\n",
    "for subset in subsets.groups.keys():\n",
    "    #print subset\n",
    "    scenario_name_data = subsets.get_group(name=subset)\n",
    "scenario_name_data = subsets.get_group(name='Base case')\n",
    "\n",
    "df_MultiColumns=scenario_name_data\n",
    "\n",
    "first_index = 0\n",
    "first_order_value = df_MultiColumns['ValueOrder'][0]\n",
    "second_index = 0\n",
    "i = 0\n",
    "n = 0\n",
    "\n",
    "# print df_MultiColumns['ValueOrder']\n",
    "for order_data in df_MultiColumns['ValueOrder']:\n",
    "\n",
    "    if i == 0:\n",
    "        i += 1\n",
    "        continue\n",
    "    if order_data == first_order_value:\n",
    "        second_index = i\n",
    "        n = second_index\n",
    "        break\n",
    "    i += 1\n",
    "\n",
    "# diff = second_index - first_index\n",
    "MultiParam = ''\n",
    "# print n\n",
    "\n",
    "for j in range(n):\n",
    "    try:\n",
    "        first_data = df_MultiColumns['Value'][j]\n",
    "        second_data = df_MultiColumns['Value'][j + n]\n",
    "\n",
    "        MultiParam += '{},{}'.format(second_data, first_data)\n",
    "        if j != n - 1:\n",
    "            MultiParam += ','\n",
    "    except:\n",
    "        break\n",
    "# print MultiParam\n",
    "\n",
    "# AttributeName(Value),AttributeName(Value)\n",
    "# MultiParam=\n",
    "\n",
    "csv_file_path_or_value_multi = \"VolumeElevation(\" + MultiParam + \")\"\n",
    "#print csv_file_path_or_value_multi\n",
    "\n",
    "print 'VolumeElevation data is prepared'   \n"
   ]
  },
  {
   "cell_type": "markdown",
   "metadata": {},
   "source": [
    "<a name=\"LoadBathymetry\"></a>\n",
    "# C3. Load the array data into WEAP\n",
    "\n",
    "Add new Scenario\n",
    " Add(NewScenarioName, ParentScenarioName or Index): \n",
    " Create a new scenario as a child of the parent scenario specified.  \n",
    " The new scenario will become the selected scenario in the Data View.  \n",
    " To delete a scenario, use the WEAPScenario method Delete (see below).\n",
    "\n",
    " Delete an scenario\n",
    " Delete(DeleteChildren): Delete this scenario.  \n",
    " To delete a scenario that has children, you must set the optional DeleteChildren parameter to True.\n",
    "\n",
    " WEAP.Scenarios(\"Larger reservoir\").Delete(True)\n",
    "\n",
    "\n",
    " Activate a scenario\n",
    " Activate: Make this scenario the active scenario. \n",
    " The active scenario will be used when accessing a WEAPVariable.Expression.\n",
    "\n",
    " WEAP.Scenarios(\"Current Accounts\").Activate\n"
   ]
  },
  {
   "cell_type": "code",
   "execution_count": 13,
   "metadata": {
    "collapsed": false
   },
   "outputs": [
    {
     "name": "stdout",
     "output_type": "stream",
     "text": [
      "USU_WEAP_2017\n",
      "USU_WEAP_2017_UpdateHyrumBathym\n",
      "USU_WEAP_2017_UpdateHyrumBathym\n",
      "Current Accounts\n",
      "Elevation storage curve is loaded to WEAP\n",
      "\n",
      " \n",
      " The updated data have been saved\n"
     ]
    }
   ],
   "source": [
    "# 8. Load the array data into WEAP\n",
    "\n",
    "WEAP=win32com.client.Dispatch(\"WEAP.WEAPApplication\")\n",
    "# WEAP.Visible = FALSE\n",
    "\n",
    "\n",
    "\n",
    "print WEAP.ActiveArea.Name \n",
    "WEAP.ActiveArea = \"USU_WEAP_2017_UpdateHyrumBathym\"  \n",
    "print WEAP.ActiveArea.Name \n",
    "\n",
    "WEAP.Areas(\"USU_WEAP_2017_UpdateHyrumBathym\").Open\n",
    "WEAP.ActiveArea = \"USU_WEAP_2017_UpdateHyrumBathym\"  \n",
    "print WEAP.ActiveArea.Name\n",
    "\n",
    "#Required_AttributeName\n",
    "# Get the Instance Name and Attribute names and pass them to \n",
    "# the function below to load their values into WEAP\n",
    "\n",
    "# the curve only exists in the current accounts \n",
    "# WEAP.Scenarios(\"Current Accounts\").Activate\n",
    "WEAP.ActiveScenario = \"Current Accounts\"\n",
    "print WEAP.ActiveScenario.Name\n",
    "\n",
    "\n",
    "InstanceName=df_MultiColumns['InstanceName'][1] #'Hyrum Reservoir'\n",
    "\n",
    "#AttributeName = df_MultiColumns['MultiAttributeName'][2] # Volume Elevation Curve\n",
    "\n",
    "# timeSeriesValue is the PATH for the cvs file for time series\n",
    "\n",
    "AttributeName= 'Volume Elevation Curve'\n",
    "for Branch in WEAP.Branches:\n",
    "    if Branch.Name == InstanceName:\n",
    "        GetInstanceFullBranch = Branch.FullName\n",
    "        WEAP.Branch(GetInstanceFullBranch).Variable(AttributeName).Expression = csv_file_path_or_value_multi\n",
    "\n",
    "\n",
    "AttributeName= 'Storage Capacity'\n",
    "for Branch in WEAP.Branches:\n",
    "    if Branch.Name == InstanceName:\n",
    "        GetInstanceFullBranch = Branch.FullName\n",
    "        WEAP.Branch(GetInstanceFullBranch).Variable(AttributeName).Expression = '17746'\n",
    "\n",
    "print 'Elevation storage curve is loaded to WEAP'\n",
    "\n",
    "WEAP.SaveArea\n",
    "\n",
    "print '\\n \\n The updated data have been saved'\n",
    "\n",
    "# print WEAP.ActiveArea.Name \n",
    "# WEAP.ActiveArea = \"USU_WEAP_2017\"  \n",
    "# print WEAP.ActiveArea.Name \n",
    "\n",
    "# WEAP.Areas(\"USU_WEAP_2017\").Open"
   ]
  },
  {
   "cell_type": "markdown",
   "metadata": {},
   "source": [
    "# (Optional..if needed) Delete exisitng scenarios\n",
    " Delete an scenario\n",
    " Delete(DeleteChildren): Delete this scenario.  \n",
    " To delete a scenario that has children, you must set the optional DeleteChildren parameter to True.\n",
    "\n",
    " WEAP.Scenarios(\"Larger reservoir\").Delete(True)"
   ]
  },
  {
   "cell_type": "code",
   "execution_count": null,
   "metadata": {
    "collapsed": false
   },
   "outputs": [],
   "source": [
    "# Scenarios=[]\n",
    "# Scenarios=['UpdateBearHeadFlowDry','UpdateCacheDemand']#,'UpdateHyrumBathym']\n",
    "# for scen in Scenarios:\n",
    "#     print 'scenario='+ scen\n",
    "#     WEAP.Scenarios(scen).Delete(True)\n",
    "# print '\\n \\n Scenarios are deleted from WEAP'"
   ]
  },
  {
   "cell_type": "code",
   "execution_count": 28,
   "metadata": {
    "collapsed": false
   },
   "outputs": [
    {
     "name": "stdout",
     "output_type": "stream",
     "text": [
      "{'UpdateCacheDemand': 36858.14434260086, 'Reference': 29061.54090615023, 'UpdateBearHeadFlowDry': 53921.81474881676}\n"
     ]
    }
   ],
   "source": [
    "\n",
    "UnmetDemandEstimate={}\n",
    "Scenarios=[]\n",
    "Scenarios=['Reference','UpdateBearHeadFlowDry','UpdateCacheDemand']\n",
    "for scen in Scenarios:               \n",
    "        UnmetDemandEstimate[scen]=WEAP.ResultValue(\"\\Demand Sites\\Bird Refuge: Unmet Demand[Acre-Foot]\", 2002, 1, scen, 2002, WEAP.NumTimeSteps) \n",
    "\n",
    "print UnmetDemandEstimate"
   ]
  },
  {
   "cell_type": "markdown",
   "metadata": {},
   "source": [
    "# Run WEAP and report back the unment demand at the Bird Refuge demand sitte"
   ]
  },
  {
   "cell_type": "code",
   "execution_count": 46,
   "metadata": {
    "collapsed": false
   },
   "outputs": [
    {
     "ename": "com_error",
     "evalue": "(-2147023174, 'The RPC server is unavailable.', None, None)",
     "output_type": "error",
     "traceback": [
      "\u001b[0;31m---------------------------------------------------------------------------\u001b[0m",
      "\u001b[0;31mcom_error\u001b[0m                                 Traceback (most recent call last)",
      "\u001b[0;32m<ipython-input-46-0051d13d7ee3>\u001b[0m in \u001b[0;36m<module>\u001b[0;34m()\u001b[0m\n\u001b[1;32m      1\u001b[0m \u001b[1;31m# Run WEAP\u001b[0m\u001b[1;33m\u001b[0m\u001b[1;33m\u001b[0m\u001b[0m\n\u001b[1;32m      2\u001b[0m \u001b[1;33m\u001b[0m\u001b[0m\n\u001b[0;32m----> 3\u001b[0;31m \u001b[0mWEAP\u001b[0m\u001b[1;33m.\u001b[0m\u001b[0mAreas\u001b[0m\u001b[1;33m(\u001b[0m\u001b[1;34m\"USU_WEAP_2017\"\u001b[0m\u001b[1;33m)\u001b[0m\u001b[1;33m.\u001b[0m\u001b[0mOpen\u001b[0m\u001b[1;33m\u001b[0m\u001b[0m\n\u001b[0m\u001b[1;32m      4\u001b[0m \u001b[1;32mprint\u001b[0m \u001b[0mWEAP\u001b[0m\u001b[1;33m.\u001b[0m\u001b[0mActiveArea\u001b[0m\u001b[1;33m.\u001b[0m\u001b[0mName\u001b[0m\u001b[1;33m\u001b[0m\u001b[0m\n\u001b[1;32m      5\u001b[0m \u001b[1;33m\u001b[0m\u001b[0m\n",
      "\u001b[0;32mC:\\Users\\Adel\\AppData\\Roaming\\Python\\Python27\\site-packages\\win32com\\client\\dynamic.pyc\u001b[0m in \u001b[0;36m__getattr__\u001b[0;34m(self, attr)\u001b[0m\n\u001b[1;32m    514\u001b[0m                         \u001b[0mdebug_attr_print\u001b[0m\u001b[1;33m(\u001b[0m\u001b[1;34m\"Getting property Id 0x%x from OLE object\"\u001b[0m \u001b[1;33m%\u001b[0m \u001b[0mretEntry\u001b[0m\u001b[1;33m.\u001b[0m\u001b[0mdispid\u001b[0m\u001b[1;33m)\u001b[0m\u001b[1;33m\u001b[0m\u001b[0m\n\u001b[1;32m    515\u001b[0m                         \u001b[1;32mtry\u001b[0m\u001b[1;33m:\u001b[0m\u001b[1;33m\u001b[0m\u001b[0m\n\u001b[0;32m--> 516\u001b[0;31m                                 \u001b[0mret\u001b[0m \u001b[1;33m=\u001b[0m \u001b[0mself\u001b[0m\u001b[1;33m.\u001b[0m\u001b[0m_oleobj_\u001b[0m\u001b[1;33m.\u001b[0m\u001b[0mInvoke\u001b[0m\u001b[1;33m(\u001b[0m\u001b[0mretEntry\u001b[0m\u001b[1;33m.\u001b[0m\u001b[0mdispid\u001b[0m\u001b[1;33m,\u001b[0m\u001b[1;36m0\u001b[0m\u001b[1;33m,\u001b[0m\u001b[0minvoke_type\u001b[0m\u001b[1;33m,\u001b[0m\u001b[1;36m1\u001b[0m\u001b[1;33m)\u001b[0m\u001b[1;33m\u001b[0m\u001b[0m\n\u001b[0m\u001b[1;32m    517\u001b[0m                         \u001b[1;32mexcept\u001b[0m \u001b[0mpythoncom\u001b[0m\u001b[1;33m.\u001b[0m\u001b[0mcom_error\u001b[0m\u001b[1;33m,\u001b[0m \u001b[0mdetails\u001b[0m\u001b[1;33m:\u001b[0m\u001b[1;33m\u001b[0m\u001b[0m\n\u001b[1;32m    518\u001b[0m                                 \u001b[1;32mif\u001b[0m \u001b[0mdetails\u001b[0m\u001b[1;33m.\u001b[0m\u001b[0mhresult\u001b[0m \u001b[1;32min\u001b[0m \u001b[0mERRORS_BAD_CONTEXT\u001b[0m\u001b[1;33m:\u001b[0m\u001b[1;33m\u001b[0m\u001b[0m\n",
      "\u001b[0;31mcom_error\u001b[0m: (-2147023174, 'The RPC server is unavailable.', None, None)"
     ]
    }
   ],
   "source": [
    "# Run WEAP\n",
    "\n",
    "WEAP.Areas(\"USU_WEAP_2017\").Open\n",
    "print WEAP.ActiveArea.Name\n",
    "\n",
    "WEAP.ActiveArea = \"USU_WEAP_2017\"  \n",
    "print WEAP.ActiveArea.Name\n",
    "\n",
    "# WEAP.Calculate(2006,10,True)\n",
    "WEAP.SaveArea\n",
    "\n",
    "print '\\n \\n The calculation has been done and saved'\n",
    "# print WEAP.CalculationTime\n",
    "\n",
    "UnmetDemandEstimate={}\n",
    "Scenarios=[]\n",
    "Scenarios=['Reference','UpdateBearHeadFlowDry','UpdateCacheDemand']\n",
    "for scen in Scenarios:        \n",
    "        print '\\n-----------------------'\n",
    "        print 'scenario='+ scen\n",
    "        print 'Tota Unmet Demand in 2002 for the Bird Refuge in Acre-feet='\n",
    "       \n",
    "        UnmetDemandEstimate[scen]=WEAP.ResultValue(\"\\Demand Sites\\Bird Refuge: Unmet Demand[Acre-Foot]\", 2002, 1, scen, 2002, WEAP.NumTimeSteps) \n",
    "\n",
    "# print UnmetDemandEstimate\n",
    "        \n",
    "\n",
    "WEAP.Areas(\"USU_WEAP_2017_UpdateHyrumBathym\").Open\n",
    "print WEAP.ActiveArea.Name\n",
    "\n",
    "WEAP.ActiveArea = \"USU_WEAP_2017_UpdateHyrumBathym\"  \n",
    "print WEAP.ActiveArea.Name\n",
    "\n",
    "        \n",
    "# WEAP.Calculate(2006,10,True)\n",
    "WEAP.SaveArea\n",
    "print '\\n \\n The calculation for the WEAP area USU_WEAP_2017_UpdateHyrumBathym has been done and saved'\n",
    "\n",
    "print 'scenario=UpdateHyrumBathym'\n",
    "\n",
    "print 'Total Unmet Demand in 2002 for the Bird Refuge in Acre-feet='        \n",
    "UnmetUpdateHyrumBathym=WEAP.ResultValue(\"\\Demand Sites\\Bird Refuge: Unmet Demand[Acre-Foot]\", 2002, 1, 'UpdateHyrumBathym', 2002, WEAP.NumTimeSteps) \n",
    "\n",
    "\n",
    "UnmetDemandEstimate.update({'UpdateHyrumBathym':UnmetUpdateHyrumBathym})\n",
    "print '\\n'\n",
    "print UnmetDemandEstimate\n",
    "# print 'Scenarios are deleted from WEAP'"
   ]
  },
  {
   "cell_type": "markdown",
   "metadata": {},
   "source": [
    "# plot the unmet demad for all the scenarios"
   ]
  },
  {
   "cell_type": "code",
   "execution_count": 44,
   "metadata": {
    "collapsed": false
   },
   "outputs": [
    {
     "data": {
      "application/vnd.plotly.v1+json": {
       "data": [
        {
         "marker": {
          "color": "#0c0c0c",
          "maxdisplayed": 20,
          "size": 15,
          "symbol": "circle"
         },
         "mode": "markers",
         "type": "scatter",
         "x": [
          "UpdateCacheDemand",
          "UpdateHyrumBathym",
          "Reference",
          "UpdateBearHeadFlowDry"
         ],
         "y": [
          36858.14434260086,
          29057.32592773952,
          29061.54090615023,
          53921.81474881676
         ]
        }
       ],
       "layout": {
        "font": {
         "size": 30
        },
        "height": 800,
        "legend": {
         "bordercolor": "#00000",
         "borderwidth": 2,
         "x": 0.1,
         "y": 0.6
        },
        "margin": {
         "b": 200,
         "l": 300
        },
        "width": 1200,
        "xaxis": {
         "showline": true,
         "ticklen": 10,
         "ticks": "outside",
         "title": "Updated input parameters <br> USU WEAP 2017 Model"
        },
        "yaxis": {
         "dtick": "20000",
         "range": [
          "0",
          "90000"
         ],
         "showline": true,
         "tickformat": ",",
         "ticklen": 10,
         "ticks": "outside",
         "title": "Total unmet <br> demand in 2004 <br> (acre-feet))"
        }
       }
      },
      "text/html": [
       "<div id=\"00a63a5e-576f-4c9b-96e3-d1d2e45c1180\" style=\"height: 800px; width: 1200px;\" class=\"plotly-graph-div\"></div><script type=\"text/javascript\">require([\"plotly\"], function(Plotly) { window.PLOTLYENV=window.PLOTLYENV || {};window.PLOTLYENV.BASE_URL=\"https://plot.ly\";Plotly.newPlot(\"00a63a5e-576f-4c9b-96e3-d1d2e45c1180\", [{\"marker\": {\"color\": \"#0c0c0c\", \"symbol\": \"circle\", \"maxdisplayed\": 20, \"size\": 15}, \"y\": [36858.14434260086, 29057.32592773952, 29061.54090615023, 53921.81474881676], \"type\": \"scatter\", \"mode\": \"markers\", \"x\": [\"UpdateCacheDemand\", \"UpdateHyrumBathym\", \"Reference\", \"UpdateBearHeadFlowDry\"]}], {\"yaxis\": {\"ticks\": \"outside\", \"tickformat\": \",\", \"title\": \"Total unmet <br> demand in 2004 <br> (acre-feet))\", \"ticklen\": 10, \"dtick\": \"20000\", \"range\": [\"0\", \"90000\"], \"showline\": true}, \"height\": 800, \"width\": 1200, \"xaxis\": {\"showline\": true, \"ticklen\": 10, \"ticks\": \"outside\", \"title\": \"Updated input parameters <br> USU WEAP 2017 Model\"}, \"font\": {\"size\": 30}, \"margin\": {\"b\": 200, \"l\": 300}, \"legend\": {\"bordercolor\": \"#00000\", \"y\": 0.6, \"borderwidth\": 2, \"x\": 0.1}}, {\"linkText\": \"Export to plot.ly\", \"showLink\": true})});</script>"
      ],
      "text/vnd.plotly.v1+html": [
       "<div id=\"00a63a5e-576f-4c9b-96e3-d1d2e45c1180\" style=\"height: 800px; width: 1200px;\" class=\"plotly-graph-div\"></div><script type=\"text/javascript\">require([\"plotly\"], function(Plotly) { window.PLOTLYENV=window.PLOTLYENV || {};window.PLOTLYENV.BASE_URL=\"https://plot.ly\";Plotly.newPlot(\"00a63a5e-576f-4c9b-96e3-d1d2e45c1180\", [{\"marker\": {\"color\": \"#0c0c0c\", \"symbol\": \"circle\", \"maxdisplayed\": 20, \"size\": 15}, \"y\": [36858.14434260086, 29057.32592773952, 29061.54090615023, 53921.81474881676], \"type\": \"scatter\", \"mode\": \"markers\", \"x\": [\"UpdateCacheDemand\", \"UpdateHyrumBathym\", \"Reference\", \"UpdateBearHeadFlowDry\"]}], {\"yaxis\": {\"ticks\": \"outside\", \"tickformat\": \",\", \"title\": \"Total unmet <br> demand in 2004 <br> (acre-feet))\", \"ticklen\": 10, \"dtick\": \"20000\", \"range\": [\"0\", \"90000\"], \"showline\": true}, \"height\": 800, \"width\": 1200, \"xaxis\": {\"showline\": true, \"ticklen\": 10, \"ticks\": \"outside\", \"title\": \"Updated input parameters <br> USU WEAP 2017 Model\"}, \"font\": {\"size\": 30}, \"margin\": {\"b\": 200, \"l\": 300}, \"legend\": {\"bordercolor\": \"#00000\", \"y\": 0.6, \"borderwidth\": 2, \"x\": 0.1}}, {\"linkText\": \"Export to plot.ly\", \"showLink\": true})});</script>"
      ]
     },
     "metadata": {},
     "output_type": "display_data"
    }
   ],
   "source": [
    "\n",
    "\n",
    "# xx=['Reference','Cache County <br> demand','Hyrum  <br> Bathymetry','Headflow <br> supply']\n",
    "\n",
    "\n",
    "# yy=[Reference,UpdateDemand,UpdateBathem,UpdateHeadflows]\n",
    "keys = UnmetDemandEstimate.keys()\n",
    "vals = UnmetDemandEstimate.values()\n",
    "keys,values = zip(*UnmetDemandEstimate.items())\n",
    "print vals\n",
    "print keys\n",
    "\n",
    "\n",
    "ss= go.Scatter(\n",
    "            x=keys,\n",
    "            y=vals,\n",
    "            mode = 'markers',\n",
    "            marker = dict(\n",
    "                size =15,\n",
    "                color = '#0c0c0c',\n",
    "                maxdisplayed=20,\n",
    "                symbol ='circle',\n",
    "                )\n",
    ")\n",
    "\n",
    "data=[ss]\n",
    "\n",
    "layout = dict(\n",
    "    #title = \"Use Case 3.3\",\n",
    "    yaxis = dict(\n",
    "        title = \"Total unmet <br> demand in 2004 <br> (acre-feet))\",\n",
    "        tickformat= ',',\n",
    "        showline=True,\n",
    "        dtick='20000',\n",
    "        ticks='outside',\n",
    "        ticklen=10,\n",
    "         range = ['0', '90000']\n",
    "\n",
    "\n",
    "                ),\n",
    "    \n",
    "    xaxis = dict(\n",
    "        title = \"Updated input parameters <br> USU WEAP 2017 Model\",\n",
    "        showline=True,\n",
    "        ticks='outside',\n",
    "\n",
    "        ticklen=10\n",
    "                    ),\n",
    "    legend=dict(\n",
    "        x=0.1,y=0.6,\n",
    "          bordercolor='#00000',\n",
    "            borderwidth=2\n",
    "        \n",
    "               ),\n",
    "    width=1200,\n",
    "    height=800,\n",
    "    #paper_bgcolor='rgb(233,233,233)',\n",
    "    #plot_bgcolor='rgb(233,233,233)',\n",
    "    margin=go.Margin(l=300,b=200),\n",
    "    font=dict(size=30)\n",
    "             )\n",
    "# create a figure object\n",
    "fig = dict(data=data, layout=layout)\n",
    "#py.iplot(fig, filename = \"2.3Identify_SeasonalValues\") \n",
    "\n",
    "\n",
    "## it can be run from the local machine on Pycharm like this like below\n",
    "## It would also work here offline but in a seperate window  \n",
    "offline.iplot(fig,filename = 'jupyter/UnmentDemand@BirdRefuge' )       \n",
    "\n"
   ]
  },
  {
   "cell_type": "markdown",
   "metadata": {},
   "source": [
    "<a name=\"Close\"></a>\n",
    "# Close the SQLite and WEAP API connections"
   ]
  },
  {
   "cell_type": "code",
   "execution_count": 45,
   "metadata": {
    "collapsed": false,
    "scrolled": true
   },
   "outputs": [
    {
     "name": "stdout",
     "output_type": "stream",
     "text": [
      "connection disconnected\n",
      "Connection with WEAP API is disconnected\n"
     ]
    }
   ],
   "source": [
    "# 9. Close the SQLite and WEAP API connections\n",
    "conn.close()\n",
    "\n",
    "print 'connection disconnected'\n",
    "\n",
    "# Uncomment \n",
    "# WEAP.SaveArea\n",
    "\n",
    "# Or \n",
    "# NewWEAPCopyName=ActiveArea+\"Test\"\n",
    "# print NewWEAPCopyName\n",
    "\n",
    "# Call API function to save WEAP\n",
    "# WEAP.SaveAreaAS(NewWEAPCopyName)\n",
    "\n",
    "# this command will close WEAP\n",
    "WEAP.Quit\n",
    "\n",
    "print 'Connection with WEAP API is disconnected'"
   ]
  },
  {
   "cell_type": "markdown",
   "metadata": {},
   "source": [
    "# The End :) Congratulations!"
   ]
  },
  {
   "cell_type": "code",
   "execution_count": null,
   "metadata": {
    "collapsed": true
   },
   "outputs": [],
   "source": []
  }
 ],
 "metadata": {
  "kernelspec": {
   "display_name": "Python 2",
   "language": "python",
   "name": "python2"
  },
  "language_info": {
   "codemirror_mode": {
    "name": "ipython",
    "version": 2
   },
   "file_extension": ".py",
   "mimetype": "text/x-python",
   "name": "python",
   "nbconvert_exporter": "python",
   "pygments_lexer": "ipython2",
   "version": "2.7.13"
  }
 },
 "nbformat": 4,
 "nbformat_minor": 2
}
