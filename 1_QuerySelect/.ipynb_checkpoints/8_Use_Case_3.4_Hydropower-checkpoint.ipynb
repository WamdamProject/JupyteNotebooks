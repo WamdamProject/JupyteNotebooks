{
 "cells": [
  {
   "cell_type": "markdown",
   "metadata": {},
   "source": [
    "## WaMDaM_Use_Case 3.4: what are dams that have hydropower in Utah and California?\n",
    "\n",
    "#### By Adel M. Abdallah, Utah State University, August 2018\n",
    "\n",
    "\n",
    "This notebook demonstrates basic WaMDaM use cases analysis using scientific Python libraries such as [pandas](https://pandas.pydata.org/) and [plotly](https://plot.ly/).  It reads WaMDaM SQLite data from a published HydroShare Generic Resource, runs SQL script, and them uses Python plotly to visualize the results\n",
    "\n",
    "\n",
    "\n",
    "Execute the following cells by pressing `Shift-Enter`, or by pressing the play button \n",
    "<img style='display:inline;padding-bottom:15px' src='play-button.png'>\n",
    "on the toolbar above.\n",
    "\n",
    "\n",
    "This use case identifies and compares dams and hyrdopower plants in Utah and California \n",
    "\n",
    "\n",
    "\n",
    "### Steps to reproduce this use case results and plots \n",
    "\n",
    "1.[Import python libraries](#Import)   \n",
    "   \n",
    "   \n",
    "2.[Connect to the WaMDaM populated SQLite file](#Connect)    \n",
    " \n",
    " \n",
    "3.[Query WaMDaM dababase to compare Hydropower in Shasta and Flaming Gorge Reservoirs](#QueryCompare)   \n",
    "  \n",
    "  \n",
    "4.[Query WaMDaM dababase to identify Utah dams with Hydropower purpose](#QueryUtahDams)   \n",
    " \n",
    " \n",
    "5.[Query WaMDaM dababase to identify Utah power plants](#QueryUtahPowerPlants)   \n",
    "\n",
    "\n",
    "6.[Query WaMDaM dababase to identify California dams with Hydropower purpose](#QueryCaliDams)   \n",
    "\n",
    "\n",
    "7.[Query WaMDaM dababase to identify California power plants](#QueryCaliPowerPlants)   \n",
    " \n",
    "     \n",
    "8.[Close the SQLite and WEAP API connections](#Close)  \n",
    "\n"
   ]
  },
  {
   "cell_type": "markdown",
   "metadata": {},
   "source": [
    "<a name=\"Import\"></a>\n",
    "## 1. Import python libraries \n",
    "### Install any missing ones you dont have. How? see at this link here\n",
    "https://jakevdp.github.io/blog/2017/12/05/installing-python-packages-from-jupyter/"
   ]
  },
  {
   "cell_type": "code",
   "execution_count": null,
   "metadata": {
    "collapsed": false
   },
   "outputs": [],
   "source": [
    "# 1. Import python libraries \n",
    "### set the notebook mode to embed the figures within the cell\n",
    "\n",
    "import plotly\n",
    "plotly.__version__\n",
    "import plotly.offline as offline\n",
    "import plotly.graph_objs as go\n",
    "from plotly.offline import download_plotlyjs, init_notebook_mode, plot, iplot\n",
    "offline.init_notebook_mode(connected=True)\n",
    "from plotly.offline import init_notebook_mode, iplot\n",
    "from plotly.graph_objs import *\n",
    "\n",
    "init_notebook_mode(connected=True)         # initiate notebook for offline plot\n",
    "\n",
    "import os\n",
    "import csv\n",
    "from collections import OrderedDict\n",
    "import sqlite3\n",
    "import pandas as pd\n",
    "import numpy as np\n",
    "from IPython.display import display, Image, SVG, Math, YouTubeVideo\n",
    "import urllib\n",
    "\n",
    "print 'The needed Python libraries have been imported'"
   ]
  },
  {
   "cell_type": "markdown",
   "metadata": {},
   "source": [
    "<a name=\"Connect\"></a>\n",
    "## 2. Connect to the WaMDaM populated SQLite file "
   ]
  },
  {
   "cell_type": "code",
   "execution_count": null,
   "metadata": {
    "collapsed": false
   },
   "outputs": [],
   "source": [
    "# 2. Connect to the WaMDaM populated SQLite file \n",
    "\n",
    "\n",
    "# Then we can run queries against it within this notebook :)  \n",
    "\n",
    "# the SQLite file is published here \n",
    "#https://github.com/WamdamProject/WaMDaM_UseCases/blob/master/UseCases_files/3SQLite_database/BearRiverDatasets_June_2018.sqlite\n",
    "\n",
    "conn = sqlite3.connect('BearRiverDatasets_June_2018_Final.sqlite')\n",
    "\n",
    "print 'Connected to the WaMDaM SQLite file called: BearRiverDatasets_June_2018_Final'"
   ]
  },
  {
   "cell_type": "markdown",
   "metadata": {},
   "source": [
    "<a name=\"QueryCompare\"></a>\n",
    "## 3. Query WaMDaM dababase to compare Hydropower in Shasta and Flaming Gorge Reservoirs\n"
   ]
  },
  {
   "cell_type": "code",
   "execution_count": null,
   "metadata": {
    "collapsed": false
   },
   "outputs": [],
   "source": [
    "# 3.4 Identify_aggregate_TimeSeriesValues.csv\n",
    "Query_UseCase3_4_URL=\"\"\"\n",
    "https://raw.githubusercontent.com/WamdamProject/WaMDaM_UseCases/master/UseCases_files/4Queries_SQL/UseCase3/UseCase3.4/2_CompareShastaFlamingGorge.sql\n",
    "\n",
    "\"\"\"\n",
    "\n",
    "# Read the query text inside the URL\n",
    "Query_UseCase3_4_text = urllib.urlopen(Query_UseCase3_4_URL).read()\n",
    "\n",
    "\n",
    "# return query result in a pandas data frame\n",
    "result_df_UseCase3_4= pd.read_sql_query(Query_UseCase3_4_text, conn)\n",
    "\n",
    "# uncomment the below line to see the list of attributes\n",
    "display (result_df_UseCase3_4)\n",
    "\n",
    "# it takes some time (maybe 10-20 seconds) to return back the result\n",
    "print \"Queries are done\""
   ]
  },
  {
   "cell_type": "markdown",
   "metadata": {},
   "source": [
    "<a name=\"QueryUtahDams\"></a>\n",
    "## 4. Query WaMDaM dababase to identify Utah dams with Hydropower purpose"
   ]
  },
  {
   "cell_type": "code",
   "execution_count": null,
   "metadata": {
    "collapsed": false
   },
   "outputs": [],
   "source": [
    "# 3.4 Identify_aggregate_TimeSeriesValues.csv\n",
    "Query_UseCase3_4_URL=\"\"\"\n",
    "https://raw.githubusercontent.com/WamdamProject/WaMDaM_UseCases/master/UseCases_files/4Queries_SQL/UseCase3/UseCase3.4/1_HydroPower_UT_USDams.sql\n",
    "\n",
    "\"\"\"\n",
    "\n",
    "# Read the query text inside the URL\n",
    "Query_UseCase3_4_text = urllib.urlopen(Query_UseCase3_4_URL).read()\n",
    "\n",
    "\n",
    "# return query result in a pandas data frame\n",
    "result_df_UseCase3_4= pd.read_sql_query(Query_UseCase3_4_text, conn)\n",
    "\n",
    "# uncomment the below line to see the list of attributes\n",
    "display (result_df_UseCase3_4)\n",
    "\n",
    "# it takes some time (maybe 10-20 seconds) to return back the result\n",
    "print \"Queries are done\""
   ]
  },
  {
   "cell_type": "markdown",
   "metadata": {},
   "source": [
    "<a name=\"QueryUtahPowerPlants\"></a>\n",
    "## 5. Query WaMDaM dababase to identify Utah power plants"
   ]
  },
  {
   "cell_type": "code",
   "execution_count": null,
   "metadata": {
    "collapsed": false
   },
   "outputs": [],
   "source": [
    "# 3.4 Identify_aggregate_TimeSeriesValues.csv\n",
    "Query_UseCase3_4_URL=\"\"\"\n",
    "https://raw.githubusercontent.com/WamdamProject/WaMDaM_UseCases/master/UseCases_files/4Queries_SQL/UseCase3/UseCase3.4/3_HydroPowerPlants_UT.sql\n",
    "\n",
    "\"\"\"\n",
    "\n",
    "# Read the query text inside the URL\n",
    "Query_UseCase3_4_text = urllib.urlopen(Query_UseCase3_4_URL).read()\n",
    "\n",
    "\n",
    "# return query result in a pandas data frame\n",
    "result_df_UseCase3_4= pd.read_sql_query(Query_UseCase3_4_text, conn)\n",
    "\n",
    "# uncomment the below line to see the list of attributes\n",
    "display (result_df_UseCase3_4)\n",
    "\n",
    "# it takes some time (maybe 10-20 seconds) to return back the result\n",
    "print \"Queries are done\""
   ]
  },
  {
   "cell_type": "markdown",
   "metadata": {},
   "source": [
    "<a name=\"QueryCaliDams\"></a>\n",
    "## 6. Query WaMDaM dababase to identify California dams with Hydropower purpose"
   ]
  },
  {
   "cell_type": "code",
   "execution_count": null,
   "metadata": {
    "collapsed": false
   },
   "outputs": [],
   "source": [
    "# 3.4 Identify_aggregate_TimeSeriesValues.csv\n",
    "Query_UseCase3_4_URL=\"\"\"\n",
    "https://raw.githubusercontent.com/WamdamProject/WaMDaM_UseCases/master/UseCases_files/4Queries_SQL/UseCase3/UseCase3.4/4_HydroPower_CA_USDams.sql\n",
    "\n",
    "\"\"\"\n",
    "\n",
    "# Read the query text inside the URL\n",
    "Query_UseCase3_4_text = urllib.urlopen(Query_UseCase3_4_URL).read()\n",
    "\n",
    "\n",
    "# return query result in a pandas data frame\n",
    "result_df_UseCase3_4= pd.read_sql_query(Query_UseCase3_4_text, conn)\n",
    "\n",
    "# uncomment the below line to see the list of attributes\n",
    "display (result_df_UseCase3_4)\n",
    "\n",
    "# it takes some time (maybe 10-20 seconds) to return back the result\n",
    "print \"Queries are done\""
   ]
  },
  {
   "cell_type": "markdown",
   "metadata": {},
   "source": [
    "<a name=\"QueryCaliPowerPlants\"></a>\n",
    "## 7.Query WaMDaM dababase to identify California power plants"
   ]
  },
  {
   "cell_type": "code",
   "execution_count": null,
   "metadata": {
    "collapsed": false
   },
   "outputs": [],
   "source": [
    "# 3.4 Identify_aggregate_TimeSeriesValues.csv\n",
    "Query_UseCase3_4_URL=\"\"\"\n",
    "https://raw.githubusercontent.com/WamdamProject/WaMDaM_UseCases/master/UseCases_files/4Queries_SQL/UseCase3/UseCase3.4/5_HydroPowerPlants_CA.sql\n",
    "\n",
    "\"\"\"\n",
    "\n",
    "# Read the query text inside the URL\n",
    "Query_UseCase3_4_text = urllib.urlopen(Query_UseCase3_4_URL).read()\n",
    "\n",
    "\n",
    "# return query result in a pandas data frame\n",
    "result_df_UseCase3_4= pd.read_sql_query(Query_UseCase3_4_text, conn)\n",
    "\n",
    "# uncomment the below line to see the list of attributes\n",
    "display (result_df_UseCase3_4)\n",
    "\n",
    "# it takes some time (maybe 10-20 seconds) to return back the result\n",
    "\n",
    "print \"Queries are done\""
   ]
  },
  {
   "cell_type": "markdown",
   "metadata": {},
   "source": [
    "<a name=\"Close\"></a>\n",
    "# 8. Close the SQLite aconnection"
   ]
  },
  {
   "cell_type": "code",
   "execution_count": null,
   "metadata": {
    "collapsed": false
   },
   "outputs": [],
   "source": [
    "conn.close()\n",
    "\n",
    "print 'Connection to SQLite engine is disconnected'"
   ]
  },
  {
   "cell_type": "markdown",
   "metadata": {},
   "source": [
    "# The End :) Congratulations"
   ]
  },
  {
   "cell_type": "code",
   "execution_count": null,
   "metadata": {
    "collapsed": true
   },
   "outputs": [],
   "source": []
  }
 ],
 "metadata": {
  "kernelspec": {
   "display_name": "Python 2",
   "language": "python",
   "name": "python2"
  },
  "language_info": {
   "codemirror_mode": {
    "name": "ipython",
    "version": 2
   },
   "file_extension": ".py",
   "mimetype": "text/x-python",
   "name": "python",
   "nbconvert_exporter": "python",
   "pygments_lexer": "ipython2",
   "version": "2.7.13"
  }
 },
 "nbformat": 4,
 "nbformat_minor": 2
}
