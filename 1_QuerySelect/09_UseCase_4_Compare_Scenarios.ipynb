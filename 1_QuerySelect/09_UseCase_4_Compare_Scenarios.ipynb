{
 "cells": [
  {
   "cell_type": "markdown",
   "metadata": {},
   "source": [
    "# Use Case 4: What is the difference between two scenarios and which one to use in a model?"
   ]
  },
  {
   "cell_type": "markdown",
   "metadata": {},
   "source": [
    "This use cases needs the WaMDaM Wizard to execute.   \n",
    "*  First make sure you are connected to the WaMDaM SQLite database that is populated with data.    \n",
    "<br>\n",
    "*  Download the Excel template file for scenario comparison output and place it in a folder somewhere on your local machine.  \n",
    "https://github.com/WamdamProject/WaMDaM_Wizard/blob/master/WorkbookTemplates/Compare_scenarios_result/CompareScenario_empty.xlsx   \n",
    "<br>\n",
    "*  Click at the Query WaMDaM tab in the WaMDaM Wizard. Then click at **0Compare Scenarios of a Network** button. See Figure 4  \n",
    "<br>\n",
    "*  Fill out the Model, Network, and scenario names to compare by selecting the WEAP model and its scenarios. See Figure 4  \n",
    "<br>\n",
    "*  Browse to the Excel file template you downloaded in (b) and then click **Compare**   \n",
    "<br>\n",
    "*  The comparison output will be saved to the template.  \n",
    " \n",
    "\n",
    "\n",
    "\n",
    "<img src=\"https://github.com/WamdamProject/WaMDaM-software-ecosystem/blob/master/mkdocs/Edit_MD_Files/QuerySelect/images/CompareScenarios.png?raw=true\"style=\"float:center;width:800px;padding:20px\" align=\"left\">  \n",
    "\n",
    "\n",
    "\n"
   ]
  },
  {
   "cell_type": "code",
   "execution_count": null,
   "metadata": {
    "collapsed": true
   },
   "outputs": [],
   "source": []
  }
 ],
 "metadata": {
  "kernelspec": {
   "display_name": "Python 2",
   "language": "python",
   "name": "python2"
  },
  "language_info": {
   "codemirror_mode": {
    "name": "ipython",
    "version": 2
   },
   "file_extension": ".py",
   "mimetype": "text/x-python",
   "name": "python",
   "nbconvert_exporter": "python",
   "pygments_lexer": "ipython2",
   "version": "2.7.13"
  }
 },
 "nbformat": 4,
 "nbformat_minor": 2
}
