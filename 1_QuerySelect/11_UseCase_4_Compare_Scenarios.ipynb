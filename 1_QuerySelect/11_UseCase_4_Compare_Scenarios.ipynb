{
 "cells": [
  {
   "cell_type": "markdown",
   "metadata": {},
   "source": [
    "# Use Case 4: What is the difference between two scenarios and which one to use in a model?"
   ]
  },
  {
   "cell_type": "markdown",
   "metadata": {},
   "source": [
    "This use cases needs the WaMDaM Wizard to execute.   \n",
    "*  First make sure you are connected to the WaMDaM SQLite database that is populated with data (Figure 1).    \n",
    "<br>\n",
    "\n",
    "    You can connect to an already populated [SQLite file](https://github.com/WamdamProject/WaMDaM_UseCases/tree/master/UseCases_files/3SQLite_database) here  \n",
    "  <img src=\"https://github.com/WamdamProject/WaMDaM-software-ecosystem/blob/master/mkdocs/Edit_MD_Files/QuerySelect/images/ConnectDB.PNG?raw=true\" style=\"float:center;width:700px;padding:20px\">\n",
    "  <h4><center>Figure 1: The dialog box to connect with an existing WaMDaM SQLite file</center></h4>\n",
    "<br>\n",
    "\n",
    "\n",
    "*  Download the Excel template file for scenario comparison output and place it in a folder somewhere on your local machine.  \n",
    "https://github.com/WamdamProject/WaMDaM_Wizard/blob/master/WorkbookTemplates/Compare_scenarios_result/CompareScenario_empty.xlsx   \n",
    "<br>\n",
    "*  Click at the Query WaMDaM tab in the WaMDaM Wizard. Then click at **Compare Scenarios of a Network** button. See Figure 2  \n",
    "<br>\n",
    "*  Fill out the Model, Network, and scenario names to compare by selecting the WEAP model and its scenarios. See Figure 4  \n",
    "<br>\n",
    "*  Browse to the Excel file template you downloaded in (b) and then click **Compare**   \n",
    "<br>\n",
    "*  The comparison output will be saved to the template.  \n",
    " \n",
    "\n",
    "\n",
    "  <img src=\"https://github.com/WamdamProject/WaMDaM-software-ecosystem/blob/master/mkdocs/Edit_MD_Files/QuerySelect/images/CompareScenarios.png?raw=true\" style=\"float:center;width:700px;padding:20px\">   \n",
    "  <h4><center>Figure 2: The dialog box to compare scenarios in a WaMDaM SQLite file</center></h4>   \n",
    "<br>\n",
    "\n",
    "\n",
    "In the Excel sheet template, the exported results are presented in four spreadsheets. The comparison summary is on top of the sheet while the detailed summary for each node and link is provided below (Figure 3).   \n",
    "\n",
    "  <img src=\"https://github.com/WamdamProject/WaMDaM-software-ecosystem/blob/master/mkdocs/Edit_MD_Files/QuerySelect/images/Compare_Scenario_results.PNG?raw=true\" style=\"float:center;width:800px;padding:20px\">   \n",
    "\n",
    "  <h4><center>Figure 3: A snapshot of the output in the scenario comparison spreadsheet</center></h4>\n",
    "\n",
    "\n"
   ]
  },
  {
   "cell_type": "code",
   "execution_count": null,
   "metadata": {
    "collapsed": true
   },
   "outputs": [],
   "source": []
  }
 ],
 "metadata": {
  "kernelspec": {
   "display_name": "Python 2",
   "language": "python",
   "name": "python2"
  },
  "language_info": {
   "codemirror_mode": {
    "name": "ipython",
    "version": 2
   },
   "file_extension": ".py",
   "mimetype": "text/x-python",
   "name": "python",
   "nbconvert_exporter": "python",
   "pygments_lexer": "ipython2",
   "version": "2.7.13"
  }
 },
 "nbformat": 4,
 "nbformat_minor": 2
}
