{
 "cells": [
  {
   "cell_type": "markdown",
   "metadata": {},
   "source": [
    "\n",
    "<h1><center>WaMDaM Directions and Use Cases</center></h1>\n",
    "\n",
    "\n",
    "\n",
    "<h3><center>By Adel M. Abdallah, Utah State University, August 2018</center></h3>\n",
    "\n",
    "This notebook provides directions to set up and run WaMDaM and demonstrates example use case analysis to query the Water Management Data Model (WaMDaM) database in SQLite which faciliates preparing input data for models. Further information about WaMDaM is available at HydroShare at https://www.hydroshare.org/resource/a2b05e3991864b26af91aa5a3c480a7a/\n",
    "\n",
    "\n",
    "Many WaMDaM steps can be executed within this Notebook, other steps require actions on a local machine. The Notebooks use the Python 2.7 libraries pandas, SQLite and plotly that are aready installed on the HydroShare Notebook server. You must also have [[list requirements from directions]] + time to complete + other front end stuff from Directions.\n",
    "  \n",
    "**How to use the Notebook**   \n",
    "The Notebook reads WaMDaM SQLite data from a published HydroShare Generic Resource, runs SQL script for each use case, and then uses plotly to visualize the results. SQL script used here is referenced from the GitHub files to maintain a managable and simple Notebook. However you may place and edit your SQL script within the Notebook as well as shown below. \n",
    "\n",
    "Execute the following cell by pressing `Shift-Enter`, or by pressing the play button \n",
    "<img style='display:inline;padding-bottom:15px' src='play-button.png'>\n",
    "on the toolbar above.\n",
    "\n",
    "Once you're done with each use case, you may save the use case input SQLite file, the Notebook file, and the results of plots and tabels into your local machine. The SQL quries used in the use cases are referenced directly from GitHub at \n",
    "https://github.com/WamdamProject/WaMDaM_UseCases/tree/master/UseCases_files/4Queries_SQL\n",
    "\n",
    "\n",
    "This tutorial first describes the Bear River Watershed study area and the datasets loaded into WaMDaM. Then it directs the readers to the following three use cases:\n",
    "\n",
    "* [**Use Case 1:** WWhat data entered by others can be used to develop a WEAP model for the entire Bear River basin? ](#Use Case 1)\n",
    "  \n",
    "  \n",
    "* [**Use Case 2:** What network connectivity to use in a model?](#Use Case 2)\n",
    "  \n",
    "  \n",
    "* [**Use Case 3:** How do data values differ across datasets and which value to choose for a model? ](#Use Case 3) \n",
    "\n",
    "\n",
    "* [**Use Case 4:** What is the difference between two scenarios and which one to use in a model?](#Use Case 4)\n",
    "\n",
    "\n",
    "* [**Use Case 5:** How does annual water shortages at the Bear River Migratory Bird Refuge in the Bear River basin change after updating the USU WEAP 2017 model with new bathymetry, flow, and demand data as selected in use cases 2-3?](#Use Case 5)\n",
    "\n"
   ]
  },
  {
   "cell_type": "markdown",
   "metadata": {},
   "source": []
  },
  {
   "cell_type": "markdown",
   "metadata": {},
   "source": [
    "<a name=\"Use Case 1\"></a>\n",
    "\n",
    "# [**Use Case 1:** What data are available to develop a model in a particular watershed?]\n",
    "Building a water resources model to solve water management and planning problems requires populating the model with input data that describe the system. In existing practices, once a modeler selects a model and identifies its required types of input data, they manually search for datasets that contain relevant data. \n",
    "\n",
    "This use case shows how a modeler can use WaMDaM extensible Objects, Attributes, and controlled vocabularies to more readily and consistently identify available data from the 13 loaded datasets for WEAP and WASH models. Users can use identified data to expand existing WEAP and WASH model instances in the Lower Bear River Watershed Utah (light red in the study area Figure) to the entire Watershed (darker red in the study area Figure). \n",
    "\n",
    "### use case Jupyter Notebook file (run it on the fly, live, with no login, no setup at all)\n",
    "https://mybinder.org/v2/gh/WamdamProject/WaMDaM_JupyteNotebooks/master?filepath=1_QuerySelect/1_UseCase1_availability.ipynb\n",
    "\n"
   ]
  },
  {
   "cell_type": "markdown",
   "metadata": {},
   "source": [
    "<a name=\"Use Case 2\"></a>\n",
    "# Use Case 2: How does connectivity of natural and built infrastructure components compare in a particular area across datasets?\n",
    "Besides identifying data values that describe water systems components, researchers need to identify how water supply, demand, and other system components are connected to correctly represent them in models. This use case employs the features of controlled vocabularies and the connectivity of nodes and links through networks to enable a more readily and consistent method to search for water system components and their connectivity across datasets. WaMDaM uses the Connections table to search for all links where a provided node is a start (outflow) or end (inflow) to links. For example, what links flow into or out of Hyrum Reservoir in three model scenarios in the Little Bear River Utah? We draw a schematic for each one, which visually reveals similarities and differences among the networks (Figure 9). \n",
    "\n",
    "\n",
    "### use case Jupyter Notebook file (run it on the fly, live, with no login, no setup at all)\n",
    "\n",
    "https://mybinder.org/v2/gh/WamdamProject/JupyteNotebooks/master?filepath=1_QuerySelect/2_UseCase2_network.ipynb\n",
    "\n"
   ]
  },
  {
   "cell_type": "markdown",
   "metadata": {},
   "source": [
    "<a name=\"Use Case 3\"></a>\n",
    "# **Use Case 3:** What differences are there across datasets in data values of properties of a water system component? \n",
    "\n",
    "Once modelers have identified data availability in Use Case 1, next they need to determine which datasets and values to use in their model. Modelers often use many data management methods to query, manipulate, and join different water management data types (e.g., time series, multi-column arrays) to analyze and prepare them for systems models. \n",
    "\n",
    "Modelers also manually search for descriptive metadata stored separately in many files like PDF of HTML pages. This use case shows how a modeler can use WaMDaM’s multiple data types, controlled vocabularies, conditional queries, and metadata design features to consistently query and compare different types of data values across datasets.\n",
    "\n",
    "[**Use Case 3.1:** What differences are there across datasets in flow data values at a site?]  \n",
    "\n",
    "\n",
    "\n",
    "**Use Case 3.2:** What differences are there across datasets in agriculture water use in an area?  \n",
    "\n",
    "\n",
    "\n",
    "\n",
    "**Use Case 3.3:** What differences are there across datasets in volume and elevation curves of a reservoir?  \n",
    "\n",
    "\n",
    "\n",
    "**Use Case 3.4:** What differences are there across datasets in dam heights, installed hydropower capacity, and number of generators for two reservoirs?  \n",
    "\n"
   ]
  },
  {
   "cell_type": "markdown",
   "metadata": {},
   "source": [
    "<a name=\"Use Case 4\"></a>\n",
    "# Use Case 4: What is the difference between two scenarios and which one to use in a model?\n",
    "Modelers use scenarios to simulate how potential management alternatives can affect the system performance within their defined metrics. However, models typically have a large number of attributes and inputs and it is often difficult to determine the differences in topology, data values, or data sources between multiple scenarios. Here we use the WaMDaM master network and scenario features and the WaMDM Wizard Data Loader comparison function to help a modeler identify and understand differences between existing scenarios in a model. The users run a script that queries the ScenarioMappings table and identifies the data that is shared among and unique to each scenario. Comparison results are exported to an Excel Workbook. "
   ]
  },
  {
   "cell_type": "markdown",
   "metadata": {},
   "source": [
    "<a name=\"Use Case 5\"></a>\n",
    "# Use Case 5: How does annual water shortages at the Bear River Migratory Bird Refuge in the Bear River basin change after updating the USU WEAP 2017 model with new bathymetry, flow, and demand data as selected in use cases 2-3?\n",
    "We offer a simple example to update the selected input data in use cases 2-3 into the USU WEAP 2017 model. We select the Bear River Migratory Bird Refuge (i.e., Bird Refuge site) at the mouth of Bear River as the demand site for testing the sensitivity of water shortages to changes in input of upstream supply, demand and storage. First, we executed the USU WEAP 2017 model as-is and reported the total annual estimated water shortage out of its target at the Bird Refuge site in year 2002 which was a dry year. Then we used python 2.7 script in a Jupyter Notebook to populate the selected data source directly into the WEAP model using its API. \n",
    "\n",
    "\n",
    "https://mybinder.org/v2/gh/WamdamProject/JupyteNotebooks/master?filepath=1_QuerySelect/8_Use_Case_5_ServeDataRunWEAP.ipynb\n",
    "\n",
    "\n",
    "\n",
    "\n",
    "\n",
    "\n"
   ]
  },
  {
   "cell_type": "markdown",
   "metadata": {},
   "source": [
    "### Sponsors and Credit\n",
    "This material is based upon work [supported](http://docs.wamdam.org/SponsorsCredit/) by the National Science Foundation (NSF) under Grants 1135482 (CI-Water) and 1208732 (iUtah). Any opinions, findings, and conclusions or recommendations expressed in this material are those of the author(s) and do not necessarily reflect the views of the NSF.\n",
    "\n",
    "### License\n",
    "WaMDaM and its products are disturbed under a BSD 3-Clause [license](http://docs.wamdam.org/License/)\n",
    "\n",
    "### Authors\n",
    "[Adel M. Abdallah](http://adelmabdallah.com/) has been the lead in WaMDaM development as part of his PhD dissertation at Utah State University under the advising of Dr. David Rosenberg. \n",
    "\n",
    "### Citation\n",
    "Adel M. Abdallah and David E. Rosenberg (In review)). A Data Model to Manage Data for Water Resources Systems Modeling. Environmental Modelling & Software"
   ]
  },
  {
   "cell_type": "markdown",
   "metadata": {},
   "source": [
    "# The End :)"
   ]
  },
  {
   "cell_type": "code",
   "execution_count": null,
   "metadata": {
    "collapsed": true
   },
   "outputs": [],
   "source": []
  }
 ],
 "metadata": {
  "kernelspec": {
   "display_name": "Python 2",
   "language": "python",
   "name": "python2"
  },
  "language_info": {
   "codemirror_mode": {
    "name": "ipython",
    "version": 2
   },
   "file_extension": ".py",
   "mimetype": "text/x-python",
   "name": "python",
   "nbconvert_exporter": "python",
   "pygments_lexer": "ipython2",
   "version": "2.7.14"
  }
 },
 "nbformat": 4,
 "nbformat_minor": 2
}
