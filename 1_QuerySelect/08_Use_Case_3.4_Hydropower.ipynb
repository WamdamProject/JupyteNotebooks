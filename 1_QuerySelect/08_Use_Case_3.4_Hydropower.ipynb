{
 "cells": [
  {
   "cell_type": "markdown",
   "metadata": {},
   "source": [
    "## WaMDaM_Use_Case 3.4: what are dams that have hydropower in Utah and California?\n",
    "\n",
    "#### By Adel M. Abdallah, Utah State University, August 2018\n",
    "\n",
    "\n",
    "This notebook demonstrates basic WaMDaM use cases analysis using scientific Python libraries such as [pandas](https://pandas.pydata.org/) and [plotly](https://plot.ly/).  It reads WaMDaM SQLite data from a published HydroShare Generic Resource, runs SQL script, and them uses Python plotly to visualize the results\n",
    "\n",
    "\n",
    "\n",
    "Execute the following cells by pressing `Shift-Enter`, or by pressing the play button \n",
    "<img style='display:inline;padding-bottom:15px' src='play-button.png'>\n",
    "on the toolbar above.\n",
    "\n",
    "\n",
    "This use case identifies and compares dams and hydropower plants in Utah and California \n",
    "\n",
    "\n",
    "\n",
    "### Steps to reproduce this use case results and plots \n",
    "\n",
    "1.[Import python libraries](#Import)   \n",
    "   \n",
    "   \n",
    "2.[Connect to the WaMDaM populated SQLite file](#Connect)    \n",
    " \n",
    " \n",
    "3.[Query WaMDaM database to compare Hydropower in Shasta and Flaming Gorge Reservoirs](#QueryCompare)   \n",
    "  \n",
    "  \n",
    "4.[Query WaMDaM database to identify Utah dams with Hydropower purpose](#QueryUtahDams)   \n",
    " \n",
    " \n",
    "5.[Query WaMDaM database to identify Utah power plants](#QueryUtahPowerPlants)   \n",
    "\n",
    "\n",
    "6.[Query WaMDaM database to identify California dams with Hydropower purpose](#QueryCaliDams)   \n",
    "\n",
    "\n",
    "7.[Query WaMDaM database to identify California power plants](#QueryCaliPowerPlants)   \n",
    " \n",
    "     \n",
    "8.[Close the SQLite and WEAP API connections](#Close)  \n",
    "\n"
   ]
  },
  {
   "cell_type": "markdown",
   "metadata": {},
   "source": [
    "<a name=\"Import\"></a>\n",
    "## 1. Import python libraries \n"
   ]
  },
  {
   "cell_type": "code",
   "execution_count": 1,
   "metadata": {
    "collapsed": false
   },
   "outputs": [
    {
     "data": {
      "text/html": [
       "<script>requirejs.config({paths: { 'plotly': ['https://cdn.plot.ly/plotly-latest.min']},});if(!window.Plotly) {{require(['plotly'],function(plotly) {window.Plotly=plotly;});}}</script>"
      ],
      "text/vnd.plotly.v1+html": [
       "<script>requirejs.config({paths: { 'plotly': ['https://cdn.plot.ly/plotly-latest.min']},});if(!window.Plotly) {{require(['plotly'],function(plotly) {window.Plotly=plotly;});}}</script>"
      ]
     },
     "metadata": {},
     "output_type": "display_data"
    },
    {
     "data": {
      "text/html": [
       "<script>requirejs.config({paths: { 'plotly': ['https://cdn.plot.ly/plotly-latest.min']},});if(!window.Plotly) {{require(['plotly'],function(plotly) {window.Plotly=plotly;});}}</script>"
      ],
      "text/vnd.plotly.v1+html": [
       "<script>requirejs.config({paths: { 'plotly': ['https://cdn.plot.ly/plotly-latest.min']},});if(!window.Plotly) {{require(['plotly'],function(plotly) {window.Plotly=plotly;});}}</script>"
      ]
     },
     "metadata": {},
     "output_type": "display_data"
    },
    {
     "name": "stdout",
     "output_type": "stream",
     "text": [
      "The needed Python libraries have been imported\n"
     ]
    }
   ],
   "source": [
    "# 1. Import python libraries \n",
    "### set the notebook mode to embed the figures within the cell\n",
    "\n",
    "import plotly\n",
    "plotly.__version__\n",
    "import plotly.offline as offline\n",
    "import plotly.graph_objs as go\n",
    "from plotly.offline import download_plotlyjs, init_notebook_mode, plot, iplot\n",
    "offline.init_notebook_mode(connected=True)\n",
    "from plotly.offline import init_notebook_mode, iplot\n",
    "from plotly.graph_objs import *\n",
    "\n",
    "init_notebook_mode(connected=True)         # initiate notebook for offline plot\n",
    "\n",
    "import os\n",
    "import csv\n",
    "from collections import OrderedDict\n",
    "import sqlite3\n",
    "import pandas as pd\n",
    "import numpy as np\n",
    "from IPython.display import display, Image, SVG, Math, YouTubeVideo\n",
    "import urllib\n",
    "\n",
    "print 'The needed Python libraries have been imported'"
   ]
  },
  {
   "cell_type": "markdown",
   "metadata": {},
   "source": [
    "<a name=\"Connect\"></a>\n",
    "## 2. Connect to the WaMDaM populated SQLite file "
   ]
  },
  {
   "cell_type": "code",
   "execution_count": 2,
   "metadata": {
    "collapsed": false
   },
   "outputs": [
    {
     "name": "stdout",
     "output_type": "stream",
     "text": [
      "Connected to the WaMDaM SQLite file called: BearRiverDatasets_June_2018_Final.sqlite\n"
     ]
    }
   ],
   "source": [
    "# 2. Connect to the WaMDaM populated SQLite file \n",
    "\n",
    "\n",
    "# Then we can run queries against it within this notebook :)  \n",
    "\n",
    "# the SQLite file is published here \n",
    "\n",
    "WaMDaM_SQLite_Name='BearRiverDatasets_June_2018_Final.sqlite'\n",
    "\n",
    "\n",
    "conn = sqlite3.connect(WaMDaM_SQLite_Name)\n",
    "\n",
    "\n",
    "print 'Connected to the WaMDaM SQLite file called'+': '+ WaMDaM_SQLite_Name"
   ]
  },
  {
   "cell_type": "markdown",
   "metadata": {},
   "source": [
    "<a name=\"QueryCompare\"></a>\n",
    "## 3. Query WaMDaM database to compare Hydropower in Shasta and Flaming Gorge Reservoirs\n"
   ]
  },
  {
   "cell_type": "code",
   "execution_count": 3,
   "metadata": {
    "collapsed": false
   },
   "outputs": [
    {
     "ename": "DatabaseError",
     "evalue": "Execution failed on sql '/*\n4.6MultipleNumericValues_HydroPower.sql\n\nUse case 4: identify and compare infrastructure data across many data sources.\nWhat is the volume, purpose, evaporation, and elevation of Hyrum Reservoir Utah?\n\nThis query shows the list of Reservoirs in Utah that have HydroPower purpose\n\nResult:\n\n\nAdel Abdallah\nUpdated May 21, 2018\n\n*/\n\nSELECT  DISTINCT ResourceTypeAcronymDamHEIGHT,InstanceNameCVDamHEIGHT,DamHEIGHT,UnitNameHeight,InstalledCapacity,UnitNameCap,N_Gen\nFROM\n\n(\n----------------------\n\nSELECT ResourceTypeAcronym AS ResourceTypeAcronymDamHEIGHT,InstanceNameCV As InstanceNameCVDamHEIGHT ,NumericValue As DamHEIGHT,UnitName AS UnitNameHeight\n\n\nFROM ResourceTypes\n\nLeft JOIN \"ObjectTypes\" \nON \"ObjectTypes\".\"ResourceTypeID\"=\"ResourceTypes\".\"ResourceTypeID\"\n\nLEFT JOIN  \"Attributes\"\nON \"Attributes\".\"ObjectTypeID\"=\"ObjectTypes\".\"ObjectTypeID\"\n\nLEFT JOIN \"Mappings\"\nON \"Mappings\".\"AttributeID\"= \"Attributes\".\"AttributeID\"\n\nLEFT JOIN \"Instances\" \nON \"Instances\".\"InstanceID\"=\"Mappings\".\"InstanceID\"\n\nLEFT JOIN \"ValuesMapper\" \nON \"ValuesMapper\".\"ValuesMapperID\"=\"Mappings\".\"ValuesMapperID\"\n\nLEFT JOIN \"ScenarioMappings\"\nON \"ScenarioMappings\".\"MappingID\"=\"Mappings\".\"MappingID\"\n\nLEFT JOIN \"Scenarios\" \nON \"Scenarios\".\"ScenarioID\"=\"ScenarioMappings\".\"ScenarioID\"\n\nLEFT JOIN \"MasterNetworks\" \nON \"MasterNetworks\".\"MasterNetworkID\"=\"Scenarios\".\"MasterNetworkID\"\n\nLEFT JOIN \"NumericValues\" \nON \"NumericValues\".\"ValuesMapperID\"=\"ValuesMapper\".\"ValuesMapperID\"\n\nLEFT JOIN \"TimeSeries\" \nON \"TimeSeries\".\"ValuesMapperID\"=\"ValuesMapper\".\"ValuesMapperID\"\n\n-- Join the DataValuesMapper to get their Time Series   \nLEFT JOIN \"TimeSeriesValues\" \nON \"TimeSeriesValues\".\"TimeSeriesID\"=\"TimeSeries\".\"TimeSeriesID\"\n\n-- Join the DataValuesMapper to get their SeasonalNumericValues\nLEFT JOIN \"SeasonalNumericValues\"\nON \"SeasonalNumericValues\".\"ValuesMapperID\" = \"ValuesMapper\".\"ValuesMapperID\"\n\nLEFT JOIN CategoricalValues\nON CategoricalValues.ValuesMapperID=ValuesMapper.ValuesMapperID\n\nLEFT JOIN CV_Categorical\nON CV_Categorical.Name=CategoricalValues.CategoricalValueCV\t\n\n\n-- Specifiy controlled Object Type, instance name, and an attribute of interest\nWHERE ObjectTypeCV='Reservoir' \n\nAND Attributes.AttributeName='NID_HEIGHT'\n\nAND ResourceTypeAcronym='US Major Dams'\n\n--AND Categoricalvalue='UT'\n\n\n---------------\n)\n\n\n\n-- join to get the installed capacity\n\nINNER JOIN\n(\nSELECT ResourceTypeAcronym AS DatasetAcronymCapacity,InstanceNameCV As InstanceNameCVCap,NumericValue As InstalledCapacity,UnitName as UnitNameCap\n\n\nFROM ResourceTypes\n\nLeft JOIN \"ObjectTypes\" \nON \"ObjectTypes\".\"ResourceTypeID\"=\"ResourceTypes\".\"ResourceTypeID\"\n\nLEFT JOIN  \"Attributes\"\nON \"Attributes\".\"ObjectTypeID\"=\"ObjectTypes\".\"ObjectTypeID\"\n\nLEFT JOIN \"Mappings\"\nON \"Mappings\".\"AttributeID\"= \"Attributes\".\"AttributeID\"\n\nLEFT JOIN \"Instances\" \nON \"Instances\".\"InstanceID\"=\"Mappings\".\"InstanceID\"\n\nLEFT JOIN \"ValuesMapper\" \nON \"ValuesMapper\".\"ValuesMapperID\"=\"Mappings\".\"ValuesMapperID\"\n\nLEFT JOIN \"ScenarioMappings\"\nON \"ScenarioMappings\".\"MappingID\"=\"Mappings\".\"MappingID\"\n\nLEFT JOIN \"Scenarios\" \nON \"Scenarios\".\"ScenarioID\"=\"ScenarioMappings\".\"ScenarioID\"\n\nLEFT JOIN \"MasterNetworks\" \nON \"MasterNetworks\".\"MasterNetworkID\"=\"Scenarios\".\"MasterNetworkID\"\n\nLEFT JOIN \"NumericValues\" \nON \"NumericValues\".\"ValuesMapperID\"=\"ValuesMapper\".\"ValuesMapperID\"\n\nLEFT JOIN \"TimeSeries\" \nON \"TimeSeries\".\"ValuesMapperID\"=\"ValuesMapper\".\"ValuesMapperID\"\n\n-- Join the DataValuesMapper to get their Time Series   \nLEFT JOIN \"TimeSeriesValues\" \nON \"TimeSeriesValues\".\"TimeSeriesID\"=\"TimeSeries\".\"TimeSeriesID\"\n\n-- Join the DataValuesMapper to get their SeasonalNumericValues\nLEFT JOIN \"SeasonalNumericValues\"\nON \"SeasonalNumericValues\".\"ValuesMapperID\" = \"ValuesMapper\".\"ValuesMapperID\"\n\nLEFT JOIN CategoricalValues\nON CategoricalValues.ValuesMapperID=ValuesMapper.ValuesMapperID\n\nLEFT JOIN CV_Categorical\nON CV_Categorical.Name=CategoricalValues.CategoricalValueCV\t\n\n\n-- Specifiy controlled Object Type, instance name, and an attribute of interest\nWHERE ObjectTypeCV='Reservoir' \n\nAND ResourceTypeAcronym='NHAAP'\n\nAND Attributes.AttributeName ='HY_MW'\n\n\n)\n\nON \nInstanceNameCVDamHEIGHT=InstanceNameCVCap\n\n\n--\n\n-- join to get the installed N_Gen\n\nINNER JOIN\n(\nSELECT ResourceTypeAcronym AS DatasetAcronymN_Gen,InstanceNameCV As InstanceNameCVN_Gen,NumericValue As N_Gen\n\n\nFROM ResourceTypes\n\nLeft JOIN \"ObjectTypes\" \nON \"ObjectTypes\".\"ResourceTypeID\"=\"ResourceTypes\".\"ResourceTypeID\"\n\nLEFT JOIN  \"Attributes\"\nON \"Attributes\".\"ObjectTypeID\"=\"ObjectTypes\".\"ObjectTypeID\"\n\nLEFT JOIN \"Mappings\"\nON \"Mappings\".\"AttributeID\"= \"Attributes\".\"AttributeID\"\n\nLEFT JOIN \"Instances\" \nON \"Instances\".\"InstanceID\"=\"Mappings\".\"InstanceID\"\n\nLEFT JOIN \"ValuesMapper\" \nON \"ValuesMapper\".\"ValuesMapperID\"=\"Mappings\".\"ValuesMapperID\"\n\nLEFT JOIN \"ScenarioMappings\"\nON \"ScenarioMappings\".\"MappingID\"=\"Mappings\".\"MappingID\"\n\nLEFT JOIN \"Scenarios\" \nON \"Scenarios\".\"ScenarioID\"=\"ScenarioMappings\".\"ScenarioID\"\n\nLEFT JOIN \"MasterNetworks\" \nON \"MasterNetworks\".\"MasterNetworkID\"=\"Scenarios\".\"MasterNetworkID\"\n\nLEFT JOIN \"NumericValues\" \nON \"NumericValues\".\"ValuesMapperID\"=\"ValuesMapper\".\"ValuesMapperID\"\n\nLEFT JOIN \"TimeSeries\" \nON \"TimeSeries\".\"ValuesMapperID\"=\"ValuesMapper\".\"ValuesMapperID\"\n\n-- Join the DataValuesMapper to get their Time Series   \nLEFT JOIN \"TimeSeriesValues\" \nON \"TimeSeriesValues\".\"TimeSeriesID\"=\"TimeSeries\".\"TimeSeriesID\"\n\n-- Join the DataValuesMapper to get their SeasonalNumericValues\nLEFT JOIN \"SeasonalNumericValues\"\nON \"SeasonalNumericValues\".\"ValuesMapperID\" = \"ValuesMapper\".\"ValuesMapperID\"\n\nLEFT JOIN CategoricalValues\nON CategoricalValues.ValuesMapperID=ValuesMapper.ValuesMapperID\n\nLEFT JOIN CV_Categorical\nON CV_Categorical.Name=CategoricalValues.CategoricalValueCV\t\n\n\n-- Specifiy controlled Object Type, instance name, and an attribute of interest\nWHERE ObjectTypeCV='Reservoir' \n\nAND ResourceTypeAcronym='NHAAP'\n\nAND Attributes.AttributeName ='N_Gen'\n\n\n)\n\nON \nInstanceNameCVDamHEIGHT=InstanceNameCVN_Gen\n\n': no such table: ResourceTypes",
     "output_type": "error",
     "traceback": [
      "\u001b[0;31m---------------------------------------------------------------------------\u001b[0m",
      "\u001b[0;31mDatabaseError\u001b[0m                             Traceback (most recent call last)",
      "\u001b[0;32m<ipython-input-3-49eb05e2b5df>\u001b[0m in \u001b[0;36m<module>\u001b[0;34m()\u001b[0m\n\u001b[1;32m     10\u001b[0m \u001b[1;33m\u001b[0m\u001b[0m\n\u001b[1;32m     11\u001b[0m \u001b[1;31m# return query result in a pandas data frame\u001b[0m\u001b[1;33m\u001b[0m\u001b[1;33m\u001b[0m\u001b[0m\n\u001b[0;32m---> 12\u001b[0;31m \u001b[0mresult_df_UseCase3_4\u001b[0m\u001b[1;33m=\u001b[0m \u001b[0mpd\u001b[0m\u001b[1;33m.\u001b[0m\u001b[0mread_sql_query\u001b[0m\u001b[1;33m(\u001b[0m\u001b[0mQuery_UseCase3_4_text\u001b[0m\u001b[1;33m,\u001b[0m \u001b[0mconn\u001b[0m\u001b[1;33m)\u001b[0m\u001b[1;33m\u001b[0m\u001b[0m\n\u001b[0m\u001b[1;32m     13\u001b[0m \u001b[1;33m\u001b[0m\u001b[0m\n\u001b[1;32m     14\u001b[0m \u001b[1;31m# uncomment the below line to see the list of attributes\u001b[0m\u001b[1;33m\u001b[0m\u001b[1;33m\u001b[0m\u001b[0m\n",
      "\u001b[0;32mC:\\Users\\Adel\\AppData\\Roaming\\Python\\Python27\\site-packages\\pandas\\io\\sql.pyc\u001b[0m in \u001b[0;36mread_sql_query\u001b[0;34m(sql, con, index_col, coerce_float, params, parse_dates, chunksize)\u001b[0m\n\u001b[1;32m    330\u001b[0m     return pandas_sql.read_query(\n\u001b[1;32m    331\u001b[0m         \u001b[0msql\u001b[0m\u001b[1;33m,\u001b[0m \u001b[0mindex_col\u001b[0m\u001b[1;33m=\u001b[0m\u001b[0mindex_col\u001b[0m\u001b[1;33m,\u001b[0m \u001b[0mparams\u001b[0m\u001b[1;33m=\u001b[0m\u001b[0mparams\u001b[0m\u001b[1;33m,\u001b[0m \u001b[0mcoerce_float\u001b[0m\u001b[1;33m=\u001b[0m\u001b[0mcoerce_float\u001b[0m\u001b[1;33m,\u001b[0m\u001b[1;33m\u001b[0m\u001b[0m\n\u001b[0;32m--> 332\u001b[0;31m         parse_dates=parse_dates, chunksize=chunksize)\n\u001b[0m\u001b[1;32m    333\u001b[0m \u001b[1;33m\u001b[0m\u001b[0m\n\u001b[1;32m    334\u001b[0m \u001b[1;33m\u001b[0m\u001b[0m\n",
      "\u001b[0;32mC:\\Users\\Adel\\AppData\\Roaming\\Python\\Python27\\site-packages\\pandas\\io\\sql.pyc\u001b[0m in \u001b[0;36mread_query\u001b[0;34m(self, sql, index_col, coerce_float, params, parse_dates, chunksize)\u001b[0m\n\u001b[1;32m   1437\u001b[0m \u001b[1;33m\u001b[0m\u001b[0m\n\u001b[1;32m   1438\u001b[0m         \u001b[0margs\u001b[0m \u001b[1;33m=\u001b[0m \u001b[0m_convert_params\u001b[0m\u001b[1;33m(\u001b[0m\u001b[0msql\u001b[0m\u001b[1;33m,\u001b[0m \u001b[0mparams\u001b[0m\u001b[1;33m)\u001b[0m\u001b[1;33m\u001b[0m\u001b[0m\n\u001b[0;32m-> 1439\u001b[0;31m         \u001b[0mcursor\u001b[0m \u001b[1;33m=\u001b[0m \u001b[0mself\u001b[0m\u001b[1;33m.\u001b[0m\u001b[0mexecute\u001b[0m\u001b[1;33m(\u001b[0m\u001b[1;33m*\u001b[0m\u001b[0margs\u001b[0m\u001b[1;33m)\u001b[0m\u001b[1;33m\u001b[0m\u001b[0m\n\u001b[0m\u001b[1;32m   1440\u001b[0m         \u001b[0mcolumns\u001b[0m \u001b[1;33m=\u001b[0m \u001b[1;33m[\u001b[0m\u001b[0mcol_desc\u001b[0m\u001b[1;33m[\u001b[0m\u001b[1;36m0\u001b[0m\u001b[1;33m]\u001b[0m \u001b[1;32mfor\u001b[0m \u001b[0mcol_desc\u001b[0m \u001b[1;32min\u001b[0m \u001b[0mcursor\u001b[0m\u001b[1;33m.\u001b[0m\u001b[0mdescription\u001b[0m\u001b[1;33m]\u001b[0m\u001b[1;33m\u001b[0m\u001b[0m\n\u001b[1;32m   1441\u001b[0m \u001b[1;33m\u001b[0m\u001b[0m\n",
      "\u001b[0;32mC:\\Users\\Adel\\AppData\\Roaming\\Python\\Python27\\site-packages\\pandas\\io\\sql.pyc\u001b[0m in \u001b[0;36mexecute\u001b[0;34m(self, *args, **kwargs)\u001b[0m\n\u001b[1;32m   1414\u001b[0m             ex = DatabaseError(\n\u001b[1;32m   1415\u001b[0m                 \"Execution failed on sql '%s': %s\" % (args[0], exc))\n\u001b[0;32m-> 1416\u001b[0;31m             \u001b[0mraise_with_traceback\u001b[0m\u001b[1;33m(\u001b[0m\u001b[0mex\u001b[0m\u001b[1;33m)\u001b[0m\u001b[1;33m\u001b[0m\u001b[0m\n\u001b[0m\u001b[1;32m   1417\u001b[0m \u001b[1;33m\u001b[0m\u001b[0m\n\u001b[1;32m   1418\u001b[0m     \u001b[1;33m@\u001b[0m\u001b[0mstaticmethod\u001b[0m\u001b[1;33m\u001b[0m\u001b[0m\n",
      "\u001b[0;32mC:\\Users\\Adel\\AppData\\Roaming\\Python\\Python27\\site-packages\\pandas\\io\\sql.pyc\u001b[0m in \u001b[0;36mexecute\u001b[0;34m(self, *args, **kwargs)\u001b[0m\n\u001b[1;32m   1402\u001b[0m                 \u001b[0mcur\u001b[0m\u001b[1;33m.\u001b[0m\u001b[0mexecute\u001b[0m\u001b[1;33m(\u001b[0m\u001b[1;33m*\u001b[0m\u001b[0margs\u001b[0m\u001b[1;33m,\u001b[0m \u001b[1;33m**\u001b[0m\u001b[0mkwargs\u001b[0m\u001b[1;33m)\u001b[0m\u001b[1;33m\u001b[0m\u001b[0m\n\u001b[1;32m   1403\u001b[0m             \u001b[1;32melse\u001b[0m\u001b[1;33m:\u001b[0m\u001b[1;33m\u001b[0m\u001b[0m\n\u001b[0;32m-> 1404\u001b[0;31m                 \u001b[0mcur\u001b[0m\u001b[1;33m.\u001b[0m\u001b[0mexecute\u001b[0m\u001b[1;33m(\u001b[0m\u001b[1;33m*\u001b[0m\u001b[0margs\u001b[0m\u001b[1;33m)\u001b[0m\u001b[1;33m\u001b[0m\u001b[0m\n\u001b[0m\u001b[1;32m   1405\u001b[0m             \u001b[1;32mreturn\u001b[0m \u001b[0mcur\u001b[0m\u001b[1;33m\u001b[0m\u001b[0m\n\u001b[1;32m   1406\u001b[0m         \u001b[1;32mexcept\u001b[0m \u001b[0mException\u001b[0m \u001b[1;32mas\u001b[0m \u001b[0mexc\u001b[0m\u001b[1;33m:\u001b[0m\u001b[1;33m\u001b[0m\u001b[0m\n",
      "\u001b[0;31mDatabaseError\u001b[0m: Execution failed on sql '/*\n4.6MultipleNumericValues_HydroPower.sql\n\nUse case 4: identify and compare infrastructure data across many data sources.\nWhat is the volume, purpose, evaporation, and elevation of Hyrum Reservoir Utah?\n\nThis query shows the list of Reservoirs in Utah that have HydroPower purpose\n\nResult:\n\n\nAdel Abdallah\nUpdated May 21, 2018\n\n*/\n\nSELECT  DISTINCT ResourceTypeAcronymDamHEIGHT,InstanceNameCVDamHEIGHT,DamHEIGHT,UnitNameHeight,InstalledCapacity,UnitNameCap,N_Gen\nFROM\n\n(\n----------------------\n\nSELECT ResourceTypeAcronym AS ResourceTypeAcronymDamHEIGHT,InstanceNameCV As InstanceNameCVDamHEIGHT ,NumericValue As DamHEIGHT,UnitName AS UnitNameHeight\n\n\nFROM ResourceTypes\n\nLeft JOIN \"ObjectTypes\" \nON \"ObjectTypes\".\"ResourceTypeID\"=\"ResourceTypes\".\"ResourceTypeID\"\n\nLEFT JOIN  \"Attributes\"\nON \"Attributes\".\"ObjectTypeID\"=\"ObjectTypes\".\"ObjectTypeID\"\n\nLEFT JOIN \"Mappings\"\nON \"Mappings\".\"AttributeID\"= \"Attributes\".\"AttributeID\"\n\nLEFT JOIN \"Instances\" \nON \"Instances\".\"InstanceID\"=\"Mappings\".\"InstanceID\"\n\nLEFT JOIN \"ValuesMapper\" \nON \"ValuesMapper\".\"ValuesMapperID\"=\"Mappings\".\"ValuesMapperID\"\n\nLEFT JOIN \"ScenarioMappings\"\nON \"ScenarioMappings\".\"MappingID\"=\"Mappings\".\"MappingID\"\n\nLEFT JOIN \"Scenarios\" \nON \"Scenarios\".\"ScenarioID\"=\"ScenarioMappings\".\"ScenarioID\"\n\nLEFT JOIN \"MasterNetworks\" \nON \"MasterNetworks\".\"MasterNetworkID\"=\"Scenarios\".\"MasterNetworkID\"\n\nLEFT JOIN \"NumericValues\" \nON \"NumericValues\".\"ValuesMapperID\"=\"ValuesMapper\".\"ValuesMapperID\"\n\nLEFT JOIN \"TimeSeries\" \nON \"TimeSeries\".\"ValuesMapperID\"=\"ValuesMapper\".\"ValuesMapperID\"\n\n-- Join the DataValuesMapper to get their Time Series   \nLEFT JOIN \"TimeSeriesValues\" \nON \"TimeSeriesValues\".\"TimeSeriesID\"=\"TimeSeries\".\"TimeSeriesID\"\n\n-- Join the DataValuesMapper to get their SeasonalNumericValues\nLEFT JOIN \"SeasonalNumericValues\"\nON \"SeasonalNumericValues\".\"ValuesMapperID\" = \"ValuesMapper\".\"ValuesMapperID\"\n\nLEFT JOIN CategoricalValues\nON CategoricalValues.ValuesMapperID=ValuesMapper.ValuesMapperID\n\nLEFT JOIN CV_Categorical\nON CV_Categorical.Name=CategoricalValues.CategoricalValueCV\t\n\n\n-- Specifiy controlled Object Type, instance name, and an attribute of interest\nWHERE ObjectTypeCV='Reservoir' \n\nAND Attributes.AttributeName='NID_HEIGHT'\n\nAND ResourceTypeAcronym='US Major Dams'\n\n--AND Categoricalvalue='UT'\n\n\n---------------\n)\n\n\n\n-- join to get the installed capacity\n\nINNER JOIN\n(\nSELECT ResourceTypeAcronym AS DatasetAcronymCapacity,InstanceNameCV As InstanceNameCVCap,NumericValue As InstalledCapacity,UnitName as UnitNameCap\n\n\nFROM ResourceTypes\n\nLeft JOIN \"ObjectTypes\" \nON \"ObjectTypes\".\"ResourceTypeID\"=\"ResourceTypes\".\"ResourceTypeID\"\n\nLEFT JOIN  \"Attributes\"\nON \"Attributes\".\"ObjectTypeID\"=\"ObjectTypes\".\"ObjectTypeID\"\n\nLEFT JOIN \"Mappings\"\nON \"Mappings\".\"AttributeID\"= \"Attributes\".\"AttributeID\"\n\nLEFT JOIN \"Instances\" \nON \"Instances\".\"InstanceID\"=\"Mappings\".\"InstanceID\"\n\nLEFT JOIN \"ValuesMapper\" \nON \"ValuesMapper\".\"ValuesMapperID\"=\"Mappings\".\"ValuesMapperID\"\n\nLEFT JOIN \"ScenarioMappings\"\nON \"ScenarioMappings\".\"MappingID\"=\"Mappings\".\"MappingID\"\n\nLEFT JOIN \"Scenarios\" \nON \"Scenarios\".\"ScenarioID\"=\"ScenarioMappings\".\"ScenarioID\"\n\nLEFT JOIN \"MasterNetworks\" \nON \"MasterNetworks\".\"MasterNetworkID\"=\"Scenarios\".\"MasterNetworkID\"\n\nLEFT JOIN \"NumericValues\" \nON \"NumericValues\".\"ValuesMapperID\"=\"ValuesMapper\".\"ValuesMapperID\"\n\nLEFT JOIN \"TimeSeries\" \nON \"TimeSeries\".\"ValuesMapperID\"=\"ValuesMapper\".\"ValuesMapperID\"\n\n-- Join the DataValuesMapper to get their Time Series   \nLEFT JOIN \"TimeSeriesValues\" \nON \"TimeSeriesValues\".\"TimeSeriesID\"=\"TimeSeries\".\"TimeSeriesID\"\n\n-- Join the DataValuesMapper to get their SeasonalNumericValues\nLEFT JOIN \"SeasonalNumericValues\"\nON \"SeasonalNumericValues\".\"ValuesMapperID\" = \"ValuesMapper\".\"ValuesMapperID\"\n\nLEFT JOIN CategoricalValues\nON CategoricalValues.ValuesMapperID=ValuesMapper.ValuesMapperID\n\nLEFT JOIN CV_Categorical\nON CV_Categorical.Name=CategoricalValues.CategoricalValueCV\t\n\n\n-- Specifiy controlled Object Type, instance name, and an attribute of interest\nWHERE ObjectTypeCV='Reservoir' \n\nAND ResourceTypeAcronym='NHAAP'\n\nAND Attributes.AttributeName ='HY_MW'\n\n\n)\n\nON \nInstanceNameCVDamHEIGHT=InstanceNameCVCap\n\n\n--\n\n-- join to get the installed N_Gen\n\nINNER JOIN\n(\nSELECT ResourceTypeAcronym AS DatasetAcronymN_Gen,InstanceNameCV As InstanceNameCVN_Gen,NumericValue As N_Gen\n\n\nFROM ResourceTypes\n\nLeft JOIN \"ObjectTypes\" \nON \"ObjectTypes\".\"ResourceTypeID\"=\"ResourceTypes\".\"ResourceTypeID\"\n\nLEFT JOIN  \"Attributes\"\nON \"Attributes\".\"ObjectTypeID\"=\"ObjectTypes\".\"ObjectTypeID\"\n\nLEFT JOIN \"Mappings\"\nON \"Mappings\".\"AttributeID\"= \"Attributes\".\"AttributeID\"\n\nLEFT JOIN \"Instances\" \nON \"Instances\".\"InstanceID\"=\"Mappings\".\"InstanceID\"\n\nLEFT JOIN \"ValuesMapper\" \nON \"ValuesMapper\".\"ValuesMapperID\"=\"Mappings\".\"ValuesMapperID\"\n\nLEFT JOIN \"ScenarioMappings\"\nON \"ScenarioMappings\".\"MappingID\"=\"Mappings\".\"MappingID\"\n\nLEFT JOIN \"Scenarios\" \nON \"Scenarios\".\"ScenarioID\"=\"ScenarioMappings\".\"ScenarioID\"\n\nLEFT JOIN \"MasterNetworks\" \nON \"MasterNetworks\".\"MasterNetworkID\"=\"Scenarios\".\"MasterNetworkID\"\n\nLEFT JOIN \"NumericValues\" \nON \"NumericValues\".\"ValuesMapperID\"=\"ValuesMapper\".\"ValuesMapperID\"\n\nLEFT JOIN \"TimeSeries\" \nON \"TimeSeries\".\"ValuesMapperID\"=\"ValuesMapper\".\"ValuesMapperID\"\n\n-- Join the DataValuesMapper to get their Time Series   \nLEFT JOIN \"TimeSeriesValues\" \nON \"TimeSeriesValues\".\"TimeSeriesID\"=\"TimeSeries\".\"TimeSeriesID\"\n\n-- Join the DataValuesMapper to get their SeasonalNumericValues\nLEFT JOIN \"SeasonalNumericValues\"\nON \"SeasonalNumericValues\".\"ValuesMapperID\" = \"ValuesMapper\".\"ValuesMapperID\"\n\nLEFT JOIN CategoricalValues\nON CategoricalValues.ValuesMapperID=ValuesMapper.ValuesMapperID\n\nLEFT JOIN CV_Categorical\nON CV_Categorical.Name=CategoricalValues.CategoricalValueCV\t\n\n\n-- Specifiy controlled Object Type, instance name, and an attribute of interest\nWHERE ObjectTypeCV='Reservoir' \n\nAND ResourceTypeAcronym='NHAAP'\n\nAND Attributes.AttributeName ='N_Gen'\n\n\n)\n\nON \nInstanceNameCVDamHEIGHT=InstanceNameCVN_Gen\n\n': no such table: ResourceTypes"
     ]
    }
   ],
   "source": [
    "# 3.4 Identify_aggregate_TimeSeriesValues.csv\n",
    "Query_UseCase3_4_URL=\"\"\"\n",
    "https://raw.githubusercontent.com/WamdamProject/WaMDaM_UseCases/master/4_Queries_SQL/UseCase3/UseCase3.4/2_CompareShastaFlamingGorge.sql\n",
    "\n",
    "\"\"\"\n",
    "\n",
    "# Read the query text inside the URL\n",
    "Query_UseCase3_4_text = urllib.urlopen(Query_UseCase3_4_URL).read()\n",
    "\n",
    "\n",
    "# return query result in a pandas data frame\n",
    "result_df_UseCase3_4= pd.read_sql_query(Query_UseCase3_4_text, conn)\n",
    "\n",
    "# uncomment the below line to see the list of attributes\n",
    "display (result_df_UseCase3_4)\n",
    "\n",
    "# it takes some time (maybe 10-20 seconds) to return back the result\n",
    "print \"Queries are done\""
   ]
  },
  {
   "cell_type": "markdown",
   "metadata": {},
   "source": [
    "<a name=\"QueryUtahDams\"></a>\n",
    "## 4. Query WaMDaM database to identify Utah dams with Hydropower purpose\n",
    "\n",
    "It takes a bit of time please wait"
   ]
  },
  {
   "cell_type": "code",
   "execution_count": null,
   "metadata": {
    "collapsed": true
   },
   "outputs": [],
   "source": [
    "# 3.4 Identify_aggregate_TimeSeriesValues.csv\n",
    "Query_UseCase3_4_URL=\"\"\"\n",
    "https://raw.githubusercontent.com/WamdamProject/WaMDaM_UseCases/master/4_Queries_SQL/UseCase3/UseCase3.4/1_HydroPower_UT_USDams.sql\n",
    "\n",
    "\"\"\"\n",
    "\n",
    "# Read the query text inside the URL\n",
    "Query_UseCase3_4_text = urllib.urlopen(Query_UseCase3_4_URL).read()\n",
    "\n",
    "\n",
    "# return query result in a pandas data frame\n",
    "result_df_UseCase3_4= pd.read_sql_query(Query_UseCase3_4_text, conn)\n",
    "\n",
    "# uncomment the below line to see the list of attributes\n",
    "display (result_df_UseCase3_4)\n",
    "\n",
    "# it takes some time (maybe 10-20 seconds) to return back the result\n",
    "print \"Queries are done\""
   ]
  },
  {
   "cell_type": "markdown",
   "metadata": {},
   "source": [
    "<a name=\"QueryUtahPowerPlants\"></a>\n",
    "## 5. Query WaMDaM database to identify Utah power plants\n",
    "\n"
   ]
  },
  {
   "cell_type": "code",
   "execution_count": null,
   "metadata": {
    "collapsed": true
   },
   "outputs": [],
   "source": [
    "# 3.4 Identify_aggregate_TimeSeriesValues.csv\n",
    "Query_UseCase3_4_URL=\"\"\"\n",
    "https://raw.githubusercontent.com/WamdamProject/WaMDaM_UseCases/master/4_Queries_SQL/UseCase3/UseCase3.4/3_HydroPowerPlants_UT.sql\n",
    "\n",
    "\"\"\"\n",
    "\n",
    "# Read the query text inside the URL\n",
    "Query_UseCase3_4_text = urllib.urlopen(Query_UseCase3_4_URL).read()\n",
    "\n",
    "\n",
    "# return query result in a pandas data frame\n",
    "result_df_UseCase3_4= pd.read_sql_query(Query_UseCase3_4_text, conn)\n",
    "\n",
    "# uncomment the below line to see the list of attributes\n",
    "display (result_df_UseCase3_4)\n",
    "\n",
    "# it takes some time (maybe 10-20 seconds) to return back the result\n",
    "print \"Queries are done\""
   ]
  },
  {
   "cell_type": "markdown",
   "metadata": {},
   "source": [
    "<a name=\"QueryCaliDams\"></a>\n",
    "## 6. Query WaMDaM database to identify California dams with Hydropower purpose"
   ]
  },
  {
   "cell_type": "code",
   "execution_count": null,
   "metadata": {
    "collapsed": true
   },
   "outputs": [],
   "source": [
    "# 3.4 Identify_aggregate_TimeSeriesValues.csv\n",
    "Query_UseCase3_4_URL=\"\"\"\n",
    "https://raw.githubusercontent.com/WamdamProject/WaMDaM_UseCases/master/4_Queries_SQL/UseCase3/UseCase3.4/4_HydroPower_CA_USDams.sql\n",
    "\n",
    "\"\"\"\n",
    "\n",
    "# Read the query text inside the URL\n",
    "Query_UseCase3_4_text = urllib.urlopen(Query_UseCase3_4_URL).read()\n",
    "\n",
    "\n",
    "# return query result in a pandas data frame\n",
    "result_df_UseCase3_4= pd.read_sql_query(Query_UseCase3_4_text, conn)\n",
    "\n",
    "# uncomment the below line to see the list of attributes\n",
    "display (result_df_UseCase3_4)\n",
    "\n",
    "# it takes some time (maybe 10-20 seconds) to return back the result\n",
    "print \"Queries are done\""
   ]
  },
  {
   "cell_type": "markdown",
   "metadata": {},
   "source": [
    "<a name=\"QueryCaliPowerPlants\"></a>\n",
    "## 7.Query WaMDaM database to identify California power plants\n"
   ]
  },
  {
   "cell_type": "code",
   "execution_count": null,
   "metadata": {
    "collapsed": true
   },
   "outputs": [],
   "source": [
    "# 3.4 Identify_aggregate_TimeSeriesValues.csv\n",
    "Query_UseCase3_4_URL=\"\"\"\n",
    "https://raw.githubusercontent.com/WamdamProject/WaMDaM_UseCases/master/4_Queries_SQL/UseCase3/UseCase3.4/5_HydroPowerPlants_CA.sql\n",
    "\n",
    "\"\"\"\n",
    "\n",
    "# Read the query text inside the URL\n",
    "Query_UseCase3_4_text = urllib.urlopen(Query_UseCase3_4_URL).read()\n",
    "\n",
    "\n",
    "# return query result in a pandas data frame\n",
    "result_df_UseCase3_4= pd.read_sql_query(Query_UseCase3_4_text, conn)\n",
    "\n",
    "# uncomment the below line to see the list of attributes\n",
    "display (result_df_UseCase3_4)\n",
    "\n",
    "# it takes some time (maybe 10-20 seconds) to return back the result\n",
    "\n",
    "print \"Queries are done\""
   ]
  },
  {
   "cell_type": "markdown",
   "metadata": {},
   "source": [
    "<a name=\"Close\"></a>\n",
    "# 8. Close the SQLite aconnection"
   ]
  },
  {
   "cell_type": "code",
   "execution_count": null,
   "metadata": {
    "collapsed": true
   },
   "outputs": [],
   "source": [
    "conn.close()\n",
    "\n",
    "print 'Connection to SQLite engine is disconnected'"
   ]
  },
  {
   "cell_type": "markdown",
   "metadata": {},
   "source": [
    "# The End :) Congratulations"
   ]
  }
 ],
 "metadata": {
  "kernelspec": {
   "display_name": "Python 2",
   "language": "python",
   "name": "python2"
  },
  "language_info": {
   "codemirror_mode": {
    "name": "ipython",
    "version": 2
   },
   "file_extension": ".py",
   "mimetype": "text/x-python",
   "name": "python",
   "nbconvert_exporter": "python",
   "pygments_lexer": "ipython2",
   "version": "2.7.13"
  }
 },
 "nbformat": 4,
 "nbformat_minor": 2
}
