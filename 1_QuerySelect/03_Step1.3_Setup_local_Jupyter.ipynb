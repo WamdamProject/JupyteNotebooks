{
 "cells": [
  {
   "cell_type": "markdown",
   "metadata": {},
   "source": [
    "<h2><center>WaMDaM Directions and Use Cases</center></h2>\n",
    "<h3><center>Step 1: Setup / Installation on Local Machine</center></h3>\n",
    "<h4><center>By Adel M. Abdallah, Utah State University, August 2018</center></h4>"
   ]
  },
  {
   "cell_type": "markdown",
   "metadata": {},
   "source": [
    "# Step 1.3: Set up a local Jupyter Notebook server on a local machine\n",
    "\n",
    "\n",
    "### i.  Download or clone the GitHub repository of the Jupyter Notebook files to a folder on your machine.\n",
    "\n",
    "https://github.com/WamdamProject/WaMDaM_JupyteNotebooks. For this paper, you only need to work with the files inside the folder called _1_QuerySelect_ \n",
    "\n",
    "Replace the existing already populated SQLite called BearRiverDatasets_Augst_2018.sqlite with your SQLite file (e.g., replicateWaMDaM.sqlite). Next, you will set up the Jupyter Notebook Server with scripts that operate on your new SQLite file.   \n",
    "\n",
    "\n",
    "### ii. Install and set up Jupyter Notebook Server for Python 2.7     \n",
    "**It requires some basic programing experience**   \n",
    "\n",
    "Install Anaconda for Python 2.7 which already comes with the most common Python libraries are already installed. \n",
    "https://www.anaconda.com/download/  \n",
    "\n",
    "If you're interested in more info (not needed though), follow instructions here http://jupyter.org/install  \n",
    "\n",
    "\n",
    "Next, install a library called *Potly* which is used to plot the use case figures as it does not come with Anaconda:\n",
    "\n",
    "\n",
    "Run the Anaconda Command Prompt application, you can do so by clicking at the Windows start menu, then select Anaconda Prompt. Right click and <font color=red>**Run as Administrator**  </font> then type \n",
    "\n",
    "    conda install plotly \n",
    "    \n",
    "If asked to Proceed ([y]/n)? type \n",
    "\n",
    "    y \n",
    "   \n",
    "\n",
    "<img src=\"https://github.com/WamdamProject/WaMDaM-software-ecosystem/blob/master/mkdocs/Edit_MD_Files/QuerySelect/images/Conda.PNG?raw=true\" style=\"float:center;width:700px;padding:20px\">\n",
    "\n",
    "**Figure 1:** Anaconda Command Prompt and installing new libraries\n",
    "\n",
    "\n",
    "\n",
    "### iii. Launch Jupyter Notebook Server on your local machine   \n",
    "\n",
    "Run the Anaconda Command Prompt application, you can do so by clicking at the Windows start menu, then select Anaconda Prompt. Navigate to the directory to the Jupyter Notebook folder you downloaded earlier. For example, type this command: \n",
    "\n",
    "    cd C:\\\\WaMDaM_JupyteNotebooks/1_QuerySelect   \n",
    "\n",
    "\n",
    "Next, type this command in the Anaconda Prompt to launch Jupyter Notebook server on your local machine   \n",
    "\n",
    "    Jupyter Notebook\n",
    "\n",
    "\n",
    "Your default browser will launch as in Figure 2.    \n",
    "\n",
    "Or alternatively, you try this more recent Jupyter environment     \n",
    "\n",
    "\n",
    "    Jupyter lab\n",
    "\n",
    "\n",
    "To shutdown the Jupyter Notebook server, in the Anaconda Prompt, use the keyboard     \n",
    "    \n",
    "    CTRL + C\n",
    "\n",
    "\n",
    "For further details on Jupyter Notebooks (not needed), see instructions at http://jupyter-notebook-beginner-guide.readthedocs.io/en/latest/execute.html\n",
    "\n",
    "Now, you are ready to execute the Jupyter Notebooks for the WaMDaM use cases 1-3 and/or 5   \n",
    " \n",
    "\n",
    "In the Jupyter Notebook server landing page (Figure 2), click at the Notebooks one after another starting from 04_UseCase1_DataAvailabilityForModels.ipynb or go directly to 12_Use_Case_5_ServeDataRunWEAP.ipynb for use case 5.   \n",
    "\n",
    "\n",
    "<img src=\"https://github.com/WamdamProject/WaMDaM-software-ecosystem/blob/master/mkdocs/Edit_MD_Files/QuerySelect/images/JupyterNotebook.png?raw=true\" style=\"float:center;width:900px;padding:20px\" align=\"middle\">  \n",
    "\n",
    "**Figure 2:** Jupyter Notebook landing page and WaMDaM use case notebooks\n",
    "\n"
   ]
  },
  {
   "cell_type": "code",
   "execution_count": null,
   "metadata": {
    "collapsed": true
   },
   "outputs": [],
   "source": []
  }
 ],
 "metadata": {
  "kernelspec": {
   "display_name": "Python 2",
   "language": "python",
   "name": "python2"
  },
  "language_info": {
   "codemirror_mode": {
    "name": "ipython",
    "version": 2
   },
   "file_extension": ".py",
   "mimetype": "text/x-python",
   "name": "python",
   "nbconvert_exporter": "python",
   "pygments_lexer": "ipython2",
   "version": "2.7.13"
  }
 },
 "nbformat": 4,
 "nbformat_minor": 2
}
