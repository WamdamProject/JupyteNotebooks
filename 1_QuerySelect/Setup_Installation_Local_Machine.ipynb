{
 "cells": [
  {
   "cell_type": "markdown",
   "metadata": {},
   "source": [
    "## Setup / Installation on Local Machine\n",
    "\n",
    "### Study Area and Data Sources\n",
    "<img src=\"https://github.com/WamdamProject/WaMDaM-software-ecosystem/blob/master/mkdocs/Edit_MD_Files/QuerySelect/images/BearWatershed.jpg?raw=true\" style=\"float:right;width:700px;padding:20px\"> \n",
    "\n",
    "The use cases are demonstrated using the WaMDaM CVs, Workbook templates, and the WaMDaM Wizard to prepare and load thirteen national, regional, and local datasets and models load datasets into a WaMDaM SQLite database. \n",
    "\n",
    "We integrate and compare the disparate datasets with a focus to assist modelers to analyze input data for models with a focus on the Bear River Watershed that spans three states, Utah, Idaho, and Wyoming.\n",
    "\n",
    "The River begins in Utah, flows through Wyoming then Idaho, and ends as the largest source of water to the Great Salt Lake in Utah (UDWR, 2000).\n",
    "\n",
    "\n",
    "We use the [WaMDaM Wizard](http://docs.wamdam.org/GetStarted/Steps/) to load thirteen different and models into a single WaMDaM database SQLite file. The datasets cover natural and built water supply and demand, infrastructure connectivity, with different data types, networks and scenarios that cover the WaMDaM capabilities. Each of the datasets on GitHub below is prepared and copied into a WaMDaM Excel workbook. Then we loaded all of them one-at-a-time inton a single SQLite database file.\n",
    "\n",
    "<img src=\"https://github.com/WamdamProject/WaMDaM-software-ecosystem/blob/master/mkdocs/Edit_MD_Files/QuerySelect/images/Datasets_time.PNG?raw=true\" style=\"float:right;width:800px;padding:20px\" align=\"middle\">       "
   ]
  },
  {
   "cell_type": "code",
   "execution_count": null,
   "metadata": {
    "collapsed": true
   },
   "outputs": [],
   "source": []
  }
 ],
 "metadata": {
  "kernelspec": {
   "display_name": "Python 2",
   "language": "python",
   "name": "python2"
  },
  "language_info": {
   "codemirror_mode": {
    "name": "ipython",
    "version": 2
   },
   "file_extension": ".py",
   "mimetype": "text/x-python",
   "name": "python",
   "nbconvert_exporter": "python",
   "pygments_lexer": "ipython2",
   "version": "2.7.14"
  }
 },
 "nbformat": 4,
 "nbformat_minor": 2
}
