{
 "cells": [
  {
   "cell_type": "markdown",
   "metadata": {},
   "source": [
    "# 08_Step8_Run Bear and Weber WEAP Models. Estimate System's Reliability due to changes in input \n",
    "\n",
    "### By Adel M. Abdallah, Dec 2020\n",
    "\n",
    "Execute the following cells by pressing `Shift-Enter`, or by pressing the play button <img style='display:inline;padding-bottom:15px' src='play-button.png'> on the toolbar above.\n",
    "\n"
   ]
  },
  {
   "cell_type": "markdown",
   "metadata": {},
   "source": [
    "<a name=\"Import\"></a>\n",
    "# 1. Import python libraries "
   ]
  },
  {
   "cell_type": "code",
   "execution_count": 17,
   "metadata": {},
   "outputs": [
    {
     "data": {
      "text/html": [
       "        <script type=\"text/javascript\">\n",
       "        window.PlotlyConfig = {MathJaxConfig: 'local'};\n",
       "        if (window.MathJax) {MathJax.Hub.Config({SVG: {font: \"STIX-Web\"}});}\n",
       "        if (typeof require !== 'undefined') {\n",
       "        require.undef(\"plotly\");\n",
       "        requirejs.config({\n",
       "            paths: {\n",
       "                'plotly': ['https://cdn.plot.ly/plotly-latest.min']\n",
       "            }\n",
       "        });\n",
       "        require(['plotly'], function(Plotly) {\n",
       "            window._Plotly = Plotly;\n",
       "        });\n",
       "        }\n",
       "        </script>\n",
       "        "
      ]
     },
     "metadata": {},
     "output_type": "display_data"
    },
    {
     "data": {
      "text/html": [
       "        <script type=\"text/javascript\">\n",
       "        window.PlotlyConfig = {MathJaxConfig: 'local'};\n",
       "        if (window.MathJax) {MathJax.Hub.Config({SVG: {font: \"STIX-Web\"}});}\n",
       "        if (typeof require !== 'undefined') {\n",
       "        require.undef(\"plotly\");\n",
       "        requirejs.config({\n",
       "            paths: {\n",
       "                'plotly': ['https://cdn.plot.ly/plotly-latest.min']\n",
       "            }\n",
       "        });\n",
       "        require(['plotly'], function(Plotly) {\n",
       "            window._Plotly = Plotly;\n",
       "        });\n",
       "        }\n",
       "        </script>\n",
       "        "
      ]
     },
     "metadata": {},
     "output_type": "display_data"
    },
    {
     "name": "stdout",
     "output_type": "stream",
     "text": [
      "The needed Python libraries have been imported\n"
     ]
    }
   ],
   "source": [
    "# 1. Import python libraries \n",
    "### set the notebook mode to embed the figures within the cell\n",
    "import numpy\n",
    "import sqlite3\n",
    "import numpy as np\n",
    "import pandas as pd\n",
    "import getpass\n",
    "from hs_restclient import HydroShare, HydroShareAuthBasic\n",
    "import os\n",
    "\n",
    "import plotly\n",
    "plotly.__version__\n",
    "import plotly.offline as offline\n",
    "import plotly.graph_objs as go\n",
    "from plotly.offline import download_plotlyjs, init_notebook_mode, plot, iplot\n",
    "offline.init_notebook_mode(connected=True)\n",
    "from plotly.offline import init_notebook_mode, iplot\n",
    "from plotly.graph_objs import *\n",
    "\n",
    "init_notebook_mode(connected=True)         # initiate notebook for offline plot\n",
    "\n",
    "import os\n",
    "import csv\n",
    "from collections import OrderedDict\n",
    "import sqlite3\n",
    "import pandas as pd\n",
    "import numpy as np\n",
    "from IPython.display import display, Image, SVG, Math, YouTubeVideo\n",
    "import urllib\n",
    "import calendar\n",
    "\n",
    "print 'The needed Python libraries have been imported'"
   ]
  },
  {
   "cell_type": "markdown",
   "metadata": {},
   "source": [
    "# Connect to WEAP and Create the sedimentation WEAP Area /Scenariois"
   ]
  },
  {
   "cell_type": "markdown",
   "metadata": {},
   "source": [
    "<a name=\"CreateWEAP_Area\"></a>\n",
    "# 3.1 Create a copy of the original WEAP Area to use while keeping the orignial as-as for any later use\n",
    "\n",
    "\n",
    "<a name=\"AddScenarios\"></a>\n",
    "### Add a new CacheCountyUrbanWaterUse scenario from the Reference original WEAP Area:  \n",
    "\n",
    "### You can always use this orignal one and delete any new copies you make afterwards."
   ]
  },
  {
   "cell_type": "code",
   "execution_count": 18,
   "metadata": {},
   "outputs": [
    {
     "name": "stdout",
     "output_type": "stream",
     "text": [
      "Bear_River_WEAP_Model_2017_scenarios\n",
      "Bear_River_WEAP_Model_2017_scenarios\n",
      "Bear_River_WEAP_Model_2017_Original\n",
      "Connected to WEAP API and the Bear_River_WEAP_Model_2017_Original Area\n",
      "-------------\n",
      "-------------\n",
      "\n",
      " ActiveScenario= Current Accounts\n",
      "-------------\n",
      "C:\\Users\\Rosenberg\\Documents\\WEAP Areas\\\n",
      "\n",
      " \n",
      " You're connected to the WEAP API\n",
      " Created the Bear_River_WEAP_Model_2017_sedimentation Area\n",
      "Bear_River_WEAP_Model_2017_Original\n",
      "Bear_River_WEAP_Model_2017_Original\n",
      "Bear_River_WEAP_Model_2017_Original\n",
      "ActiveArea= Bear_River_WEAP_Model_2017_Original\n",
      "Bear_River_WEAP_Model_2017_scenarios\n",
      "---------------------- \n",
      "\n",
      "Scenarios added to the Bear_River_WEAP_Model_2017_scenarios WEAP area\n"
     ]
    }
   ],
   "source": [
    "# this library is needed to connect to the WEAP API\n",
    "import win32com.client\n",
    "\n",
    "# this command will open the WEAP software (if closed) and get the last active model\n",
    "# you could change the active area to another one inside WEAP or by passing it to the command here\n",
    "#WEAP.ActiveArea = \"BearRiverFeb2017_V10.9\"\n",
    "\n",
    "\n",
    "WEAP=win32com.client.Dispatch(\"WEAP.WEAPApplication\")\n",
    "\n",
    "# WEAP.Visible = 'FALSE'\n",
    "\n",
    "#-----------------------------------------------------------------\n",
    "\n",
    "print WEAP.ActiveArea.Name \n",
    "WEAP.ActiveArea = \"Bear_River_WEAP_Model_2017_Original\"  \n",
    "print WEAP.ActiveArea.Name \n",
    "\n",
    "WEAP.Areas(\"Bear_River_WEAP_Model_2017_Original\").Open\n",
    "WEAP.ActiveArea = \"Bear_River_WEAP_Model_2017_Original\"  \n",
    "print WEAP.ActiveArea.Name\n",
    "#-----------------------------------------------------------------\n",
    "\n",
    "\n",
    "print 'Connected to WEAP API and the '+ WEAP.ActiveArea.Name + ' Area'\n",
    "print '-------------'\n",
    "if not WEAP.Registered:\n",
    "    print \"Because WEAP is not registered, you cannot use the API\"\n",
    "\n",
    "# get the active WEAP Area (model) to serve data into it \n",
    "\n",
    "# ActiveArea=WEAP.ActiveArea.Name \n",
    "\n",
    "\n",
    "# get the active WEAP scenario to serve data into it \n",
    "print '-------------'\n",
    "\n",
    "ActiveScenario= WEAP.ActiveScenario.Name\n",
    "print '\\n ActiveScenario= '+ActiveScenario\n",
    "print '-------------'\n",
    "\n",
    "WEAP_Area_dir=WEAP.AreasDirectory\n",
    "print WEAP_Area_dir\n",
    "\n",
    "\n",
    "print \"\\n \\n You're connected to the WEAP API\"\n",
    "\n",
    "\n",
    "# Delete the Area if it exists and then add it. Start from fresh\n",
    "Area=\"Bear_River_WEAP_Model_2017_sedimentation\"\n",
    "\n",
    "if not WEAP.Areas.Exists(Area):\n",
    "    WEAP.SaveAreaAs(Area)\n",
    "WEAP.Quit\n",
    "print \" Created the Bear_River_WEAP_Model_2017_sedimentation Area\"\n",
    "\n",
    "WEAP=win32com.client.Dispatch(\"WEAP.WEAPApplication\")\n",
    "\n",
    "#-----------------------------------------------------------------\n",
    "print WEAP.ActiveArea.Name \n",
    "WEAP.ActiveArea = \"Bear_River_WEAP_Model_2017_Original\"  \n",
    "print WEAP.ActiveArea.Name \n",
    "\n",
    "WEAP.Areas(\"Bear_River_WEAP_Model_2017_Original\").Open\n",
    "WEAP.ActiveArea = \"Bear_River_WEAP_Model_2017_Original\"  \n",
    "print WEAP.ActiveArea.Name\n",
    "#-----------------------------------------------------------------\n",
    "\n",
    "\n",
    "# Delete the Area if it exists and then add it. Start from fresh\n",
    "Area=\"Bear_River_WEAP_Model_2017_scenarios\"\n",
    "\n",
    "if not WEAP.Areas.Exists(Area):\n",
    "    WEAP.SaveAreaAs(Area)\n",
    "print  'ActiveArea= '+ WEAP.ActiveArea.Name\n",
    "\n",
    "\n",
    "WEAP.Areas(\"Bear_River_WEAP_Model_2017_scenarios\").Open\n",
    "WEAP.ActiveArea = \"Bear_River_WEAP_Model_2017_scenarios\"  \n",
    "print WEAP.ActiveArea.Name\n",
    "\n",
    "Scenarios=[]\n",
    "Scenarios=['Evaporation','Headflow','Demand']\n",
    "\n",
    "for Scenario in Scenarios:\n",
    "    if WEAP.Scenarios.Exists(Scenario):\n",
    "        # delete it\n",
    "        WEAP.Scenarios(Scenario).Delete(True)\n",
    "        # add it back as a fresh copy\n",
    "        WEAP.Scenarios.Add(Scenario,'Reference')\n",
    "    else:\n",
    "        WEAP.Scenarios.Add(Scenario,'Reference')\n",
    "    \n",
    "WEAP.ActiveArea.Save\n",
    "WEAP.SaveArea\n",
    "# Make a copy from the reference (base) scenario\n",
    "# WEAP.Scenarios.Add('UpdateCacheDemand','Reference')\n",
    "print '---------------------- \\n'\n",
    "print 'Scenarios added to the Bear_River_WEAP_Model_2017_scenarios WEAP area'  "
   ]
  },
  {
   "cell_type": "markdown",
   "metadata": {},
   "source": [
    "# Reliability Results: Weeping Model\n",
    "Reliability is for the entire study period, so doesn't have a year or time step parameter\n",
    "Reliability to fully meet demand =number of years of zero shortage divided by total number of years"
   ]
  },
  {
   "cell_type": "markdown",
   "metadata": {},
   "source": [
    "# 5. Run WEAP\n",
    "<font color=green>**Please wait, it will take ~1-3 minutes** to finish calcualting the two WEAP Areas with their many scenarios</font>"
   ]
  },
  {
   "cell_type": "code",
   "execution_count": null,
   "metadata": {},
   "outputs": [],
   "source": []
  },
  {
   "cell_type": "code",
   "execution_count": 19,
   "metadata": {},
   "outputs": [
    {
     "name": "stdout",
     "output_type": "stream",
     "text": [
      "Bear_River_WEAP_Model_2017_scenarios\n",
      "Bear_River_WEAP_Model_2017_scenarios\n",
      "Bear_River_WEAP_Model_2017_scenarios\n",
      "Please wait 1-3 min for the calculation to finish\n",
      "\n",
      " \n",
      " The calculation has been done and saved\n",
      "Done\n",
      "Current Accounts\n",
      "Reference\n",
      "Evaporation\n",
      "Headflow\n",
      "Demand\n",
      "done\n",
      "OrderedDict([('Current Accounts', OrderedDict([('BranchName', ['Montpelier Irr', 'Highline Canal', 'Hyrum Canal', 'Bird Refuge', 'Logan Potable']), ('Reliability', [0.0, 0.0, 0.0, 0.0, 0.0])])), ('Reference', OrderedDict([('BranchName', ['Montpelier Irr', 'Highline Canal', 'Hyrum Canal', 'Bird Refuge', 'Logan Potable']), ('Reliability', [0.0, 0.0, 0.0, 0.0, 0.0])])), ('Evaporation', OrderedDict([('BranchName', ['Montpelier Irr', 'Highline Canal', 'Hyrum Canal', 'Bird Refuge', 'Logan Potable']), ('Reliability', [0.0, 0.0, 0.0, 0.0, 0.0])])), ('Headflow', OrderedDict([('BranchName', ['Montpelier Irr', 'Highline Canal', 'Hyrum Canal', 'Bird Refuge', 'Logan Potable']), ('Reliability', [0.0, 0.0, 0.0, 0.0, 0.0])])), ('Demand', OrderedDict([('BranchName', ['Montpelier Irr', 'Highline Canal', 'Hyrum Canal', 'Bird Refuge', 'Logan Potable']), ('Reliability', [0.0, 0.0, 0.0, 0.0, 0.0])]))])\n"
     ]
    }
   ],
   "source": [
    "#-----------------------------------------------------------------\n",
    "print WEAP.ActiveArea.Name \n",
    "WEAP.ActiveArea = \"Bear_River_WEAP_Model_2017_scenarios\"  \n",
    "print WEAP.ActiveArea.Name \n",
    "\n",
    "WEAP.Areas(\"Bear_River_WEAP_Model_2017_scenarios\").Open\n",
    "WEAP.ActiveArea = \"Bear_River_WEAP_Model_2017_scenarios\"  \n",
    "print WEAP.ActiveArea.Name\n",
    "#-----------------------------------------------------------------\n",
    "\n",
    "\n",
    "print 'Please wait 1-3 min for the calculation to finish'\n",
    "# WEAP.Calculate(2006,10,True)\n",
    "# WEAP.SaveArea\n",
    "\n",
    "print '\\n \\n The calculation has been done and saved'\n",
    "# print WEAP.CalculationTime\n",
    "\n",
    "print 'Done'\n",
    "\n",
    "SelectDemandSites=['Montpelier Irr','Highline Canal','Hyrum Canal','Bird Refuge','Logan Potable']\n",
    "\n",
    "\n",
    "\n",
    "Result= OrderedDict()\n",
    "# columns=['ScenarioName','BranchName','Reliability']\n",
    "# Result=OrderedDict() \n",
    "\n",
    "# group:ScenarioName\n",
    "# Key=BranchName\n",
    "# value:BranchName\n",
    "    \n",
    "for ScenarioName in WEAP.Scenarios:\n",
    "    print ScenarioName\n",
    "    WEAP.ActiveScenario=ScenarioName\n",
    "\n",
    "    #print str(ScenarioName)\n",
    "    scenarioKey = str(ScenarioName)\n",
    "    Result[scenarioKey] = OrderedDict()\n",
    "    \n",
    "    BranchNames = []\n",
    "    Reliabilities = []\n",
    "    \n",
    "    for Branch in WEAP.Branches:\n",
    "        if Branch.TypeName=='Demand Site' and Branch.IsNode:\n",
    "            FullBranchName=Branch.FullName\n",
    "            BranchName=Branch.Name\n",
    "            for SelectSite in SelectDemandSites:\n",
    "                if SelectSite==BranchName:\n",
    "                    if WEAP.Branch(FullBranchName).Variables.Exists(\"Reliability\"):\n",
    "                        BranchNames.append(BranchName)\n",
    "                        Reliabilities.append(WEAP.Branch(FullBranchName).Variables(\"Reliability\").Value)\n",
    "    \n",
    "    NewReliabilities = []\n",
    "    for site in SelectDemandSites:\n",
    "        index = BranchNames.index(site)\n",
    "        NewReliabilities.append(Reliabilities[index])\n",
    "    \n",
    "#     print BranchNames\n",
    "    Result[scenarioKey]['BranchName'] = SelectDemandSites\n",
    "    Result[scenarioKey]['Reliability'] = NewReliabilities\n",
    "\n",
    "print 'done'\n",
    "print Result            \n",
    "            \n",
    " "
   ]
  },
  {
   "cell_type": "markdown",
   "metadata": {},
   "source": [
    "# Get the Sedeimtation Scenarios"
   ]
  },
  {
   "cell_type": "code",
   "execution_count": 20,
   "metadata": {},
   "outputs": [
    {
     "name": "stdout",
     "output_type": "stream",
     "text": [
      "Bear_River_WEAP_Model_2017_scenarios\n",
      "Bear_River_WEAP_Model_2017_sedimentation\n",
      "Bear_River_WEAP_Model_2017_sedimentation\n",
      "Please wait 1-3 min for the calculation to finish\n",
      "\n",
      " \n",
      " The calculation has been done and saved\n",
      "Done\n",
      "Current Accounts\n",
      "Reference\n",
      "done\n",
      "OrderedDict([('Current Accounts', OrderedDict([('BranchName', ['Montpelier Irr', 'Highline Canal', 'Hyrum Canal', 'Bird Refuge', 'Logan Potable']), ('Reliability', [0.0, 0.0, 0.0, 0.0, 0.0])])), ('Reference', OrderedDict([('BranchName', ['Montpelier Irr', 'Highline Canal', 'Hyrum Canal', 'Bird Refuge', 'Logan Potable']), ('Reliability', [0.0, 0.0, 0.0, 0.0, 0.0])]))])\n"
     ]
    }
   ],
   "source": [
    "WEAP=win32com.client.Dispatch(\"WEAP.WEAPApplication\")\n",
    "\n",
    "#-----------------------------------------------------------------\n",
    "print WEAP.ActiveArea.Name \n",
    "WEAP.ActiveArea = \"Bear_River_WEAP_Model_2017_sedimentation\"  \n",
    "print WEAP.ActiveArea.Name \n",
    "\n",
    "WEAP.Areas(\"Bear_River_WEAP_Model_2017_sedimentation\").Open\n",
    "WEAP.ActiveArea = \"Bear_River_WEAP_Model_2017_sedimentation\"  \n",
    "print WEAP.ActiveArea.Name\n",
    "#-----------------------------------------------------------------\n",
    "\n",
    "\n",
    "print 'Please wait 1-3 min for the calculation to finish'\n",
    "# WEAP.Calculate(2006,10,True)\n",
    "WEAP.SaveArea\n",
    "\n",
    "print '\\n \\n The calculation has been done and saved'\n",
    "# print WEAP.CalculationTime\n",
    "\n",
    "print 'Done'\n",
    "\n",
    "# WEAP.Visible = 'FALSE'\n",
    "\n",
    "SelectDemandSites=['Montpelier Irr','Highline Canal','Hyrum Canal','Bird Refuge','Logan Potable']\n",
    "\n",
    "\n",
    "\n",
    "Result2= OrderedDict()\n",
    "    \n",
    "for ScenarioName in WEAP.Scenarios:\n",
    "    print ScenarioName\n",
    "\n",
    "#     if ScenarioName=='Reference':\n",
    "    WEAP.ActiveScenario=ScenarioName\n",
    "\n",
    "    #print str(ScenarioName)\n",
    "    scenarioKey = str(ScenarioName)\n",
    "    Result2[scenarioKey] = OrderedDict()\n",
    "\n",
    "    BranchNames = []\n",
    "    Reliabilities = []\n",
    "\n",
    "    for Branch in WEAP.Branches:\n",
    "        if Branch.TypeName=='Demand Site' and Branch.IsNode:\n",
    "            FullBranchName=Branch.FullName\n",
    "            BranchName=Branch.Name\n",
    "            for SelectSite in SelectDemandSites:\n",
    "                if SelectSite==BranchName:\n",
    "                    if WEAP.Branch(FullBranchName).Variables.Exists(\"Reliability\"):\n",
    "                        BranchNames.append(BranchName)\n",
    "                        Reliabilities.append(WEAP.Branch(FullBranchName).Variables(\"Reliability\").Value)\n",
    "#     NewBranchNames = []\n",
    "    NewReliabilities = []\n",
    "    for site in SelectDemandSites:\n",
    "        index = BranchNames.index(site)\n",
    "        NewReliabilities.append(Reliabilities[index])\n",
    "    Result2[scenarioKey]['BranchName'] = SelectDemandSites\n",
    "    Result2[scenarioKey]['Reliability'] = NewReliabilities\n",
    "\n",
    "print 'done'\n",
    "print Result2            "
   ]
  },
  {
   "cell_type": "markdown",
   "metadata": {},
   "source": [
    "# Get the Weber scenarios "
   ]
  },
  {
   "cell_type": "code",
   "execution_count": 21,
   "metadata": {},
   "outputs": [
    {
     "name": "stdout",
     "output_type": "stream",
     "text": [
      "Bear_River_WEAP_Model_2017_sedimentation\n",
      "WeberOgdenRiversLab-3_Original\n",
      "WeberOgdenRiversLab-3_Original\n",
      "Connected to WEAP API and the WeberOgdenRiversLab-3_Original Area\n",
      "-------------\n",
      "-------------\n",
      "\n",
      " ActiveScenario= Reference\n",
      "-------------\n",
      "C:\\Users\\Rosenberg\\Documents\\WEAP Areas\\\n",
      "\n",
      " \n",
      " You're connected to the WEAP API\n",
      " Created the WeberOgdenRiversLab-3_sedimentation Area\n",
      "WeberOgdenRiversLab-3_Original\n",
      "WeberOgdenRiversLab-3_Original\n",
      "WeberOgdenRiversLab-3_Original\n",
      "ActiveArea= WeberOgdenRiversLab-3_Original\n",
      "WeberOgdenRiversLab-3_scenarios\n",
      "---------------------- \n",
      "\n",
      "Scenarios added to the WeberOgdenRiversLab-3_scenarios WEAP area\n"
     ]
    }
   ],
   "source": [
    "# this library is needed to connect to the WEAP API\n",
    "import win32com.client\n",
    "\n",
    "# this command will open the WEAP software (if closed) and get the last active model\n",
    "# you could change the active area to another one inside WEAP or by passing it to the command here\n",
    "#WEAP.ActiveArea = \"BearRiverFeb2017_V10.9\"\n",
    "\n",
    "\n",
    "WEAP=win32com.client.Dispatch(\"WEAP.WEAPApplication\")\n",
    "\n",
    "# WEAP.Visible = 'FALSE'\n",
    "\n",
    "#-----------------------------------------------------------------\n",
    "\n",
    "print WEAP.ActiveArea.Name \n",
    "WEAP.ActiveArea = \"WeberOgdenRiversLab-3_Original\"  \n",
    "print WEAP.ActiveArea.Name \n",
    "\n",
    "WEAP.Areas(\"WeberOgdenRiversLab-3_Original\").Open\n",
    "WEAP.ActiveArea = \"WeberOgdenRiversLab-3_Original\"  \n",
    "print WEAP.ActiveArea.Name\n",
    "#-----------------------------------------------------------------\n",
    "\n",
    "\n",
    "print 'Connected to WEAP API and the '+ WEAP.ActiveArea.Name + ' Area'\n",
    "print '-------------'\n",
    "if not WEAP.Registered:\n",
    "    print \"Because WEAP is not registered, you cannot use the API\"\n",
    "\n",
    "# get the active WEAP Area (model) to serve data into it \n",
    "\n",
    "# ActiveArea=WEAP.ActiveArea.Name \n",
    "\n",
    "\n",
    "# get the active WEAP scenario to serve data into it \n",
    "print '-------------'\n",
    "\n",
    "ActiveScenario= WEAP.ActiveScenario.Name\n",
    "print '\\n ActiveScenario= '+ActiveScenario\n",
    "print '-------------'\n",
    "\n",
    "WEAP_Area_dir=WEAP.AreasDirectory\n",
    "print WEAP_Area_dir\n",
    "\n",
    "\n",
    "print \"\\n \\n You're connected to the WEAP API\"\n",
    "\n",
    "\n",
    "# Delete the Area if it exists and then add it. Start from fresh\n",
    "Area=\"WeberOgdenRiversLab-3_sedimentation\"\n",
    "\n",
    "if not WEAP.Areas.Exists(Area):\n",
    "    WEAP.SaveAreaAs(Area)\n",
    "WEAP.Quit\n",
    "print \" Created the WeberOgdenRiversLab-3_sedimentation Area\"\n",
    "\n",
    "WEAP=win32com.client.Dispatch(\"WEAP.WEAPApplication\")\n",
    "\n",
    "#-----------------------------------------------------------------\n",
    "print WEAP.ActiveArea.Name \n",
    "WEAP.ActiveArea = \"WeberOgdenRiversLab-3_Original\"  \n",
    "print WEAP.ActiveArea.Name \n",
    "\n",
    "WEAP.Areas(\"WeberOgdenRiversLab-3_Original\").Open\n",
    "WEAP.ActiveArea = \"WeberOgdenRiversLab-3_Original\"  \n",
    "print WEAP.ActiveArea.Name\n",
    "#-----------------------------------------------------------------\n",
    "\n",
    "\n",
    "# Delete the Area if it exists and then add it. Start from fresh\n",
    "Area=\"WeberOgdenRiversLab-3_scenarios\"\n",
    "\n",
    "if not WEAP.Areas.Exists(Area):\n",
    "    WEAP.SaveAreaAs(Area)\n",
    "print  'ActiveArea= '+ WEAP.ActiveArea.Name\n",
    "\n",
    "\n",
    "WEAP.Areas(\"WeberOgdenRiversLab-3_scenarios\").Open\n",
    "WEAP.ActiveArea = \"WeberOgdenRiversLab-3_scenarios\"  \n",
    "print WEAP.ActiveArea.Name\n",
    "\n",
    "Scenarios=[]\n",
    "Scenarios=['Evaporation','Headflow','Demand']\n",
    "\n",
    "for Scenario in Scenarios:\n",
    "    if WEAP.Scenarios.Exists(Scenario):\n",
    "        # delete it\n",
    "        WEAP.Scenarios(Scenario).Delete(True)\n",
    "        # add it back as a fresh copy\n",
    "        WEAP.Scenarios.Add(Scenario,'Reference')\n",
    "    else:\n",
    "        WEAP.Scenarios.Add(Scenario,'Reference')\n",
    "    \n",
    "WEAP.ActiveArea.Save\n",
    "WEAP.SaveArea\n",
    "# Make a copy from the reference (base) scenario\n",
    "# WEAP.Scenarios.Add('UpdateCacheDemand','Reference')\n",
    "print '---------------------- \\n'\n",
    "print 'Scenarios added to the WeberOgdenRiversLab-3_scenarios WEAP area'  "
   ]
  },
  {
   "cell_type": "markdown",
   "metadata": {},
   "source": [
    "# get the scenariois reliability "
   ]
  },
  {
   "cell_type": "code",
   "execution_count": 22,
   "metadata": {},
   "outputs": [
    {
     "name": "stdout",
     "output_type": "stream",
     "text": [
      "WeberOgdenRiversLab-3_scenarios\n",
      "WeberOgdenRiversLab-3_scenarios\n",
      "WeberOgdenRiversLab-3_scenarios\n",
      "Please wait 1-3 min for the calculation to finish\n",
      "\n",
      " \n",
      " The calculation has been done and saved\n",
      "Done\n",
      "Current Accounts\n",
      "Reference\n",
      "Evaporation\n",
      "Headflow\n",
      "Demand\n",
      "done\n",
      "OrderedDict([('Current Accounts', OrderedDict([('BranchName', ['Weber Basin Proj. Ogd Valley', 'Wanship to Echo']), ('Reliability', [0.0, 0.0])])), ('Reference', OrderedDict([('BranchName', ['Weber Basin Proj. Ogd Valley', 'Wanship to Echo']), ('Reliability', [0.0, 0.0])])), ('Evaporation', OrderedDict([('BranchName', ['Weber Basin Proj. Ogd Valley', 'Wanship to Echo']), ('Reliability', [0.0, 0.0])])), ('Headflow', OrderedDict([('BranchName', ['Weber Basin Proj. Ogd Valley', 'Wanship to Echo']), ('Reliability', [0.0, 0.0])])), ('Demand', OrderedDict([('BranchName', ['Weber Basin Proj. Ogd Valley', 'Wanship to Echo']), ('Reliability', [0.0, 0.0])]))])\n"
     ]
    }
   ],
   "source": [
    "import win32com.client\n",
    "\n",
    "WEAP=win32com.client.Dispatch(\"WEAP.WEAPApplication\")\n",
    "#-----------------------------------------------------------------\n",
    "print WEAP.ActiveArea.Name \n",
    "WEAP.ActiveArea = \"WeberOgdenRiversLab-3_scenarios\"  \n",
    "print WEAP.ActiveArea.Name \n",
    "\n",
    "WEAP.Areas(\"WeberOgdenRiversLab-3_scenarios\").Open\n",
    "WEAP.ActiveArea = \"WeberOgdenRiversLab-3_scenarios\"  \n",
    "print WEAP.ActiveArea.Name\n",
    "#-----------------------------------------------------------------\n",
    "\n",
    "\n",
    "print 'Please wait 1-3 min for the calculation to finish'\n",
    "# WEAP.Calculate(2006,10,True)\n",
    "# WEAP.SaveArea\n",
    "\n",
    "print '\\n \\n The calculation has been done and saved'\n",
    "# print WEAP.CalculationTime\n",
    "\n",
    "print 'Done'\n",
    "\n",
    "SelectDemandSites=['Weber Basin Proj. Ogd Valley','Wanship to Echo']\n",
    "\n",
    "\n",
    "\n",
    "Result3= OrderedDict()\n",
    "# columns=['ScenarioName','BranchName','Reliability']\n",
    "# Result=OrderedDict() \n",
    "\n",
    "# group:ScenarioName\n",
    "# Key=BranchName\n",
    "# value:BranchName\n",
    "    \n",
    "for ScenarioName in WEAP.Scenarios:\n",
    "    print ScenarioName\n",
    "    WEAP.ActiveScenario=ScenarioName\n",
    "\n",
    "    #print str(ScenarioName)\n",
    "    scenarioKey = str(ScenarioName)\n",
    "    Result3[scenarioKey] = OrderedDict()\n",
    "    \n",
    "    BranchNames = []\n",
    "    Reliabilities = []\n",
    "    \n",
    "    for Branch in WEAP.Branches:\n",
    "        if Branch.TypeName=='Demand Site' and Branch.IsNode:\n",
    "            FullBranchName=Branch.FullName\n",
    "            BranchName=Branch.Name\n",
    "            for SelectSite in SelectDemandSites:\n",
    "                if SelectSite==BranchName:\n",
    "                    if WEAP.Branch(FullBranchName).Variables.Exists(\"Reliability\"):\n",
    "                        #Result['ScenarioName'] = ScenarioName\n",
    "                        BranchNames.append(BranchName)\n",
    "                        Reliabilities.append(WEAP.Branch(FullBranchName).Variables(\"Reliability\").Value)\n",
    "    \n",
    "    NewReliabilities = []\n",
    "    for site in SelectDemandSites:\n",
    "        index = BranchNames.index(site)\n",
    "        NewReliabilities.append(Reliabilities[index])\n",
    "    \n",
    "    Result3[scenarioKey]['BranchName'] = SelectDemandSites\n",
    "    Result3[scenarioKey]['Reliability'] = NewReliabilities\n",
    "\n",
    "print 'done'\n",
    "            \n",
    "print Result3            \n",
    " "
   ]
  },
  {
   "cell_type": "markdown",
   "metadata": {},
   "source": [
    "# Get the sedemionation"
   ]
  },
  {
   "cell_type": "code",
   "execution_count": 23,
   "metadata": {},
   "outputs": [
    {
     "name": "stdout",
     "output_type": "stream",
     "text": [
      "WeberOgdenRiversLab-3_scenarios\n",
      "WeberOgdenRiversLab-3_sedimentation\n",
      "WeberOgdenRiversLab-3_sedimentation\n",
      "Please wait 1-3 min for the calculation to finish\n",
      "\n",
      " \n",
      " The calculation has been done and saved\n",
      "Done\n",
      "Current Accounts\n",
      "Reference\n",
      "done\n",
      "OrderedDict([('Current Accounts', OrderedDict([('BranchName', ['Weber Basin Proj. Ogd Valley', 'Wanship to Echo']), ('Reliability', [0.0, 0.0])])), ('Reference', OrderedDict([('BranchName', ['Weber Basin Proj. Ogd Valley', 'Wanship to Echo']), ('Reliability', [0.0, 0.0])]))])\n"
     ]
    }
   ],
   "source": [
    "WEAP=win32com.client.Dispatch(\"WEAP.WEAPApplication\")\n",
    "\n",
    "#-----------------------------------------------------------------\n",
    "print WEAP.ActiveArea.Name \n",
    "WEAP.ActiveArea = \"WeberOgdenRiversLab-3_sedimentation\"  \n",
    "print WEAP.ActiveArea.Name \n",
    "\n",
    "WEAP.Areas(\"WeberOgdenRiversLab-3_sedimentation\").Open\n",
    "WEAP.ActiveArea = \"WeberOgdenRiversLab-3_sedimentation\"  \n",
    "print WEAP.ActiveArea.Name\n",
    "#-----------------------------------------------------------------\n",
    "\n",
    "\n",
    "print 'Please wait 1-3 min for the calculation to finish'\n",
    "# WEAP.Calculate(2006,10,True)\n",
    "WEAP.SaveArea\n",
    "\n",
    "print '\\n \\n The calculation has been done and saved'\n",
    "# print WEAP.CalculationTime\n",
    "\n",
    "print 'Done'\n",
    "\n",
    "# WEAP.Visible = 'FALSE'\n",
    "\n",
    "SelectDemandSites=['Weber Basin Proj. Ogd Valley','Wanship to Echo']\n",
    "\n",
    "\n",
    "\n",
    "Result4= OrderedDict()\n",
    "    \n",
    "for ScenarioName in WEAP.Scenarios:\n",
    "    print ScenarioName\n",
    "\n",
    "#     if ScenarioName=='Reference':\n",
    "    WEAP.ActiveScenario=ScenarioName\n",
    "\n",
    "    #print str(ScenarioName)\n",
    "    scenarioKey = str(ScenarioName)\n",
    "    Result4[scenarioKey] = OrderedDict()\n",
    "\n",
    "    BranchNames = []\n",
    "    Reliabilities = []\n",
    "\n",
    "    for Branch in WEAP.Branches:\n",
    "        if Branch.TypeName=='Demand Site' and Branch.IsNode:\n",
    "            FullBranchName=Branch.FullName\n",
    "            BranchName=Branch.Name\n",
    "            for SelectSite in SelectDemandSites:\n",
    "                if SelectSite==BranchName:\n",
    "                    if WEAP.Branch(FullBranchName).Variables.Exists(\"Reliability\"):\n",
    "                        #Result['ScenarioName'] = ScenarioName\n",
    "                        BranchNames.append(BranchName)\n",
    "                        Reliabilities.append(WEAP.Branch(FullBranchName).Variables(\"Reliability\").Value)\n",
    "    \n",
    "        \n",
    "    NewReliabilities = []\n",
    "    for site in SelectDemandSites:\n",
    "        index = BranchNames.index(site)\n",
    "        NewReliabilities.append(Reliabilities[index])\n",
    "    \n",
    "    \n",
    "    Result4[scenarioKey]['BranchName'] = SelectDemandSites\n",
    "    Result4[scenarioKey]['Reliability'] = NewReliabilities\n",
    "\n",
    "print 'done'\n",
    "print Result4        "
   ]
  },
  {
   "cell_type": "code",
   "execution_count": 24,
   "metadata": {},
   "outputs": [
    {
     "name": "stdout",
     "output_type": "stream",
     "text": [
      "['Montpelier Irr', 'Highline Canal', 'Hyrum Canal', 'Bird Refuge', 'Logan Potable'] [0.0, 0.0, 0.0, 0.0, 0.0]\n"
     ]
    }
   ],
   "source": [
    "print Result['Reference']['BranchName'],\n",
    "print Result['Reference']['Reliability'],"
   ]
  },
  {
   "cell_type": "markdown",
   "metadata": {},
   "source": [
    "# Plot reliability"
   ]
  },
  {
   "cell_type": "code",
   "execution_count": 26,
   "metadata": {
    "scrolled": true
   },
   "outputs": [
    {
     "data": {
      "application/vnd.plotly.v1+json": {
       "config": {
        "linkText": "Export to plot.ly",
        "plotlyServerURL": "https://plot.ly",
        "showLink": false
       },
       "data": [
        {
         "marker": {
          "color": "#290AD8"
         },
         "mode": "lines+markers",
         "name": "Reduce demand by 10%",
         "type": "scatter",
         "x": [
          "Montpelier Irr",
          "Highline Canal",
          "Hyrum Canal",
          "Bird Refuge",
          "Logan Potable"
         ],
         "y": [
          0,
          0,
          0,
          0,
          0
         ]
        },
        {
         "marker": {
          "color": "#000000"
         },
         "mode": "lines+markers",
         "name": "Base Case",
         "type": "scatter",
         "x": [
          "Montpelier Irr",
          "Highline Canal",
          "Hyrum Canal",
          "Bird Refuge",
          "Logan Potable"
         ],
         "y": [
          0,
          0,
          0,
          0,
          0
         ]
        },
        {
         "marker": {
          "color": "#3FA0FF"
         },
         "mode": "lines+markers",
         "name": "Increase evaporation by 10%",
         "type": "scatter",
         "x": [
          "Montpelier Irr",
          "Highline Canal",
          "Hyrum Canal",
          "Bird Refuge",
          "Logan Potable"
         ],
         "y": [
          0,
          0,
          0,
          0,
          0
         ]
        },
        {
         "marker": {
          "color": "#72D9FF"
         },
         "mode": "lines+markers",
         "name": "Reduce reservoir capacities by 10%",
         "type": "scatter",
         "x": [
          "Montpelier Irr",
          "Highline Canal",
          "Hyrum Canal",
          "Bird Refuge",
          "Logan Potable"
         ],
         "y": [
          0,
          0,
          0,
          0,
          0
         ]
        },
        {
         "marker": {
          "color": "#AAF7FF"
         },
         "mode": "lines+markers",
         "name": "Reduce headflows by 10%",
         "type": "scatter",
         "x": [
          "Montpelier Irr",
          "Highline Canal",
          "Hyrum Canal",
          "Bird Refuge",
          "Logan Potable"
         ],
         "y": [
          0,
          0,
          0,
          0,
          0
         ]
        },
        {
         "marker": {
          "color": "#290AD8"
         },
         "mode": "lines+markers",
         "name": "Reduce demand by 10%",
         "showlegend": false,
         "type": "scatter",
         "x": [
          "Weber Basin Proj. Ogd Valley",
          "Wanship to Echo"
         ],
         "y": [
          0,
          0
         ]
        },
        {
         "marker": {
          "color": "#000000"
         },
         "mode": "lines+markers",
         "name": "Base Case",
         "showlegend": false,
         "type": "scatter",
         "x": [
          "Weber Basin Proj. Ogd Valley",
          "Wanship to Echo"
         ],
         "y": [
          0,
          0
         ]
        },
        {
         "marker": {
          "color": "#3FA0FF"
         },
         "mode": "lines+markers",
         "name": "Increase evaporation by 10%",
         "showlegend": false,
         "type": "scatter",
         "x": [
          "Weber Basin Proj. Ogd Valley",
          "Wanship to Echo"
         ],
         "y": [
          0,
          0
         ]
        },
        {
         "marker": {
          "color": "#72D9FF"
         },
         "mode": "lines+markers",
         "name": "Reduce reservoir capacities by 10%",
         "showlegend": false,
         "type": "scatter",
         "x": [
          "Weber Basin Proj. Ogd Valley",
          "Wanship to Echo"
         ],
         "y": [
          0,
          0
         ]
        },
        {
         "marker": {
          "color": "#AAF7FF"
         },
         "mode": "lines+markers",
         "name": "Reduce headflows by 10%",
         "showlegend": false,
         "type": "scatter",
         "x": [
          "Weber Basin Proj. Ogd Valley",
          "Wanship to Echo"
         ],
         "y": [
          0,
          0
         ]
        }
       ],
       "layout": {
        "font": {
         "color": "#00000f",
         "family": "arial",
         "size": 25
        },
        "height": 700,
        "legend": {
         "bordercolor": "#00000f",
         "borderwidth": 2,
         "x": 1,
         "y": 0.56
        },
        "margin": {
         "b": 200,
         "l": 130
        },
        "shapes": [
         {
          "type": "line",
          "x0": 0,
          "x1": 1,
          "xref": "paper",
          "y0": 40,
          "y1": 40,
          "yref": "y"
         }
        ],
        "showlegend": true,
        "template": {
         "data": {
          "bar": [
           {
            "error_x": {
             "color": "#2a3f5f"
            },
            "error_y": {
             "color": "#2a3f5f"
            },
            "marker": {
             "line": {
              "color": "#E5ECF6",
              "width": 0.5
             }
            },
            "type": "bar"
           }
          ],
          "barpolar": [
           {
            "marker": {
             "line": {
              "color": "#E5ECF6",
              "width": 0.5
             }
            },
            "type": "barpolar"
           }
          ],
          "carpet": [
           {
            "aaxis": {
             "endlinecolor": "#2a3f5f",
             "gridcolor": "white",
             "linecolor": "white",
             "minorgridcolor": "white",
             "startlinecolor": "#2a3f5f"
            },
            "baxis": {
             "endlinecolor": "#2a3f5f",
             "gridcolor": "white",
             "linecolor": "white",
             "minorgridcolor": "white",
             "startlinecolor": "#2a3f5f"
            },
            "type": "carpet"
           }
          ],
          "choropleth": [
           {
            "colorbar": {
             "outlinewidth": 0,
             "ticks": ""
            },
            "type": "choropleth"
           }
          ],
          "contour": [
           {
            "colorbar": {
             "outlinewidth": 0,
             "ticks": ""
            },
            "colorscale": [
             [
              0,
              "#0d0887"
             ],
             [
              0.1111111111111111,
              "#46039f"
             ],
             [
              0.2222222222222222,
              "#7201a8"
             ],
             [
              0.3333333333333333,
              "#9c179e"
             ],
             [
              0.4444444444444444,
              "#bd3786"
             ],
             [
              0.5555555555555556,
              "#d8576b"
             ],
             [
              0.6666666666666666,
              "#ed7953"
             ],
             [
              0.7777777777777778,
              "#fb9f3a"
             ],
             [
              0.8888888888888888,
              "#fdca26"
             ],
             [
              1,
              "#f0f921"
             ]
            ],
            "type": "contour"
           }
          ],
          "contourcarpet": [
           {
            "colorbar": {
             "outlinewidth": 0,
             "ticks": ""
            },
            "type": "contourcarpet"
           }
          ],
          "heatmap": [
           {
            "colorbar": {
             "outlinewidth": 0,
             "ticks": ""
            },
            "colorscale": [
             [
              0,
              "#0d0887"
             ],
             [
              0.1111111111111111,
              "#46039f"
             ],
             [
              0.2222222222222222,
              "#7201a8"
             ],
             [
              0.3333333333333333,
              "#9c179e"
             ],
             [
              0.4444444444444444,
              "#bd3786"
             ],
             [
              0.5555555555555556,
              "#d8576b"
             ],
             [
              0.6666666666666666,
              "#ed7953"
             ],
             [
              0.7777777777777778,
              "#fb9f3a"
             ],
             [
              0.8888888888888888,
              "#fdca26"
             ],
             [
              1,
              "#f0f921"
             ]
            ],
            "type": "heatmap"
           }
          ],
          "heatmapgl": [
           {
            "colorbar": {
             "outlinewidth": 0,
             "ticks": ""
            },
            "colorscale": [
             [
              0,
              "#0d0887"
             ],
             [
              0.1111111111111111,
              "#46039f"
             ],
             [
              0.2222222222222222,
              "#7201a8"
             ],
             [
              0.3333333333333333,
              "#9c179e"
             ],
             [
              0.4444444444444444,
              "#bd3786"
             ],
             [
              0.5555555555555556,
              "#d8576b"
             ],
             [
              0.6666666666666666,
              "#ed7953"
             ],
             [
              0.7777777777777778,
              "#fb9f3a"
             ],
             [
              0.8888888888888888,
              "#fdca26"
             ],
             [
              1,
              "#f0f921"
             ]
            ],
            "type": "heatmapgl"
           }
          ],
          "histogram": [
           {
            "marker": {
             "colorbar": {
              "outlinewidth": 0,
              "ticks": ""
             }
            },
            "type": "histogram"
           }
          ],
          "histogram2d": [
           {
            "colorbar": {
             "outlinewidth": 0,
             "ticks": ""
            },
            "colorscale": [
             [
              0,
              "#0d0887"
             ],
             [
              0.1111111111111111,
              "#46039f"
             ],
             [
              0.2222222222222222,
              "#7201a8"
             ],
             [
              0.3333333333333333,
              "#9c179e"
             ],
             [
              0.4444444444444444,
              "#bd3786"
             ],
             [
              0.5555555555555556,
              "#d8576b"
             ],
             [
              0.6666666666666666,
              "#ed7953"
             ],
             [
              0.7777777777777778,
              "#fb9f3a"
             ],
             [
              0.8888888888888888,
              "#fdca26"
             ],
             [
              1,
              "#f0f921"
             ]
            ],
            "type": "histogram2d"
           }
          ],
          "histogram2dcontour": [
           {
            "colorbar": {
             "outlinewidth": 0,
             "ticks": ""
            },
            "colorscale": [
             [
              0,
              "#0d0887"
             ],
             [
              0.1111111111111111,
              "#46039f"
             ],
             [
              0.2222222222222222,
              "#7201a8"
             ],
             [
              0.3333333333333333,
              "#9c179e"
             ],
             [
              0.4444444444444444,
              "#bd3786"
             ],
             [
              0.5555555555555556,
              "#d8576b"
             ],
             [
              0.6666666666666666,
              "#ed7953"
             ],
             [
              0.7777777777777778,
              "#fb9f3a"
             ],
             [
              0.8888888888888888,
              "#fdca26"
             ],
             [
              1,
              "#f0f921"
             ]
            ],
            "type": "histogram2dcontour"
           }
          ],
          "mesh3d": [
           {
            "colorbar": {
             "outlinewidth": 0,
             "ticks": ""
            },
            "type": "mesh3d"
           }
          ],
          "parcoords": [
           {
            "line": {
             "colorbar": {
              "outlinewidth": 0,
              "ticks": ""
             }
            },
            "type": "parcoords"
           }
          ],
          "pie": [
           {
            "automargin": true,
            "type": "pie"
           }
          ],
          "scatter": [
           {
            "marker": {
             "colorbar": {
              "outlinewidth": 0,
              "ticks": ""
             }
            },
            "type": "scatter"
           }
          ],
          "scatter3d": [
           {
            "line": {
             "colorbar": {
              "outlinewidth": 0,
              "ticks": ""
             }
            },
            "marker": {
             "colorbar": {
              "outlinewidth": 0,
              "ticks": ""
             }
            },
            "type": "scatter3d"
           }
          ],
          "scattercarpet": [
           {
            "marker": {
             "colorbar": {
              "outlinewidth": 0,
              "ticks": ""
             }
            },
            "type": "scattercarpet"
           }
          ],
          "scattergeo": [
           {
            "marker": {
             "colorbar": {
              "outlinewidth": 0,
              "ticks": ""
             }
            },
            "type": "scattergeo"
           }
          ],
          "scattergl": [
           {
            "marker": {
             "colorbar": {
              "outlinewidth": 0,
              "ticks": ""
             }
            },
            "type": "scattergl"
           }
          ],
          "scattermapbox": [
           {
            "marker": {
             "colorbar": {
              "outlinewidth": 0,
              "ticks": ""
             }
            },
            "type": "scattermapbox"
           }
          ],
          "scatterpolar": [
           {
            "marker": {
             "colorbar": {
              "outlinewidth": 0,
              "ticks": ""
             }
            },
            "type": "scatterpolar"
           }
          ],
          "scatterpolargl": [
           {
            "marker": {
             "colorbar": {
              "outlinewidth": 0,
              "ticks": ""
             }
            },
            "type": "scatterpolargl"
           }
          ],
          "scatterternary": [
           {
            "marker": {
             "colorbar": {
              "outlinewidth": 0,
              "ticks": ""
             }
            },
            "type": "scatterternary"
           }
          ],
          "surface": [
           {
            "colorbar": {
             "outlinewidth": 0,
             "ticks": ""
            },
            "colorscale": [
             [
              0,
              "#0d0887"
             ],
             [
              0.1111111111111111,
              "#46039f"
             ],
             [
              0.2222222222222222,
              "#7201a8"
             ],
             [
              0.3333333333333333,
              "#9c179e"
             ],
             [
              0.4444444444444444,
              "#bd3786"
             ],
             [
              0.5555555555555556,
              "#d8576b"
             ],
             [
              0.6666666666666666,
              "#ed7953"
             ],
             [
              0.7777777777777778,
              "#fb9f3a"
             ],
             [
              0.8888888888888888,
              "#fdca26"
             ],
             [
              1,
              "#f0f921"
             ]
            ],
            "type": "surface"
           }
          ],
          "table": [
           {
            "cells": {
             "fill": {
              "color": "#EBF0F8"
             },
             "line": {
              "color": "white"
             }
            },
            "header": {
             "fill": {
              "color": "#C8D4E3"
             },
             "line": {
              "color": "white"
             }
            },
            "type": "table"
           }
          ]
         },
         "layout": {
          "annotationdefaults": {
           "arrowcolor": "#2a3f5f",
           "arrowhead": 0,
           "arrowwidth": 1
          },
          "autotypenumbers": "strict",
          "coloraxis": {
           "colorbar": {
            "outlinewidth": 0,
            "ticks": ""
           }
          },
          "colorscale": {
           "diverging": [
            [
             0,
             "#8e0152"
            ],
            [
             0.1,
             "#c51b7d"
            ],
            [
             0.2,
             "#de77ae"
            ],
            [
             0.3,
             "#f1b6da"
            ],
            [
             0.4,
             "#fde0ef"
            ],
            [
             0.5,
             "#f7f7f7"
            ],
            [
             0.6,
             "#e6f5d0"
            ],
            [
             0.7,
             "#b8e186"
            ],
            [
             0.8,
             "#7fbc41"
            ],
            [
             0.9,
             "#4d9221"
            ],
            [
             1,
             "#276419"
            ]
           ],
           "sequential": [
            [
             0,
             "#0d0887"
            ],
            [
             0.1111111111111111,
             "#46039f"
            ],
            [
             0.2222222222222222,
             "#7201a8"
            ],
            [
             0.3333333333333333,
             "#9c179e"
            ],
            [
             0.4444444444444444,
             "#bd3786"
            ],
            [
             0.5555555555555556,
             "#d8576b"
            ],
            [
             0.6666666666666666,
             "#ed7953"
            ],
            [
             0.7777777777777778,
             "#fb9f3a"
            ],
            [
             0.8888888888888888,
             "#fdca26"
            ],
            [
             1,
             "#f0f921"
            ]
           ],
           "sequentialminus": [
            [
             0,
             "#0d0887"
            ],
            [
             0.1111111111111111,
             "#46039f"
            ],
            [
             0.2222222222222222,
             "#7201a8"
            ],
            [
             0.3333333333333333,
             "#9c179e"
            ],
            [
             0.4444444444444444,
             "#bd3786"
            ],
            [
             0.5555555555555556,
             "#d8576b"
            ],
            [
             0.6666666666666666,
             "#ed7953"
            ],
            [
             0.7777777777777778,
             "#fb9f3a"
            ],
            [
             0.8888888888888888,
             "#fdca26"
            ],
            [
             1,
             "#f0f921"
            ]
           ]
          },
          "colorway": [
           "#636efa",
           "#EF553B",
           "#00cc96",
           "#ab63fa",
           "#FFA15A",
           "#19d3f3",
           "#FF6692",
           "#B6E880",
           "#FF97FF",
           "#FECB52"
          ],
          "font": {
           "color": "#2a3f5f"
          },
          "geo": {
           "bgcolor": "white",
           "lakecolor": "white",
           "landcolor": "#E5ECF6",
           "showlakes": true,
           "showland": true,
           "subunitcolor": "white"
          },
          "hoverlabel": {
           "align": "left"
          },
          "hovermode": "closest",
          "mapbox": {
           "style": "light"
          },
          "paper_bgcolor": "white",
          "plot_bgcolor": "#E5ECF6",
          "polar": {
           "angularaxis": {
            "gridcolor": "white",
            "linecolor": "white",
            "ticks": ""
           },
           "bgcolor": "#E5ECF6",
           "radialaxis": {
            "gridcolor": "white",
            "linecolor": "white",
            "ticks": ""
           }
          },
          "scene": {
           "xaxis": {
            "backgroundcolor": "#E5ECF6",
            "gridcolor": "white",
            "gridwidth": 2,
            "linecolor": "white",
            "showbackground": true,
            "ticks": "",
            "zerolinecolor": "white"
           },
           "yaxis": {
            "backgroundcolor": "#E5ECF6",
            "gridcolor": "white",
            "gridwidth": 2,
            "linecolor": "white",
            "showbackground": true,
            "ticks": "",
            "zerolinecolor": "white"
           },
           "zaxis": {
            "backgroundcolor": "#E5ECF6",
            "gridcolor": "white",
            "gridwidth": 2,
            "linecolor": "white",
            "showbackground": true,
            "ticks": "",
            "zerolinecolor": "white"
           }
          },
          "shapedefaults": {
           "line": {
            "color": "#2a3f5f"
           }
          },
          "ternary": {
           "aaxis": {
            "gridcolor": "white",
            "linecolor": "white",
            "ticks": ""
           },
           "baxis": {
            "gridcolor": "white",
            "linecolor": "white",
            "ticks": ""
           },
           "bgcolor": "#E5ECF6",
           "caxis": {
            "gridcolor": "white",
            "linecolor": "white",
            "ticks": ""
           }
          },
          "title": {
           "x": 0.05
          },
          "xaxis": {
           "automargin": true,
           "gridcolor": "white",
           "linecolor": "white",
           "ticks": "",
           "title": {
            "standoff": 15
           },
           "zerolinecolor": "white",
           "zerolinewidth": 2
          },
          "yaxis": {
           "automargin": true,
           "gridcolor": "white",
           "linecolor": "white",
           "ticks": "",
           "title": {
            "standoff": 15
           },
           "zerolinecolor": "white",
           "zerolinewidth": 2
          }
         }
        },
        "width": 1100,
        "xaxis": {
         "gridwidth": 1,
         "showgrid": true,
         "tickcolor": "#000",
         "tickfont": {
          "size": 22
         },
         "ticklen": 10,
         "ticks": "inside"
        },
        "yaxis": {
         "dtick": "10",
         "gridwidth": 1,
         "range": [
          40,
          105
         ],
         "showgrid": true,
         "showline": true,
         "tick0": 40,
         "tickcolor": "#000",
         "tickformat": ",",
         "ticklen": 10,
         "ticks": "outside",
         "title": {
          "text": "Demand reliability (%)"
         }
        }
       }
      },
      "text/html": [
       "<div>                            <div id=\"556ab9dc-32a8-4b5b-9ed1-163f2ebf972d\" class=\"plotly-graph-div\" style=\"height:700px; width:1100px;\"></div>            <script type=\"text/javascript\">                require([\"plotly\"], function(Plotly) {                    window.PLOTLYENV=window.PLOTLYENV || {};                                    if (document.getElementById(\"556ab9dc-32a8-4b5b-9ed1-163f2ebf972d\")) {                    Plotly.newPlot(                        \"556ab9dc-32a8-4b5b-9ed1-163f2ebf972d\",                        [{\"marker\": {\"color\": \"#290AD8\"}, \"mode\": \"lines+markers\", \"name\": \"Reduce demand by 10%\", \"type\": \"scatter\", \"x\": [\"Montpelier Irr\", \"Highline Canal\", \"Hyrum Canal\", \"Bird Refuge\", \"Logan Potable\"], \"y\": [0.0, 0.0, 0.0, 0.0, 0.0]}, {\"marker\": {\"color\": \"#000000\"}, \"mode\": \"lines+markers\", \"name\": \"Base Case\", \"type\": \"scatter\", \"x\": [\"Montpelier Irr\", \"Highline Canal\", \"Hyrum Canal\", \"Bird Refuge\", \"Logan Potable\"], \"y\": [0.0, 0.0, 0.0, 0.0, 0.0]}, {\"marker\": {\"color\": \"#3FA0FF\"}, \"mode\": \"lines+markers\", \"name\": \"Increase evaporation by 10%\", \"type\": \"scatter\", \"x\": [\"Montpelier Irr\", \"Highline Canal\", \"Hyrum Canal\", \"Bird Refuge\", \"Logan Potable\"], \"y\": [0.0, 0.0, 0.0, 0.0, 0.0]}, {\"marker\": {\"color\": \"#72D9FF\"}, \"mode\": \"lines+markers\", \"name\": \"Reduce reservoir capacities by 10%\", \"type\": \"scatter\", \"x\": [\"Montpelier Irr\", \"Highline Canal\", \"Hyrum Canal\", \"Bird Refuge\", \"Logan Potable\"], \"y\": [0.0, 0.0, 0.0, 0.0, 0.0]}, {\"marker\": {\"color\": \"#AAF7FF\"}, \"mode\": \"lines+markers\", \"name\": \"Reduce headflows by 10%\", \"type\": \"scatter\", \"x\": [\"Montpelier Irr\", \"Highline Canal\", \"Hyrum Canal\", \"Bird Refuge\", \"Logan Potable\"], \"y\": [0.0, 0.0, 0.0, 0.0, 0.0]}, {\"marker\": {\"color\": \"#290AD8\"}, \"mode\": \"lines+markers\", \"name\": \"Reduce demand by 10%\", \"showlegend\": false, \"type\": \"scatter\", \"x\": [\"Weber Basin Proj. Ogd Valley\", \"Wanship to Echo\"], \"y\": [0.0, 0.0]}, {\"marker\": {\"color\": \"#000000\"}, \"mode\": \"lines+markers\", \"name\": \"Base Case\", \"showlegend\": false, \"type\": \"scatter\", \"x\": [\"Weber Basin Proj. Ogd Valley\", \"Wanship to Echo\"], \"y\": [0.0, 0.0]}, {\"marker\": {\"color\": \"#3FA0FF\"}, \"mode\": \"lines+markers\", \"name\": \"Increase evaporation by 10%\", \"showlegend\": false, \"type\": \"scatter\", \"x\": [\"Weber Basin Proj. Ogd Valley\", \"Wanship to Echo\"], \"y\": [0.0, 0.0]}, {\"marker\": {\"color\": \"#72D9FF\"}, \"mode\": \"lines+markers\", \"name\": \"Reduce reservoir capacities by 10%\", \"showlegend\": false, \"type\": \"scatter\", \"x\": [\"Weber Basin Proj. Ogd Valley\", \"Wanship to Echo\"], \"y\": [0.0, 0.0]}, {\"marker\": {\"color\": \"#AAF7FF\"}, \"mode\": \"lines+markers\", \"name\": \"Reduce headflows by 10%\", \"showlegend\": false, \"type\": \"scatter\", \"x\": [\"Weber Basin Proj. Ogd Valley\", \"Wanship to Echo\"], \"y\": [0.0, 0.0]}],                        {\"font\": {\"color\": \"#00000f\", \"family\": \"arial\", \"size\": 25}, \"height\": 700, \"legend\": {\"bordercolor\": \"#00000f\", \"borderwidth\": 2, \"x\": 1, \"y\": 0.56}, \"margin\": {\"b\": 200, \"l\": 130}, \"shapes\": [{\"type\": \"line\", \"x0\": 0, \"x1\": 1, \"xref\": \"paper\", \"y0\": 40, \"y1\": 40, \"yref\": \"y\"}], \"showlegend\": true, \"template\": {\"data\": {\"bar\": [{\"error_x\": {\"color\": \"#2a3f5f\"}, \"error_y\": {\"color\": \"#2a3f5f\"}, \"marker\": {\"line\": {\"color\": \"#E5ECF6\", \"width\": 0.5}}, \"type\": \"bar\"}], \"barpolar\": [{\"marker\": {\"line\": {\"color\": \"#E5ECF6\", \"width\": 0.5}}, \"type\": \"barpolar\"}], \"carpet\": [{\"aaxis\": {\"endlinecolor\": \"#2a3f5f\", \"gridcolor\": \"white\", \"linecolor\": \"white\", \"minorgridcolor\": \"white\", \"startlinecolor\": \"#2a3f5f\"}, \"baxis\": {\"endlinecolor\": \"#2a3f5f\", \"gridcolor\": \"white\", \"linecolor\": \"white\", \"minorgridcolor\": \"white\", \"startlinecolor\": \"#2a3f5f\"}, \"type\": \"carpet\"}], \"choropleth\": [{\"colorbar\": {\"outlinewidth\": 0, \"ticks\": \"\"}, \"type\": \"choropleth\"}], \"contour\": [{\"colorbar\": {\"outlinewidth\": 0, \"ticks\": \"\"}, \"colorscale\": [[0.0, \"#0d0887\"], [0.1111111111111111, \"#46039f\"], [0.2222222222222222, \"#7201a8\"], [0.3333333333333333, \"#9c179e\"], [0.4444444444444444, \"#bd3786\"], [0.5555555555555556, \"#d8576b\"], [0.6666666666666666, \"#ed7953\"], [0.7777777777777778, \"#fb9f3a\"], [0.8888888888888888, \"#fdca26\"], [1.0, \"#f0f921\"]], \"type\": \"contour\"}], \"contourcarpet\": [{\"colorbar\": {\"outlinewidth\": 0, \"ticks\": \"\"}, \"type\": \"contourcarpet\"}], \"heatmap\": [{\"colorbar\": {\"outlinewidth\": 0, \"ticks\": \"\"}, \"colorscale\": [[0.0, \"#0d0887\"], [0.1111111111111111, \"#46039f\"], [0.2222222222222222, \"#7201a8\"], [0.3333333333333333, \"#9c179e\"], [0.4444444444444444, \"#bd3786\"], [0.5555555555555556, \"#d8576b\"], [0.6666666666666666, \"#ed7953\"], [0.7777777777777778, \"#fb9f3a\"], [0.8888888888888888, \"#fdca26\"], [1.0, \"#f0f921\"]], \"type\": \"heatmap\"}], \"heatmapgl\": [{\"colorbar\": {\"outlinewidth\": 0, \"ticks\": \"\"}, \"colorscale\": [[0.0, \"#0d0887\"], [0.1111111111111111, \"#46039f\"], [0.2222222222222222, \"#7201a8\"], [0.3333333333333333, \"#9c179e\"], [0.4444444444444444, \"#bd3786\"], [0.5555555555555556, \"#d8576b\"], [0.6666666666666666, \"#ed7953\"], [0.7777777777777778, \"#fb9f3a\"], [0.8888888888888888, \"#fdca26\"], [1.0, \"#f0f921\"]], \"type\": \"heatmapgl\"}], \"histogram\": [{\"marker\": {\"colorbar\": {\"outlinewidth\": 0, \"ticks\": \"\"}}, \"type\": \"histogram\"}], \"histogram2d\": [{\"colorbar\": {\"outlinewidth\": 0, \"ticks\": \"\"}, \"colorscale\": [[0.0, \"#0d0887\"], [0.1111111111111111, \"#46039f\"], [0.2222222222222222, \"#7201a8\"], [0.3333333333333333, \"#9c179e\"], [0.4444444444444444, \"#bd3786\"], [0.5555555555555556, \"#d8576b\"], [0.6666666666666666, \"#ed7953\"], [0.7777777777777778, \"#fb9f3a\"], [0.8888888888888888, \"#fdca26\"], [1.0, \"#f0f921\"]], \"type\": \"histogram2d\"}], \"histogram2dcontour\": [{\"colorbar\": {\"outlinewidth\": 0, \"ticks\": \"\"}, \"colorscale\": [[0.0, \"#0d0887\"], [0.1111111111111111, \"#46039f\"], [0.2222222222222222, \"#7201a8\"], [0.3333333333333333, \"#9c179e\"], [0.4444444444444444, \"#bd3786\"], [0.5555555555555556, \"#d8576b\"], [0.6666666666666666, \"#ed7953\"], [0.7777777777777778, \"#fb9f3a\"], [0.8888888888888888, \"#fdca26\"], [1.0, \"#f0f921\"]], \"type\": \"histogram2dcontour\"}], \"mesh3d\": [{\"colorbar\": {\"outlinewidth\": 0, \"ticks\": \"\"}, \"type\": \"mesh3d\"}], \"parcoords\": [{\"line\": {\"colorbar\": {\"outlinewidth\": 0, \"ticks\": \"\"}}, \"type\": \"parcoords\"}], \"pie\": [{\"automargin\": true, \"type\": \"pie\"}], \"scatter\": [{\"marker\": {\"colorbar\": {\"outlinewidth\": 0, \"ticks\": \"\"}}, \"type\": \"scatter\"}], \"scatter3d\": [{\"line\": {\"colorbar\": {\"outlinewidth\": 0, \"ticks\": \"\"}}, \"marker\": {\"colorbar\": {\"outlinewidth\": 0, \"ticks\": \"\"}}, \"type\": \"scatter3d\"}], \"scattercarpet\": [{\"marker\": {\"colorbar\": {\"outlinewidth\": 0, \"ticks\": \"\"}}, \"type\": \"scattercarpet\"}], \"scattergeo\": [{\"marker\": {\"colorbar\": {\"outlinewidth\": 0, \"ticks\": \"\"}}, \"type\": \"scattergeo\"}], \"scattergl\": [{\"marker\": {\"colorbar\": {\"outlinewidth\": 0, \"ticks\": \"\"}}, \"type\": \"scattergl\"}], \"scattermapbox\": [{\"marker\": {\"colorbar\": {\"outlinewidth\": 0, \"ticks\": \"\"}}, \"type\": \"scattermapbox\"}], \"scatterpolar\": [{\"marker\": {\"colorbar\": {\"outlinewidth\": 0, \"ticks\": \"\"}}, \"type\": \"scatterpolar\"}], \"scatterpolargl\": [{\"marker\": {\"colorbar\": {\"outlinewidth\": 0, \"ticks\": \"\"}}, \"type\": \"scatterpolargl\"}], \"scatterternary\": [{\"marker\": {\"colorbar\": {\"outlinewidth\": 0, \"ticks\": \"\"}}, \"type\": \"scatterternary\"}], \"surface\": [{\"colorbar\": {\"outlinewidth\": 0, \"ticks\": \"\"}, \"colorscale\": [[0.0, \"#0d0887\"], [0.1111111111111111, \"#46039f\"], [0.2222222222222222, \"#7201a8\"], [0.3333333333333333, \"#9c179e\"], [0.4444444444444444, \"#bd3786\"], [0.5555555555555556, \"#d8576b\"], [0.6666666666666666, \"#ed7953\"], [0.7777777777777778, \"#fb9f3a\"], [0.8888888888888888, \"#fdca26\"], [1.0, \"#f0f921\"]], \"type\": \"surface\"}], \"table\": [{\"cells\": {\"fill\": {\"color\": \"#EBF0F8\"}, \"line\": {\"color\": \"white\"}}, \"header\": {\"fill\": {\"color\": \"#C8D4E3\"}, \"line\": {\"color\": \"white\"}}, \"type\": \"table\"}]}, \"layout\": {\"annotationdefaults\": {\"arrowcolor\": \"#2a3f5f\", \"arrowhead\": 0, \"arrowwidth\": 1}, \"autotypenumbers\": \"strict\", \"coloraxis\": {\"colorbar\": {\"outlinewidth\": 0, \"ticks\": \"\"}}, \"colorscale\": {\"diverging\": [[0, \"#8e0152\"], [0.1, \"#c51b7d\"], [0.2, \"#de77ae\"], [0.3, \"#f1b6da\"], [0.4, \"#fde0ef\"], [0.5, \"#f7f7f7\"], [0.6, \"#e6f5d0\"], [0.7, \"#b8e186\"], [0.8, \"#7fbc41\"], [0.9, \"#4d9221\"], [1, \"#276419\"]], \"sequential\": [[0.0, \"#0d0887\"], [0.1111111111111111, \"#46039f\"], [0.2222222222222222, \"#7201a8\"], [0.3333333333333333, \"#9c179e\"], [0.4444444444444444, \"#bd3786\"], [0.5555555555555556, \"#d8576b\"], [0.6666666666666666, \"#ed7953\"], [0.7777777777777778, \"#fb9f3a\"], [0.8888888888888888, \"#fdca26\"], [1.0, \"#f0f921\"]], \"sequentialminus\": [[0.0, \"#0d0887\"], [0.1111111111111111, \"#46039f\"], [0.2222222222222222, \"#7201a8\"], [0.3333333333333333, \"#9c179e\"], [0.4444444444444444, \"#bd3786\"], [0.5555555555555556, \"#d8576b\"], [0.6666666666666666, \"#ed7953\"], [0.7777777777777778, \"#fb9f3a\"], [0.8888888888888888, \"#fdca26\"], [1.0, \"#f0f921\"]]}, \"colorway\": [\"#636efa\", \"#EF553B\", \"#00cc96\", \"#ab63fa\", \"#FFA15A\", \"#19d3f3\", \"#FF6692\", \"#B6E880\", \"#FF97FF\", \"#FECB52\"], \"font\": {\"color\": \"#2a3f5f\"}, \"geo\": {\"bgcolor\": \"white\", \"lakecolor\": \"white\", \"landcolor\": \"#E5ECF6\", \"showlakes\": true, \"showland\": true, \"subunitcolor\": \"white\"}, \"hoverlabel\": {\"align\": \"left\"}, \"hovermode\": \"closest\", \"mapbox\": {\"style\": \"light\"}, \"paper_bgcolor\": \"white\", \"plot_bgcolor\": \"#E5ECF6\", \"polar\": {\"angularaxis\": {\"gridcolor\": \"white\", \"linecolor\": \"white\", \"ticks\": \"\"}, \"bgcolor\": \"#E5ECF6\", \"radialaxis\": {\"gridcolor\": \"white\", \"linecolor\": \"white\", \"ticks\": \"\"}}, \"scene\": {\"xaxis\": {\"backgroundcolor\": \"#E5ECF6\", \"gridcolor\": \"white\", \"gridwidth\": 2, \"linecolor\": \"white\", \"showbackground\": true, \"ticks\": \"\", \"zerolinecolor\": \"white\"}, \"yaxis\": {\"backgroundcolor\": \"#E5ECF6\", \"gridcolor\": \"white\", \"gridwidth\": 2, \"linecolor\": \"white\", \"showbackground\": true, \"ticks\": \"\", \"zerolinecolor\": \"white\"}, \"zaxis\": {\"backgroundcolor\": \"#E5ECF6\", \"gridcolor\": \"white\", \"gridwidth\": 2, \"linecolor\": \"white\", \"showbackground\": true, \"ticks\": \"\", \"zerolinecolor\": \"white\"}}, \"shapedefaults\": {\"line\": {\"color\": \"#2a3f5f\"}}, \"ternary\": {\"aaxis\": {\"gridcolor\": \"white\", \"linecolor\": \"white\", \"ticks\": \"\"}, \"baxis\": {\"gridcolor\": \"white\", \"linecolor\": \"white\", \"ticks\": \"\"}, \"bgcolor\": \"#E5ECF6\", \"caxis\": {\"gridcolor\": \"white\", \"linecolor\": \"white\", \"ticks\": \"\"}}, \"title\": {\"x\": 0.05}, \"xaxis\": {\"automargin\": true, \"gridcolor\": \"white\", \"linecolor\": \"white\", \"ticks\": \"\", \"title\": {\"standoff\": 15}, \"zerolinecolor\": \"white\", \"zerolinewidth\": 2}, \"yaxis\": {\"automargin\": true, \"gridcolor\": \"white\", \"linecolor\": \"white\", \"ticks\": \"\", \"title\": {\"standoff\": 15}, \"zerolinecolor\": \"white\", \"zerolinewidth\": 2}}}, \"width\": 1100, \"xaxis\": {\"gridwidth\": 1, \"showgrid\": true, \"tickcolor\": \"#000\", \"tickfont\": {\"size\": 22}, \"ticklen\": 10, \"ticks\": \"inside\"}, \"yaxis\": {\"dtick\": \"10\", \"gridwidth\": 1, \"range\": [40, 105], \"showgrid\": true, \"showline\": true, \"tick0\": 40, \"tickcolor\": \"#000\", \"tickformat\": \",\", \"ticklen\": 10, \"ticks\": \"outside\", \"title\": {\"text\": \"Demand reliability (%)\"}}},                        {\"responsive\": true}                    ).then(function(){\n",
       "                            \n",
       "var gd = document.getElementById('556ab9dc-32a8-4b5b-9ed1-163f2ebf972d');\n",
       "var x = new MutationObserver(function (mutations, observer) {{\n",
       "        var display = window.getComputedStyle(gd).display;\n",
       "        if (!display || display === 'none') {{\n",
       "            console.log([gd, 'removed!']);\n",
       "            Plotly.purge(gd);\n",
       "            observer.disconnect();\n",
       "        }}\n",
       "}});\n",
       "\n",
       "// Listen for the removal of the full notebook cells\n",
       "var notebookContainer = gd.closest('#notebook-container');\n",
       "if (notebookContainer) {{\n",
       "    x.observe(notebookContainer, {childList: true});\n",
       "}}\n",
       "\n",
       "// Listen for the clearing of the current output cell\n",
       "var outputEl = gd.closest('.output');\n",
       "if (outputEl) {{\n",
       "    x.observe(outputEl, {childList: true});\n",
       "}}\n",
       "\n",
       "                        })                };                });            </script>        </div>"
      ]
     },
     "metadata": {},
     "output_type": "display_data"
    },
    {
     "name": "stdout",
     "output_type": "stream",
     "text": [
      "Figure x is replicated!!\n"
     ]
    }
   ],
   "source": [
    "scenario1 = go.Scatter(\n",
    "    x=Result['Demand']['BranchName'],\n",
    "    y=Result['Demand']['Reliability'],\n",
    "    name = 'Reduce demand by 10%',   \n",
    "    mode = 'lines+markers',\n",
    "\n",
    "    marker = dict(\n",
    "        color = '#290AD8'\n",
    "))\n",
    "\n",
    "\n",
    "scenario2 = go.Scatter(\n",
    "    x=Result['Reference']['BranchName'],\n",
    "    y=Result['Reference']['Reliability'],\n",
    "    name = 'Base Case', \n",
    "        mode = 'lines+markers',\n",
    "\n",
    "    marker = dict(\n",
    "        color = '#000000',\n",
    "    \n",
    "))\n",
    "\n",
    "scenario3 = go.Scatter(\n",
    "    x=Result['Evaporation']['BranchName'],\n",
    "    y=Result['Evaporation']['Reliability'],\n",
    "    name = 'Increase evaporation by 10%', \n",
    "    mode = 'lines+markers',\n",
    "\n",
    "    marker = dict(\n",
    "        color = '#3FA0FF'\n",
    "))\n",
    "\n",
    "\n",
    "\n",
    "scenario4 = go.Scatter(\n",
    "    x=Result2['Reference']['BranchName'],\n",
    "    y=Result2['Reference']['Reliability'],\n",
    "    name = 'Reduce reservoir capacities by 10%',   \n",
    "    mode = 'lines+markers',\n",
    "\n",
    "    marker = dict(\n",
    "        color = '#72D9FF'\n",
    "))\n",
    "\n",
    "\n",
    "\n",
    "scenario5 = go.Scatter(\n",
    "    x=Result['Headflow']['BranchName'],\n",
    "    y=Result['Headflow']['Reliability'],\n",
    "    name = 'Reduce headflows by 10%',   \n",
    "    mode = 'lines+markers',\n",
    "\n",
    "    marker = dict(\n",
    "        color = '#AAF7FF'\n",
    "))\n",
    "\n",
    "\n",
    "#$$$$$$$$$$$$$$$$$$$$$$$$$$$$$$$$$$$$$$$$$$$$$$$$$$$$$$$$$$\n",
    "\n",
    "scenario11 = go.Scatter(\n",
    "    x=Result3['Demand']['BranchName'],\n",
    "    y=Result3['Demand']['Reliability'],\n",
    "    name = 'Reduce demand by 10%',   \n",
    "    mode = 'lines+markers',\n",
    "    showlegend=False,\n",
    "\n",
    "    marker = dict(\n",
    "        color = '#290AD8'\n",
    "))\n",
    "\n",
    "\n",
    "scenario12 = go.Scatter(\n",
    "    x=Result3['Reference']['BranchName'],\n",
    "    y=Result3['Reference']['Reliability'],\n",
    "    name = 'Base Case', \n",
    "        mode = 'lines+markers',\n",
    "    showlegend=False,\n",
    "\n",
    "    marker = dict(\n",
    "        color = '#000000',\n",
    "    \n",
    "))\n",
    "\n",
    "scenario13 = go.Scatter(\n",
    "    x=Result3['Evaporation']['BranchName'],\n",
    "    y=Result3['Evaporation']['Reliability'],\n",
    "    name = 'Increase evaporation by 10%', \n",
    "    mode = 'lines+markers',\n",
    "    showlegend=False,\n",
    "\n",
    "    marker = dict(\n",
    "        color = '#3FA0FF'\n",
    "))\n",
    "\n",
    "\n",
    "\n",
    "scenario14 = go.Scatter(\n",
    "    x=Result4['Reference']['BranchName'],\n",
    "    y=Result4['Reference']['Reliability'],\n",
    "    name = 'Reduce reservoir capacities by 10%',   \n",
    "    mode = 'lines+markers',\n",
    "    showlegend=False,\n",
    "\n",
    "    marker = dict(\n",
    "        color = '#72D9FF'\n",
    "))\n",
    "\n",
    "\n",
    "\n",
    "scenario15 = go.Scatter(\n",
    "    x=Result3['Headflow']['BranchName'],\n",
    "    y=Result3['Headflow']['Reliability'],\n",
    "    name = 'Reduce headflows by 10%',   \n",
    "    mode = 'lines+markers',\n",
    "    showlegend=False,\n",
    "    marker = dict(\n",
    "        color = '#AAF7FF'\n",
    "))\n",
    "\n",
    "\n",
    "\n",
    "\n",
    "layout = dict(\n",
    "    #title = \"Use Case 3.3\",\n",
    "    yaxis = dict(\n",
    "        title = \"Demand reliability (%)\",\n",
    "        tickformat= ',',\n",
    "        showline=True,\n",
    "        tick0=40,\n",
    "\n",
    "        dtick='10',\n",
    "        ticks='outside',\n",
    "        range = [40, 105],\n",
    "        ticklen=10,\n",
    "        tickcolor='#000',\n",
    "        gridwidth=1,\n",
    "        showgrid=True,\n",
    "\n",
    "                ),\n",
    "    \n",
    "    xaxis = dict(\n",
    "#         title = \"Updated input parameters in the <br>Bear_River_WEAP_Model_2017\",\n",
    "#         showline=True,\n",
    "        ticks='inside',\n",
    "        tickfont=dict(size=22),\n",
    "            tickcolor='#000',\n",
    "        gridwidth=1,\n",
    "        showgrid=True,\n",
    "\n",
    "        ticklen=10\n",
    "                    ),\n",
    "        legend=dict(\n",
    "        x=1,y=.56,\n",
    "          bordercolor='#00000f',\n",
    "            borderwidth=2\n",
    "        \n",
    "               ),\n",
    "    width=1100,\n",
    "    height=700,\n",
    "    #paper_bgcolor='rgb(233,233,233)',\n",
    "    #plot_bgcolor='rgb(233,233,233)',\n",
    "    margin=go.Margin(l=130,b=200),\n",
    "    font=dict(size=25,family='arial',color='#00000f'),\n",
    "\n",
    "    showlegend=True,\n",
    "    shapes=[{'type': 'line', \n",
    "                                           'x0': 0, 'x1': 1, 'xref': 'paper',\n",
    "                                           'y0': 40, 'y1': 40, 'yref': 'y'}]\n",
    "                )\n",
    "\n",
    "\n",
    "data = [scenario1, scenario2,scenario3,scenario4,scenario5,scenario11, scenario12,scenario13,scenario14,scenario15]\n",
    "\n",
    "\n",
    "# create a figure object\n",
    "fig = dict(data=data, layout=layout)\n",
    "#py.iplot(fig, filename = \"2.3Identify_SeasonalValues\") \n",
    "\n",
    "\n",
    "## it can be run from the local machine on Pycharm like this like below\n",
    "## It would also work here offline but in a seperate window  \n",
    "offline.iplot(fig,filename = 'jupyter/UnmentDemand@BirdRefuge' )       \n",
    "\n",
    "print \"Figure x is replicated!!\""
   ]
  },
  {
   "cell_type": "markdown",
   "metadata": {
    "collapsed": true
   },
   "source": [
    "# Bar"
   ]
  },
  {
   "cell_type": "code",
   "execution_count": 33,
   "metadata": {},
   "outputs": [
    {
     "data": {
      "application/vnd.plotly.v1+json": {
       "config": {
        "linkText": "Export to plot.ly",
        "plotlyServerURL": "https://plot.ly",
        "showLink": false
       },
       "data": [
        {
         "marker": {
          "color": "#290AD8"
         },
         "name": "Reduce demand by 10%",
         "type": "bar",
         "x": [
          "Montpelier Irr",
          "Highline Canal",
          "Hyrum Canal",
          "Bird Refuge",
          "Logan Potable"
         ],
         "y": [
          0,
          0,
          0,
          0,
          0
         ]
        },
        {
         "marker": {
          "color": "#000000"
         },
         "name": "Base Case",
         "type": "bar",
         "x": [
          "Montpelier Irr",
          "Highline Canal",
          "Hyrum Canal",
          "Bird Refuge",
          "Logan Potable"
         ],
         "y": [
          0,
          0,
          0,
          0,
          0
         ]
        },
        {
         "marker": {
          "color": "#3FA0FF"
         },
         "name": "Increase evaporation by 10%",
         "type": "bar",
         "x": [
          "Montpelier Irr",
          "Highline Canal",
          "Hyrum Canal",
          "Bird Refuge",
          "Logan Potable"
         ],
         "y": [
          0,
          0,
          0,
          0,
          0
         ]
        },
        {
         "marker": {
          "color": "#72D9FF"
         },
         "name": "Reduce reservoir capacities by 10%",
         "type": "bar",
         "x": [
          "Montpelier Irr",
          "Highline Canal",
          "Hyrum Canal",
          "Bird Refuge",
          "Logan Potable"
         ],
         "y": [
          0,
          0,
          0,
          0,
          0
         ]
        },
        {
         "marker": {
          "color": "#AAF7FF"
         },
         "name": "Reduce headflows by 10%",
         "type": "bar",
         "x": [
          "Montpelier Irr",
          "Highline Canal",
          "Hyrum Canal",
          "Bird Refuge",
          "Logan Potable"
         ],
         "y": [
          0,
          0,
          0,
          0,
          0
         ]
        },
        {
         "marker": {
          "color": "#A50021"
         },
         "name": "Reduce demand by 10%",
         "type": "bar",
         "x": [
          "Weber Basin Proj. Ogd Valley",
          "Wanship to Echo"
         ],
         "y": [
          0,
          0
         ]
        },
        {
         "marker": {
          "color": "#000000"
         },
         "name": "Base Case",
         "type": "bar",
         "x": [
          "Weber Basin Proj. Ogd Valley",
          "Wanship to Echo"
         ],
         "y": [
          0,
          0
         ]
        },
        {
         "marker": {
          "color": "#D82632"
         },
         "name": "Increase evaporation by 10%",
         "type": "bar",
         "x": [
          "Weber Basin Proj. Ogd Valley",
          "Wanship to Echo"
         ],
         "y": [
          0,
          0
         ]
        },
        {
         "marker": {
          "color": "#F76D5E"
         },
         "name": "Reduce reservoir capacities by 10%",
         "type": "bar",
         "x": [
          "Weber Basin Proj. Ogd Valley",
          "Wanship to Echo"
         ],
         "y": [
          0,
          0
         ]
        },
        {
         "marker": {
          "color": "#FFAD72"
         },
         "name": "Reduce headflows by 10%",
         "type": "bar",
         "x": [
          "Weber Basin Proj. Ogd Valley",
          "Wanship to Echo"
         ],
         "y": [
          0,
          0
         ]
        }
       ],
       "layout": {
        "font": {
         "color": "#00000f",
         "family": "arial",
         "size": 25
        },
        "height": 700,
        "legend": {
         "bordercolor": "#00000f",
         "borderwidth": 2,
         "x": 1,
         "y": 0.56
        },
        "margin": {
         "b": 200,
         "l": 130
        },
        "shapes": [
         {
          "type": "line",
          "x0": 0,
          "x1": 1,
          "xref": "paper",
          "y0": 40,
          "y1": 40,
          "yref": "y"
         }
        ],
        "showlegend": true,
        "template": {
         "data": {
          "bar": [
           {
            "error_x": {
             "color": "#2a3f5f"
            },
            "error_y": {
             "color": "#2a3f5f"
            },
            "marker": {
             "line": {
              "color": "#E5ECF6",
              "width": 0.5
             }
            },
            "type": "bar"
           }
          ],
          "barpolar": [
           {
            "marker": {
             "line": {
              "color": "#E5ECF6",
              "width": 0.5
             }
            },
            "type": "barpolar"
           }
          ],
          "carpet": [
           {
            "aaxis": {
             "endlinecolor": "#2a3f5f",
             "gridcolor": "white",
             "linecolor": "white",
             "minorgridcolor": "white",
             "startlinecolor": "#2a3f5f"
            },
            "baxis": {
             "endlinecolor": "#2a3f5f",
             "gridcolor": "white",
             "linecolor": "white",
             "minorgridcolor": "white",
             "startlinecolor": "#2a3f5f"
            },
            "type": "carpet"
           }
          ],
          "choropleth": [
           {
            "colorbar": {
             "outlinewidth": 0,
             "ticks": ""
            },
            "type": "choropleth"
           }
          ],
          "contour": [
           {
            "colorbar": {
             "outlinewidth": 0,
             "ticks": ""
            },
            "colorscale": [
             [
              0,
              "#0d0887"
             ],
             [
              0.1111111111111111,
              "#46039f"
             ],
             [
              0.2222222222222222,
              "#7201a8"
             ],
             [
              0.3333333333333333,
              "#9c179e"
             ],
             [
              0.4444444444444444,
              "#bd3786"
             ],
             [
              0.5555555555555556,
              "#d8576b"
             ],
             [
              0.6666666666666666,
              "#ed7953"
             ],
             [
              0.7777777777777778,
              "#fb9f3a"
             ],
             [
              0.8888888888888888,
              "#fdca26"
             ],
             [
              1,
              "#f0f921"
             ]
            ],
            "type": "contour"
           }
          ],
          "contourcarpet": [
           {
            "colorbar": {
             "outlinewidth": 0,
             "ticks": ""
            },
            "type": "contourcarpet"
           }
          ],
          "heatmap": [
           {
            "colorbar": {
             "outlinewidth": 0,
             "ticks": ""
            },
            "colorscale": [
             [
              0,
              "#0d0887"
             ],
             [
              0.1111111111111111,
              "#46039f"
             ],
             [
              0.2222222222222222,
              "#7201a8"
             ],
             [
              0.3333333333333333,
              "#9c179e"
             ],
             [
              0.4444444444444444,
              "#bd3786"
             ],
             [
              0.5555555555555556,
              "#d8576b"
             ],
             [
              0.6666666666666666,
              "#ed7953"
             ],
             [
              0.7777777777777778,
              "#fb9f3a"
             ],
             [
              0.8888888888888888,
              "#fdca26"
             ],
             [
              1,
              "#f0f921"
             ]
            ],
            "type": "heatmap"
           }
          ],
          "heatmapgl": [
           {
            "colorbar": {
             "outlinewidth": 0,
             "ticks": ""
            },
            "colorscale": [
             [
              0,
              "#0d0887"
             ],
             [
              0.1111111111111111,
              "#46039f"
             ],
             [
              0.2222222222222222,
              "#7201a8"
             ],
             [
              0.3333333333333333,
              "#9c179e"
             ],
             [
              0.4444444444444444,
              "#bd3786"
             ],
             [
              0.5555555555555556,
              "#d8576b"
             ],
             [
              0.6666666666666666,
              "#ed7953"
             ],
             [
              0.7777777777777778,
              "#fb9f3a"
             ],
             [
              0.8888888888888888,
              "#fdca26"
             ],
             [
              1,
              "#f0f921"
             ]
            ],
            "type": "heatmapgl"
           }
          ],
          "histogram": [
           {
            "marker": {
             "colorbar": {
              "outlinewidth": 0,
              "ticks": ""
             }
            },
            "type": "histogram"
           }
          ],
          "histogram2d": [
           {
            "colorbar": {
             "outlinewidth": 0,
             "ticks": ""
            },
            "colorscale": [
             [
              0,
              "#0d0887"
             ],
             [
              0.1111111111111111,
              "#46039f"
             ],
             [
              0.2222222222222222,
              "#7201a8"
             ],
             [
              0.3333333333333333,
              "#9c179e"
             ],
             [
              0.4444444444444444,
              "#bd3786"
             ],
             [
              0.5555555555555556,
              "#d8576b"
             ],
             [
              0.6666666666666666,
              "#ed7953"
             ],
             [
              0.7777777777777778,
              "#fb9f3a"
             ],
             [
              0.8888888888888888,
              "#fdca26"
             ],
             [
              1,
              "#f0f921"
             ]
            ],
            "type": "histogram2d"
           }
          ],
          "histogram2dcontour": [
           {
            "colorbar": {
             "outlinewidth": 0,
             "ticks": ""
            },
            "colorscale": [
             [
              0,
              "#0d0887"
             ],
             [
              0.1111111111111111,
              "#46039f"
             ],
             [
              0.2222222222222222,
              "#7201a8"
             ],
             [
              0.3333333333333333,
              "#9c179e"
             ],
             [
              0.4444444444444444,
              "#bd3786"
             ],
             [
              0.5555555555555556,
              "#d8576b"
             ],
             [
              0.6666666666666666,
              "#ed7953"
             ],
             [
              0.7777777777777778,
              "#fb9f3a"
             ],
             [
              0.8888888888888888,
              "#fdca26"
             ],
             [
              1,
              "#f0f921"
             ]
            ],
            "type": "histogram2dcontour"
           }
          ],
          "mesh3d": [
           {
            "colorbar": {
             "outlinewidth": 0,
             "ticks": ""
            },
            "type": "mesh3d"
           }
          ],
          "parcoords": [
           {
            "line": {
             "colorbar": {
              "outlinewidth": 0,
              "ticks": ""
             }
            },
            "type": "parcoords"
           }
          ],
          "pie": [
           {
            "automargin": true,
            "type": "pie"
           }
          ],
          "scatter": [
           {
            "marker": {
             "colorbar": {
              "outlinewidth": 0,
              "ticks": ""
             }
            },
            "type": "scatter"
           }
          ],
          "scatter3d": [
           {
            "line": {
             "colorbar": {
              "outlinewidth": 0,
              "ticks": ""
             }
            },
            "marker": {
             "colorbar": {
              "outlinewidth": 0,
              "ticks": ""
             }
            },
            "type": "scatter3d"
           }
          ],
          "scattercarpet": [
           {
            "marker": {
             "colorbar": {
              "outlinewidth": 0,
              "ticks": ""
             }
            },
            "type": "scattercarpet"
           }
          ],
          "scattergeo": [
           {
            "marker": {
             "colorbar": {
              "outlinewidth": 0,
              "ticks": ""
             }
            },
            "type": "scattergeo"
           }
          ],
          "scattergl": [
           {
            "marker": {
             "colorbar": {
              "outlinewidth": 0,
              "ticks": ""
             }
            },
            "type": "scattergl"
           }
          ],
          "scattermapbox": [
           {
            "marker": {
             "colorbar": {
              "outlinewidth": 0,
              "ticks": ""
             }
            },
            "type": "scattermapbox"
           }
          ],
          "scatterpolar": [
           {
            "marker": {
             "colorbar": {
              "outlinewidth": 0,
              "ticks": ""
             }
            },
            "type": "scatterpolar"
           }
          ],
          "scatterpolargl": [
           {
            "marker": {
             "colorbar": {
              "outlinewidth": 0,
              "ticks": ""
             }
            },
            "type": "scatterpolargl"
           }
          ],
          "scatterternary": [
           {
            "marker": {
             "colorbar": {
              "outlinewidth": 0,
              "ticks": ""
             }
            },
            "type": "scatterternary"
           }
          ],
          "surface": [
           {
            "colorbar": {
             "outlinewidth": 0,
             "ticks": ""
            },
            "colorscale": [
             [
              0,
              "#0d0887"
             ],
             [
              0.1111111111111111,
              "#46039f"
             ],
             [
              0.2222222222222222,
              "#7201a8"
             ],
             [
              0.3333333333333333,
              "#9c179e"
             ],
             [
              0.4444444444444444,
              "#bd3786"
             ],
             [
              0.5555555555555556,
              "#d8576b"
             ],
             [
              0.6666666666666666,
              "#ed7953"
             ],
             [
              0.7777777777777778,
              "#fb9f3a"
             ],
             [
              0.8888888888888888,
              "#fdca26"
             ],
             [
              1,
              "#f0f921"
             ]
            ],
            "type": "surface"
           }
          ],
          "table": [
           {
            "cells": {
             "fill": {
              "color": "#EBF0F8"
             },
             "line": {
              "color": "white"
             }
            },
            "header": {
             "fill": {
              "color": "#C8D4E3"
             },
             "line": {
              "color": "white"
             }
            },
            "type": "table"
           }
          ]
         },
         "layout": {
          "annotationdefaults": {
           "arrowcolor": "#2a3f5f",
           "arrowhead": 0,
           "arrowwidth": 1
          },
          "autotypenumbers": "strict",
          "coloraxis": {
           "colorbar": {
            "outlinewidth": 0,
            "ticks": ""
           }
          },
          "colorscale": {
           "diverging": [
            [
             0,
             "#8e0152"
            ],
            [
             0.1,
             "#c51b7d"
            ],
            [
             0.2,
             "#de77ae"
            ],
            [
             0.3,
             "#f1b6da"
            ],
            [
             0.4,
             "#fde0ef"
            ],
            [
             0.5,
             "#f7f7f7"
            ],
            [
             0.6,
             "#e6f5d0"
            ],
            [
             0.7,
             "#b8e186"
            ],
            [
             0.8,
             "#7fbc41"
            ],
            [
             0.9,
             "#4d9221"
            ],
            [
             1,
             "#276419"
            ]
           ],
           "sequential": [
            [
             0,
             "#0d0887"
            ],
            [
             0.1111111111111111,
             "#46039f"
            ],
            [
             0.2222222222222222,
             "#7201a8"
            ],
            [
             0.3333333333333333,
             "#9c179e"
            ],
            [
             0.4444444444444444,
             "#bd3786"
            ],
            [
             0.5555555555555556,
             "#d8576b"
            ],
            [
             0.6666666666666666,
             "#ed7953"
            ],
            [
             0.7777777777777778,
             "#fb9f3a"
            ],
            [
             0.8888888888888888,
             "#fdca26"
            ],
            [
             1,
             "#f0f921"
            ]
           ],
           "sequentialminus": [
            [
             0,
             "#0d0887"
            ],
            [
             0.1111111111111111,
             "#46039f"
            ],
            [
             0.2222222222222222,
             "#7201a8"
            ],
            [
             0.3333333333333333,
             "#9c179e"
            ],
            [
             0.4444444444444444,
             "#bd3786"
            ],
            [
             0.5555555555555556,
             "#d8576b"
            ],
            [
             0.6666666666666666,
             "#ed7953"
            ],
            [
             0.7777777777777778,
             "#fb9f3a"
            ],
            [
             0.8888888888888888,
             "#fdca26"
            ],
            [
             1,
             "#f0f921"
            ]
           ]
          },
          "colorway": [
           "#636efa",
           "#EF553B",
           "#00cc96",
           "#ab63fa",
           "#FFA15A",
           "#19d3f3",
           "#FF6692",
           "#B6E880",
           "#FF97FF",
           "#FECB52"
          ],
          "font": {
           "color": "#2a3f5f"
          },
          "geo": {
           "bgcolor": "white",
           "lakecolor": "white",
           "landcolor": "#E5ECF6",
           "showlakes": true,
           "showland": true,
           "subunitcolor": "white"
          },
          "hoverlabel": {
           "align": "left"
          },
          "hovermode": "closest",
          "mapbox": {
           "style": "light"
          },
          "paper_bgcolor": "white",
          "plot_bgcolor": "#E5ECF6",
          "polar": {
           "angularaxis": {
            "gridcolor": "white",
            "linecolor": "white",
            "ticks": ""
           },
           "bgcolor": "#E5ECF6",
           "radialaxis": {
            "gridcolor": "white",
            "linecolor": "white",
            "ticks": ""
           }
          },
          "scene": {
           "xaxis": {
            "backgroundcolor": "#E5ECF6",
            "gridcolor": "white",
            "gridwidth": 2,
            "linecolor": "white",
            "showbackground": true,
            "ticks": "",
            "zerolinecolor": "white"
           },
           "yaxis": {
            "backgroundcolor": "#E5ECF6",
            "gridcolor": "white",
            "gridwidth": 2,
            "linecolor": "white",
            "showbackground": true,
            "ticks": "",
            "zerolinecolor": "white"
           },
           "zaxis": {
            "backgroundcolor": "#E5ECF6",
            "gridcolor": "white",
            "gridwidth": 2,
            "linecolor": "white",
            "showbackground": true,
            "ticks": "",
            "zerolinecolor": "white"
           }
          },
          "shapedefaults": {
           "line": {
            "color": "#2a3f5f"
           }
          },
          "ternary": {
           "aaxis": {
            "gridcolor": "white",
            "linecolor": "white",
            "ticks": ""
           },
           "baxis": {
            "gridcolor": "white",
            "linecolor": "white",
            "ticks": ""
           },
           "bgcolor": "#E5ECF6",
           "caxis": {
            "gridcolor": "white",
            "linecolor": "white",
            "ticks": ""
           }
          },
          "title": {
           "x": 0.05
          },
          "xaxis": {
           "automargin": true,
           "gridcolor": "white",
           "linecolor": "white",
           "ticks": "",
           "title": {
            "standoff": 15
           },
           "zerolinecolor": "white",
           "zerolinewidth": 2
          },
          "yaxis": {
           "automargin": true,
           "gridcolor": "white",
           "linecolor": "white",
           "ticks": "",
           "title": {
            "standoff": 15
           },
           "zerolinecolor": "white",
           "zerolinewidth": 2
          }
         }
        },
        "width": 1100,
        "xaxis": {
         "gridwidth": 1,
         "showgrid": true,
         "tickcolor": "#000",
         "tickfont": {
          "size": 22
         },
         "ticklen": 10,
         "ticks": "inside"
        },
        "yaxis": {
         "dtick": "10",
         "gridwidth": 1,
         "range": [
          40,
          105
         ],
         "showgrid": true,
         "showline": true,
         "tick0": 40,
         "tickcolor": "#000",
         "tickformat": ",",
         "ticklen": 10,
         "ticks": "outside",
         "title": {
          "text": "Demand reliability (%)"
         }
        }
       }
      },
      "text/html": [
       "<div>                            <div id=\"37fc28e0-641f-4c4e-b124-3a32c54ec3e7\" class=\"plotly-graph-div\" style=\"height:700px; width:1100px;\"></div>            <script type=\"text/javascript\">                require([\"plotly\"], function(Plotly) {                    window.PLOTLYENV=window.PLOTLYENV || {};                                    if (document.getElementById(\"37fc28e0-641f-4c4e-b124-3a32c54ec3e7\")) {                    Plotly.newPlot(                        \"37fc28e0-641f-4c4e-b124-3a32c54ec3e7\",                        [{\"marker\": {\"color\": \"#290AD8\"}, \"name\": \"Reduce demand by 10%\", \"type\": \"bar\", \"x\": [\"Montpelier Irr\", \"Highline Canal\", \"Hyrum Canal\", \"Bird Refuge\", \"Logan Potable\"], \"y\": [0.0, 0.0, 0.0, 0.0, 0.0]}, {\"marker\": {\"color\": \"#000000\"}, \"name\": \"Base Case\", \"type\": \"bar\", \"x\": [\"Montpelier Irr\", \"Highline Canal\", \"Hyrum Canal\", \"Bird Refuge\", \"Logan Potable\"], \"y\": [0.0, 0.0, 0.0, 0.0, 0.0]}, {\"marker\": {\"color\": \"#3FA0FF\"}, \"name\": \"Increase evaporation by 10%\", \"type\": \"bar\", \"x\": [\"Montpelier Irr\", \"Highline Canal\", \"Hyrum Canal\", \"Bird Refuge\", \"Logan Potable\"], \"y\": [0.0, 0.0, 0.0, 0.0, 0.0]}, {\"marker\": {\"color\": \"#72D9FF\"}, \"name\": \"Reduce reservoir capacities by 10%\", \"type\": \"bar\", \"x\": [\"Montpelier Irr\", \"Highline Canal\", \"Hyrum Canal\", \"Bird Refuge\", \"Logan Potable\"], \"y\": [0.0, 0.0, 0.0, 0.0, 0.0]}, {\"marker\": {\"color\": \"#AAF7FF\"}, \"name\": \"Reduce headflows by 10%\", \"type\": \"bar\", \"x\": [\"Montpelier Irr\", \"Highline Canal\", \"Hyrum Canal\", \"Bird Refuge\", \"Logan Potable\"], \"y\": [0.0, 0.0, 0.0, 0.0, 0.0]}, {\"marker\": {\"color\": \"#A50021\"}, \"name\": \"Reduce demand by 10%\", \"type\": \"bar\", \"x\": [\"Weber Basin Proj. Ogd Valley\", \"Wanship to Echo\"], \"y\": [0.0, 0.0]}, {\"marker\": {\"color\": \"#000000\"}, \"name\": \"Base Case\", \"type\": \"bar\", \"x\": [\"Weber Basin Proj. Ogd Valley\", \"Wanship to Echo\"], \"y\": [0.0, 0.0]}, {\"marker\": {\"color\": \"#D82632\"}, \"name\": \"Increase evaporation by 10%\", \"type\": \"bar\", \"x\": [\"Weber Basin Proj. Ogd Valley\", \"Wanship to Echo\"], \"y\": [0.0, 0.0]}, {\"marker\": {\"color\": \"#F76D5E\"}, \"name\": \"Reduce reservoir capacities by 10%\", \"type\": \"bar\", \"x\": [\"Weber Basin Proj. Ogd Valley\", \"Wanship to Echo\"], \"y\": [0.0, 0.0]}, {\"marker\": {\"color\": \"#FFAD72\"}, \"name\": \"Reduce headflows by 10%\", \"type\": \"bar\", \"x\": [\"Weber Basin Proj. Ogd Valley\", \"Wanship to Echo\"], \"y\": [0.0, 0.0]}],                        {\"font\": {\"color\": \"#00000f\", \"family\": \"arial\", \"size\": 25}, \"height\": 700, \"legend\": {\"bordercolor\": \"#00000f\", \"borderwidth\": 2, \"x\": 1, \"y\": 0.56}, \"margin\": {\"b\": 200, \"l\": 130}, \"shapes\": [{\"type\": \"line\", \"x0\": 0, \"x1\": 1, \"xref\": \"paper\", \"y0\": 40, \"y1\": 40, \"yref\": \"y\"}], \"showlegend\": true, \"template\": {\"data\": {\"bar\": [{\"error_x\": {\"color\": \"#2a3f5f\"}, \"error_y\": {\"color\": \"#2a3f5f\"}, \"marker\": {\"line\": {\"color\": \"#E5ECF6\", \"width\": 0.5}}, \"type\": \"bar\"}], \"barpolar\": [{\"marker\": {\"line\": {\"color\": \"#E5ECF6\", \"width\": 0.5}}, \"type\": \"barpolar\"}], \"carpet\": [{\"aaxis\": {\"endlinecolor\": \"#2a3f5f\", \"gridcolor\": \"white\", \"linecolor\": \"white\", \"minorgridcolor\": \"white\", \"startlinecolor\": \"#2a3f5f\"}, \"baxis\": {\"endlinecolor\": \"#2a3f5f\", \"gridcolor\": \"white\", \"linecolor\": \"white\", \"minorgridcolor\": \"white\", \"startlinecolor\": \"#2a3f5f\"}, \"type\": \"carpet\"}], \"choropleth\": [{\"colorbar\": {\"outlinewidth\": 0, \"ticks\": \"\"}, \"type\": \"choropleth\"}], \"contour\": [{\"colorbar\": {\"outlinewidth\": 0, \"ticks\": \"\"}, \"colorscale\": [[0.0, \"#0d0887\"], [0.1111111111111111, \"#46039f\"], [0.2222222222222222, \"#7201a8\"], [0.3333333333333333, \"#9c179e\"], [0.4444444444444444, \"#bd3786\"], [0.5555555555555556, \"#d8576b\"], [0.6666666666666666, \"#ed7953\"], [0.7777777777777778, \"#fb9f3a\"], [0.8888888888888888, \"#fdca26\"], [1.0, \"#f0f921\"]], \"type\": \"contour\"}], \"contourcarpet\": [{\"colorbar\": {\"outlinewidth\": 0, \"ticks\": \"\"}, \"type\": \"contourcarpet\"}], \"heatmap\": [{\"colorbar\": {\"outlinewidth\": 0, \"ticks\": \"\"}, \"colorscale\": [[0.0, \"#0d0887\"], [0.1111111111111111, \"#46039f\"], [0.2222222222222222, \"#7201a8\"], [0.3333333333333333, \"#9c179e\"], [0.4444444444444444, \"#bd3786\"], [0.5555555555555556, \"#d8576b\"], [0.6666666666666666, \"#ed7953\"], [0.7777777777777778, \"#fb9f3a\"], [0.8888888888888888, \"#fdca26\"], [1.0, \"#f0f921\"]], \"type\": \"heatmap\"}], \"heatmapgl\": [{\"colorbar\": {\"outlinewidth\": 0, \"ticks\": \"\"}, \"colorscale\": [[0.0, \"#0d0887\"], [0.1111111111111111, \"#46039f\"], [0.2222222222222222, \"#7201a8\"], [0.3333333333333333, \"#9c179e\"], [0.4444444444444444, \"#bd3786\"], [0.5555555555555556, \"#d8576b\"], [0.6666666666666666, \"#ed7953\"], [0.7777777777777778, \"#fb9f3a\"], [0.8888888888888888, \"#fdca26\"], [1.0, \"#f0f921\"]], \"type\": \"heatmapgl\"}], \"histogram\": [{\"marker\": {\"colorbar\": {\"outlinewidth\": 0, \"ticks\": \"\"}}, \"type\": \"histogram\"}], \"histogram2d\": [{\"colorbar\": {\"outlinewidth\": 0, \"ticks\": \"\"}, \"colorscale\": [[0.0, \"#0d0887\"], [0.1111111111111111, \"#46039f\"], [0.2222222222222222, \"#7201a8\"], [0.3333333333333333, \"#9c179e\"], [0.4444444444444444, \"#bd3786\"], [0.5555555555555556, \"#d8576b\"], [0.6666666666666666, \"#ed7953\"], [0.7777777777777778, \"#fb9f3a\"], [0.8888888888888888, \"#fdca26\"], [1.0, \"#f0f921\"]], \"type\": \"histogram2d\"}], \"histogram2dcontour\": [{\"colorbar\": {\"outlinewidth\": 0, \"ticks\": \"\"}, \"colorscale\": [[0.0, \"#0d0887\"], [0.1111111111111111, \"#46039f\"], [0.2222222222222222, \"#7201a8\"], [0.3333333333333333, \"#9c179e\"], [0.4444444444444444, \"#bd3786\"], [0.5555555555555556, \"#d8576b\"], [0.6666666666666666, \"#ed7953\"], [0.7777777777777778, \"#fb9f3a\"], [0.8888888888888888, \"#fdca26\"], [1.0, \"#f0f921\"]], \"type\": \"histogram2dcontour\"}], \"mesh3d\": [{\"colorbar\": {\"outlinewidth\": 0, \"ticks\": \"\"}, \"type\": \"mesh3d\"}], \"parcoords\": [{\"line\": {\"colorbar\": {\"outlinewidth\": 0, \"ticks\": \"\"}}, \"type\": \"parcoords\"}], \"pie\": [{\"automargin\": true, \"type\": \"pie\"}], \"scatter\": [{\"marker\": {\"colorbar\": {\"outlinewidth\": 0, \"ticks\": \"\"}}, \"type\": \"scatter\"}], \"scatter3d\": [{\"line\": {\"colorbar\": {\"outlinewidth\": 0, \"ticks\": \"\"}}, \"marker\": {\"colorbar\": {\"outlinewidth\": 0, \"ticks\": \"\"}}, \"type\": \"scatter3d\"}], \"scattercarpet\": [{\"marker\": {\"colorbar\": {\"outlinewidth\": 0, \"ticks\": \"\"}}, \"type\": \"scattercarpet\"}], \"scattergeo\": [{\"marker\": {\"colorbar\": {\"outlinewidth\": 0, \"ticks\": \"\"}}, \"type\": \"scattergeo\"}], \"scattergl\": [{\"marker\": {\"colorbar\": {\"outlinewidth\": 0, \"ticks\": \"\"}}, \"type\": \"scattergl\"}], \"scattermapbox\": [{\"marker\": {\"colorbar\": {\"outlinewidth\": 0, \"ticks\": \"\"}}, \"type\": \"scattermapbox\"}], \"scatterpolar\": [{\"marker\": {\"colorbar\": {\"outlinewidth\": 0, \"ticks\": \"\"}}, \"type\": \"scatterpolar\"}], \"scatterpolargl\": [{\"marker\": {\"colorbar\": {\"outlinewidth\": 0, \"ticks\": \"\"}}, \"type\": \"scatterpolargl\"}], \"scatterternary\": [{\"marker\": {\"colorbar\": {\"outlinewidth\": 0, \"ticks\": \"\"}}, \"type\": \"scatterternary\"}], \"surface\": [{\"colorbar\": {\"outlinewidth\": 0, \"ticks\": \"\"}, \"colorscale\": [[0.0, \"#0d0887\"], [0.1111111111111111, \"#46039f\"], [0.2222222222222222, \"#7201a8\"], [0.3333333333333333, \"#9c179e\"], [0.4444444444444444, \"#bd3786\"], [0.5555555555555556, \"#d8576b\"], [0.6666666666666666, \"#ed7953\"], [0.7777777777777778, \"#fb9f3a\"], [0.8888888888888888, \"#fdca26\"], [1.0, \"#f0f921\"]], \"type\": \"surface\"}], \"table\": [{\"cells\": {\"fill\": {\"color\": \"#EBF0F8\"}, \"line\": {\"color\": \"white\"}}, \"header\": {\"fill\": {\"color\": \"#C8D4E3\"}, \"line\": {\"color\": \"white\"}}, \"type\": \"table\"}]}, \"layout\": {\"annotationdefaults\": {\"arrowcolor\": \"#2a3f5f\", \"arrowhead\": 0, \"arrowwidth\": 1}, \"autotypenumbers\": \"strict\", \"coloraxis\": {\"colorbar\": {\"outlinewidth\": 0, \"ticks\": \"\"}}, \"colorscale\": {\"diverging\": [[0, \"#8e0152\"], [0.1, \"#c51b7d\"], [0.2, \"#de77ae\"], [0.3, \"#f1b6da\"], [0.4, \"#fde0ef\"], [0.5, \"#f7f7f7\"], [0.6, \"#e6f5d0\"], [0.7, \"#b8e186\"], [0.8, \"#7fbc41\"], [0.9, \"#4d9221\"], [1, \"#276419\"]], \"sequential\": [[0.0, \"#0d0887\"], [0.1111111111111111, \"#46039f\"], [0.2222222222222222, \"#7201a8\"], [0.3333333333333333, \"#9c179e\"], [0.4444444444444444, \"#bd3786\"], [0.5555555555555556, \"#d8576b\"], [0.6666666666666666, \"#ed7953\"], [0.7777777777777778, \"#fb9f3a\"], [0.8888888888888888, \"#fdca26\"], [1.0, \"#f0f921\"]], \"sequentialminus\": [[0.0, \"#0d0887\"], [0.1111111111111111, \"#46039f\"], [0.2222222222222222, \"#7201a8\"], [0.3333333333333333, \"#9c179e\"], [0.4444444444444444, \"#bd3786\"], [0.5555555555555556, \"#d8576b\"], [0.6666666666666666, \"#ed7953\"], [0.7777777777777778, \"#fb9f3a\"], [0.8888888888888888, \"#fdca26\"], [1.0, \"#f0f921\"]]}, \"colorway\": [\"#636efa\", \"#EF553B\", \"#00cc96\", \"#ab63fa\", \"#FFA15A\", \"#19d3f3\", \"#FF6692\", \"#B6E880\", \"#FF97FF\", \"#FECB52\"], \"font\": {\"color\": \"#2a3f5f\"}, \"geo\": {\"bgcolor\": \"white\", \"lakecolor\": \"white\", \"landcolor\": \"#E5ECF6\", \"showlakes\": true, \"showland\": true, \"subunitcolor\": \"white\"}, \"hoverlabel\": {\"align\": \"left\"}, \"hovermode\": \"closest\", \"mapbox\": {\"style\": \"light\"}, \"paper_bgcolor\": \"white\", \"plot_bgcolor\": \"#E5ECF6\", \"polar\": {\"angularaxis\": {\"gridcolor\": \"white\", \"linecolor\": \"white\", \"ticks\": \"\"}, \"bgcolor\": \"#E5ECF6\", \"radialaxis\": {\"gridcolor\": \"white\", \"linecolor\": \"white\", \"ticks\": \"\"}}, \"scene\": {\"xaxis\": {\"backgroundcolor\": \"#E5ECF6\", \"gridcolor\": \"white\", \"gridwidth\": 2, \"linecolor\": \"white\", \"showbackground\": true, \"ticks\": \"\", \"zerolinecolor\": \"white\"}, \"yaxis\": {\"backgroundcolor\": \"#E5ECF6\", \"gridcolor\": \"white\", \"gridwidth\": 2, \"linecolor\": \"white\", \"showbackground\": true, \"ticks\": \"\", \"zerolinecolor\": \"white\"}, \"zaxis\": {\"backgroundcolor\": \"#E5ECF6\", \"gridcolor\": \"white\", \"gridwidth\": 2, \"linecolor\": \"white\", \"showbackground\": true, \"ticks\": \"\", \"zerolinecolor\": \"white\"}}, \"shapedefaults\": {\"line\": {\"color\": \"#2a3f5f\"}}, \"ternary\": {\"aaxis\": {\"gridcolor\": \"white\", \"linecolor\": \"white\", \"ticks\": \"\"}, \"baxis\": {\"gridcolor\": \"white\", \"linecolor\": \"white\", \"ticks\": \"\"}, \"bgcolor\": \"#E5ECF6\", \"caxis\": {\"gridcolor\": \"white\", \"linecolor\": \"white\", \"ticks\": \"\"}}, \"title\": {\"x\": 0.05}, \"xaxis\": {\"automargin\": true, \"gridcolor\": \"white\", \"linecolor\": \"white\", \"ticks\": \"\", \"title\": {\"standoff\": 15}, \"zerolinecolor\": \"white\", \"zerolinewidth\": 2}, \"yaxis\": {\"automargin\": true, \"gridcolor\": \"white\", \"linecolor\": \"white\", \"ticks\": \"\", \"title\": {\"standoff\": 15}, \"zerolinecolor\": \"white\", \"zerolinewidth\": 2}}}, \"width\": 1100, \"xaxis\": {\"gridwidth\": 1, \"showgrid\": true, \"tickcolor\": \"#000\", \"tickfont\": {\"size\": 22}, \"ticklen\": 10, \"ticks\": \"inside\"}, \"yaxis\": {\"dtick\": \"10\", \"gridwidth\": 1, \"range\": [40, 105], \"showgrid\": true, \"showline\": true, \"tick0\": 40, \"tickcolor\": \"#000\", \"tickformat\": \",\", \"ticklen\": 10, \"ticks\": \"outside\", \"title\": {\"text\": \"Demand reliability (%)\"}}},                        {\"responsive\": true}                    ).then(function(){\n",
       "                            \n",
       "var gd = document.getElementById('37fc28e0-641f-4c4e-b124-3a32c54ec3e7');\n",
       "var x = new MutationObserver(function (mutations, observer) {{\n",
       "        var display = window.getComputedStyle(gd).display;\n",
       "        if (!display || display === 'none') {{\n",
       "            console.log([gd, 'removed!']);\n",
       "            Plotly.purge(gd);\n",
       "            observer.disconnect();\n",
       "        }}\n",
       "}});\n",
       "\n",
       "// Listen for the removal of the full notebook cells\n",
       "var notebookContainer = gd.closest('#notebook-container');\n",
       "if (notebookContainer) {{\n",
       "    x.observe(notebookContainer, {childList: true});\n",
       "}}\n",
       "\n",
       "// Listen for the clearing of the current output cell\n",
       "var outputEl = gd.closest('.output');\n",
       "if (outputEl) {{\n",
       "    x.observe(outputEl, {childList: true});\n",
       "}}\n",
       "\n",
       "                        })                };                });            </script>        </div>"
      ]
     },
     "metadata": {},
     "output_type": "display_data"
    },
    {
     "name": "stdout",
     "output_type": "stream",
     "text": [
      "Figure x is replicated!!\n"
     ]
    }
   ],
   "source": [
    "scenario1 = go.Bar(\n",
    "    x=Result['Demand']['BranchName'],\n",
    "    y=Result['Demand']['Reliability'],\n",
    "    name = 'Reduce demand by 10%',   \n",
    "\n",
    "    marker = dict(\n",
    "        color = '#290AD8'\n",
    "))\n",
    "\n",
    "\n",
    "scenario2 = go.Bar(\n",
    "    x=Result['Reference']['BranchName'],\n",
    "    y=Result['Reference']['Reliability'],\n",
    "    name = 'Base Case', \n",
    "    marker = dict(\n",
    "        color = '#000000',\n",
    "    \n",
    "))\n",
    "\n",
    "scenario3 = go.Bar(\n",
    "    x=Result['Evaporation']['BranchName'],\n",
    "    y=Result['Evaporation']['Reliability'],\n",
    "    name = 'Increase evaporation by 10%', \n",
    "\n",
    "    marker = dict(\n",
    "        color = '#3FA0FF'\n",
    "))\n",
    "\n",
    "\n",
    "\n",
    "scenario4 = go.Bar(\n",
    "    x=Result2['Reference']['BranchName'],\n",
    "    y=Result2['Reference']['Reliability'],\n",
    "    name = 'Reduce reservoir capacities by 10%',   \n",
    "\n",
    "    marker = dict(\n",
    "        color = '#72D9FF'\n",
    "))\n",
    "\n",
    "\n",
    "\n",
    "scenario5 = go.Bar(\n",
    "    x=Result['Headflow']['BranchName'],\n",
    "    y=Result['Headflow']['Reliability'],\n",
    "    name = 'Reduce headflows by 10%',   \n",
    "\n",
    "    marker = dict(\n",
    "        color = '#AAF7FF'\n",
    "))\n",
    "\n",
    "\n",
    "#$$$$$$$$$$$$$$$$$$$$$$$$$$$$$$$$$$$$$$$$$$$$$$$$$$$$$$$$$$\n",
    "\n",
    "scenario11 = go.Bar(\n",
    "    x=Result3['Demand']['BranchName'],\n",
    "    y=Result3['Demand']['Reliability'],\n",
    "    name = 'Reduce demand by 10%',   \n",
    "#     showlegend=False,\n",
    "\n",
    "    marker = dict(\n",
    "        color = '#A50021'\n",
    "))\n",
    "\n",
    "\n",
    "scenario12 = go.Bar(\n",
    "    x=Result3['Reference']['BranchName'],\n",
    "    y=Result3['Reference']['Reliability'],\n",
    "    name = 'Base Case', \n",
    "#     showlegend=False,\n",
    "\n",
    "    marker = dict(\n",
    "        color = '#000000',\n",
    "    \n",
    "))\n",
    "\n",
    "scenario13 = go.Bar(\n",
    "    x=Result3['Evaporation']['BranchName'],\n",
    "    y=Result3['Evaporation']['Reliability'],\n",
    "    name = 'Increase evaporation by 10%', \n",
    "#     showlegend=False,\n",
    "\n",
    "    marker = dict(\n",
    "        color = '#D82632'\n",
    "))\n",
    "\n",
    "\n",
    "\n",
    "scenario14 = go.Bar(\n",
    "    x=Result4['Reference']['BranchName'],\n",
    "    y=Result4['Reference']['Reliability'],\n",
    "    name = 'Reduce reservoir capacities by 10%',   \n",
    "#     showlegend=False,\n",
    "\n",
    "    marker = dict(\n",
    "        color = '#F76D5E'\n",
    "))\n",
    "\n",
    "\n",
    "\n",
    "scenario15 = go.Bar(\n",
    "    x=Result3['Headflow']['BranchName'],\n",
    "    y=Result3['Headflow']['Reliability'],\n",
    "    name = 'Reduce headflows by 10%',   \n",
    "#     showlegend=False,\n",
    "    marker = dict(\n",
    "        color = '#FFAD72'\n",
    "))\n",
    "\n",
    "\n",
    "\n",
    "\n",
    "layout = dict(\n",
    "    #title = \"Use Case 3.3\",\n",
    "    yaxis = dict(\n",
    "        title = \"Demand reliability (%)\",\n",
    "        tickformat= ',',\n",
    "        showline=True,\n",
    "        tick0=40,\n",
    "\n",
    "        dtick='10',\n",
    "        ticks='outside',\n",
    "        range = [40, 105],\n",
    "        ticklen=10,\n",
    "        tickcolor='#000',\n",
    "        gridwidth=1,\n",
    "        showgrid=True,\n",
    "\n",
    "                ),\n",
    "    \n",
    "    xaxis = dict(\n",
    "#         title = \"Updated input parameters in the <br>Bear_River_WEAP_Model_2017\",\n",
    "#         showline=True,\n",
    "        ticks='inside',\n",
    "        tickfont=dict(size=22),\n",
    "            tickcolor='#000',\n",
    "        gridwidth=1,\n",
    "        showgrid=True,\n",
    "\n",
    "        ticklen=10\n",
    "                    ),\n",
    "        legend=dict(\n",
    "        x=1,y=.56,\n",
    "          bordercolor='#00000f',\n",
    "            borderwidth=2\n",
    "        \n",
    "               ),\n",
    "    width=1100,\n",
    "    height=700,\n",
    "    #paper_bgcolor='rgb(233,233,233)',\n",
    "    #plot_bgcolor='rgb(233,233,233)',\n",
    "    margin=go.Margin(l=130,b=200),\n",
    "    font=dict(size=25,family='arial',color='#00000f'),\n",
    "\n",
    "    showlegend=True,\n",
    "    shapes=[{'type': 'line', \n",
    "                                           'x0': 0, 'x1': 1, 'xref': 'paper',\n",
    "                                           'y0': 40, 'y1': 40, 'yref': 'y'}]\n",
    "                )\n",
    "\n",
    "\n",
    "data = [scenario1, scenario2,scenario3,scenario4,scenario5,scenario11, scenario12,scenario13,scenario14,scenario15]\n",
    "\n",
    "\n",
    "# create a figure object\n",
    "fig = dict(data=data, layout=layout)\n",
    "#py.iplot(fig, filename = \"2.3Identify_SeasonalValues\") \n",
    "\n",
    "\n",
    "## it can be run from the local machine on Pycharm like this like below\n",
    "## It would also work here offline but in a seperate window  \n",
    "offline.iplot(fig,filename = 'jupyter/UnmentDemand@BirdRefuge' )       \n",
    "\n",
    "print \"Figure x is replicated!!\""
   ]
  },
  {
   "cell_type": "code",
   "execution_count": null,
   "metadata": {},
   "outputs": [],
   "source": [
    "scenario1 = go.Scatter(\n",
    "    x=Result['Demand']['BranchName'],\n",
    "    y=Result['Demand']['Reliability'],\n",
    "    name = 'Reduce demand by 10%',   \n",
    "    mode = 'lines+markers',\n",
    "\n",
    "    marker = dict(\n",
    "        color = '#290AD8'\n",
    "))\n",
    "\n",
    "\n",
    "scenario2 = go.Scatter(\n",
    "    x=Result['Reference']['BranchName'],\n",
    "    y=Result['Reference']['Reliability'],\n",
    "    name = 'Base Case', \n",
    "        mode = 'lines+markers',\n",
    "\n",
    "    marker = dict(\n",
    "        color = '#000000',\n",
    "))\n",
    "\n",
    "scenario3 = go.Scatter(\n",
    "    x=Result['Evaporation']['BranchName'],\n",
    "    y=Result['Evaporation']['Reliability'],\n",
    "    name = 'Increase evaporation by 10%', \n",
    "    mode = 'lines+markers',\n",
    "\n",
    "    marker = dict(\n",
    "        color = '#3FA0FF'\n",
    "))\n",
    "\n",
    "\n",
    "\n",
    "scenario4 = go.Scatter(\n",
    "    x=Result2['Reference']['BranchName'],\n",
    "    y=Result2['Reference']['Reliability'],\n",
    "    name = 'Reduce reservoir capacities by 10%',   \n",
    "    mode = 'lines+markers',\n",
    "\n",
    "    marker = dict(\n",
    "        color = '#72D9FF'\n",
    "))\n",
    "\n",
    "\n",
    "\n",
    "scenario5 = go.Scatter(\n",
    "    x=Result['Headflow']['BranchName'],\n",
    "    y=Result['Headflow']['Reliability'],\n",
    "    name = 'Reduce headflows by 10%',   \n",
    "    mode = 'lines+markers',\n",
    "\n",
    "    marker = dict(\n",
    "        color = '#AAF7FF'\n",
    "))\n",
    "\n",
    "\n",
    "#$$$$$$$$$$$$$$$$$$$$$$$$$$$$$$$$$$$$$$$$$$$$$$$$$$$$$$$$$$\n",
    "\n",
    "scenario11 = go.Scatter(\n",
    "    x=Result3['Demand']['BranchName'],\n",
    "    y=Result3['Demand']['Reliability'],\n",
    "    name = 'Reduce demand by 10%',   \n",
    "    mode = 'lines+markers',\n",
    "    showlegend=False,\n",
    "\n",
    "    marker = dict(\n",
    "        color = '#290AD8'\n",
    "))\n",
    "\n",
    "\n",
    "scenario12 = go.Scatter(\n",
    "    x=Result3['Reference']['BranchName'],\n",
    "    y=Result3['Reference']['Reliability'],\n",
    "    name = 'Base Case', \n",
    "        mode = 'lines+markers',\n",
    "    showlegend=False,\n",
    "\n",
    "    marker = dict(\n",
    "        color = '#000000',\n",
    "    \n",
    "))\n",
    "\n",
    "scenario13 = go.Scatter(\n",
    "    x=Result3['Evaporation']['BranchName'],\n",
    "    y=Result3['Evaporation']['Reliability'],\n",
    "    name = 'Increase evaporation by 10%', \n",
    "    mode = 'lines+markers',\n",
    "    showlegend=False,\n",
    "\n",
    "    marker = dict(\n",
    "        color = '#3FA0FF'\n",
    "))\n",
    "\n",
    "\n",
    "\n",
    "scenario14 = go.Scatter(\n",
    "    x=Result4['Reference']['BranchName'],\n",
    "    y=Result4['Reference']['Reliability'],\n",
    "    name = 'Reduce reservoir capacities by 10%',   \n",
    "    mode = 'lines+markers',\n",
    "    showlegend=False,\n",
    "\n",
    "    marker = dict(\n",
    "        color = '#72D9FF'\n",
    "))\n",
    "\n",
    "\n",
    "\n",
    "scenario15 = go.Scatter(\n",
    "    x=Result3['Headflow']['BranchName'],\n",
    "    y=Result3['Headflow']['Reliability'],\n",
    "    name = 'Reduce headflows by 10%',   \n",
    "    mode = 'lines+markers',\n",
    "    showlegend=False,\n",
    "    marker = dict(\n",
    "        color = '#AAF7FF'\n",
    "))\n",
    "\n",
    "\n",
    "\n",
    "\n",
    "layout = dict(\n",
    "    #title = \"Use Case 3.3\",\n",
    "    yaxis = dict(\n",
    "        title = \"Demand reliability (%)\",\n",
    "        tickformat= ',',\n",
    "        showline=True,\n",
    "        tick0=40,\n",
    "\n",
    "        dtick='10',\n",
    "        ticks='outside',\n",
    "        range = [40, 105],\n",
    "        ticklen=10,\n",
    "        tickcolor='#000',\n",
    "        gridwidth=1,\n",
    "        showgrid=True,\n",
    "\n",
    "                ),\n",
    "    \n",
    "    xaxis = dict(\n",
    "#         title = \"Updated input parameters in the <br>Bear_River_WEAP_Model_2017\",\n",
    "#         showline=True,\n",
    "        ticks='inside',\n",
    "        tickfont=dict(size=22),\n",
    "            tickcolor='#000',\n",
    "        gridwidth=1,\n",
    "        showgrid=True,\n",
    "\n",
    "        ticklen=10\n",
    "                    ),\n",
    "        legend=dict(\n",
    "        x=1,y=.56,\n",
    "          bordercolor='#00000f',\n",
    "            borderwidth=2\n",
    "        \n",
    "               ),\n",
    "    width=1100,\n",
    "    height=700,\n",
    "    #paper_bgcolor='rgb(233,233,233)',\n",
    "    #plot_bgcolor='rgb(233,233,233)',\n",
    "    margin=go.Margin(l=130,b=200),\n",
    "    font=dict(size=25,family='arial',color='#00000f'),\n",
    "\n",
    "    showlegend=True,\n",
    "    shapes=[{'type': 'line', \n",
    "                                           'x0': 0, 'x1': 1, 'xref': 'paper',\n",
    "                                           'y0': 40, 'y1': 40, 'yref': 'y'}]\n",
    "                )\n",
    "\n",
    "\n",
    "data = [scenario1, scenario2,scenario3,scenario4,scenario5,scenario11, scenario12,scenario13,scenario14,scenario15]\n",
    "\n",
    "\n",
    "# create a figure object\n",
    "fig = dict(data=data, layout=layout)\n",
    "#py.iplot(fig, filename = \"2.3Identify_SeasonalValues\") \n",
    "\n",
    "\n",
    "## it can be run from the local machine on Pycharm like this like below\n",
    "## It would also work here offline but in a seperate window  \n",
    "offline.iplot(fig,filename = 'jupyter/UnmentDemand@BirdRefuge' )       \n",
    "\n",
    "print \"Figure x is replicated!!\""
   ]
  },
  {
   "cell_type": "markdown",
   "metadata": {},
   "source": [
    "<a name=\"Close\"></a>\n",
    "# 7. Close WEAP API connection"
   ]
  },
  {
   "cell_type": "code",
   "execution_count": null,
   "metadata": {},
   "outputs": [],
   "source": [
    "# 9. Close the WEAP API connection\n",
    "\n",
    "\n",
    "print 'connection disconnected'\n",
    "\n",
    "# Uncomment \n",
    "WEAP.SaveArea\n",
    "\n",
    "\n",
    "\n",
    "# this command will close WEAP\n",
    "WEAP.Quit\n",
    "\n",
    "print 'Connection with WEAP API is disconnected'"
   ]
  },
  {
   "cell_type": "markdown",
   "metadata": {},
   "source": [
    "# The End :) Congratulations!"
   ]
  }
 ],
 "metadata": {
  "kernelspec": {
   "display_name": "Python 2",
   "language": "python",
   "name": "python2"
  },
  "language_info": {
   "codemirror_mode": {
    "name": "ipython",
    "version": 2
   },
   "file_extension": ".py",
   "mimetype": "text/x-python",
   "name": "python",
   "nbconvert_exporter": "python",
   "pygments_lexer": "ipython2",
   "version": "2.7.13"
  }
 },
 "nbformat": 4,
 "nbformat_minor": 2
}
