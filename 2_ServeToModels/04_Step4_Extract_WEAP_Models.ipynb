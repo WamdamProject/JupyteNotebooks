{
 "cells": [
  {
   "cell_type": "markdown",
   "metadata": {},
   "source": [
    "# Step 4 - Extract Bear and Weber Rivers WEAP models into WaMDaM database"
   ]
  },
  {
   "cell_type": "markdown",
   "metadata": {},
   "source": [
    "## WaMDaM Directions and Use Cases\n",
    "\n",
    "### By Adel M. Abdallah, Dec 2020"
   ]
  },
  {
   "cell_type": "markdown",
   "metadata": {},
   "source": [
    "## 1. Extract the Bear River WEAP Model\n",
    "\n",
    "* Launch the WaMDaM Wizard. Click at the tab: \"Import Data to WaMDaM\", then click at \"WEAP Model (Area)\". You'll notice that the WaMDaM Wizard calls WEAP and launches it. \n",
    "* Select the WEAP model: Bear River WEAP 2017\n",
    "* Select Current Accounts for the WEAP Scenario\n",
    "* Leave the projection empty (this Bear River Model already uses the WSG84 global projection)\n",
    "* Select a directory/folder on your local machine to store the extracted Excel Workbook for all WEAP network and data\n",
    "* Click Extract. Please be patient. This might take 10-30 minutes to complete. You'll notice the WEAP software going through all its network nodes and links and their data one-at-a-time to extrat them.\n",
    "* One the Wizad is done, you'll see a message. Go to the location where you chose to save the Excel file and open it.\n",
    "\n"
   ]
  },
  {
   "cell_type": "markdown",
   "metadata": {},
   "source": [
    "\n",
    "<img src=\"https://github.com/WamdamProject/WaMDaM-software-ecosystem/blob/master/mkdocs/Edit_MD_Files/ServeToModels/ExtractWEAP.PNG?raw=true\" style=\"float:center;width:700px;padding:20px\">\n",
    "\n",
    "**Figure 1:** WaMDaM Wizard- Extract the Bear River Model"
   ]
  },
  {
   "cell_type": "markdown",
   "metadata": {},
   "source": [
    "# 2. Extract the Weber River WEAP Model\n",
    "\n",
    "* Follow the same steps as for the Bear River model.The only change here is using the EPSG:26912 projection. The Weber model uses UTM Zone 12 N projection. WaMDaM prefers global projections\n",
    "\n",
    "* Select the WEAP model: Weber Ogden Rivers Lab -3 Original\n",
    "* Select Current Accounts for the WEAP Scenario\n",
    "* Enter EPSG:26912 for the projection\n",
    "* Select a directory/folder on your local machine to store the extracted Excel Workbook for all WEAP network and data\n",
    "* Click Extract. Please be patient. This might take 10-30 minutes to complete. You'll notice the WEAP software going through all its network nodes and links and their data one-at-a-time to extrat them.\n",
    "* One the Wizad is done, you'll see a message. Go to the location where you chose to save the Excel file and open it.\n",
    "\n",
    "<img src=\"https://github.com/WamdamProject/WaMDaM-software-ecosystem/blob/master/mkdocs/Edit_MD_Files/ServeToModels/ExtractWEAP_Weber.PNG?raw=true\" style=\"float:center;width:700px;padding:20px\">"
   ]
  },
  {
   "cell_type": "code",
   "execution_count": null,
   "metadata": {},
   "outputs": [],
   "source": []
  }
 ],
 "metadata": {
  "kernelspec": {
   "display_name": "Python 2",
   "language": "python",
   "name": "python2"
  },
  "language_info": {
   "codemirror_mode": {
    "name": "ipython",
    "version": 2
   },
   "file_extension": ".py",
   "mimetype": "text/x-python",
   "name": "python",
   "nbconvert_exporter": "python",
   "pygments_lexer": "ipython2",
   "version": "2.7.13"
  }
 },
 "nbformat": 4,
 "nbformat_minor": 2
}
