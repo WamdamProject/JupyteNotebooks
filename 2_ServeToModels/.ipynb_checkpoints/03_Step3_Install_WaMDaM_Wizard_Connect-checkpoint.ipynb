{
 "cells": [
  {
   "cell_type": "markdown",
   "metadata": {},
   "source": [
    "## WaMDaM Directions and Use Cases\n",
    "\n",
    "### By Adel M. Abdallah, Dec 2020"
   ]
  },
  {
   "cell_type": "markdown",
   "metadata": {},
   "source": [
    "# Step 2: Install WaMDaM Wizard and Connect to the database\n",
    "\n",
    "\n",
    "### i.\tDownload the WaMDaM Wizard software (WaMDaM)   \n",
    "Download the latest release from https://github.com/WamdamProject/WaMDaM_Wizard/releases\n",
    "\n",
    "### ii.\tLaunch WaMDaM Wizard     \n",
    "Once downloaded, double click at the executable “wamdam.exe” and this main window will appear. Click **More info** hyperlink if you encounter warning dialog box (Figure 1), then click **Run anyway** which will show the Wizard infterface (Figure 2)\n",
    "\n",
    "  <img src=\"https://github.com/WamdamProject/WaMDaM-software-ecosystem/blob/master/mkdocs/Edit_MD_Files/images/run.PNG?raw=true\" style=\"float:center;width:600px;padding:20px\">\n",
    "  <h3><center>**Figure 1:** Instalation (Windows 10)</center></h3>\n",
    "\n",
    "\n",
    "  <img src=\"https://github.com/WamdamProject/WaMDaM-software-ecosystem/blob/master/mkdocs/Edit_MD_Files/images/Wizard.PNG?raw=true\" style=\"float:center;width:600px;padding:20px\">\n",
    "  <h3><center>**Figure 2:** WaMDaM Wizard landing interface</center></h3>\n",
    "\n",
    "\n",
    "If you’re interested, the source code of the Wizard is available on GitHub here https://github.com/WamdamProject/WaMDaM_Wizard\n",
    "<br>\n"
   ]
  },
  {
   "cell_type": "markdown",
   "metadata": {},
   "source": [
    "# Congratualtions! \n"
   ]
  },
  {
   "cell_type": "markdown",
   "metadata": {},
   "source": [
    "### Extra: Connect to the SQLite database file \n",
    "Click the **Connect to SQLite** tab (Figure 1), then click the button **Connect to an Existing SQLite WaMDaM database** \n",
    "\n",
    "From the previous step, it is expected that you already have clones the GitHub repo \n",
    "https://github.com/WamdamProject/WaMDaM_JupyterNotebooks\n",
    "\n",
    "Navigate to the location on your desktop where you have the GitHub clones folder. For example:   \n",
    "\n",
    "    C:\\Users\\Adel\\Documents\\GitHub\\WamdamProject\\WaMDaM_JupyteNotebooks\\2_VisualizePublish\\Files\\Original\n",
    "\n",
    "Connect to the SQLite file WEAP_WASH_BearRiver.sqlite\n",
    "<br>  \n",
    "\n"
   ]
  },
  {
   "cell_type": "code",
   "execution_count": null,
   "metadata": {},
   "outputs": [],
   "source": []
  }
 ],
 "metadata": {
  "kernelspec": {
   "display_name": "Python 2",
   "language": "python",
   "name": "python2"
  },
  "language_info": {
   "codemirror_mode": {
    "name": "ipython",
    "version": 2
   },
   "file_extension": ".py",
   "mimetype": "text/x-python",
   "name": "python",
   "nbconvert_exporter": "python",
   "pygments_lexer": "ipython2",
   "version": "2.7.13"
  }
 },
 "nbformat": 4,
 "nbformat_minor": 4
}
