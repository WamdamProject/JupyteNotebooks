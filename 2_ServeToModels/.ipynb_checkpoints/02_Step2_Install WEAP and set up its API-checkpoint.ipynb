{
 "cells": [
  {
   "cell_type": "markdown",
   "metadata": {},
   "source": [
    "## WaMDaM Directions and Use Cases\n",
    "\n",
    "### By Adel M. Abdallah, Dec 2020"
   ]
  },
  {
   "cell_type": "markdown",
   "metadata": {},
   "source": [
    "# Step 3: Install WEAP and set up its API\n",
    "\n",
    "\n"
   ]
  },
  {
   "cell_type": "markdown",
   "metadata": {},
   "source": []
  },
  {
   "cell_type": "markdown",
   "metadata": {},
   "source": [
    "Clone or download all this GitHub repo   \n",
    "https://github.com/WamdamProject/WaMDaM_UseCases  \n",
    "\n",
    "In your local repo folder, go to the    \n",
    "    \n",
    "    C:\\Users\\Adel\\Documents\\GitHub\\WaMDaM_UseCases/UseCases_files/1Original_Datasets_preperation_files/WEAP/Bear_River_WEAP_Model_2017\n",
    "\n",
    "Copy this folder **Bear_River_WEAP_Model_2017** and paste it into **WEAP Areas** folder on your local machine. For example, it is at   \n",
    "\n",
    "    C:\\Users\\Adel\\Documents\\WEAP Areas  "
   ]
  },
  {
   "cell_type": "markdown",
   "metadata": {},
   "source": [
    "<a name=\"ConnectWEAP\"></a>\n",
    "# 2. Connect to the WEAP API\n",
    "\n",
    "### You need to have WEAP already installed on your machine\n",
    "\n",
    "First make sure to have a copy of the Water Evaluation And Planning\" system (WEAP) installed on your local machine (Windows). If you don’t have it installed, download and install the WEAP software which allows you to run the Bear River WEAP model and its scenarios for Use Case 5. https://www.weap21.org/. You need to have a WEAP License. See here (https://www.weap21.org/index.asp?action=217). If you're interested to learning about WEAP API, check it out here: http://www.weap21.org/WebHelp/API.htm    \n",
    "\n",
    "\n",
    "## Install dependency and register WEAP\n",
    "### 2.1. Install pywin32 extensions which provide access to many of the Windows APIs from Python.\n",
    "**Choose on option**\n",
    "* a. Install using an executable basedon your python version. Use version for Python 2.7\n",
    "https://github.com/mhammond/pywin32/releases \n",
    "\n",
    "**OR**   \n",
    "\n",
    "* b. Install it using Anaconda terminal @ https://anaconda.org/anaconda/pywin32\n",
    "\n",
    "Type this command in the Anaconda terminal as Administrator  \n",
    "\n",
    "    conda install -c anaconda pywin32 \n",
    "\n",
    "\n",
    "**OR**\n",
    "\n",
    "* c. Install from source code (for advanced users) \n",
    "https://github.com/mhammond/pywin32\n",
    "\n",
    "\n",
    "### 2.2. Register WEAP with Windows \n",
    "\n",
    "\n",
    "This use case only works on a local Jupyter Notebook server installed on your machine along with WEAP. So it does not work on the online Notebooks in Step 2.1. You need to install Jupyter Server in Step 2.2 then proceed here.\n",
    "\n",
    "\n",
    "\n",
    "\n",
    "* **Register WEAP with Windows to allow the WEAP API to be accessed**    \n",
    "Use Windows \"Command Prompt\". Right click and then <font color=red>**run as Administrator**</font>, navigate to the WEAP installation directory such as and then hit enter  \n",
    "\n",
    "```\n",
    "cd C:\\Program Files (x86)\\WEAP\n",
    "```\n",
    "\n",
    "Then type the following command in the command prompt and hit enter   \n",
    "```\n",
    "WEAP /regserver\n",
    "```\n",
    "\n",
    "\n",
    "<img src=\"https://github.com/WamdamProject/WaMDaM-software-ecosystem/blob/master/mkdocs/Edit_MD_Files/QuerySelect/images/RegisterWEAP_CMD.png?raw=true\" style=\"float:center;width:700px;padding:20px\"> \n",
    "Figure 1: Register WEAP API with windows using the Command Prompt (Run as Administrator)\n"
   ]
  },
  {
   "cell_type": "markdown",
   "metadata": {},
   "source": []
  },
  {
   "cell_type": "markdown",
   "metadata": {},
   "source": [
    "### iii. Connect to the SQLite database file \n",
    "Click the **Connect to SQLite** tab (Figure 1), then click the button **Connect to an Existing SQLite WaMDaM database** \n",
    "\n",
    "From the previous step, it is expected that you already have clones the GitHub repo \n",
    "https://github.com/WamdamProject/WaMDaM_JupyterNotebooks\n",
    "\n",
    "Navigate to the location on your desktop where you have the GitHub clones folder. For example:   \n",
    "\n",
    "    C:\\Users\\Adel\\Documents\\GitHub\\WamdamProject\\WaMDaM_JupyteNotebooks\\2_VisualizePublish\\Files\\Original\n",
    "\n",
    "Connect to the SQLite file WEAP_WASH_BearRiver.sqlite\n",
    "<br>  \n",
    "\n"
   ]
  },
  {
   "cell_type": "markdown",
   "metadata": {},
   "source": [
    "# Congratualtions! \n"
   ]
  }
 ],
 "metadata": {
  "kernelspec": {
   "display_name": "Python 2",
   "language": "python",
   "name": "python2"
  },
  "language_info": {
   "codemirror_mode": {
    "name": "ipython",
    "version": 2
   },
   "file_extension": ".py",
   "mimetype": "text/x-python",
   "name": "python",
   "nbconvert_exporter": "python",
   "pygments_lexer": "ipython2",
   "version": "2.7.13"
  }
 },
 "nbformat": 4,
 "nbformat_minor": 4
}
