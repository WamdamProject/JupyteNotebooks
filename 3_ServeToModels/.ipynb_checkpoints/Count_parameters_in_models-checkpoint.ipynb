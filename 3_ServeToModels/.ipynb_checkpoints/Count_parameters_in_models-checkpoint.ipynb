{
 "cells": [
  {
   "cell_type": "code",
   "execution_count": null,
   "metadata": {
    "collapsed": true
   },
   "outputs": [],
   "source": []
  },
  {
   "cell_type": "markdown",
   "metadata": {},
   "source": [
    "# Count the number of paramters in the Bear River 2017 WEAP Model "
   ]
  },
  {
   "cell_type": "code",
   "execution_count": null,
   "metadata": {
    "collapsed": true
   },
   "outputs": [],
   "source": [
    "SELECT AttributeDataTypeCV, count (AttributeName_Abstract) As CountOfAttributes,Count(DISTINCT InstanceName) AS CountOfInstances\n",
    "\n",
    "FROM ResourceTypes\n",
    "\n",
    "LEFT JOIN \"ObjectTypes\"\n",
    "ON \"ObjectTypes\".\"ResourceTypeID\"=\"ResourceTypes\".\"ResourceTypeID\"\n",
    "\n",
    "LEFT JOIN  \"ObjectCategories\"\n",
    "ON \"ObjectCategories\".\"ObjectCategoryID\"=\"ObjectTypes\".\"ObjectCategoryID\"\n",
    "\n",
    "LEFT JOIN  \"Attributes\"\n",
    "ON \"Attributes\".\"ObjectTypeID\"=\"ObjectTypes\".\"ObjectTypeID\"\n",
    "\n",
    "LEFT JOIN \"Mappings\"\n",
    "ON \"Mappings\".\"AttributeID\"= \"Attributes\".\"AttributeID\"\n",
    "\n",
    "LEFT JOIN \"Instances\" \n",
    "ON \"Instances\".\"InstanceID\"=\"Mappings\".\"InstanceID\"\n",
    "\n",
    "LEFT JOIN \"ScenarioMappings\"\n",
    "ON \"ScenarioMappings\".\"MappingID\"=\"Mappings\".\"MappingID\"\n",
    "\n",
    "LEFT JOIN \"Scenarios\" \n",
    "ON \"Scenarios\".\"ScenarioID\"=\"ScenarioMappings\".\"ScenarioID\"\n",
    "\n",
    "LEFT JOIN \"MasterNetworks\" \n",
    "ON \"MasterNetworks\".\"MasterNetworkID\"=\"Scenarios\".\"MasterNetworkID\"\n",
    "\n",
    "LEFT JOIN \"ValuesMapper\" \n",
    "ON \"ValuesMapper\".\"ValuesMapperID\"=\"Mappings\".\"ValuesMapperID\"\n",
    "\n",
    "LEFT JOIN \"NumericValues\" \n",
    "ON \"NumericValues\".\"ValuesMapperID\"=\"ValuesMapper\".\"ValuesMapperID\"\n",
    "\n",
    "WHERE InstanceName is not null\n",
    "\n",
    "--exclude the dummy attributes that are just used to connect Object Types with their Instances.\n",
    "AND AttributeName!='ObjectTypeInstances'\n",
    "\n",
    "AND (NumericValue is not 0)-- and  NumericValue is not 100)\n",
    "\n",
    "AND ModelInputOrOutput is not \"Output\"\n",
    "\n",
    "and AttributeDataTypeCV is not \"AttributeSeries\"\n",
    "\n",
    "-- Provide the model name\n",
    "AND \"ResourceTypeAcronym\"='WEAP'\n",
    "\n",
    "AND ScenarioName='Bear River WEAP Model 2017'\n",
    "\n",
    "Group By  AttributeDataTypeCV"
   ]
  },
  {
   "cell_type": "code",
   "execution_count": null,
   "metadata": {
    "collapsed": true
   },
   "outputs": [],
   "source": []
  }
 ],
 "metadata": {
  "kernelspec": {
   "display_name": "Python 2",
   "language": "python",
   "name": "python2"
  },
  "language_info": {
   "codemirror_mode": {
    "name": "ipython",
    "version": 2
   },
   "file_extension": ".py",
   "mimetype": "text/x-python",
   "name": "python",
   "nbconvert_exporter": "python",
   "pygments_lexer": "ipython2",
   "version": "2.7.13"
  }
 },
 "nbformat": 4,
 "nbformat_minor": 2
}
