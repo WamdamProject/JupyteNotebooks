{
 "cells": [
  {
   "cell_type": "markdown",
   "metadata": {},
   "source": [
    "# Step 7: Serve data from OpenAgua into WEAP using WaMDaM\n",
    "\n",
    "#### By Adel M. Abdallah, Utah State University, Jan 2019\n",
    "\n",
    "Execute the following cells by pressing `Shift-Enter`, or by pressing the play button <img style='display:inline;padding-bottom:15px' src='play-button.png'> on the toolbar above.\n",
    "\n"
   ]
  },
  {
   "cell_type": "markdown",
   "metadata": {},
   "source": [
    "<a name=\"Import\"></a>\n",
    "# 1. Import python libraries "
   ]
  },
  {
   "cell_type": "code",
   "execution_count": 1,
   "metadata": {
    "collapsed": false
   },
   "outputs": [
    {
     "data": {
      "text/html": [
       "<script>requirejs.config({paths: { 'plotly': ['https://cdn.plot.ly/plotly-latest.min']},});if(!window.Plotly) {{require(['plotly'],function(plotly) {window.Plotly=plotly;});}}</script>"
      ],
      "text/vnd.plotly.v1+html": [
       "<script>requirejs.config({paths: { 'plotly': ['https://cdn.plot.ly/plotly-latest.min']},});if(!window.Plotly) {{require(['plotly'],function(plotly) {window.Plotly=plotly;});}}</script>"
      ]
     },
     "metadata": {},
     "output_type": "display_data"
    },
    {
     "data": {
      "text/html": [
       "<script>requirejs.config({paths: { 'plotly': ['https://cdn.plot.ly/plotly-latest.min']},});if(!window.Plotly) {{require(['plotly'],function(plotly) {window.Plotly=plotly;});}}</script>"
      ],
      "text/vnd.plotly.v1+html": [
       "<script>requirejs.config({paths: { 'plotly': ['https://cdn.plot.ly/plotly-latest.min']},});if(!window.Plotly) {{require(['plotly'],function(plotly) {window.Plotly=plotly;});}}</script>"
      ]
     },
     "metadata": {},
     "output_type": "display_data"
    },
    {
     "name": "stdout",
     "output_type": "stream",
     "text": [
      "The needed Python libraries have been imported\n"
     ]
    }
   ],
   "source": [
    "# 1. Import python libraries \n",
    "### set the notebook mode to embed the figures within the cell\n",
    "import numpy\n",
    "import sqlite3\n",
    "import numpy as np\n",
    "import pandas as pd\n",
    "import getpass\n",
    "from hs_restclient import HydroShare, HydroShareAuthBasic\n",
    "import os\n",
    "\n",
    "import plotly\n",
    "plotly.__version__\n",
    "import plotly.offline as offline\n",
    "import plotly.graph_objs as go\n",
    "from plotly.offline import download_plotlyjs, init_notebook_mode, plot, iplot\n",
    "offline.init_notebook_mode(connected=True)\n",
    "from plotly.offline import init_notebook_mode, iplot\n",
    "from plotly.graph_objs import *\n",
    "\n",
    "init_notebook_mode(connected=True)         # initiate notebook for offline plot\n",
    "\n",
    "import os\n",
    "import csv\n",
    "from collections import OrderedDict\n",
    "import sqlite3\n",
    "import pandas as pd\n",
    "import numpy as np\n",
    "from IPython.display import display, Image, SVG, Math, YouTubeVideo\n",
    "import urllib\n",
    "import calendar\n",
    "\n",
    "print 'The needed Python libraries have been imported'"
   ]
  },
  {
   "cell_type": "markdown",
   "metadata": {},
   "source": [
    "<a name=\"ConnectWEAP\"></a>\n",
    "# 2. Connect to the WEAP API\n",
    "\n",
    "### You need to have WEAP already installed on your machine\n",
    "\n",
    "First make sure to have a copy of the Water Evaluation And Planning\" system (WEAP) installed on your local machine (Windows). If you don’t have it installed, download and install the WEAP software which allows you to run the Bear River WEAP model and its scenarios for Use Case 5. https://www.weap21.org/. You need to have a WEAP License. See here (https://www.weap21.org/index.asp?action=217). If you're interested to learning about WEAP API, check it out here: http://www.weap21.org/WebHelp/API.htm    \n",
    "\n",
    "\n",
    "## Install dependency and register WEAP\n",
    "### 2.1. Install pywin32 extensions which provide access to many of the Windows APIs from Python.\n",
    "**Choose on option**\n",
    "* a. Install using an executable basedon your python version. Use version for Python 2.7\n",
    "https://github.com/mhammond/pywin32/releases \n",
    "\n",
    "**OR**   \n",
    "\n",
    "* b. Install it using Anaconda terminal @ https://anaconda.org/anaconda/pywin32\n",
    "\n",
    "Type this command in the Anaconda terminal as Administrator  \n",
    "\n",
    "    conda install -c anaconda pywin32 \n",
    "\n",
    "\n",
    "**OR**\n",
    "\n",
    "* c. Install from source code (for advanced users) \n",
    "https://github.com/mhammond/pywin32\n",
    "\n",
    "\n",
    "### 2.2. Register WEAP with Windows \n",
    "\n",
    "\n",
    "This use case only works on a local Jupyter Notebook server installed on your machine along with WEAP. So it does not work on the online Notebooks in Step 2.1. You need to install Jupyter Server in Step 2.2 then proceed here.\n",
    "\n",
    "\n",
    "\n",
    "\n",
    "* **Register WEAP with Windows to allow the WEAP API to be accessed**    \n",
    "Use Windows \"Command Prompt\". Right click and then <font color=red>**run as Administrator**</font>, navigate to the WEAP installation directory such as and then hit enter  \n",
    "\n",
    "```\n",
    "cd C:\\Program Files (x86)\\WEAP\n",
    "```\n",
    "\n",
    "Then type the following command in the command prompt and hit enter   \n",
    "```\n",
    "WEAP /regserver\n",
    "```\n",
    "\n",
    "\n",
    "<img src=\"https://github.com/WamdamProject/WaMDaM-software-ecosystem/blob/master/mkdocs/Edit_MD_Files/QuerySelect/images/RegisterWEAP_CMD.png?raw=true\" style=\"float:center;width:700px;padding:20px\"> \n",
    "Figure 1: Register WEAP API with windows using the Command Prompt (Run as Administrator)\n"
   ]
  },
  {
   "cell_type": "code",
   "execution_count": 23,
   "metadata": {
    "collapsed": false
   },
   "outputs": [
    {
     "name": "stdout",
     "output_type": "stream",
     "text": [
      "Weaping River Basin_WaMDaM\n",
      "Weaping River Basin_WaMDaM\n",
      "Connected to WEAP API and the Weaping River Basin_WaMDaM Area\n",
      "-------------\n",
      "-------------\n",
      "\n",
      " ActiveScenario= Reference\n",
      "-------------\n",
      "C:\\Users\\Adel\\Documents\\WEAP Areas\\\n",
      "\n",
      " \n",
      " You're connected to the WEAP API\n"
     ]
    }
   ],
   "source": [
    "# this library is needed to connect to the WEAP API\n",
    "import win32com.client\n",
    "\n",
    "# this command will open the WEAP software (if closed) and get the last active model\n",
    "# you could change the active area to another one inside WEAP or by passing it to the command here\n",
    "#WEAP.ActiveArea = \"BearRiverFeb2017_V10.9\"\n",
    "\n",
    "\n",
    "WEAP=win32com.client.Dispatch(\"WEAP.WEAPApplication\")\n",
    "\n",
    "# WEAP.Visible = 'FALSE'\n",
    "\n",
    "\n",
    "print WEAP.ActiveArea.Name \n",
    "# WEAP.ActiveArea = \"Weaping River Basin\"  \n",
    "# print WEAP.ActiveArea.Name \n",
    "\n",
    "# WEAP.Areas(\"Weaping River Basin\").Open\n",
    "# WEAP.ActiveArea = \"Weaping River Basin\"  \n",
    "print WEAP.ActiveArea.Name\n",
    "\n",
    "\n",
    "print 'Connected to WEAP API and the '+ WEAP.ActiveArea.Name + ' Area'\n",
    "print '-------------'\n",
    "if not WEAP.Registered:\n",
    "    print \"Because WEAP is not registered, you cannot use the API\"\n",
    "\n",
    "# get the active WEAP Area (model) to serve data into it \n",
    "\n",
    "# ActiveArea=WEAP.ActiveArea.Name \n",
    "\n",
    "\n",
    "# get the active WEAP scenario to serve data into it \n",
    "print '-------------'\n",
    "\n",
    "ActiveScenario= WEAP.ActiveScenario.Name\n",
    "print '\\n ActiveScenario= '+ActiveScenario\n",
    "print '-------------'\n",
    "\n",
    "WEAP_Area_dir=WEAP.AreasDirectory\n",
    "print WEAP_Area_dir\n",
    "\n",
    "\n",
    "print \"\\n \\n You're connected to the WEAP API\""
   ]
  },
  {
   "cell_type": "markdown",
   "metadata": {},
   "source": [
    "\n",
    "# 3. Download the Bear River WEAP model and connect Jupyter Notebook to WEAP API\n",
    "\n",
    "Clone or download all this GitHub repo   \n",
    "https://github.com/WamdamProject/WaMDaM_UseCases  \n",
    "\n",
    "In your local repo folder, go to the    \n",
    "    \n",
    "    C:\\Users\\Adel\\Documents\\GitHub\\WaMDaM_UseCases/UseCases_files/1Original_Datasets_preperation_files/WEAP/Bear_River_WEAP_Model_2017\n",
    "\n",
    "Copy this folder **Bear_River_WEAP_Model_2017** and paste it into **WEAP Areas** folder on your local machine. For example, it is at   \n",
    "\n",
    "    C:\\Users\\Adel\\Documents\\WEAP Areas  \n"
   ]
  },
  {
   "cell_type": "markdown",
   "metadata": {},
   "source": [
    "<a name=\"CreateWEAP_Area\"></a>\n",
    "# 3.1 Create a copy of the original WEAP Area to use while keeping the orignial as-as for any later use\n",
    "\n",
    "\n",
    "<a name=\"AddScenarios\"></a>\n",
    "### Add a new CacheCountyUrbanWaterUse scenario from the Reference original WEAP Area:  \n",
    "\n",
    "### You can always use this orignal one and delete any new copies you make afterwards."
   ]
  },
  {
   "cell_type": "code",
   "execution_count": 100,
   "metadata": {
    "collapsed": false
   },
   "outputs": [
    {
     "name": "stdout",
     "output_type": "stream",
     "text": [
      "Weaping River Basin_WaMDaM\n",
      "Weaping River Basin_WaMDaM\n",
      "Connected to WEAP API and the Weaping River Basin_WaMDaM Area\n",
      "-------------\n",
      "-------------\n",
      "\n",
      " ActiveScenario= Demand Measures_WaMDaM\n",
      "-------------\n",
      "C:\\Users\\Adel\\Documents\\WEAP Areas\\\n",
      "\n",
      " \n",
      " You're connected to the WEAP API\n",
      "ActiveArea= Weaping River Basin_WaMDaM\n",
      "ActiveArea= Weaping River Basin_WaMDaM\n",
      "---------------------- \n",
      "\n",
      "Scenarios added to the original WEAP area\n",
      "Connection with WEAP API is disconnected\n"
     ]
    }
   ],
   "source": [
    "# Create a copy of the WEAP AREA to serve the updated Hyrym Reservoir to it \n",
    "\n",
    "# this library is needed to connect to the WEAP API\n",
    "import win32com.client\n",
    "\n",
    "# this command will open the WEAP software (if closed) and get the last active model\n",
    "# you could change the active area to another one inside WEAP or by passing it to the command here\n",
    "#WEAP.ActiveArea = \"BearRiverFeb2017_V10.9\"\n",
    "\n",
    "\n",
    "WEAP=win32com.client.Dispatch(\"WEAP.WEAPApplication\")\n",
    "\n",
    "# WEAP.Visible = 'FALSE'\n",
    "\n",
    "\n",
    "print WEAP.ActiveArea.Name \n",
    "# WEAP.ActiveArea = \"Weaping River Basin\"  \n",
    "# print WEAP.ActiveArea.Name \n",
    "\n",
    "# WEAP.Areas(\"Weaping River Basin\").Open\n",
    "# WEAP.ActiveArea = \"Weaping River Basin\"  \n",
    "print WEAP.ActiveArea.Name\n",
    "\n",
    "\n",
    "print 'Connected to WEAP API and the '+ WEAP.ActiveArea.Name + ' Area'\n",
    "print '-------------'\n",
    "if not WEAP.Registered:\n",
    "    print \"Because WEAP is not registered, you cannot use the API\"\n",
    "\n",
    "# get the active WEAP Area (model) to serve data into it \n",
    "\n",
    "# ActiveArea=WEAP.ActiveArea.Name \n",
    "\n",
    "\n",
    "# get the active WEAP scenario to serve data into it \n",
    "print '-------------'\n",
    "\n",
    "ActiveScenario= WEAP.ActiveScenario.Name\n",
    "print '\\n ActiveScenario= '+ActiveScenario\n",
    "print '-------------'\n",
    "\n",
    "WEAP_Area_dir=WEAP.AreasDirectory\n",
    "print WEAP_Area_dir\n",
    "\n",
    "\n",
    "print \"\\n \\n You're connected to the WEAP API\"\n",
    "# Delete the Area if it exists and then add it. Start from fresh\n",
    "Area=\"Weaping River Basin_WaMDaM\"\n",
    "\n",
    "if not WEAP.Areas.Exists(Area):\n",
    "    WEAP.SaveAreaAs(Area)\n",
    "\n",
    "\n",
    "WEAP.ActiveArea.Save\n",
    "WEAP.ActiveArea = \"Weaping River Basin_WaMDaM\"  \n",
    "print  'ActiveArea= '+ WEAP.ActiveArea.Name\n",
    "\n",
    "#  Add new Scenario\n",
    "#  Add(NewScenarioName, ParentScenarioName or Index):   \n",
    "#  Create a new scenario as a child of the parent scenario specified.    \n",
    "#  The new scenario will become the selected scenario in the Data View.  \n",
    "    \n",
    "    \n",
    "    \n",
    "WEAP=win32com.client.Dispatch(\"WEAP.WEAPApplication\")\n",
    "# WEAP.Visible = FALSE\n",
    "\n",
    "\n",
    "WEAP.ActiveArea = \"Weaping River Basin_WaMDaM\"  \n",
    "\n",
    "print  'ActiveArea= '+ WEAP.ActiveArea.Name\n",
    "\n",
    "Scenarios=[]\n",
    "Scenarios=['Demand Measures_WaMDaM']\n",
    "\n",
    "# Delete the scenario if it exists and then add it. Start from fresh\n",
    "for Scenario in Scenarios:\n",
    "    if WEAP.Scenarios.Exists(Scenario):\n",
    "        # delete it\n",
    "        WEAP.Scenarios(Scenario).Delete(True)\n",
    "        # add it back as a fresh copy\n",
    "        WEAP.Scenarios.Add(Scenario,'Demand Measures')\n",
    "    else:\n",
    "        WEAP.Scenarios.Add(Scenario,'Demand Measures')\n",
    "    \n",
    "WEAP.ActiveArea.Save\n",
    "WEAP.SaveArea\n",
    "\n",
    "WEAP.ActiveArea = \"Weaping River Basin_WaMDaM\"  \n",
    "\n",
    "print  'ActiveArea= '+ WEAP.ActiveArea.Name\n",
    "\n",
    "# or add the scenarios one by one using this command   \n",
    "    \n",
    "# Make a copy from the reference (base) scenario\n",
    "# WEAP.Scenarios.Add('UpdateCacheDemand','Reference')\n",
    "print '---------------------- \\n'\n",
    "print 'Scenarios added to the original WEAP area'    \n",
    "\n",
    "\n",
    "\n",
    "\n",
    "print 'Connection with WEAP API is disconnected'"
   ]
  },
  {
   "cell_type": "markdown",
   "metadata": {},
   "source": [
    "# Reliability Results: Weeping Model\n",
    "Reliability is for the entire study period, so doesn't have a year or time step parameter\n",
    "Reliability to fully meet demand =number of years of zero shortage divided by total number of years"
   ]
  },
  {
   "cell_type": "markdown",
   "metadata": {},
   "source": [
    "# 5. Run WEAP\n",
    "<font color=green>**Please wait, it will take ~1-3 minutes** to finish calcualting the two WEAP Areas with their many scenarios</font>"
   ]
  },
  {
   "cell_type": "code",
   "execution_count": null,
   "metadata": {
    "collapsed": true
   },
   "outputs": [],
   "source": [
    "\n",
    "print 'Please wait 1-3 min for the calculation to finish'\n",
    "WEAP.Calculate(2006,10,True)\n",
    "WEAP.SaveArea\n",
    "\n",
    "print '\\n \\n The calculation has been done and saved'\n",
    "print WEAP.CalculationTime\n",
    "\n",
    "Print 'Done'"
   ]
  },
  {
   "cell_type": "code",
   "execution_count": 87,
   "metadata": {
    "collapsed": false
   },
   "outputs": [],
   "source": [
    "Result= OrderedDict()\n",
    "# columns=['ScenarioName','BranchName','Reliability']\n",
    "# Result=OrderedDict() \n",
    "\n",
    "# group:ScenarioName\n",
    "# Key=BranchName\n",
    "# value:BranchName\n",
    "    \n",
    "for ScenarioName in WEAP.Scenarios:\n",
    "    #print ScenarioName\n",
    "    WEAP.ActiveScenario=ScenarioName\n",
    "\n",
    "    #print str(ScenarioName)\n",
    "    scenarioKey = str(ScenarioName)\n",
    "    Result[scenarioKey] = OrderedDict()\n",
    "    \n",
    "    BranchNames = []\n",
    "    Reliabilities = []\n",
    "    \n",
    "    for Branch in WEAP.Branches:\n",
    "        if Branch.TypeName=='Demand Site' and Branch.IsNode:\n",
    "            FullBranchName=Branch.FullName\n",
    "            BranchName=Branch.Name\n",
    "            if WEAP.Branch(FullBranchName).Variables.Exists(\"Reliability\"):\n",
    "                #Result['ScenarioName'] = ScenarioName\n",
    "                BranchNames.append(BranchName)\n",
    "                Reliabilities.append(WEAP.Branch(FullBranchName).Variables(\"Reliability\").Value)\n",
    "    Result[scenarioKey]['BranchName'] = BranchNames\n",
    "    Result[scenarioKey]['Reliability'] = Reliabilities\n",
    "\n",
    "#     print Result\n",
    "            \n",
    "            \n",
    " "
   ]
  },
  {
   "cell_type": "markdown",
   "metadata": {},
   "source": [
    "# Plot reliability"
   ]
  },
  {
   "cell_type": "code",
   "execution_count": 97,
   "metadata": {
    "collapsed": false
   },
   "outputs": [
    {
     "data": {
      "application/vnd.plotly.v1+json": {
       "data": [
        {
         "marker": {
          "color": "#264DFF"
         },
         "mode": "lines+markers",
         "name": "Current Accounts",
         "type": "scatter",
         "x": [
          "South City",
          "West City",
          "Industry North",
          "Industry East",
          "Agriculture North",
          "Agriculture West"
         ],
         "y": [
          100,
          100,
          100,
          91.66666666666667,
          100,
          100
         ]
        },
        {
         "marker": {
          "color": "#3FA0FF"
         },
         "mode": "lines+markers",
         "name": "Reference",
         "type": "scatter",
         "x": [
          "South City",
          "West City",
          "Industry North",
          "Industry East",
          "Agriculture North",
          "Agriculture West"
         ],
         "y": [
          96.21212121212122,
          87.12121212121212,
          100,
          87.12121212121212,
          100,
          94.6969696969697
         ]
        },
        {
         "marker": {
          "color": "#290AD8"
         },
         "mode": "lines+markers",
         "name": "Integrated Measures",
         "type": "scatter",
         "x": [
          "South City",
          "West City",
          "Industry North",
          "Industry East",
          "Agriculture North",
          "Agriculture West"
         ],
         "y": [
          98.48484848484848,
          100,
          100,
          95.45454545454545,
          100,
          100
         ]
        }
       ],
       "layout": {
        "font": {
         "color": "#00000f",
         "family": "arial",
         "size": 25
        },
        "height": 700,
        "legend": {
         "bordercolor": "#00000f",
         "borderwidth": 2,
         "x": 0.05,
         "y": 1.1
        },
        "margin": {
         "b": 200,
         "l": 130
        },
        "showlegend": true,
        "width": 1100,
        "xaxis": {
         "gridwidth": 1,
         "showgrid": true,
         "tickcolor": "#000",
         "tickfont": {
          "size": 22
         },
         "ticklen": 10,
         "ticks": "inside"
        },
        "yaxis": {
         "dtick": "10",
         "gridwidth": 1,
         "range": [
          80,
          105
         ],
         "showgrid": true,
         "showline": true,
         "tick0": 0,
         "tickcolor": "#000",
         "tickformat": ",",
         "ticklen": 10,
         "ticks": "outside",
         "title": "Demand reliability (%)"
        }
       }
      },
      "text/html": [
       "<div id=\"7fd7ec70-a5bd-4e5e-bfa6-01c4c18ee353\" style=\"height: 700px; width: 1100px;\" class=\"plotly-graph-div\"></div><script type=\"text/javascript\">require([\"plotly\"], function(Plotly) { window.PLOTLYENV=window.PLOTLYENV || {};window.PLOTLYENV.BASE_URL=\"https://plot.ly\";Plotly.newPlot(\"7fd7ec70-a5bd-4e5e-bfa6-01c4c18ee353\", [{\"name\": \"Current Accounts\", \"marker\": {\"color\": \"#264DFF\"}, \"mode\": \"lines+markers\", \"y\": [100.0, 100.0, 100.0, 91.66666666666667, 100.0, 100.0], \"x\": [\"South City\", \"West City\", \"Industry North\", \"Industry East\", \"Agriculture North\", \"Agriculture West\"], \"type\": \"scatter\"}, {\"name\": \"Reference\", \"marker\": {\"color\": \"#3FA0FF\"}, \"mode\": \"lines+markers\", \"y\": [96.21212121212122, 87.12121212121212, 100.0, 87.12121212121212, 100.0, 94.6969696969697], \"x\": [\"South City\", \"West City\", \"Industry North\", \"Industry East\", \"Agriculture North\", \"Agriculture West\"], \"type\": \"scatter\"}, {\"name\": \"Integrated Measures\", \"marker\": {\"color\": \"#290AD8\"}, \"mode\": \"lines+markers\", \"y\": [98.48484848484848, 100.0, 100.0, 95.45454545454545, 100.0, 100.0], \"x\": [\"South City\", \"West City\", \"Industry North\", \"Industry East\", \"Agriculture North\", \"Agriculture West\"], \"type\": \"scatter\"}], {\"showlegend\": true, \"yaxis\": {\"ticks\": \"outside\", \"tickformat\": \",\", \"title\": \"Demand reliability (%)\", \"tick0\": 0, \"ticklen\": 10, \"gridwidth\": 1, \"dtick\": \"10\", \"showgrid\": true, \"range\": [80, 105], \"showline\": true, \"tickcolor\": \"#000\"}, \"height\": 700, \"width\": 1100, \"xaxis\": {\"tickfont\": {\"size\": 22}, \"ticks\": \"inside\", \"ticklen\": 10, \"gridwidth\": 1, \"showgrid\": true, \"tickcolor\": \"#000\"}, \"font\": {\"color\": \"#00000f\", \"family\": \"arial\", \"size\": 25}, \"margin\": {\"b\": 200, \"l\": 130}, \"legend\": {\"bordercolor\": \"#00000f\", \"y\": 1.1, \"borderwidth\": 2, \"x\": 0.05}}, {\"linkText\": \"Export to plot.ly\", \"showLink\": true})});</script>"
      ],
      "text/vnd.plotly.v1+html": [
       "<div id=\"7fd7ec70-a5bd-4e5e-bfa6-01c4c18ee353\" style=\"height: 700px; width: 1100px;\" class=\"plotly-graph-div\"></div><script type=\"text/javascript\">require([\"plotly\"], function(Plotly) { window.PLOTLYENV=window.PLOTLYENV || {};window.PLOTLYENV.BASE_URL=\"https://plot.ly\";Plotly.newPlot(\"7fd7ec70-a5bd-4e5e-bfa6-01c4c18ee353\", [{\"name\": \"Current Accounts\", \"marker\": {\"color\": \"#264DFF\"}, \"mode\": \"lines+markers\", \"y\": [100.0, 100.0, 100.0, 91.66666666666667, 100.0, 100.0], \"x\": [\"South City\", \"West City\", \"Industry North\", \"Industry East\", \"Agriculture North\", \"Agriculture West\"], \"type\": \"scatter\"}, {\"name\": \"Reference\", \"marker\": {\"color\": \"#3FA0FF\"}, \"mode\": \"lines+markers\", \"y\": [96.21212121212122, 87.12121212121212, 100.0, 87.12121212121212, 100.0, 94.6969696969697], \"x\": [\"South City\", \"West City\", \"Industry North\", \"Industry East\", \"Agriculture North\", \"Agriculture West\"], \"type\": \"scatter\"}, {\"name\": \"Integrated Measures\", \"marker\": {\"color\": \"#290AD8\"}, \"mode\": \"lines+markers\", \"y\": [98.48484848484848, 100.0, 100.0, 95.45454545454545, 100.0, 100.0], \"x\": [\"South City\", \"West City\", \"Industry North\", \"Industry East\", \"Agriculture North\", \"Agriculture West\"], \"type\": \"scatter\"}], {\"showlegend\": true, \"yaxis\": {\"ticks\": \"outside\", \"tickformat\": \",\", \"title\": \"Demand reliability (%)\", \"tick0\": 0, \"ticklen\": 10, \"gridwidth\": 1, \"dtick\": \"10\", \"showgrid\": true, \"range\": [80, 105], \"showline\": true, \"tickcolor\": \"#000\"}, \"height\": 700, \"width\": 1100, \"xaxis\": {\"tickfont\": {\"size\": 22}, \"ticks\": \"inside\", \"ticklen\": 10, \"gridwidth\": 1, \"showgrid\": true, \"tickcolor\": \"#000\"}, \"font\": {\"color\": \"#00000f\", \"family\": \"arial\", \"size\": 25}, \"margin\": {\"b\": 200, \"l\": 130}, \"legend\": {\"bordercolor\": \"#00000f\", \"y\": 1.1, \"borderwidth\": 2, \"x\": 0.05}}, {\"linkText\": \"Export to plot.ly\", \"showLink\": true})});</script>"
      ]
     },
     "metadata": {},
     "output_type": "display_data"
    },
    {
     "name": "stdout",
     "output_type": "stream",
     "text": [
      "Figure x is replicated!!\n"
     ]
    }
   ],
   "source": [
    "\n",
    "\n",
    "scenario1 = go.Scatter(\n",
    "    x=Result['Current Accounts']['BranchName'],\n",
    "    y=Result['Current Accounts']['Reliability'],\n",
    "    name = 'Current Accounts',\n",
    "        mode = 'lines+markers',\n",
    "\n",
    "    marker = dict(\n",
    "        color = '#264DFF',\n",
    "    \n",
    "))\n",
    "\n",
    "\n",
    "scenario2 = go.Scatter(\n",
    "    x=Result['Reference']['BranchName'],\n",
    "    y=Result['Reference']['Reliability'],\n",
    "    name = 'Reference', \n",
    "    mode = 'lines+markers',\n",
    "\n",
    "    marker = dict(\n",
    "        color = '#3FA0FF'\n",
    "))\n",
    "\n",
    "scenario3 = go.Scatter(\n",
    "    x=Result['Integrated Measures']['BranchName'],\n",
    "    y=Result['Integrated Measures']['Reliability'],\n",
    "    name = 'Integrated Measures',   \n",
    "    mode = 'lines+markers',\n",
    "\n",
    "    marker = dict(\n",
    "        color = '#290AD8'\n",
    "))\n",
    "\n",
    "layout = dict(\n",
    "    #title = \"Use Case 3.3\",\n",
    "    yaxis = dict(\n",
    "        title = \"Demand reliability (%)\",\n",
    "        tickformat= ',',\n",
    "        showline=True,\n",
    "        tick0=0,\n",
    "\n",
    "        dtick='10',\n",
    "        ticks='outside',\n",
    "        range = [80, 105],\n",
    "        ticklen=10,\n",
    "        tickcolor='#000',\n",
    "        gridwidth=1,\n",
    "        showgrid=True,\n",
    "\n",
    "                ),\n",
    "    \n",
    "    xaxis = dict(\n",
    "#         title = \"Updated input parameters in the <br>Bear_River_WEAP_Model_2017\",\n",
    "#         showline=True,\n",
    "        ticks='inside',\n",
    "         tickfont=dict(size=22),\n",
    "                tickcolor='#000',\n",
    "        gridwidth=1,\n",
    "        showgrid=True,\n",
    "\n",
    "        ticklen=10\n",
    "                    ),\n",
    "    legend=dict(\n",
    "        x=0.05,y=1.1,\n",
    "          bordercolor='#00000f',\n",
    "            borderwidth=2\n",
    "        \n",
    "               ),\n",
    "    width=1100,\n",
    "    height=700,\n",
    "    #paper_bgcolor='rgb(233,233,233)',\n",
    "    #plot_bgcolor='rgb(233,233,233)',\n",
    "    margin=go.Margin(l=130,b=200),\n",
    "    font=dict(size=25,family='arial',color='#00000f'),\n",
    "    showlegend=True\n",
    ")\n",
    "data = [scenario1, scenario2,scenario3]\n",
    "\n",
    "\n",
    "# create a figure object\n",
    "fig = dict(data=data, layout=layout)\n",
    "#py.iplot(fig, filename = \"2.3Identify_SeasonalValues\") \n",
    "\n",
    "\n",
    "## it can be run from the local machine on Pycharm like this like below\n",
    "## It would also work here offline but in a seperate window  \n",
    "offline.iplot(fig,filename = 'jupyter/UnmentDemand@BirdRefuge' )       \n",
    "\n",
    "print \"Figure x is replicated!!\""
   ]
  },
  {
   "cell_type": "code",
   "execution_count": null,
   "metadata": {
    "collapsed": true
   },
   "outputs": [],
   "source": []
  },
  {
   "cell_type": "markdown",
   "metadata": {},
   "source": [
    "## Get the unmet demand or Cache County sites in both the reference and the conservation scenarios"
   ]
  },
  {
   "cell_type": "code",
   "execution_count": null,
   "metadata": {
    "collapsed": false
   },
   "outputs": [],
   "source": [
    "Scenarios=['Reference','Cons25PercCacheUrbWaterUse','Incr25PercCacheUrbWaterUse']\n",
    "DemandSites=['Logan Potable','North Cache Potable','South Cache Potable']\n",
    "\n",
    "UnmetDemandEstimate_Ref = pd.DataFrame(columns = DemandSites)\n",
    "UnmetDemandEstimate_Cons25 = pd.DataFrame(columns = DemandSites)\n",
    "UnmetDemandEstimate_Incr25 = pd.DataFrame(columns = DemandSites)\n",
    "\n",
    "UnmetDemandEstimate= pd.DataFrame(columns = Scenarios)\n",
    "\n",
    "for scen in Scenarios:\n",
    "        if scen=='Reference':\n",
    "            for site in DemandSites:\n",
    "                param=\"\\Demand Sites\\%s: Unmet Demand[Acre-Foot]\"%(site)\n",
    "#                 print param\n",
    "                for year in range (1966,2006):\n",
    "                    value=WEAP.ResultValue(param, year, 1, scen, year, WEAP.NumTimeSteps)            \n",
    "                    UnmetDemandEstimate_Ref.loc[year, [site]]=value\n",
    "        elif scen=='Cons25PercCacheUrbWaterUse':\n",
    "            for site in DemandSites:\n",
    "                param=\"\\Demand Sites\\%s: Unmet Demand[Acre-Foot]\"%(site)\n",
    "#                 print param\n",
    "                for year in range (1966,2006):\n",
    "                    value=WEAP.ResultValue(param, year, 1, scen, year, WEAP.NumTimeSteps)            \n",
    "                    UnmetDemandEstimate_Cons25.loc[year, [site]]=value\n",
    "                  \n",
    "        elif scen=='Incr25PercCacheUrbWaterUse':\n",
    "            for site in DemandSites:\n",
    "                param=\"\\Demand Sites\\%s: Unmet Demand[Acre-Foot]\"%(site)\n",
    "#                 print param\n",
    "                for year in range (1966,2006):\n",
    "                    value=WEAP.ResultValue(param, year, 1, scen, year, WEAP.NumTimeSteps)            \n",
    "                    UnmetDemandEstimate_Incr25.loc[year, [site]]=value                    \n",
    "                    \n",
    "                                             \n",
    "UnmetDemandEstimate_Ref['Cache Total']=UnmetDemandEstimate_Ref[DemandSites].sum(axis=1)\n",
    "\n",
    "UnmetDemandEstimate_Cons25['Cache Total']=UnmetDemandEstimate_Cons25[DemandSites].sum(axis=1)\n",
    "\n",
    "UnmetDemandEstimate_Incr25['Cache Total']=UnmetDemandEstimate_Incr25[DemandSites].sum(axis=1)\n",
    "\n",
    "UnmetDemandEstimate['Reference']=UnmetDemandEstimate_Ref['Cache Total']\n",
    "UnmetDemandEstimate['Cons25PercCacheUrbWaterUse']=UnmetDemandEstimate_Cons25['Cache Total']\n",
    "UnmetDemandEstimate['Incr25PercCacheUrbWaterUse']=UnmetDemandEstimate_Incr25['Cache Total']\n",
    "\n",
    "UnmetDemandEstimate=UnmetDemandEstimate.rename_axis('Year',axis=\"columns\")\n",
    "\n",
    "print 'Done estimating the unment demnd pecentage for each scenario'\n",
    "# display(UnmetDemandEstimate)"
   ]
  },
  {
   "cell_type": "markdown",
   "metadata": {},
   "source": [
    "# 6. Plot the unmet demad for all the scenarios  and years\n"
   ]
  },
  {
   "cell_type": "code",
   "execution_count": null,
   "metadata": {
    "collapsed": false
   },
   "outputs": [],
   "source": [
    "\n",
    "\n",
    "trace2 = go.Scatter(\n",
    "    x=years,\n",
    "    y=Reference_vals_perc[0],\n",
    "    name = 'Reference demand',\n",
    "        mode = 'lines+markers',\n",
    "\n",
    "    marker = dict(\n",
    "        color = '#264DFF',\n",
    "    \n",
    "))\n",
    "\n",
    "\n",
    "trace3 = go.Scatter(\n",
    "    x=years,\n",
    "    y=Cons25PercCacheUrbWaterUse_vals_perc[0],\n",
    "    name = 'Conserve demand by 25%',   \n",
    "    mode = 'lines+markers',\n",
    "\n",
    "    marker = dict(\n",
    "        color = '#3FA0FF'\n",
    "))\n",
    "\n",
    "trace1 = go.Scatter(\n",
    "    x=years,\n",
    "    y=Incr25PercCacheUrbWaterUse_vals_perc[0],\n",
    "    name = 'Increase demand by 25%',   \n",
    "    mode = 'lines+markers',\n",
    "\n",
    "    marker = dict(\n",
    "        color = '#290AD8'\n",
    "))\n",
    "\n",
    "layout = dict(\n",
    "    #title = \"Use Case 3.3\",\n",
    "    yaxis = dict(\n",
    "        title = \"Annual unmet demand (%)\",\n",
    "        tickformat= ',',\n",
    "        showline=True,\n",
    "        dtick='5',\n",
    "        ticks='outside',\n",
    "        \n",
    "        ticklen=10,\n",
    "        tickcolor='#000',\n",
    "        gridwidth=1,\n",
    "        showgrid=True,\n",
    "\n",
    "                ),\n",
    "    \n",
    "    xaxis = dict(\n",
    "#         title = \"Updated input parameters in the <br>Bear_River_WEAP_Model_2017\",\n",
    "#         showline=True,\n",
    "        ticks='inside',\n",
    "         tickfont=dict(size=22),\n",
    "                tickcolor='#000',\n",
    "        gridwidth=1,\n",
    "        showgrid=True,\n",
    "\n",
    "        ticklen=25\n",
    "                    ),\n",
    "    legend=dict(\n",
    "        x=0.05,y=1.1,\n",
    "          bordercolor='#00000f',\n",
    "            borderwidth=2\n",
    "        \n",
    "               ),\n",
    "    width=1100,\n",
    "    height=700,\n",
    "    #paper_bgcolor='rgb(233,233,233)',\n",
    "    #plot_bgcolor='rgb(233,233,233)',\n",
    "    margin=go.Margin(l=130,b=200),\n",
    "    font=dict(size=25,family='arial',color='#00000f'),\n",
    "    showlegend=True\n",
    ")\n",
    "data = [trace1, trace2,trace3]\n",
    "\n",
    "\n",
    "# create a figure object\n",
    "fig = dict(data=data, layout=layout)\n",
    "#py.iplot(fig, filename = \"2.3Identify_SeasonalValues\") \n",
    "\n",
    "\n",
    "## it can be run from the local machine on Pycharm like this like below\n",
    "## It would also work here offline but in a seperate window  \n",
    "offline.iplot(fig,filename = 'jupyter/UnmentDemand@BirdRefuge' )       \n",
    "\n",
    "print \"Figure x is replicated!!\""
   ]
  },
  {
   "cell_type": "markdown",
   "metadata": {},
   "source": [
    "<a name=\"Close\"></a>\n",
    "# 7. Close WEAP API connection"
   ]
  },
  {
   "cell_type": "code",
   "execution_count": null,
   "metadata": {
    "collapsed": false
   },
   "outputs": [],
   "source": [
    "# 9. Close the WEAP API connection\n",
    "\n",
    "\n",
    "print 'connection disconnected'\n",
    "\n",
    "# Uncomment \n",
    "WEAP.SaveArea\n",
    "\n",
    "\n",
    "\n",
    "# this command will close WEAP\n",
    "WEAP.Quit\n",
    "\n",
    "print 'Connection with WEAP API is disconnected'"
   ]
  },
  {
   "cell_type": "markdown",
   "metadata": {},
   "source": [
    "# The End :) Congratulations!"
   ]
  }
 ],
 "metadata": {
  "kernelspec": {
   "display_name": "Python 2",
   "language": "python",
   "name": "python2"
  },
  "language_info": {
   "codemirror_mode": {
    "name": "ipython",
    "version": 2
   },
   "file_extension": ".py",
   "mimetype": "text/x-python",
   "name": "python",
   "nbconvert_exporter": "python",
   "pygments_lexer": "ipython2",
   "version": "2.7.13"
  }
 },
 "nbformat": 4,
 "nbformat_minor": 2
}
