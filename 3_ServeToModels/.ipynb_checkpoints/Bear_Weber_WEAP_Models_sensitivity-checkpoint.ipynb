{
 "cells": [
  {
   "cell_type": "markdown",
   "metadata": {},
   "source": [
    "# Sensitivity of Bear and Weber WEAP Models System's Reliability due to changes in input \n",
    "\n",
    "#### By Adel M. Abdallah, Utah State University, April 2019\n",
    "\n",
    "Execute the following cells by pressing `Shift-Enter`, or by pressing the play button <img style='display:inline;padding-bottom:15px' src='play-button.png'> on the toolbar above.\n",
    "\n"
   ]
  },
  {
   "cell_type": "markdown",
   "metadata": {},
   "source": [
    "<a name=\"Import\"></a>\n",
    "# 1. Import python libraries "
   ]
  },
  {
   "cell_type": "code",
   "execution_count": 80,
   "metadata": {
    "collapsed": false
   },
   "outputs": [
    {
     "data": {
      "text/html": [
       "<script>requirejs.config({paths: { 'plotly': ['https://cdn.plot.ly/plotly-latest.min']},});if(!window.Plotly) {{require(['plotly'],function(plotly) {window.Plotly=plotly;});}}</script>"
      ],
      "text/vnd.plotly.v1+html": [
       "<script>requirejs.config({paths: { 'plotly': ['https://cdn.plot.ly/plotly-latest.min']},});if(!window.Plotly) {{require(['plotly'],function(plotly) {window.Plotly=plotly;});}}</script>"
      ]
     },
     "metadata": {},
     "output_type": "display_data"
    },
    {
     "data": {
      "text/html": [
       "<script>requirejs.config({paths: { 'plotly': ['https://cdn.plot.ly/plotly-latest.min']},});if(!window.Plotly) {{require(['plotly'],function(plotly) {window.Plotly=plotly;});}}</script>"
      ],
      "text/vnd.plotly.v1+html": [
       "<script>requirejs.config({paths: { 'plotly': ['https://cdn.plot.ly/plotly-latest.min']},});if(!window.Plotly) {{require(['plotly'],function(plotly) {window.Plotly=plotly;});}}</script>"
      ]
     },
     "metadata": {},
     "output_type": "display_data"
    },
    {
     "name": "stdout",
     "output_type": "stream",
     "text": [
      "The needed Python libraries have been imported\n"
     ]
    }
   ],
   "source": [
    "# 1. Import python libraries \n",
    "### set the notebook mode to embed the figures within the cell\n",
    "import numpy\n",
    "import sqlite3\n",
    "import numpy as np\n",
    "import pandas as pd\n",
    "import getpass\n",
    "from hs_restclient import HydroShare, HydroShareAuthBasic\n",
    "import os\n",
    "\n",
    "import plotly\n",
    "plotly.__version__\n",
    "import plotly.offline as offline\n",
    "import plotly.graph_objs as go\n",
    "from plotly.offline import download_plotlyjs, init_notebook_mode, plot, iplot\n",
    "offline.init_notebook_mode(connected=True)\n",
    "from plotly.offline import init_notebook_mode, iplot\n",
    "from plotly.graph_objs import *\n",
    "\n",
    "init_notebook_mode(connected=True)         # initiate notebook for offline plot\n",
    "\n",
    "import os\n",
    "import csv\n",
    "from collections import OrderedDict\n",
    "import sqlite3\n",
    "import pandas as pd\n",
    "import numpy as np\n",
    "from IPython.display import display, Image, SVG, Math, YouTubeVideo\n",
    "import urllib\n",
    "import calendar\n",
    "\n",
    "print 'The needed Python libraries have been imported'"
   ]
  },
  {
   "cell_type": "markdown",
   "metadata": {},
   "source": [
    "\n",
    "# 3. Download the Bear River WEAP model and connect Jupyter Notebook to WEAP API\n",
    "\n",
    "Clone or download all this GitHub repo   \n",
    "https://github.com/WamdamProject/WaMDaM_UseCases  \n",
    "\n",
    "In your local repo folder, go to the    \n",
    "    \n",
    "    C:\\Users\\Adel\\Documents\\GitHub\\WaMDaM_UseCases/UseCases_files/1Original_Datasets_preperation_files/WEAP/Bear_River_WEAP_Model_2017\n",
    "\n",
    "Copy this folder **Bear_River_WEAP_Model_2017** and paste it into **WEAP Areas** folder on your local machine. For example, it is at   \n",
    "\n",
    "    C:\\Users\\Adel\\Documents\\WEAP Areas  \n"
   ]
  },
  {
   "cell_type": "markdown",
   "metadata": {},
   "source": [
    "<a name=\"ConnectWEAP\"></a>\n",
    "# 2. Connect to the WEAP API\n",
    "\n",
    "### You need to have WEAP already installed on your machine\n",
    "\n",
    "First make sure to have a copy of the Water Evaluation And Planning\" system (WEAP) installed on your local machine (Windows). If you don’t have it installed, download and install the WEAP software which allows you to run the Bear River WEAP model and its scenarios for Use Case 5. https://www.weap21.org/. You need to have a WEAP License. See here (https://www.weap21.org/index.asp?action=217). If you're interested to learning about WEAP API, check it out here: http://www.weap21.org/WebHelp/API.htm    \n",
    "\n",
    "\n",
    "## Install dependency and register WEAP\n",
    "### 2.1. Install pywin32 extensions which provide access to many of the Windows APIs from Python.\n",
    "**Choose on option**\n",
    "* a. Install using an executable basedon your python version. Use version for Python 2.7\n",
    "https://github.com/mhammond/pywin32/releases \n",
    "\n",
    "**OR**   \n",
    "\n",
    "* b. Install it using Anaconda terminal @ https://anaconda.org/anaconda/pywin32\n",
    "\n",
    "Type this command in the Anaconda terminal as Administrator  \n",
    "\n",
    "    conda install -c anaconda pywin32 \n",
    "\n",
    "\n",
    "**OR**\n",
    "\n",
    "* c. Install from source code (for advanced users) \n",
    "https://github.com/mhammond/pywin32\n",
    "\n",
    "\n",
    "### 2.2. Register WEAP with Windows \n",
    "\n",
    "\n",
    "This use case only works on a local Jupyter Notebook server installed on your machine along with WEAP. So it does not work on the online Notebooks in Step 2.1. You need to install Jupyter Server in Step 2.2 then proceed here.\n",
    "\n",
    "\n",
    "\n",
    "\n",
    "* **Register WEAP with Windows to allow the WEAP API to be accessed**    \n",
    "Use Windows \"Command Prompt\". Right click and then <font color=red>**run as Administrator**</font>, navigate to the WEAP installation directory such as and then hit enter  \n",
    "\n",
    "```\n",
    "cd C:\\Program Files (x86)\\WEAP\n",
    "```\n",
    "\n",
    "Then type the following command in the command prompt and hit enter   \n",
    "```\n",
    "WEAP /regserver\n",
    "```\n",
    "\n",
    "\n",
    "<img src=\"https://github.com/WamdamProject/WaMDaM-software-ecosystem/blob/master/mkdocs/Edit_MD_Files/QuerySelect/images/RegisterWEAP_CMD.png?raw=true\" style=\"float:center;width:700px;padding:20px\"> \n",
    "Figure 1: Register WEAP API with windows using the Command Prompt (Run as Administrator)\n"
   ]
  },
  {
   "cell_type": "markdown",
   "metadata": {},
   "source": [
    "# Connect to WEAP and Create the sedimentation WEAP Area /Scenariois"
   ]
  },
  {
   "cell_type": "markdown",
   "metadata": {},
   "source": [
    "<a name=\"CreateWEAP_Area\"></a>\n",
    "# 3.1 Create a copy of the original WEAP Area to use while keeping the orignial as-as for any later use\n",
    "\n",
    "\n",
    "<a name=\"AddScenarios\"></a>\n",
    "### Add a new CacheCountyUrbanWaterUse scenario from the Reference original WEAP Area:  \n",
    "\n",
    "### You can always use this orignal one and delete any new copies you make afterwards."
   ]
  },
  {
   "cell_type": "code",
   "execution_count": 81,
   "metadata": {
    "collapsed": false
   },
   "outputs": [
    {
     "name": "stdout",
     "output_type": "stream",
     "text": [
      "Bear_River_WEAP_Model_2017_scenarios\n",
      "Bear_River_WEAP_Model_2017_scenarios\n",
      "Bear_River_WEAP_Model_2017_scenarios\n",
      "Connected to WEAP API and the Bear_River_WEAP_Model_2017_scenarios Area\n",
      "-------------\n",
      "-------------\n",
      "\n",
      " ActiveScenario= Current Accounts\n",
      "-------------\n",
      "C:\\Users\\Adel\\Documents\\WEAP Areas\\\n",
      "\n",
      " \n",
      " You're connected to the WEAP API\n",
      " Created the Bear_River_WEAP_Model_2017_sedimentation Area\n",
      "Bear_River_WEAP_Model_2017_scenarios\n",
      "Bear_River_WEAP_Model_2017_scenarios\n",
      "Bear_River_WEAP_Model_2017_scenarios\n",
      "ActiveArea= Bear_River_WEAP_Model_2017_scenarios\n",
      "Bear_River_WEAP_Model_2017_scenarios\n",
      "---------------------- \n",
      "\n",
      "Scenarios added to the Bear_River_WEAP_Model_2017_scenarios WEAP area\n"
     ]
    }
   ],
   "source": [
    "# this library is needed to connect to the WEAP API\n",
    "import win32com.client\n",
    "\n",
    "# this command will open the WEAP software (if closed) and get the last active model\n",
    "# you could change the active area to another one inside WEAP or by passing it to the command here\n",
    "#WEAP.ActiveArea = \"BearRiverFeb2017_V10.9\"\n",
    "\n",
    "\n",
    "WEAP=win32com.client.Dispatch(\"WEAP.WEAPApplication\")\n",
    "\n",
    "# WEAP.Visible = 'FALSE'\n",
    "\n",
    "#-----------------------------------------------------------------\n",
    "\n",
    "print WEAP.ActiveArea.Name \n",
    "WEAP.ActiveArea = \"Bear_River_WEAP_Model_2017_Original\"  \n",
    "print WEAP.ActiveArea.Name \n",
    "\n",
    "WEAP.Areas(\"Bear_River_WEAP_Model_2017_Original\").Open\n",
    "WEAP.ActiveArea = \"Bear_River_WEAP_Model_2017_Original\"  \n",
    "print WEAP.ActiveArea.Name\n",
    "#-----------------------------------------------------------------\n",
    "\n",
    "\n",
    "print 'Connected to WEAP API and the '+ WEAP.ActiveArea.Name + ' Area'\n",
    "print '-------------'\n",
    "if not WEAP.Registered:\n",
    "    print \"Because WEAP is not registered, you cannot use the API\"\n",
    "\n",
    "# get the active WEAP Area (model) to serve data into it \n",
    "\n",
    "# ActiveArea=WEAP.ActiveArea.Name \n",
    "\n",
    "\n",
    "# get the active WEAP scenario to serve data into it \n",
    "print '-------------'\n",
    "\n",
    "ActiveScenario= WEAP.ActiveScenario.Name\n",
    "print '\\n ActiveScenario= '+ActiveScenario\n",
    "print '-------------'\n",
    "\n",
    "WEAP_Area_dir=WEAP.AreasDirectory\n",
    "print WEAP_Area_dir\n",
    "\n",
    "\n",
    "print \"\\n \\n You're connected to the WEAP API\"\n",
    "\n",
    "\n",
    "# Delete the Area if it exists and then add it. Start from fresh\n",
    "Area=\"Bear_River_WEAP_Model_2017_sedimentation\"\n",
    "\n",
    "if not WEAP.Areas.Exists(Area):\n",
    "    WEAP.SaveAreaAs(Area)\n",
    "WEAP.Quit\n",
    "print \" Created the Bear_River_WEAP_Model_2017_sedimentation Area\"\n",
    "\n",
    "WEAP=win32com.client.Dispatch(\"WEAP.WEAPApplication\")\n",
    "\n",
    "#-----------------------------------------------------------------\n",
    "print WEAP.ActiveArea.Name \n",
    "WEAP.ActiveArea = \"Bear_River_WEAP_Model_2017_Original\"  \n",
    "print WEAP.ActiveArea.Name \n",
    "\n",
    "WEAP.Areas(\"Bear_River_WEAP_Model_2017_Original\").Open\n",
    "WEAP.ActiveArea = \"Bear_River_WEAP_Model_2017_Original\"  \n",
    "print WEAP.ActiveArea.Name\n",
    "#-----------------------------------------------------------------\n",
    "\n",
    "\n",
    "# Delete the Area if it exists and then add it. Start from fresh\n",
    "Area=\"Bear_River_WEAP_Model_2017_scenarios\"\n",
    "\n",
    "if not WEAP.Areas.Exists(Area):\n",
    "    WEAP.SaveAreaAs(Area)\n",
    "print  'ActiveArea= '+ WEAP.ActiveArea.Name\n",
    "\n",
    "\n",
    "WEAP.Areas(\"Bear_River_WEAP_Model_2017_scenarios\").Open\n",
    "WEAP.ActiveArea = \"Bear_River_WEAP_Model_2017_scenarios\"  \n",
    "print WEAP.ActiveArea.Name\n",
    "\n",
    "Scenarios=[]\n",
    "Scenarios=['Evaporation','Headflow','Demand']\n",
    "\n",
    "for Scenario in Scenarios:\n",
    "    if WEAP.Scenarios.Exists(Scenario):\n",
    "        # delete it\n",
    "        WEAP.Scenarios(Scenario).Delete(True)\n",
    "        # add it back as a fresh copy\n",
    "        WEAP.Scenarios.Add(Scenario,'Reference')\n",
    "    else:\n",
    "        WEAP.Scenarios.Add(Scenario,'Reference')\n",
    "    \n",
    "WEAP.ActiveArea.Save\n",
    "WEAP.SaveArea\n",
    "# Make a copy from the reference (base) scenario\n",
    "# WEAP.Scenarios.Add('UpdateCacheDemand','Reference')\n",
    "print '---------------------- \\n'\n",
    "print 'Scenarios added to the Bear_River_WEAP_Model_2017_scenarios WEAP area'  "
   ]
  },
  {
   "cell_type": "markdown",
   "metadata": {},
   "source": [
    "# Reliability Results: Weeping Model\n",
    "Reliability is for the entire study period, so doesn't have a year or time step parameter\n",
    "Reliability to fully meet demand =number of years of zero shortage divided by total number of years"
   ]
  },
  {
   "cell_type": "markdown",
   "metadata": {},
   "source": [
    "# 5. Run WEAP\n",
    "<font color=green>**Please wait, it will take ~1-3 minutes** to finish calcualting the two WEAP Areas with their many scenarios</font>"
   ]
  },
  {
   "cell_type": "code",
   "execution_count": null,
   "metadata": {
    "collapsed": true
   },
   "outputs": [],
   "source": []
  },
  {
   "cell_type": "code",
   "execution_count": 85,
   "metadata": {
    "collapsed": false
   },
   "outputs": [
    {
     "name": "stdout",
     "output_type": "stream",
     "text": [
      "WeberOgdenRiversLab-3_scenarios\n",
      "Bear_River_WEAP_Model_2017_scenarios\n",
      "Bear_River_WEAP_Model_2017_scenarios\n",
      "Please wait 1-3 min for the calculation to finish\n",
      "\n",
      " \n",
      " The calculation has been done and saved\n",
      "Done\n",
      "Current Accounts\n",
      "Reference\n",
      "Evaporation\n",
      "Headflow\n",
      "Demand\n",
      "done\n",
      "OrderedDict([('Current Accounts', OrderedDict([('BranchName', ['Montpelier Irr', 'Highline Canal', 'Hyrum Canal', 'Bird Refuge', 'Logan Potable']), ('Reliability', [50.0, 66.66666666666667, 66.66666666666667, 91.66666666666667, 100.0])])), ('Reference', OrderedDict([('BranchName', ['Montpelier Irr', 'Highline Canal', 'Hyrum Canal', 'Bird Refuge', 'Logan Potable']), ('Reliability', [50.0, 79.8780487804878, 85.77235772357723, 96.34146341463415, 100.0])])), ('Evaporation', OrderedDict([('BranchName', ['Montpelier Irr', 'Highline Canal', 'Hyrum Canal', 'Bird Refuge', 'Logan Potable']), ('Reliability', [50.0, 79.26829268292683, 85.77235772357723, 96.34146341463415, 100.0])])), ('Headflow', OrderedDict([('BranchName', ['Montpelier Irr', 'Highline Canal', 'Hyrum Canal', 'Bird Refuge', 'Logan Potable']), ('Reliability', [50.0, 73.57723577235772, 77.4390243902439, 94.71544715447155, 100.0])])), ('Demand', OrderedDict([('BranchName', ['Montpelier Irr', 'Highline Canal', 'Hyrum Canal', 'Bird Refuge', 'Logan Potable']), ('Reliability', [50.0, 84.55284552845528, 88.21138211382114, 96.7479674796748, 100.0])]))])\n"
     ]
    }
   ],
   "source": [
    "#-----------------------------------------------------------------\n",
    "print WEAP.ActiveArea.Name \n",
    "WEAP.ActiveArea = \"Bear_River_WEAP_Model_2017_scenarios\"  \n",
    "print WEAP.ActiveArea.Name \n",
    "\n",
    "WEAP.Areas(\"Bear_River_WEAP_Model_2017_scenarios\").Open\n",
    "WEAP.ActiveArea = \"Bear_River_WEAP_Model_2017_scenarios\"  \n",
    "print WEAP.ActiveArea.Name\n",
    "#-----------------------------------------------------------------\n",
    "\n",
    "\n",
    "print 'Please wait 1-3 min for the calculation to finish'\n",
    "# WEAP.Calculate(2006,10,True)\n",
    "# WEAP.SaveArea\n",
    "\n",
    "print '\\n \\n The calculation has been done and saved'\n",
    "# print WEAP.CalculationTime\n",
    "\n",
    "print 'Done'\n",
    "\n",
    "SelectDemandSites=['Montpelier Irr','Highline Canal','Hyrum Canal','Bird Refuge','Logan Potable']\n",
    "\n",
    "\n",
    "\n",
    "Result= OrderedDict()\n",
    "# columns=['ScenarioName','BranchName','Reliability']\n",
    "# Result=OrderedDict() \n",
    "\n",
    "# group:ScenarioName\n",
    "# Key=BranchName\n",
    "# value:BranchName\n",
    "    \n",
    "for ScenarioName in WEAP.Scenarios:\n",
    "    print ScenarioName\n",
    "    WEAP.ActiveScenario=ScenarioName\n",
    "\n",
    "    #print str(ScenarioName)\n",
    "    scenarioKey = str(ScenarioName)\n",
    "    Result[scenarioKey] = OrderedDict()\n",
    "    \n",
    "    BranchNames = []\n",
    "    Reliabilities = []\n",
    "    \n",
    "    for Branch in WEAP.Branches:\n",
    "        if Branch.TypeName=='Demand Site' and Branch.IsNode:\n",
    "            FullBranchName=Branch.FullName\n",
    "            BranchName=Branch.Name\n",
    "            for SelectSite in SelectDemandSites:\n",
    "                if SelectSite==BranchName:\n",
    "                    if WEAP.Branch(FullBranchName).Variables.Exists(\"Reliability\"):\n",
    "                        BranchNames.append(BranchName)\n",
    "                        Reliabilities.append(WEAP.Branch(FullBranchName).Variables(\"Reliability\").Value)\n",
    "    \n",
    "    NewReliabilities = []\n",
    "    for site in SelectDemandSites:\n",
    "        index = BranchNames.index(site)\n",
    "        NewReliabilities.append(Reliabilities[index])\n",
    "    \n",
    "#     print BranchNames\n",
    "    Result[scenarioKey]['BranchName'] = SelectDemandSites\n",
    "    Result[scenarioKey]['Reliability'] = NewReliabilities\n",
    "\n",
    "print 'done'\n",
    "print Result            \n",
    "            \n",
    " "
   ]
  },
  {
   "cell_type": "markdown",
   "metadata": {},
   "source": [
    "# Get the Sedeimtation Scenarios"
   ]
  },
  {
   "cell_type": "code",
   "execution_count": 78,
   "metadata": {
    "collapsed": false
   },
   "outputs": [
    {
     "name": "stdout",
     "output_type": "stream",
     "text": [
      "Bear_River_WEAP_Model_2017_scenarios\n",
      "Bear_River_WEAP_Model_2017_sedimentation\n",
      "Bear_River_WEAP_Model_2017_sedimentation\n",
      "Please wait 1-3 min for the calculation to finish\n",
      "\n",
      " \n",
      " The calculation has been done and saved\n",
      "Done\n",
      "Current Accounts\n",
      "Reference\n",
      "done\n",
      "OrderedDict([('Current Accounts', OrderedDict([('BranchName', ['Montpelier Irr', 'Highline Canal', 'Hyrum Canal', 'Bird Refuge', 'Logan Potable']), ('Reliability', [50.0, 66.66666666666667, 66.66666666666667, 91.66666666666667, 100.0])])), ('Reference', OrderedDict([('BranchName', ['Montpelier Irr', 'Highline Canal', 'Hyrum Canal', 'Bird Refuge', 'Logan Potable']), ('Reliability', [50.0, 77.64227642276423, 84.95934959349593, 96.34146341463415, 100.0])]))])\n"
     ]
    }
   ],
   "source": [
    "WEAP=win32com.client.Dispatch(\"WEAP.WEAPApplication\")\n",
    "\n",
    "#-----------------------------------------------------------------\n",
    "print WEAP.ActiveArea.Name \n",
    "WEAP.ActiveArea = \"Bear_River_WEAP_Model_2017_sedimentation\"  \n",
    "print WEAP.ActiveArea.Name \n",
    "\n",
    "WEAP.Areas(\"Bear_River_WEAP_Model_2017_sedimentation\").Open\n",
    "WEAP.ActiveArea = \"Bear_River_WEAP_Model_2017_sedimentation\"  \n",
    "print WEAP.ActiveArea.Name\n",
    "#-----------------------------------------------------------------\n",
    "\n",
    "\n",
    "print 'Please wait 1-3 min for the calculation to finish'\n",
    "# WEAP.Calculate(2006,10,True)\n",
    "WEAP.SaveArea\n",
    "\n",
    "print '\\n \\n The calculation has been done and saved'\n",
    "# print WEAP.CalculationTime\n",
    "\n",
    "print 'Done'\n",
    "\n",
    "# WEAP.Visible = 'FALSE'\n",
    "\n",
    "SelectDemandSites=['Montpelier Irr','Highline Canal','Hyrum Canal','Bird Refuge','Logan Potable']\n",
    "\n",
    "\n",
    "\n",
    "Result2= OrderedDict()\n",
    "    \n",
    "for ScenarioName in WEAP.Scenarios:\n",
    "    print ScenarioName\n",
    "\n",
    "#     if ScenarioName=='Reference':\n",
    "    WEAP.ActiveScenario=ScenarioName\n",
    "\n",
    "    #print str(ScenarioName)\n",
    "    scenarioKey = str(ScenarioName)\n",
    "    Result2[scenarioKey] = OrderedDict()\n",
    "\n",
    "    BranchNames = []\n",
    "    Reliabilities = []\n",
    "\n",
    "    for Branch in WEAP.Branches:\n",
    "        if Branch.TypeName=='Demand Site' and Branch.IsNode:\n",
    "            FullBranchName=Branch.FullName\n",
    "            BranchName=Branch.Name\n",
    "            for SelectSite in SelectDemandSites:\n",
    "                if SelectSite==BranchName:\n",
    "                    if WEAP.Branch(FullBranchName).Variables.Exists(\"Reliability\"):\n",
    "                        BranchNames.append(BranchName)\n",
    "                        Reliabilities.append(WEAP.Branch(FullBranchName).Variables(\"Reliability\").Value)\n",
    "#     NewBranchNames = []\n",
    "    NewReliabilities = []\n",
    "    for site in SelectDemandSites:\n",
    "        index = BranchNames.index(site)\n",
    "        NewReliabilities.append(Reliabilities[index])\n",
    "    Result2[scenarioKey]['BranchName'] = SelectDemandSites\n",
    "    Result2[scenarioKey]['Reliability'] = NewReliabilities\n",
    "\n",
    "print 'done'\n",
    "print Result2            "
   ]
  },
  {
   "cell_type": "markdown",
   "metadata": {},
   "source": [
    "# Get the Weber scenarios "
   ]
  },
  {
   "cell_type": "code",
   "execution_count": 83,
   "metadata": {
    "collapsed": false
   },
   "outputs": [
    {
     "name": "stdout",
     "output_type": "stream",
     "text": [
      "Bear_River_WEAP_Model_2017_scenarios\n",
      "Bear_River_WEAP_Model_2017_scenarios\n"
     ]
    },
    {
     "ename": "AttributeError",
     "evalue": "'NoneType' object has no attribute 'Open'",
     "output_type": "error",
     "traceback": [
      "\u001b[0;31m---------------------------------------------------------------------------\u001b[0m",
      "\u001b[0;31mAttributeError\u001b[0m                            Traceback (most recent call last)",
      "\u001b[0;32m<ipython-input-83-af58793fa1f8>\u001b[0m in \u001b[0;36m<module>\u001b[0;34m()\u001b[0m\n\u001b[1;32m     17\u001b[0m \u001b[1;32mprint\u001b[0m \u001b[0mWEAP\u001b[0m\u001b[1;33m.\u001b[0m\u001b[0mActiveArea\u001b[0m\u001b[1;33m.\u001b[0m\u001b[0mName\u001b[0m\u001b[1;33m\u001b[0m\u001b[0m\n\u001b[1;32m     18\u001b[0m \u001b[1;33m\u001b[0m\u001b[0m\n\u001b[0;32m---> 19\u001b[0;31m \u001b[0mWEAP\u001b[0m\u001b[1;33m.\u001b[0m\u001b[0mAreas\u001b[0m\u001b[1;33m(\u001b[0m\u001b[1;34m\"WeberOgdenRiversLab-3_Original\"\u001b[0m\u001b[1;33m)\u001b[0m\u001b[1;33m.\u001b[0m\u001b[0mOpen\u001b[0m\u001b[1;33m\u001b[0m\u001b[0m\n\u001b[0m\u001b[1;32m     20\u001b[0m \u001b[0mWEAP\u001b[0m\u001b[1;33m.\u001b[0m\u001b[0mActiveArea\u001b[0m \u001b[1;33m=\u001b[0m \u001b[1;34m\"WeberOgdenRiversLab-3_Original\"\u001b[0m\u001b[1;33m\u001b[0m\u001b[0m\n\u001b[1;32m     21\u001b[0m \u001b[1;32mprint\u001b[0m \u001b[0mWEAP\u001b[0m\u001b[1;33m.\u001b[0m\u001b[0mActiveArea\u001b[0m\u001b[1;33m.\u001b[0m\u001b[0mName\u001b[0m\u001b[1;33m\u001b[0m\u001b[0m\n",
      "\u001b[0;31mAttributeError\u001b[0m: 'NoneType' object has no attribute 'Open'"
     ]
    }
   ],
   "source": [
    "# this library is needed to connect to the WEAP API\n",
    "import win32com.client\n",
    "\n",
    "# this command will open the WEAP software (if closed) and get the last active model\n",
    "# you could change the active area to another one inside WEAP or by passing it to the command here\n",
    "#WEAP.ActiveArea = \"BearRiverFeb2017_V10.9\"\n",
    "\n",
    "\n",
    "WEAP=win32com.client.Dispatch(\"WEAP.WEAPApplication\")\n",
    "\n",
    "# WEAP.Visible = 'FALSE'\n",
    "\n",
    "#-----------------------------------------------------------------\n",
    "\n",
    "print WEAP.ActiveArea.Name \n",
    "WEAP.ActiveArea = \"WeberOgdenRiversLab-3_Original\"  \n",
    "print WEAP.ActiveArea.Name \n",
    "\n",
    "WEAP.Areas(\"WeberOgdenRiversLab-3_Original\").Open\n",
    "WEAP.ActiveArea = \"WeberOgdenRiversLab-3_Original\"  \n",
    "print WEAP.ActiveArea.Name\n",
    "#-----------------------------------------------------------------\n",
    "\n",
    "\n",
    "print 'Connected to WEAP API and the '+ WEAP.ActiveArea.Name + ' Area'\n",
    "print '-------------'\n",
    "if not WEAP.Registered:\n",
    "    print \"Because WEAP is not registered, you cannot use the API\"\n",
    "\n",
    "# get the active WEAP Area (model) to serve data into it \n",
    "\n",
    "# ActiveArea=WEAP.ActiveArea.Name \n",
    "\n",
    "\n",
    "# get the active WEAP scenario to serve data into it \n",
    "print '-------------'\n",
    "\n",
    "ActiveScenario= WEAP.ActiveScenario.Name\n",
    "print '\\n ActiveScenario= '+ActiveScenario\n",
    "print '-------------'\n",
    "\n",
    "WEAP_Area_dir=WEAP.AreasDirectory\n",
    "print WEAP_Area_dir\n",
    "\n",
    "\n",
    "print \"\\n \\n You're connected to the WEAP API\"\n",
    "\n",
    "\n",
    "# Delete the Area if it exists and then add it. Start from fresh\n",
    "Area=\"WeberOgdenRiversLab-3_sedimentation\"\n",
    "\n",
    "if not WEAP.Areas.Exists(Area):\n",
    "    WEAP.SaveAreaAs(Area)\n",
    "WEAP.Quit\n",
    "print \" Created the WeberOgdenRiversLab-3_sedimentation Area\"\n",
    "\n",
    "WEAP=win32com.client.Dispatch(\"WEAP.WEAPApplication\")\n",
    "\n",
    "#-----------------------------------------------------------------\n",
    "print WEAP.ActiveArea.Name \n",
    "WEAP.ActiveArea = \"WeberOgdenRiversLab-3_Original\"  \n",
    "print WEAP.ActiveArea.Name \n",
    "\n",
    "WEAP.Areas(\"WeberOgdenRiversLab-3_Original\").Open\n",
    "WEAP.ActiveArea = \"WeberOgdenRiversLab-3_Original\"  \n",
    "print WEAP.ActiveArea.Name\n",
    "#-----------------------------------------------------------------\n",
    "\n",
    "\n",
    "# Delete the Area if it exists and then add it. Start from fresh\n",
    "Area=\"WeberOgdenRiversLab-3_scenarios\"\n",
    "\n",
    "if not WEAP.Areas.Exists(Area):\n",
    "    WEAP.SaveAreaAs(Area)\n",
    "print  'ActiveArea= '+ WEAP.ActiveArea.Name\n",
    "\n",
    "\n",
    "WEAP.Areas(\"WeberOgdenRiversLab-3_scenarios\").Open\n",
    "WEAP.ActiveArea = \"WeberOgdenRiversLab-3_scenarios\"  \n",
    "print WEAP.ActiveArea.Name\n",
    "\n",
    "Scenarios=[]\n",
    "Scenarios=['Evaporation','Headflow','Demand']\n",
    "\n",
    "for Scenario in Scenarios:\n",
    "    if WEAP.Scenarios.Exists(Scenario):\n",
    "        # delete it\n",
    "        WEAP.Scenarios(Scenario).Delete(True)\n",
    "        # add it back as a fresh copy\n",
    "        WEAP.Scenarios.Add(Scenario,'Reference')\n",
    "    else:\n",
    "        WEAP.Scenarios.Add(Scenario,'Reference')\n",
    "    \n",
    "WEAP.ActiveArea.Save\n",
    "WEAP.SaveArea\n",
    "# Make a copy from the reference (base) scenario\n",
    "# WEAP.Scenarios.Add('UpdateCacheDemand','Reference')\n",
    "print '---------------------- \\n'\n",
    "print 'Scenarios added to the WeberOgdenRiversLab-3_scenarios WEAP area'  "
   ]
  },
  {
   "cell_type": "markdown",
   "metadata": {},
   "source": [
    "# get the scenariois reliability "
   ]
  },
  {
   "cell_type": "code",
   "execution_count": 84,
   "metadata": {
    "collapsed": false
   },
   "outputs": [
    {
     "name": "stdout",
     "output_type": "stream",
     "text": [
      "Bear_River_WEAP_Model_2017_scenarios\n",
      "WeberOgdenRiversLab-3_scenarios\n",
      "WeberOgdenRiversLab-3_scenarios\n",
      "Please wait 1-3 min for the calculation to finish\n",
      "\n",
      " \n",
      " The calculation has been done and saved\n",
      "Done\n",
      "Current Accounts\n",
      "Reference\n",
      "Evaporation\n",
      "Headflow\n",
      "Demand\n",
      "done\n",
      "OrderedDict([('Current Accounts', OrderedDict([('BranchName', ['Weber Basin Proj. Ogd Valley', 'Wanship to Echo']), ('Reliability', [100.0, 100.0])])), ('Reference', OrderedDict([('BranchName', ['Weber Basin Proj. Ogd Valley', 'Wanship to Echo']), ('Reliability', [97.51461988304094, 100.0])])), ('Evaporation', OrderedDict([('BranchName', ['Weber Basin Proj. Ogd Valley', 'Wanship to Echo']), ('Reliability', [97.51461988304094, 100.0])])), ('Headflow', OrderedDict([('BranchName', ['Weber Basin Proj. Ogd Valley', 'Wanship to Echo']), ('Reliability', [96.34502923976608, 100.0])])), ('Demand', OrderedDict([('BranchName', ['Weber Basin Proj. Ogd Valley', 'Wanship to Echo']), ('Reliability', [98.83040935672514, 100.0])]))])\n"
     ]
    }
   ],
   "source": [
    "import win32com.client\n",
    "\n",
    "WEAP=win32com.client.Dispatch(\"WEAP.WEAPApplication\")\n",
    "#-----------------------------------------------------------------\n",
    "print WEAP.ActiveArea.Name \n",
    "WEAP.ActiveArea = \"WeberOgdenRiversLab-3_scenarios\"  \n",
    "print WEAP.ActiveArea.Name \n",
    "\n",
    "WEAP.Areas(\"WeberOgdenRiversLab-3_scenarios\").Open\n",
    "WEAP.ActiveArea = \"WeberOgdenRiversLab-3_scenarios\"  \n",
    "print WEAP.ActiveArea.Name\n",
    "#-----------------------------------------------------------------\n",
    "\n",
    "\n",
    "print 'Please wait 1-3 min for the calculation to finish'\n",
    "# WEAP.Calculate(2006,10,True)\n",
    "# WEAP.SaveArea\n",
    "\n",
    "print '\\n \\n The calculation has been done and saved'\n",
    "# print WEAP.CalculationTime\n",
    "\n",
    "print 'Done'\n",
    "\n",
    "SelectDemandSites=['Weber Basin Proj. Ogd Valley','Wanship to Echo']\n",
    "\n",
    "\n",
    "\n",
    "Result3= OrderedDict()\n",
    "# columns=['ScenarioName','BranchName','Reliability']\n",
    "# Result=OrderedDict() \n",
    "\n",
    "# group:ScenarioName\n",
    "# Key=BranchName\n",
    "# value:BranchName\n",
    "    \n",
    "for ScenarioName in WEAP.Scenarios:\n",
    "    print ScenarioName\n",
    "    WEAP.ActiveScenario=ScenarioName\n",
    "\n",
    "    #print str(ScenarioName)\n",
    "    scenarioKey = str(ScenarioName)\n",
    "    Result3[scenarioKey] = OrderedDict()\n",
    "    \n",
    "    BranchNames = []\n",
    "    Reliabilities = []\n",
    "    \n",
    "    for Branch in WEAP.Branches:\n",
    "        if Branch.TypeName=='Demand Site' and Branch.IsNode:\n",
    "            FullBranchName=Branch.FullName\n",
    "            BranchName=Branch.Name\n",
    "            for SelectSite in SelectDemandSites:\n",
    "                if SelectSite==BranchName:\n",
    "                    if WEAP.Branch(FullBranchName).Variables.Exists(\"Reliability\"):\n",
    "                        #Result['ScenarioName'] = ScenarioName\n",
    "                        BranchNames.append(BranchName)\n",
    "                        Reliabilities.append(WEAP.Branch(FullBranchName).Variables(\"Reliability\").Value)\n",
    "    \n",
    "    NewReliabilities = []\n",
    "    for site in SelectDemandSites:\n",
    "        index = BranchNames.index(site)\n",
    "        NewReliabilities.append(Reliabilities[index])\n",
    "    \n",
    "    Result3[scenarioKey]['BranchName'] = SelectDemandSites\n",
    "    Result3[scenarioKey]['Reliability'] = NewReliabilities\n",
    "\n",
    "print 'done'\n",
    "            \n",
    "print Result3            \n",
    " "
   ]
  },
  {
   "cell_type": "markdown",
   "metadata": {},
   "source": [
    "# Get the sedemionation"
   ]
  },
  {
   "cell_type": "code",
   "execution_count": 86,
   "metadata": {
    "collapsed": false
   },
   "outputs": [
    {
     "name": "stdout",
     "output_type": "stream",
     "text": [
      "Bear_River_WEAP_Model_2017_scenarios\n",
      "WeberOgdenRiversLab-3_sedimentation\n",
      "WeberOgdenRiversLab-3_sedimentation\n",
      "Please wait 1-3 min for the calculation to finish\n",
      "\n",
      " \n",
      " The calculation has been done and saved\n",
      "Done\n",
      "Current Accounts\n",
      "Reference\n",
      "done\n",
      "OrderedDict([('Current Accounts', OrderedDict([('BranchName', ['Weber Basin Proj. Ogd Valley', 'Wanship to Echo']), ('Reliability', [100.0, 100.0])])), ('Reference', OrderedDict([('BranchName', ['Weber Basin Proj. Ogd Valley', 'Wanship to Echo']), ('Reliability', [96.6374269005848, 100.0])]))])\n"
     ]
    }
   ],
   "source": [
    "WEAP=win32com.client.Dispatch(\"WEAP.WEAPApplication\")\n",
    "\n",
    "#-----------------------------------------------------------------\n",
    "print WEAP.ActiveArea.Name \n",
    "WEAP.ActiveArea = \"WeberOgdenRiversLab-3_sedimentation\"  \n",
    "print WEAP.ActiveArea.Name \n",
    "\n",
    "WEAP.Areas(\"WeberOgdenRiversLab-3_sedimentation\").Open\n",
    "WEAP.ActiveArea = \"WeberOgdenRiversLab-3_sedimentation\"  \n",
    "print WEAP.ActiveArea.Name\n",
    "#-----------------------------------------------------------------\n",
    "\n",
    "\n",
    "print 'Please wait 1-3 min for the calculation to finish'\n",
    "# WEAP.Calculate(2006,10,True)\n",
    "WEAP.SaveArea\n",
    "\n",
    "print '\\n \\n The calculation has been done and saved'\n",
    "# print WEAP.CalculationTime\n",
    "\n",
    "print 'Done'\n",
    "\n",
    "# WEAP.Visible = 'FALSE'\n",
    "\n",
    "SelectDemandSites=['Weber Basin Proj. Ogd Valley','Wanship to Echo']\n",
    "\n",
    "\n",
    "\n",
    "Result4= OrderedDict()\n",
    "    \n",
    "for ScenarioName in WEAP.Scenarios:\n",
    "    print ScenarioName\n",
    "\n",
    "#     if ScenarioName=='Reference':\n",
    "    WEAP.ActiveScenario=ScenarioName\n",
    "\n",
    "    #print str(ScenarioName)\n",
    "    scenarioKey = str(ScenarioName)\n",
    "    Result4[scenarioKey] = OrderedDict()\n",
    "\n",
    "    BranchNames = []\n",
    "    Reliabilities = []\n",
    "\n",
    "    for Branch in WEAP.Branches:\n",
    "        if Branch.TypeName=='Demand Site' and Branch.IsNode:\n",
    "            FullBranchName=Branch.FullName\n",
    "            BranchName=Branch.Name\n",
    "            for SelectSite in SelectDemandSites:\n",
    "                if SelectSite==BranchName:\n",
    "                    if WEAP.Branch(FullBranchName).Variables.Exists(\"Reliability\"):\n",
    "                        #Result['ScenarioName'] = ScenarioName\n",
    "                        BranchNames.append(BranchName)\n",
    "                        Reliabilities.append(WEAP.Branch(FullBranchName).Variables(\"Reliability\").Value)\n",
    "    \n",
    "        \n",
    "    NewReliabilities = []\n",
    "    for site in SelectDemandSites:\n",
    "        index = BranchNames.index(site)\n",
    "        NewReliabilities.append(Reliabilities[index])\n",
    "    \n",
    "    \n",
    "    Result4[scenarioKey]['BranchName'] = SelectDemandSites\n",
    "    Result4[scenarioKey]['Reliability'] = NewReliabilities\n",
    "\n",
    "print 'done'\n",
    "print Result4        "
   ]
  },
  {
   "cell_type": "code",
   "execution_count": 96,
   "metadata": {
    "collapsed": false
   },
   "outputs": [
    {
     "name": "stdout",
     "output_type": "stream",
     "text": [
      "['Montpelier Irr', 'Highline Canal', 'Hyrum Canal', 'Bird Refuge', 'Logan Potable'] [50.0, 79.8780487804878, 85.77235772357723, 96.34146341463415, 100.0]\n"
     ]
    }
   ],
   "source": [
    "print Result['Reference']['BranchName'],\n",
    "print Result['Reference']['Reliability'],"
   ]
  },
  {
   "cell_type": "markdown",
   "metadata": {},
   "source": [
    "# Plot reliability"
   ]
  },
  {
   "cell_type": "code",
   "execution_count": 98,
   "metadata": {
    "collapsed": false,
    "scrolled": true
   },
   "outputs": [
    {
     "data": {
      "application/vnd.plotly.v1+json": {
       "data": [
        {
         "marker": {
          "color": "#290AD8"
         },
         "mode": "lines+markers",
         "name": "Reduce demand by 10%",
         "type": "scatter",
         "x": [
          "Montpelier Irr",
          "Highline Canal",
          "Hyrum Canal",
          "Bird Refuge",
          "Logan Potable"
         ],
         "y": [
          50,
          84.55284552845528,
          88.21138211382114,
          96.7479674796748,
          100
         ]
        },
        {
         "marker": {
          "color": "#000000"
         },
         "mode": "lines+markers",
         "name": "Base Case",
         "type": "scatter",
         "x": [
          "Montpelier Irr",
          "Highline Canal",
          "Hyrum Canal",
          "Bird Refuge",
          "Logan Potable"
         ],
         "y": [
          50,
          79.8780487804878,
          85.77235772357723,
          96.34146341463415,
          100
         ]
        },
        {
         "marker": {
          "color": "#3FA0FF"
         },
         "mode": "lines+markers",
         "name": "Increase evaporation by 10%",
         "type": "scatter",
         "x": [
          "Montpelier Irr",
          "Highline Canal",
          "Hyrum Canal",
          "Bird Refuge",
          "Logan Potable"
         ],
         "y": [
          50,
          79.26829268292683,
          85.77235772357723,
          96.34146341463415,
          100
         ]
        },
        {
         "marker": {
          "color": "#72D9FF"
         },
         "mode": "lines+markers",
         "name": "Reduce reservoir capacities by 10%",
         "type": "scatter",
         "x": [
          "Montpelier Irr",
          "Highline Canal",
          "Hyrum Canal",
          "Bird Refuge",
          "Logan Potable"
         ],
         "y": [
          50,
          77.64227642276423,
          84.95934959349593,
          96.34146341463415,
          100
         ]
        },
        {
         "marker": {
          "color": "#AAF7FF"
         },
         "mode": "lines+markers",
         "name": "Reduce headflows by 10%",
         "type": "scatter",
         "x": [
          "Montpelier Irr",
          "Highline Canal",
          "Hyrum Canal",
          "Bird Refuge",
          "Logan Potable"
         ],
         "y": [
          50,
          73.57723577235772,
          77.4390243902439,
          94.71544715447155,
          100
         ]
        },
        {
         "marker": {
          "color": "#290AD8"
         },
         "mode": "lines+markers",
         "name": "Reduce demand by 10%",
         "showlegend": false,
         "type": "scatter",
         "x": [
          "Weber Basin Proj. Ogd Valley",
          "Wanship to Echo"
         ],
         "y": [
          98.83040935672514,
          100
         ]
        },
        {
         "marker": {
          "color": "#000000"
         },
         "mode": "lines+markers",
         "name": "Base Case",
         "showlegend": false,
         "type": "scatter",
         "x": [
          "Weber Basin Proj. Ogd Valley",
          "Wanship to Echo"
         ],
         "y": [
          97.51461988304094,
          100
         ]
        },
        {
         "marker": {
          "color": "#3FA0FF"
         },
         "mode": "lines+markers",
         "name": "Increase evaporation by 10%",
         "showlegend": false,
         "type": "scatter",
         "x": [
          "Weber Basin Proj. Ogd Valley",
          "Wanship to Echo"
         ],
         "y": [
          97.51461988304094,
          100
         ]
        },
        {
         "marker": {
          "color": "#72D9FF"
         },
         "mode": "lines+markers",
         "name": "Reduce reservoir capacities by 10%",
         "showlegend": false,
         "type": "scatter",
         "x": [
          "Weber Basin Proj. Ogd Valley",
          "Wanship to Echo"
         ],
         "y": [
          96.6374269005848,
          100
         ]
        },
        {
         "marker": {
          "color": "#AAF7FF"
         },
         "mode": "lines+markers",
         "name": "Reduce headflows by 10%",
         "showlegend": false,
         "type": "scatter",
         "x": [
          "Weber Basin Proj. Ogd Valley",
          "Wanship to Echo"
         ],
         "y": [
          96.34502923976608,
          100
         ]
        }
       ],
       "layout": {
        "font": {
         "color": "#00000f",
         "family": "arial",
         "size": 25
        },
        "height": 700,
        "legend": {
         "bordercolor": "#00000f",
         "borderwidth": 2,
         "x": 1,
         "y": 0.56
        },
        "margin": {
         "b": 200,
         "l": 130
        },
        "shapes": [
         {
          "type": "line",
          "x0": 0,
          "x1": 1,
          "xref": "paper",
          "y0": 40,
          "y1": 40,
          "yref": "y"
         }
        ],
        "showlegend": true,
        "width": 1100,
        "xaxis": {
         "gridwidth": 1,
         "showgrid": true,
         "tickcolor": "#000",
         "tickfont": {
          "size": 22
         },
         "ticklen": 10,
         "ticks": "inside"
        },
        "yaxis": {
         "dtick": "10",
         "gridwidth": 1,
         "range": [
          40,
          105
         ],
         "showgrid": true,
         "showline": true,
         "tick0": 40,
         "tickcolor": "#000",
         "tickformat": ",",
         "ticklen": 10,
         "ticks": "outside",
         "title": "Demand reliability (%)"
        }
       }
      },
      "text/html": [
       "<div id=\"b2c95687-9d35-4d86-9452-6bcbc3ebdc39\" style=\"height: 700px; width: 1100px;\" class=\"plotly-graph-div\"></div><script type=\"text/javascript\">require([\"plotly\"], function(Plotly) { window.PLOTLYENV=window.PLOTLYENV || {};window.PLOTLYENV.BASE_URL=\"https://plot.ly\";Plotly.newPlot(\"b2c95687-9d35-4d86-9452-6bcbc3ebdc39\", [{\"name\": \"Reduce demand by 10%\", \"marker\": {\"color\": \"#290AD8\"}, \"mode\": \"lines+markers\", \"y\": [50.0, 84.55284552845528, 88.21138211382114, 96.7479674796748, 100.0], \"x\": [\"Montpelier Irr\", \"Highline Canal\", \"Hyrum Canal\", \"Bird Refuge\", \"Logan Potable\"], \"type\": \"scatter\"}, {\"name\": \"Base Case\", \"marker\": {\"color\": \"#000000\"}, \"mode\": \"lines+markers\", \"y\": [50.0, 79.8780487804878, 85.77235772357723, 96.34146341463415, 100.0], \"x\": [\"Montpelier Irr\", \"Highline Canal\", \"Hyrum Canal\", \"Bird Refuge\", \"Logan Potable\"], \"type\": \"scatter\"}, {\"name\": \"Increase evaporation by 10%\", \"marker\": {\"color\": \"#3FA0FF\"}, \"mode\": \"lines+markers\", \"y\": [50.0, 79.26829268292683, 85.77235772357723, 96.34146341463415, 100.0], \"x\": [\"Montpelier Irr\", \"Highline Canal\", \"Hyrum Canal\", \"Bird Refuge\", \"Logan Potable\"], \"type\": \"scatter\"}, {\"name\": \"Reduce reservoir capacities by 10%\", \"marker\": {\"color\": \"#72D9FF\"}, \"mode\": \"lines+markers\", \"y\": [50.0, 77.64227642276423, 84.95934959349593, 96.34146341463415, 100.0], \"x\": [\"Montpelier Irr\", \"Highline Canal\", \"Hyrum Canal\", \"Bird Refuge\", \"Logan Potable\"], \"type\": \"scatter\"}, {\"name\": \"Reduce headflows by 10%\", \"marker\": {\"color\": \"#AAF7FF\"}, \"mode\": \"lines+markers\", \"y\": [50.0, 73.57723577235772, 77.4390243902439, 94.71544715447155, 100.0], \"x\": [\"Montpelier Irr\", \"Highline Canal\", \"Hyrum Canal\", \"Bird Refuge\", \"Logan Potable\"], \"type\": \"scatter\"}, {\"showlegend\": false, \"name\": \"Reduce demand by 10%\", \"marker\": {\"color\": \"#290AD8\"}, \"mode\": \"lines+markers\", \"y\": [98.83040935672514, 100.0], \"x\": [\"Weber Basin Proj. Ogd Valley\", \"Wanship to Echo\"], \"type\": \"scatter\"}, {\"showlegend\": false, \"name\": \"Base Case\", \"marker\": {\"color\": \"#000000\"}, \"mode\": \"lines+markers\", \"y\": [97.51461988304094, 100.0], \"x\": [\"Weber Basin Proj. Ogd Valley\", \"Wanship to Echo\"], \"type\": \"scatter\"}, {\"showlegend\": false, \"name\": \"Increase evaporation by 10%\", \"marker\": {\"color\": \"#3FA0FF\"}, \"mode\": \"lines+markers\", \"y\": [97.51461988304094, 100.0], \"x\": [\"Weber Basin Proj. Ogd Valley\", \"Wanship to Echo\"], \"type\": \"scatter\"}, {\"showlegend\": false, \"name\": \"Reduce reservoir capacities by 10%\", \"marker\": {\"color\": \"#72D9FF\"}, \"mode\": \"lines+markers\", \"y\": [96.6374269005848, 100.0], \"x\": [\"Weber Basin Proj. Ogd Valley\", \"Wanship to Echo\"], \"type\": \"scatter\"}, {\"showlegend\": false, \"name\": \"Reduce headflows by 10%\", \"marker\": {\"color\": \"#AAF7FF\"}, \"mode\": \"lines+markers\", \"y\": [96.34502923976608, 100.0], \"x\": [\"Weber Basin Proj. Ogd Valley\", \"Wanship to Echo\"], \"type\": \"scatter\"}], {\"showlegend\": true, \"yaxis\": {\"ticks\": \"outside\", \"tickformat\": \",\", \"title\": \"Demand reliability (%)\", \"tick0\": 40, \"ticklen\": 10, \"gridwidth\": 1, \"dtick\": \"10\", \"showgrid\": true, \"range\": [40, 105], \"showline\": true, \"tickcolor\": \"#000\"}, \"height\": 700, \"shapes\": [{\"xref\": \"paper\", \"yref\": \"y\", \"y1\": 40, \"y0\": 40, \"x0\": 0, \"x1\": 1, \"type\": \"line\"}], \"width\": 1100, \"xaxis\": {\"tickfont\": {\"size\": 22}, \"ticks\": \"inside\", \"ticklen\": 10, \"gridwidth\": 1, \"showgrid\": true, \"tickcolor\": \"#000\"}, \"font\": {\"color\": \"#00000f\", \"family\": \"arial\", \"size\": 25}, \"margin\": {\"b\": 200, \"l\": 130}, \"legend\": {\"bordercolor\": \"#00000f\", \"y\": 0.56, \"borderwidth\": 2, \"x\": 1}}, {\"linkText\": \"Export to plot.ly\", \"showLink\": true})});</script>"
      ],
      "text/vnd.plotly.v1+html": [
       "<div id=\"b2c95687-9d35-4d86-9452-6bcbc3ebdc39\" style=\"height: 700px; width: 1100px;\" class=\"plotly-graph-div\"></div><script type=\"text/javascript\">require([\"plotly\"], function(Plotly) { window.PLOTLYENV=window.PLOTLYENV || {};window.PLOTLYENV.BASE_URL=\"https://plot.ly\";Plotly.newPlot(\"b2c95687-9d35-4d86-9452-6bcbc3ebdc39\", [{\"name\": \"Reduce demand by 10%\", \"marker\": {\"color\": \"#290AD8\"}, \"mode\": \"lines+markers\", \"y\": [50.0, 84.55284552845528, 88.21138211382114, 96.7479674796748, 100.0], \"x\": [\"Montpelier Irr\", \"Highline Canal\", \"Hyrum Canal\", \"Bird Refuge\", \"Logan Potable\"], \"type\": \"scatter\"}, {\"name\": \"Base Case\", \"marker\": {\"color\": \"#000000\"}, \"mode\": \"lines+markers\", \"y\": [50.0, 79.8780487804878, 85.77235772357723, 96.34146341463415, 100.0], \"x\": [\"Montpelier Irr\", \"Highline Canal\", \"Hyrum Canal\", \"Bird Refuge\", \"Logan Potable\"], \"type\": \"scatter\"}, {\"name\": \"Increase evaporation by 10%\", \"marker\": {\"color\": \"#3FA0FF\"}, \"mode\": \"lines+markers\", \"y\": [50.0, 79.26829268292683, 85.77235772357723, 96.34146341463415, 100.0], \"x\": [\"Montpelier Irr\", \"Highline Canal\", \"Hyrum Canal\", \"Bird Refuge\", \"Logan Potable\"], \"type\": \"scatter\"}, {\"name\": \"Reduce reservoir capacities by 10%\", \"marker\": {\"color\": \"#72D9FF\"}, \"mode\": \"lines+markers\", \"y\": [50.0, 77.64227642276423, 84.95934959349593, 96.34146341463415, 100.0], \"x\": [\"Montpelier Irr\", \"Highline Canal\", \"Hyrum Canal\", \"Bird Refuge\", \"Logan Potable\"], \"type\": \"scatter\"}, {\"name\": \"Reduce headflows by 10%\", \"marker\": {\"color\": \"#AAF7FF\"}, \"mode\": \"lines+markers\", \"y\": [50.0, 73.57723577235772, 77.4390243902439, 94.71544715447155, 100.0], \"x\": [\"Montpelier Irr\", \"Highline Canal\", \"Hyrum Canal\", \"Bird Refuge\", \"Logan Potable\"], \"type\": \"scatter\"}, {\"showlegend\": false, \"name\": \"Reduce demand by 10%\", \"marker\": {\"color\": \"#290AD8\"}, \"mode\": \"lines+markers\", \"y\": [98.83040935672514, 100.0], \"x\": [\"Weber Basin Proj. Ogd Valley\", \"Wanship to Echo\"], \"type\": \"scatter\"}, {\"showlegend\": false, \"name\": \"Base Case\", \"marker\": {\"color\": \"#000000\"}, \"mode\": \"lines+markers\", \"y\": [97.51461988304094, 100.0], \"x\": [\"Weber Basin Proj. Ogd Valley\", \"Wanship to Echo\"], \"type\": \"scatter\"}, {\"showlegend\": false, \"name\": \"Increase evaporation by 10%\", \"marker\": {\"color\": \"#3FA0FF\"}, \"mode\": \"lines+markers\", \"y\": [97.51461988304094, 100.0], \"x\": [\"Weber Basin Proj. Ogd Valley\", \"Wanship to Echo\"], \"type\": \"scatter\"}, {\"showlegend\": false, \"name\": \"Reduce reservoir capacities by 10%\", \"marker\": {\"color\": \"#72D9FF\"}, \"mode\": \"lines+markers\", \"y\": [96.6374269005848, 100.0], \"x\": [\"Weber Basin Proj. Ogd Valley\", \"Wanship to Echo\"], \"type\": \"scatter\"}, {\"showlegend\": false, \"name\": \"Reduce headflows by 10%\", \"marker\": {\"color\": \"#AAF7FF\"}, \"mode\": \"lines+markers\", \"y\": [96.34502923976608, 100.0], \"x\": [\"Weber Basin Proj. Ogd Valley\", \"Wanship to Echo\"], \"type\": \"scatter\"}], {\"showlegend\": true, \"yaxis\": {\"ticks\": \"outside\", \"tickformat\": \",\", \"title\": \"Demand reliability (%)\", \"tick0\": 40, \"ticklen\": 10, \"gridwidth\": 1, \"dtick\": \"10\", \"showgrid\": true, \"range\": [40, 105], \"showline\": true, \"tickcolor\": \"#000\"}, \"height\": 700, \"shapes\": [{\"xref\": \"paper\", \"yref\": \"y\", \"y1\": 40, \"y0\": 40, \"x0\": 0, \"x1\": 1, \"type\": \"line\"}], \"width\": 1100, \"xaxis\": {\"tickfont\": {\"size\": 22}, \"ticks\": \"inside\", \"ticklen\": 10, \"gridwidth\": 1, \"showgrid\": true, \"tickcolor\": \"#000\"}, \"font\": {\"color\": \"#00000f\", \"family\": \"arial\", \"size\": 25}, \"margin\": {\"b\": 200, \"l\": 130}, \"legend\": {\"bordercolor\": \"#00000f\", \"y\": 0.56, \"borderwidth\": 2, \"x\": 1}}, {\"linkText\": \"Export to plot.ly\", \"showLink\": true})});</script>"
      ]
     },
     "metadata": {},
     "output_type": "display_data"
    },
    {
     "name": "stdout",
     "output_type": "stream",
     "text": [
      "Figure x is replicated!!\n"
     ]
    }
   ],
   "source": [
    "scenario1 = go.Scatter(\n",
    "    x=Result['Demand']['BranchName'],\n",
    "    y=Result['Demand']['Reliability'],\n",
    "    name = 'Reduce demand by 10%',   \n",
    "    mode = 'lines+markers',\n",
    "\n",
    "    marker = dict(\n",
    "        color = '#290AD8'\n",
    "))\n",
    "\n",
    "\n",
    "scenario2 = go.Scatter(\n",
    "    x=Result['Reference']['BranchName'],\n",
    "    y=Result['Reference']['Reliability'],\n",
    "    name = 'Base Case', \n",
    "        mode = 'lines+markers',\n",
    "\n",
    "    marker = dict(\n",
    "        color = '#000000',\n",
    "    \n",
    "))\n",
    "\n",
    "scenario3 = go.Scatter(\n",
    "    x=Result['Evaporation']['BranchName'],\n",
    "    y=Result['Evaporation']['Reliability'],\n",
    "    name = 'Increase evaporation by 10%', \n",
    "    mode = 'lines+markers',\n",
    "\n",
    "    marker = dict(\n",
    "        color = '#3FA0FF'\n",
    "))\n",
    "\n",
    "\n",
    "\n",
    "scenario4 = go.Scatter(\n",
    "    x=Result2['Reference']['BranchName'],\n",
    "    y=Result2['Reference']['Reliability'],\n",
    "    name = 'Reduce reservoir capacities by 10%',   \n",
    "    mode = 'lines+markers',\n",
    "\n",
    "    marker = dict(\n",
    "        color = '#72D9FF'\n",
    "))\n",
    "\n",
    "\n",
    "\n",
    "scenario5 = go.Scatter(\n",
    "    x=Result['Headflow']['BranchName'],\n",
    "    y=Result['Headflow']['Reliability'],\n",
    "    name = 'Reduce headflows by 10%',   \n",
    "    mode = 'lines+markers',\n",
    "\n",
    "    marker = dict(\n",
    "        color = '#AAF7FF'\n",
    "))\n",
    "\n",
    "\n",
    "#$$$$$$$$$$$$$$$$$$$$$$$$$$$$$$$$$$$$$$$$$$$$$$$$$$$$$$$$$$\n",
    "\n",
    "scenario11 = go.Scatter(\n",
    "    x=Result3['Demand']['BranchName'],\n",
    "    y=Result3['Demand']['Reliability'],\n",
    "    name = 'Reduce demand by 10%',   \n",
    "    mode = 'lines+markers',\n",
    "    showlegend=False,\n",
    "\n",
    "    marker = dict(\n",
    "        color = '#290AD8'\n",
    "))\n",
    "\n",
    "\n",
    "scenario12 = go.Scatter(\n",
    "    x=Result3['Reference']['BranchName'],\n",
    "    y=Result3['Reference']['Reliability'],\n",
    "    name = 'Base Case', \n",
    "        mode = 'lines+markers',\n",
    "    showlegend=False,\n",
    "\n",
    "    marker = dict(\n",
    "        color = '#000000',\n",
    "    \n",
    "))\n",
    "\n",
    "scenario13 = go.Scatter(\n",
    "    x=Result3['Evaporation']['BranchName'],\n",
    "    y=Result3['Evaporation']['Reliability'],\n",
    "    name = 'Increase evaporation by 10%', \n",
    "    mode = 'lines+markers',\n",
    "    showlegend=False,\n",
    "\n",
    "    marker = dict(\n",
    "        color = '#3FA0FF'\n",
    "))\n",
    "\n",
    "\n",
    "\n",
    "scenario14 = go.Scatter(\n",
    "    x=Result4['Reference']['BranchName'],\n",
    "    y=Result4['Reference']['Reliability'],\n",
    "    name = 'Reduce reservoir capacities by 10%',   \n",
    "    mode = 'lines+markers',\n",
    "    showlegend=False,\n",
    "\n",
    "    marker = dict(\n",
    "        color = '#72D9FF'\n",
    "))\n",
    "\n",
    "\n",
    "\n",
    "scenario15 = go.Scatter(\n",
    "    x=Result3['Headflow']['BranchName'],\n",
    "    y=Result3['Headflow']['Reliability'],\n",
    "    name = 'Reduce headflows by 10%',   \n",
    "    mode = 'lines+markers',\n",
    "    showlegend=False,\n",
    "    marker = dict(\n",
    "        color = '#AAF7FF'\n",
    "))\n",
    "\n",
    "\n",
    "\n",
    "\n",
    "layout = dict(\n",
    "    #title = \"Use Case 3.3\",\n",
    "    yaxis = dict(\n",
    "        title = \"Demand reliability (%)\",\n",
    "        tickformat= ',',\n",
    "        showline=True,\n",
    "        tick0=40,\n",
    "\n",
    "        dtick='10',\n",
    "        ticks='outside',\n",
    "        range = [40, 105],\n",
    "        ticklen=10,\n",
    "        tickcolor='#000',\n",
    "        gridwidth=1,\n",
    "        showgrid=True,\n",
    "\n",
    "                ),\n",
    "    \n",
    "    xaxis = dict(\n",
    "#         title = \"Updated input parameters in the <br>Bear_River_WEAP_Model_2017\",\n",
    "#         showline=True,\n",
    "        ticks='inside',\n",
    "        tickfont=dict(size=22),\n",
    "            tickcolor='#000',\n",
    "        gridwidth=1,\n",
    "        showgrid=True,\n",
    "\n",
    "        ticklen=10\n",
    "                    ),\n",
    "        legend=dict(\n",
    "        x=1,y=.56,\n",
    "          bordercolor='#00000f',\n",
    "            borderwidth=2\n",
    "        \n",
    "               ),\n",
    "    width=1100,\n",
    "    height=700,\n",
    "    #paper_bgcolor='rgb(233,233,233)',\n",
    "    #plot_bgcolor='rgb(233,233,233)',\n",
    "    margin=go.Margin(l=130,b=200),\n",
    "    font=dict(size=25,family='arial',color='#00000f'),\n",
    "\n",
    "    showlegend=True,\n",
    "    shapes=[{'type': 'line', \n",
    "                                           'x0': 0, 'x1': 1, 'xref': 'paper',\n",
    "                                           'y0': 40, 'y1': 40, 'yref': 'y'}]\n",
    "                )\n",
    "\n",
    "\n",
    "data = [scenario1, scenario2,scenario3,scenario4,scenario5,scenario11, scenario12,scenario13,scenario14,scenario15]\n",
    "\n",
    "\n",
    "# create a figure object\n",
    "fig = dict(data=data, layout=layout)\n",
    "#py.iplot(fig, filename = \"2.3Identify_SeasonalValues\") \n",
    "\n",
    "\n",
    "## it can be run from the local machine on Pycharm like this like below\n",
    "## It would also work here offline but in a seperate window  \n",
    "offline.iplot(fig,filename = 'jupyter/UnmentDemand@BirdRefuge' )       \n",
    "\n",
    "print \"Figure x is replicated!!\""
   ]
  },
  {
   "cell_type": "markdown",
   "metadata": {
    "collapsed": true
   },
   "source": [
    "# Bar"
   ]
  },
  {
   "cell_type": "code",
   "execution_count": 111,
   "metadata": {
    "collapsed": false
   },
   "outputs": [
    {
     "data": {
      "application/vnd.plotly.v1+json": {
       "data": [
        {
         "marker": {
          "color": "#290AD8"
         },
         "name": "Reduce demand by 10%",
         "type": "bar",
         "x": [
          "Montpelier Irr",
          "Highline Canal",
          "Hyrum Canal",
          "Bird Refuge",
          "Logan Potable"
         ],
         "y": [
          50,
          84.55284552845528,
          88.21138211382114,
          96.7479674796748,
          100
         ]
        },
        {
         "marker": {
          "color": "#000000"
         },
         "name": "Base Case",
         "type": "bar",
         "x": [
          "Montpelier Irr",
          "Highline Canal",
          "Hyrum Canal",
          "Bird Refuge",
          "Logan Potable"
         ],
         "y": [
          50,
          79.8780487804878,
          85.77235772357723,
          96.34146341463415,
          100
         ]
        },
        {
         "marker": {
          "color": "#3FA0FF"
         },
         "name": "Increase evaporation by 10%",
         "type": "bar",
         "x": [
          "Montpelier Irr",
          "Highline Canal",
          "Hyrum Canal",
          "Bird Refuge",
          "Logan Potable"
         ],
         "y": [
          50,
          79.26829268292683,
          85.77235772357723,
          96.34146341463415,
          100
         ]
        },
        {
         "marker": {
          "color": "#72D9FF"
         },
         "name": "Reduce reservoir capacities by 10%",
         "type": "bar",
         "x": [
          "Montpelier Irr",
          "Highline Canal",
          "Hyrum Canal",
          "Bird Refuge",
          "Logan Potable"
         ],
         "y": [
          50,
          77.64227642276423,
          84.95934959349593,
          96.34146341463415,
          100
         ]
        },
        {
         "marker": {
          "color": "#AAF7FF"
         },
         "name": "Reduce headflows by 10%",
         "type": "bar",
         "x": [
          "Montpelier Irr",
          "Highline Canal",
          "Hyrum Canal",
          "Bird Refuge",
          "Logan Potable"
         ],
         "y": [
          50,
          73.57723577235772,
          77.4390243902439,
          94.71544715447155,
          100
         ]
        },
        {
         "marker": {
          "color": "#A50021"
         },
         "name": "Reduce demand by 10%",
         "type": "bar",
         "x": [
          "Weber Basin Proj. Ogd Valley",
          "Wanship to Echo"
         ],
         "y": [
          98.83040935672514,
          100
         ]
        },
        {
         "marker": {
          "color": "#000000"
         },
         "name": "Base Case",
         "type": "bar",
         "x": [
          "Weber Basin Proj. Ogd Valley",
          "Wanship to Echo"
         ],
         "y": [
          97.51461988304094,
          100
         ]
        },
        {
         "marker": {
          "color": "#D82632"
         },
         "name": "Increase evaporation by 10%",
         "type": "bar",
         "x": [
          "Weber Basin Proj. Ogd Valley",
          "Wanship to Echo"
         ],
         "y": [
          97.51461988304094,
          100
         ]
        },
        {
         "marker": {
          "color": "#F76D5E"
         },
         "name": "Reduce reservoir capacities by 10%",
         "type": "bar",
         "x": [
          "Weber Basin Proj. Ogd Valley",
          "Wanship to Echo"
         ],
         "y": [
          96.6374269005848,
          100
         ]
        },
        {
         "marker": {
          "color": "#FFAD72"
         },
         "name": "Reduce headflows by 10%",
         "type": "bar",
         "x": [
          "Weber Basin Proj. Ogd Valley",
          "Wanship to Echo"
         ],
         "y": [
          96.34502923976608,
          100
         ]
        }
       ],
       "layout": {
        "font": {
         "color": "#00000f",
         "family": "arial",
         "size": 25
        },
        "height": 700,
        "legend": {
         "bordercolor": "#00000f",
         "borderwidth": 2,
         "x": 1,
         "y": 0.56
        },
        "margin": {
         "b": 200,
         "l": 130
        },
        "shapes": [
         {
          "type": "line",
          "x0": 0,
          "x1": 1,
          "xref": "paper",
          "y0": 40,
          "y1": 40,
          "yref": "y"
         }
        ],
        "showlegend": true,
        "width": 1100,
        "xaxis": {
         "gridwidth": 1,
         "showgrid": true,
         "tickcolor": "#000",
         "tickfont": {
          "size": 22
         },
         "ticklen": 10,
         "ticks": "inside"
        },
        "yaxis": {
         "dtick": "10",
         "gridwidth": 1,
         "range": [
          40,
          105
         ],
         "showgrid": true,
         "showline": true,
         "tick0": 40,
         "tickcolor": "#000",
         "tickformat": ",",
         "ticklen": 10,
         "ticks": "outside",
         "title": "Demand reliability (%)"
        }
       }
      },
      "text/html": [
       "<div id=\"6187ca92-1f8a-4a18-8a75-caf5d0e2c184\" style=\"height: 700px; width: 1100px;\" class=\"plotly-graph-div\"></div><script type=\"text/javascript\">require([\"plotly\"], function(Plotly) { window.PLOTLYENV=window.PLOTLYENV || {};window.PLOTLYENV.BASE_URL=\"https://plot.ly\";Plotly.newPlot(\"6187ca92-1f8a-4a18-8a75-caf5d0e2c184\", [{\"marker\": {\"color\": \"#290AD8\"}, \"y\": [50.0, 84.55284552845528, 88.21138211382114, 96.7479674796748, 100.0], \"type\": \"bar\", \"name\": \"Reduce demand by 10%\", \"x\": [\"Montpelier Irr\", \"Highline Canal\", \"Hyrum Canal\", \"Bird Refuge\", \"Logan Potable\"]}, {\"marker\": {\"color\": \"#000000\"}, \"y\": [50.0, 79.8780487804878, 85.77235772357723, 96.34146341463415, 100.0], \"type\": \"bar\", \"name\": \"Base Case\", \"x\": [\"Montpelier Irr\", \"Highline Canal\", \"Hyrum Canal\", \"Bird Refuge\", \"Logan Potable\"]}, {\"marker\": {\"color\": \"#3FA0FF\"}, \"y\": [50.0, 79.26829268292683, 85.77235772357723, 96.34146341463415, 100.0], \"type\": \"bar\", \"name\": \"Increase evaporation by 10%\", \"x\": [\"Montpelier Irr\", \"Highline Canal\", \"Hyrum Canal\", \"Bird Refuge\", \"Logan Potable\"]}, {\"marker\": {\"color\": \"#72D9FF\"}, \"y\": [50.0, 77.64227642276423, 84.95934959349593, 96.34146341463415, 100.0], \"type\": \"bar\", \"name\": \"Reduce reservoir capacities by 10%\", \"x\": [\"Montpelier Irr\", \"Highline Canal\", \"Hyrum Canal\", \"Bird Refuge\", \"Logan Potable\"]}, {\"marker\": {\"color\": \"#AAF7FF\"}, \"y\": [50.0, 73.57723577235772, 77.4390243902439, 94.71544715447155, 100.0], \"type\": \"bar\", \"name\": \"Reduce headflows by 10%\", \"x\": [\"Montpelier Irr\", \"Highline Canal\", \"Hyrum Canal\", \"Bird Refuge\", \"Logan Potable\"]}, {\"marker\": {\"color\": \"#A50021\"}, \"y\": [98.83040935672514, 100.0], \"type\": \"bar\", \"name\": \"Reduce demand by 10%\", \"x\": [\"Weber Basin Proj. Ogd Valley\", \"Wanship to Echo\"]}, {\"marker\": {\"color\": \"#000000\"}, \"y\": [97.51461988304094, 100.0], \"type\": \"bar\", \"name\": \"Base Case\", \"x\": [\"Weber Basin Proj. Ogd Valley\", \"Wanship to Echo\"]}, {\"marker\": {\"color\": \"#D82632\"}, \"y\": [97.51461988304094, 100.0], \"type\": \"bar\", \"name\": \"Increase evaporation by 10%\", \"x\": [\"Weber Basin Proj. Ogd Valley\", \"Wanship to Echo\"]}, {\"marker\": {\"color\": \"#F76D5E\"}, \"y\": [96.6374269005848, 100.0], \"type\": \"bar\", \"name\": \"Reduce reservoir capacities by 10%\", \"x\": [\"Weber Basin Proj. Ogd Valley\", \"Wanship to Echo\"]}, {\"marker\": {\"color\": \"#FFAD72\"}, \"y\": [96.34502923976608, 100.0], \"type\": \"bar\", \"name\": \"Reduce headflows by 10%\", \"x\": [\"Weber Basin Proj. Ogd Valley\", \"Wanship to Echo\"]}], {\"showlegend\": true, \"yaxis\": {\"ticks\": \"outside\", \"tickformat\": \",\", \"title\": \"Demand reliability (%)\", \"tick0\": 40, \"ticklen\": 10, \"gridwidth\": 1, \"dtick\": \"10\", \"showgrid\": true, \"range\": [40, 105], \"showline\": true, \"tickcolor\": \"#000\"}, \"height\": 700, \"shapes\": [{\"xref\": \"paper\", \"yref\": \"y\", \"y1\": 40, \"y0\": 40, \"x0\": 0, \"x1\": 1, \"type\": \"line\"}], \"width\": 1100, \"xaxis\": {\"tickfont\": {\"size\": 22}, \"ticks\": \"inside\", \"ticklen\": 10, \"gridwidth\": 1, \"showgrid\": true, \"tickcolor\": \"#000\"}, \"font\": {\"color\": \"#00000f\", \"family\": \"arial\", \"size\": 25}, \"margin\": {\"b\": 200, \"l\": 130}, \"legend\": {\"bordercolor\": \"#00000f\", \"y\": 0.56, \"borderwidth\": 2, \"x\": 1}}, {\"linkText\": \"Export to plot.ly\", \"showLink\": true})});</script>"
      ],
      "text/vnd.plotly.v1+html": [
       "<div id=\"6187ca92-1f8a-4a18-8a75-caf5d0e2c184\" style=\"height: 700px; width: 1100px;\" class=\"plotly-graph-div\"></div><script type=\"text/javascript\">require([\"plotly\"], function(Plotly) { window.PLOTLYENV=window.PLOTLYENV || {};window.PLOTLYENV.BASE_URL=\"https://plot.ly\";Plotly.newPlot(\"6187ca92-1f8a-4a18-8a75-caf5d0e2c184\", [{\"marker\": {\"color\": \"#290AD8\"}, \"y\": [50.0, 84.55284552845528, 88.21138211382114, 96.7479674796748, 100.0], \"type\": \"bar\", \"name\": \"Reduce demand by 10%\", \"x\": [\"Montpelier Irr\", \"Highline Canal\", \"Hyrum Canal\", \"Bird Refuge\", \"Logan Potable\"]}, {\"marker\": {\"color\": \"#000000\"}, \"y\": [50.0, 79.8780487804878, 85.77235772357723, 96.34146341463415, 100.0], \"type\": \"bar\", \"name\": \"Base Case\", \"x\": [\"Montpelier Irr\", \"Highline Canal\", \"Hyrum Canal\", \"Bird Refuge\", \"Logan Potable\"]}, {\"marker\": {\"color\": \"#3FA0FF\"}, \"y\": [50.0, 79.26829268292683, 85.77235772357723, 96.34146341463415, 100.0], \"type\": \"bar\", \"name\": \"Increase evaporation by 10%\", \"x\": [\"Montpelier Irr\", \"Highline Canal\", \"Hyrum Canal\", \"Bird Refuge\", \"Logan Potable\"]}, {\"marker\": {\"color\": \"#72D9FF\"}, \"y\": [50.0, 77.64227642276423, 84.95934959349593, 96.34146341463415, 100.0], \"type\": \"bar\", \"name\": \"Reduce reservoir capacities by 10%\", \"x\": [\"Montpelier Irr\", \"Highline Canal\", \"Hyrum Canal\", \"Bird Refuge\", \"Logan Potable\"]}, {\"marker\": {\"color\": \"#AAF7FF\"}, \"y\": [50.0, 73.57723577235772, 77.4390243902439, 94.71544715447155, 100.0], \"type\": \"bar\", \"name\": \"Reduce headflows by 10%\", \"x\": [\"Montpelier Irr\", \"Highline Canal\", \"Hyrum Canal\", \"Bird Refuge\", \"Logan Potable\"]}, {\"marker\": {\"color\": \"#A50021\"}, \"y\": [98.83040935672514, 100.0], \"type\": \"bar\", \"name\": \"Reduce demand by 10%\", \"x\": [\"Weber Basin Proj. Ogd Valley\", \"Wanship to Echo\"]}, {\"marker\": {\"color\": \"#000000\"}, \"y\": [97.51461988304094, 100.0], \"type\": \"bar\", \"name\": \"Base Case\", \"x\": [\"Weber Basin Proj. Ogd Valley\", \"Wanship to Echo\"]}, {\"marker\": {\"color\": \"#D82632\"}, \"y\": [97.51461988304094, 100.0], \"type\": \"bar\", \"name\": \"Increase evaporation by 10%\", \"x\": [\"Weber Basin Proj. Ogd Valley\", \"Wanship to Echo\"]}, {\"marker\": {\"color\": \"#F76D5E\"}, \"y\": [96.6374269005848, 100.0], \"type\": \"bar\", \"name\": \"Reduce reservoir capacities by 10%\", \"x\": [\"Weber Basin Proj. Ogd Valley\", \"Wanship to Echo\"]}, {\"marker\": {\"color\": \"#FFAD72\"}, \"y\": [96.34502923976608, 100.0], \"type\": \"bar\", \"name\": \"Reduce headflows by 10%\", \"x\": [\"Weber Basin Proj. Ogd Valley\", \"Wanship to Echo\"]}], {\"showlegend\": true, \"yaxis\": {\"ticks\": \"outside\", \"tickformat\": \",\", \"title\": \"Demand reliability (%)\", \"tick0\": 40, \"ticklen\": 10, \"gridwidth\": 1, \"dtick\": \"10\", \"showgrid\": true, \"range\": [40, 105], \"showline\": true, \"tickcolor\": \"#000\"}, \"height\": 700, \"shapes\": [{\"xref\": \"paper\", \"yref\": \"y\", \"y1\": 40, \"y0\": 40, \"x0\": 0, \"x1\": 1, \"type\": \"line\"}], \"width\": 1100, \"xaxis\": {\"tickfont\": {\"size\": 22}, \"ticks\": \"inside\", \"ticklen\": 10, \"gridwidth\": 1, \"showgrid\": true, \"tickcolor\": \"#000\"}, \"font\": {\"color\": \"#00000f\", \"family\": \"arial\", \"size\": 25}, \"margin\": {\"b\": 200, \"l\": 130}, \"legend\": {\"bordercolor\": \"#00000f\", \"y\": 0.56, \"borderwidth\": 2, \"x\": 1}}, {\"linkText\": \"Export to plot.ly\", \"showLink\": true})});</script>"
      ]
     },
     "metadata": {},
     "output_type": "display_data"
    },
    {
     "name": "stdout",
     "output_type": "stream",
     "text": [
      "Figure x is replicated!!\n"
     ]
    }
   ],
   "source": [
    "scenario1 = go.Bar(\n",
    "    x=Result['Demand']['BranchName'],\n",
    "    y=Result['Demand']['Reliability'],\n",
    "    name = 'Reduce demand by 10%',   \n",
    "\n",
    "    marker = dict(\n",
    "        color = '#290AD8'\n",
    "))\n",
    "\n",
    "\n",
    "scenario2 = go.Bar(\n",
    "    x=Result['Reference']['BranchName'],\n",
    "    y=Result['Reference']['Reliability'],\n",
    "    name = 'Base Case', \n",
    "    marker = dict(\n",
    "        color = '#000000',\n",
    "    \n",
    "))\n",
    "\n",
    "scenario3 = go.Bar(\n",
    "    x=Result['Evaporation']['BranchName'],\n",
    "    y=Result['Evaporation']['Reliability'],\n",
    "    name = 'Increase evaporation by 10%', \n",
    "\n",
    "    marker = dict(\n",
    "        color = '#3FA0FF'\n",
    "))\n",
    "\n",
    "\n",
    "\n",
    "scenario4 = go.Bar(\n",
    "    x=Result2['Reference']['BranchName'],\n",
    "    y=Result2['Reference']['Reliability'],\n",
    "    name = 'Reduce reservoir capacities by 10%',   \n",
    "\n",
    "    marker = dict(\n",
    "        color = '#72D9FF'\n",
    "))\n",
    "\n",
    "\n",
    "\n",
    "scenario5 = go.Bar(\n",
    "    x=Result['Headflow']['BranchName'],\n",
    "    y=Result['Headflow']['Reliability'],\n",
    "    name = 'Reduce headflows by 10%',   \n",
    "\n",
    "    marker = dict(\n",
    "        color = '#AAF7FF'\n",
    "))\n",
    "\n",
    "\n",
    "#$$$$$$$$$$$$$$$$$$$$$$$$$$$$$$$$$$$$$$$$$$$$$$$$$$$$$$$$$$\n",
    "\n",
    "scenario11 = go.Bar(\n",
    "    x=Result3['Demand']['BranchName'],\n",
    "    y=Result3['Demand']['Reliability'],\n",
    "    name = 'Reduce demand by 10%',   \n",
    "#     showlegend=False,\n",
    "\n",
    "    marker = dict(\n",
    "        color = '#A50021'\n",
    "))\n",
    "\n",
    "\n",
    "scenario12 = go.Bar(\n",
    "    x=Result3['Reference']['BranchName'],\n",
    "    y=Result3['Reference']['Reliability'],\n",
    "    name = 'Base Case', \n",
    "#     showlegend=False,\n",
    "\n",
    "    marker = dict(\n",
    "        color = '#000000',\n",
    "    \n",
    "))\n",
    "\n",
    "scenario13 = go.Bar(\n",
    "    x=Result3['Evaporation']['BranchName'],\n",
    "    y=Result3['Evaporation']['Reliability'],\n",
    "    name = 'Increase evaporation by 10%', \n",
    "#     showlegend=False,\n",
    "\n",
    "    marker = dict(\n",
    "        color = '#D82632'\n",
    "))\n",
    "\n",
    "\n",
    "\n",
    "scenario14 = go.Bar(\n",
    "    x=Result4['Reference']['BranchName'],\n",
    "    y=Result4['Reference']['Reliability'],\n",
    "    name = 'Reduce reservoir capacities by 10%',   \n",
    "#     showlegend=False,\n",
    "\n",
    "    marker = dict(\n",
    "        color = '#F76D5E'\n",
    "))\n",
    "\n",
    "\n",
    "\n",
    "scenario15 = go.Bar(\n",
    "    x=Result3['Headflow']['BranchName'],\n",
    "    y=Result3['Headflow']['Reliability'],\n",
    "    name = 'Reduce headflows by 10%',   \n",
    "#     showlegend=False,\n",
    "    marker = dict(\n",
    "        color = '#FFAD72'\n",
    "))\n",
    "\n",
    "\n",
    "\n",
    "\n",
    "layout = dict(\n",
    "    #title = \"Use Case 3.3\",\n",
    "    yaxis = dict(\n",
    "        title = \"Demand reliability (%)\",\n",
    "        tickformat= ',',\n",
    "        showline=True,\n",
    "        tick0=40,\n",
    "\n",
    "        dtick='10',\n",
    "        ticks='outside',\n",
    "        range = [40, 105],\n",
    "        ticklen=10,\n",
    "        tickcolor='#000',\n",
    "        gridwidth=1,\n",
    "        showgrid=True,\n",
    "\n",
    "                ),\n",
    "    \n",
    "    xaxis = dict(\n",
    "#         title = \"Updated input parameters in the <br>Bear_River_WEAP_Model_2017\",\n",
    "#         showline=True,\n",
    "        ticks='inside',\n",
    "        tickfont=dict(size=22),\n",
    "            tickcolor='#000',\n",
    "        gridwidth=1,\n",
    "        showgrid=True,\n",
    "\n",
    "        ticklen=10\n",
    "                    ),\n",
    "        legend=dict(\n",
    "        x=1,y=.56,\n",
    "          bordercolor='#00000f',\n",
    "            borderwidth=2\n",
    "        \n",
    "               ),\n",
    "    width=1100,\n",
    "    height=700,\n",
    "    #paper_bgcolor='rgb(233,233,233)',\n",
    "    #plot_bgcolor='rgb(233,233,233)',\n",
    "    margin=go.Margin(l=130,b=200),\n",
    "    font=dict(size=25,family='arial',color='#00000f'),\n",
    "\n",
    "    showlegend=True,\n",
    "    shapes=[{'type': 'line', \n",
    "                                           'x0': 0, 'x1': 1, 'xref': 'paper',\n",
    "                                           'y0': 40, 'y1': 40, 'yref': 'y'}]\n",
    "                )\n",
    "\n",
    "\n",
    "data = [scenario1, scenario2,scenario3,scenario4,scenario5,scenario11, scenario12,scenario13,scenario14,scenario15]\n",
    "\n",
    "\n",
    "# create a figure object\n",
    "fig = dict(data=data, layout=layout)\n",
    "#py.iplot(fig, filename = \"2.3Identify_SeasonalValues\") \n",
    "\n",
    "\n",
    "## it can be run from the local machine on Pycharm like this like below\n",
    "## It would also work here offline but in a seperate window  \n",
    "offline.iplot(fig,filename = 'jupyter/UnmentDemand@BirdRefuge' )       \n",
    "\n",
    "print \"Figure x is replicated!!\""
   ]
  },
  {
   "cell_type": "code",
   "execution_count": 93,
   "metadata": {
    "collapsed": false
   },
   "outputs": [
    {
     "data": {
      "application/vnd.plotly.v1+json": {
       "data": [
        {
         "marker": {
          "color": "#290AD8"
         },
         "mode": "lines+markers",
         "name": "Reduce demand by 10%",
         "type": "scatter",
         "x": [
          "Montpelier Irr",
          "Highline Canal",
          "Hyrum Canal",
          "Bird Refuge",
          "Logan Potable"
         ],
         "y": [
          50,
          84.55284552845528,
          88.21138211382114,
          96.7479674796748,
          100
         ]
        },
        {
         "marker": {
          "color": "#000000"
         },
         "mode": "lines+markers",
         "name": "Base Case",
         "type": "scatter",
         "x": [
          "Montpelier Irr",
          "Highline Canal",
          "Hyrum Canal",
          "Bird Refuge",
          "Logan Potable"
         ],
         "y": [
          50,
          79.8780487804878,
          85.77235772357723,
          96.34146341463415,
          100
         ]
        },
        {
         "marker": {
          "color": "#3FA0FF"
         },
         "mode": "lines+markers",
         "name": "Increase evaporation by 10%",
         "type": "scatter",
         "x": [
          "Montpelier Irr",
          "Highline Canal",
          "Hyrum Canal",
          "Bird Refuge",
          "Logan Potable"
         ],
         "y": [
          50,
          79.26829268292683,
          85.77235772357723,
          96.34146341463415,
          100
         ]
        },
        {
         "marker": {
          "color": "#72D9FF"
         },
         "mode": "lines+markers",
         "name": "Reduce reservoir capacities by 10%",
         "type": "scatter",
         "x": [
          "Montpelier Irr",
          "Highline Canal",
          "Hyrum Canal",
          "Bird Refuge",
          "Logan Potable"
         ],
         "y": [
          50,
          77.64227642276423,
          84.95934959349593,
          96.34146341463415,
          100
         ]
        },
        {
         "marker": {
          "color": "#AAF7FF"
         },
         "mode": "lines+markers",
         "name": "Reduce headflows by 10%",
         "type": "scatter",
         "x": [
          "Montpelier Irr",
          "Highline Canal",
          "Hyrum Canal",
          "Bird Refuge",
          "Logan Potable"
         ],
         "y": [
          50,
          73.57723577235772,
          77.4390243902439,
          94.71544715447155,
          100
         ]
        },
        {
         "marker": {
          "color": "#290AD8"
         },
         "mode": "lines+markers",
         "name": "Reduce demand by 10%",
         "showlegend": false,
         "type": "scatter",
         "x": [
          "Weber Basin Proj. Ogd Valley",
          "Wanship to Echo"
         ],
         "y": [
          98.83040935672514,
          100
         ]
        },
        {
         "marker": {
          "color": "#000000"
         },
         "mode": "lines+markers",
         "name": "Base Case",
         "showlegend": false,
         "type": "scatter",
         "x": [
          "Weber Basin Proj. Ogd Valley",
          "Wanship to Echo"
         ],
         "y": [
          97.51461988304094,
          100
         ]
        },
        {
         "marker": {
          "color": "#3FA0FF"
         },
         "mode": "lines+markers",
         "name": "Increase evaporation by 10%",
         "showlegend": false,
         "type": "scatter",
         "x": [
          "Weber Basin Proj. Ogd Valley",
          "Wanship to Echo"
         ],
         "y": [
          97.51461988304094,
          100
         ]
        },
        {
         "marker": {
          "color": "#72D9FF"
         },
         "mode": "lines+markers",
         "name": "Reduce reservoir capacities by 10%",
         "showlegend": false,
         "type": "scatter",
         "x": [
          "Weber Basin Proj. Ogd Valley",
          "Wanship to Echo"
         ],
         "y": [
          96.6374269005848,
          100
         ]
        },
        {
         "marker": {
          "color": "#AAF7FF"
         },
         "mode": "lines+markers",
         "name": "Reduce headflows by 10%",
         "showlegend": false,
         "type": "scatter",
         "x": [
          "Weber Basin Proj. Ogd Valley",
          "Wanship to Echo"
         ],
         "y": [
          96.34502923976608,
          100
         ]
        }
       ],
       "layout": {
        "font": {
         "color": "#00000f",
         "family": "arial",
         "size": 25
        },
        "height": 700,
        "legend": {
         "bordercolor": "#00000f",
         "borderwidth": 2,
         "x": 1,
         "y": 0.56
        },
        "margin": {
         "b": 200,
         "l": 130
        },
        "shapes": [
         {
          "type": "line",
          "x0": 0,
          "x1": 1,
          "xref": "paper",
          "y0": 40,
          "y1": 40,
          "yref": "y"
         }
        ],
        "showlegend": true,
        "width": 1100,
        "xaxis": {
         "gridwidth": 1,
         "showgrid": true,
         "tickcolor": "#000",
         "tickfont": {
          "size": 22
         },
         "ticklen": 10,
         "ticks": "inside"
        },
        "yaxis": {
         "dtick": "10",
         "gridwidth": 1,
         "range": [
          40,
          105
         ],
         "showgrid": true,
         "showline": true,
         "tick0": 40,
         "tickcolor": "#000",
         "tickformat": ",",
         "ticklen": 10,
         "ticks": "outside",
         "title": "Demand reliability (%)"
        }
       }
      },
      "text/html": [
       "<div id=\"05913c71-97d5-4cbd-9c43-6566880f5929\" style=\"height: 700px; width: 1100px;\" class=\"plotly-graph-div\"></div><script type=\"text/javascript\">require([\"plotly\"], function(Plotly) { window.PLOTLYENV=window.PLOTLYENV || {};window.PLOTLYENV.BASE_URL=\"https://plot.ly\";Plotly.newPlot(\"05913c71-97d5-4cbd-9c43-6566880f5929\", [{\"name\": \"Reduce demand by 10%\", \"marker\": {\"color\": \"#290AD8\"}, \"mode\": \"lines+markers\", \"y\": [50.0, 84.55284552845528, 88.21138211382114, 96.7479674796748, 100.0], \"x\": [\"Montpelier Irr\", \"Highline Canal\", \"Hyrum Canal\", \"Bird Refuge\", \"Logan Potable\"], \"type\": \"scatter\"}, {\"name\": \"Base Case\", \"marker\": {\"color\": \"#000000\"}, \"mode\": \"lines+markers\", \"y\": [50.0, 79.8780487804878, 85.77235772357723, 96.34146341463415, 100.0], \"x\": [\"Montpelier Irr\", \"Highline Canal\", \"Hyrum Canal\", \"Bird Refuge\", \"Logan Potable\"], \"type\": \"scatter\"}, {\"name\": \"Increase evaporation by 10%\", \"marker\": {\"color\": \"#3FA0FF\"}, \"mode\": \"lines+markers\", \"y\": [50.0, 79.26829268292683, 85.77235772357723, 96.34146341463415, 100.0], \"x\": [\"Montpelier Irr\", \"Highline Canal\", \"Hyrum Canal\", \"Bird Refuge\", \"Logan Potable\"], \"type\": \"scatter\"}, {\"name\": \"Reduce reservoir capacities by 10%\", \"marker\": {\"color\": \"#72D9FF\"}, \"mode\": \"lines+markers\", \"y\": [50.0, 77.64227642276423, 84.95934959349593, 96.34146341463415, 100.0], \"x\": [\"Montpelier Irr\", \"Highline Canal\", \"Hyrum Canal\", \"Bird Refuge\", \"Logan Potable\"], \"type\": \"scatter\"}, {\"name\": \"Reduce headflows by 10%\", \"marker\": {\"color\": \"#AAF7FF\"}, \"mode\": \"lines+markers\", \"y\": [50.0, 73.57723577235772, 77.4390243902439, 94.71544715447155, 100.0], \"x\": [\"Montpelier Irr\", \"Highline Canal\", \"Hyrum Canal\", \"Bird Refuge\", \"Logan Potable\"], \"type\": \"scatter\"}, {\"showlegend\": false, \"name\": \"Reduce demand by 10%\", \"marker\": {\"color\": \"#290AD8\"}, \"mode\": \"lines+markers\", \"y\": [98.83040935672514, 100.0], \"x\": [\"Weber Basin Proj. Ogd Valley\", \"Wanship to Echo\"], \"type\": \"scatter\"}, {\"showlegend\": false, \"name\": \"Base Case\", \"marker\": {\"color\": \"#000000\"}, \"mode\": \"lines+markers\", \"y\": [97.51461988304094, 100.0], \"x\": [\"Weber Basin Proj. Ogd Valley\", \"Wanship to Echo\"], \"type\": \"scatter\"}, {\"showlegend\": false, \"name\": \"Increase evaporation by 10%\", \"marker\": {\"color\": \"#3FA0FF\"}, \"mode\": \"lines+markers\", \"y\": [97.51461988304094, 100.0], \"x\": [\"Weber Basin Proj. Ogd Valley\", \"Wanship to Echo\"], \"type\": \"scatter\"}, {\"showlegend\": false, \"name\": \"Reduce reservoir capacities by 10%\", \"marker\": {\"color\": \"#72D9FF\"}, \"mode\": \"lines+markers\", \"y\": [96.6374269005848, 100.0], \"x\": [\"Weber Basin Proj. Ogd Valley\", \"Wanship to Echo\"], \"type\": \"scatter\"}, {\"showlegend\": false, \"name\": \"Reduce headflows by 10%\", \"marker\": {\"color\": \"#AAF7FF\"}, \"mode\": \"lines+markers\", \"y\": [96.34502923976608, 100.0], \"x\": [\"Weber Basin Proj. Ogd Valley\", \"Wanship to Echo\"], \"type\": \"scatter\"}], {\"showlegend\": true, \"yaxis\": {\"ticks\": \"outside\", \"tickformat\": \",\", \"title\": \"Demand reliability (%)\", \"tick0\": 40, \"ticklen\": 10, \"gridwidth\": 1, \"dtick\": \"10\", \"showgrid\": true, \"range\": [40, 105], \"showline\": true, \"tickcolor\": \"#000\"}, \"height\": 700, \"shapes\": [{\"xref\": \"paper\", \"yref\": \"y\", \"y1\": 40, \"y0\": 40, \"x0\": 0, \"x1\": 1, \"type\": \"line\"}], \"width\": 1100, \"xaxis\": {\"tickfont\": {\"size\": 22}, \"ticks\": \"inside\", \"ticklen\": 10, \"gridwidth\": 1, \"showgrid\": true, \"tickcolor\": \"#000\"}, \"font\": {\"color\": \"#00000f\", \"family\": \"arial\", \"size\": 25}, \"margin\": {\"b\": 200, \"l\": 130}, \"legend\": {\"bordercolor\": \"#00000f\", \"y\": 0.56, \"borderwidth\": 2, \"x\": 1}}, {\"linkText\": \"Export to plot.ly\", \"showLink\": true})});</script>"
      ],
      "text/vnd.plotly.v1+html": [
       "<div id=\"05913c71-97d5-4cbd-9c43-6566880f5929\" style=\"height: 700px; width: 1100px;\" class=\"plotly-graph-div\"></div><script type=\"text/javascript\">require([\"plotly\"], function(Plotly) { window.PLOTLYENV=window.PLOTLYENV || {};window.PLOTLYENV.BASE_URL=\"https://plot.ly\";Plotly.newPlot(\"05913c71-97d5-4cbd-9c43-6566880f5929\", [{\"name\": \"Reduce demand by 10%\", \"marker\": {\"color\": \"#290AD8\"}, \"mode\": \"lines+markers\", \"y\": [50.0, 84.55284552845528, 88.21138211382114, 96.7479674796748, 100.0], \"x\": [\"Montpelier Irr\", \"Highline Canal\", \"Hyrum Canal\", \"Bird Refuge\", \"Logan Potable\"], \"type\": \"scatter\"}, {\"name\": \"Base Case\", \"marker\": {\"color\": \"#000000\"}, \"mode\": \"lines+markers\", \"y\": [50.0, 79.8780487804878, 85.77235772357723, 96.34146341463415, 100.0], \"x\": [\"Montpelier Irr\", \"Highline Canal\", \"Hyrum Canal\", \"Bird Refuge\", \"Logan Potable\"], \"type\": \"scatter\"}, {\"name\": \"Increase evaporation by 10%\", \"marker\": {\"color\": \"#3FA0FF\"}, \"mode\": \"lines+markers\", \"y\": [50.0, 79.26829268292683, 85.77235772357723, 96.34146341463415, 100.0], \"x\": [\"Montpelier Irr\", \"Highline Canal\", \"Hyrum Canal\", \"Bird Refuge\", \"Logan Potable\"], \"type\": \"scatter\"}, {\"name\": \"Reduce reservoir capacities by 10%\", \"marker\": {\"color\": \"#72D9FF\"}, \"mode\": \"lines+markers\", \"y\": [50.0, 77.64227642276423, 84.95934959349593, 96.34146341463415, 100.0], \"x\": [\"Montpelier Irr\", \"Highline Canal\", \"Hyrum Canal\", \"Bird Refuge\", \"Logan Potable\"], \"type\": \"scatter\"}, {\"name\": \"Reduce headflows by 10%\", \"marker\": {\"color\": \"#AAF7FF\"}, \"mode\": \"lines+markers\", \"y\": [50.0, 73.57723577235772, 77.4390243902439, 94.71544715447155, 100.0], \"x\": [\"Montpelier Irr\", \"Highline Canal\", \"Hyrum Canal\", \"Bird Refuge\", \"Logan Potable\"], \"type\": \"scatter\"}, {\"showlegend\": false, \"name\": \"Reduce demand by 10%\", \"marker\": {\"color\": \"#290AD8\"}, \"mode\": \"lines+markers\", \"y\": [98.83040935672514, 100.0], \"x\": [\"Weber Basin Proj. Ogd Valley\", \"Wanship to Echo\"], \"type\": \"scatter\"}, {\"showlegend\": false, \"name\": \"Base Case\", \"marker\": {\"color\": \"#000000\"}, \"mode\": \"lines+markers\", \"y\": [97.51461988304094, 100.0], \"x\": [\"Weber Basin Proj. Ogd Valley\", \"Wanship to Echo\"], \"type\": \"scatter\"}, {\"showlegend\": false, \"name\": \"Increase evaporation by 10%\", \"marker\": {\"color\": \"#3FA0FF\"}, \"mode\": \"lines+markers\", \"y\": [97.51461988304094, 100.0], \"x\": [\"Weber Basin Proj. Ogd Valley\", \"Wanship to Echo\"], \"type\": \"scatter\"}, {\"showlegend\": false, \"name\": \"Reduce reservoir capacities by 10%\", \"marker\": {\"color\": \"#72D9FF\"}, \"mode\": \"lines+markers\", \"y\": [96.6374269005848, 100.0], \"x\": [\"Weber Basin Proj. Ogd Valley\", \"Wanship to Echo\"], \"type\": \"scatter\"}, {\"showlegend\": false, \"name\": \"Reduce headflows by 10%\", \"marker\": {\"color\": \"#AAF7FF\"}, \"mode\": \"lines+markers\", \"y\": [96.34502923976608, 100.0], \"x\": [\"Weber Basin Proj. Ogd Valley\", \"Wanship to Echo\"], \"type\": \"scatter\"}], {\"showlegend\": true, \"yaxis\": {\"ticks\": \"outside\", \"tickformat\": \",\", \"title\": \"Demand reliability (%)\", \"tick0\": 40, \"ticklen\": 10, \"gridwidth\": 1, \"dtick\": \"10\", \"showgrid\": true, \"range\": [40, 105], \"showline\": true, \"tickcolor\": \"#000\"}, \"height\": 700, \"shapes\": [{\"xref\": \"paper\", \"yref\": \"y\", \"y1\": 40, \"y0\": 40, \"x0\": 0, \"x1\": 1, \"type\": \"line\"}], \"width\": 1100, \"xaxis\": {\"tickfont\": {\"size\": 22}, \"ticks\": \"inside\", \"ticklen\": 10, \"gridwidth\": 1, \"showgrid\": true, \"tickcolor\": \"#000\"}, \"font\": {\"color\": \"#00000f\", \"family\": \"arial\", \"size\": 25}, \"margin\": {\"b\": 200, \"l\": 130}, \"legend\": {\"bordercolor\": \"#00000f\", \"y\": 0.56, \"borderwidth\": 2, \"x\": 1}}, {\"linkText\": \"Export to plot.ly\", \"showLink\": true})});</script>"
      ]
     },
     "metadata": {},
     "output_type": "display_data"
    },
    {
     "name": "stdout",
     "output_type": "stream",
     "text": [
      "Figure x is replicated!!\n"
     ]
    }
   ],
   "source": [
    "scenario1 = go.Scatter(\n",
    "    x=Result['Demand']['BranchName'],\n",
    "    y=Result['Demand']['Reliability'],\n",
    "    name = 'Reduce demand by 10%',   \n",
    "    mode = 'lines+markers',\n",
    "\n",
    "    marker = dict(\n",
    "        color = '#290AD8'\n",
    "))\n",
    "\n",
    "\n",
    "scenario2 = go.Scatter(\n",
    "    x=Result['Reference']['BranchName'],\n",
    "    y=Result['Reference']['Reliability'],\n",
    "    name = 'Base Case', \n",
    "        mode = 'lines+markers',\n",
    "\n",
    "    marker = dict(\n",
    "        color = '#000000',\n",
    "))\n",
    "\n",
    "scenario3 = go.Scatter(\n",
    "    x=Result['Evaporation']['BranchName'],\n",
    "    y=Result['Evaporation']['Reliability'],\n",
    "    name = 'Increase evaporation by 10%', \n",
    "    mode = 'lines+markers',\n",
    "\n",
    "    marker = dict(\n",
    "        color = '#3FA0FF'\n",
    "))\n",
    "\n",
    "\n",
    "\n",
    "scenario4 = go.Scatter(\n",
    "    x=Result2['Reference']['BranchName'],\n",
    "    y=Result2['Reference']['Reliability'],\n",
    "    name = 'Reduce reservoir capacities by 10%',   \n",
    "    mode = 'lines+markers',\n",
    "\n",
    "    marker = dict(\n",
    "        color = '#72D9FF'\n",
    "))\n",
    "\n",
    "\n",
    "\n",
    "scenario5 = go.Scatter(\n",
    "    x=Result['Headflow']['BranchName'],\n",
    "    y=Result['Headflow']['Reliability'],\n",
    "    name = 'Reduce headflows by 10%',   \n",
    "    mode = 'lines+markers',\n",
    "\n",
    "    marker = dict(\n",
    "        color = '#AAF7FF'\n",
    "))\n",
    "\n",
    "\n",
    "#$$$$$$$$$$$$$$$$$$$$$$$$$$$$$$$$$$$$$$$$$$$$$$$$$$$$$$$$$$\n",
    "\n",
    "scenario11 = go.Scatter(\n",
    "    x=Result3['Demand']['BranchName'],\n",
    "    y=Result3['Demand']['Reliability'],\n",
    "    name = 'Reduce demand by 10%',   \n",
    "    mode = 'lines+markers',\n",
    "    showlegend=False,\n",
    "\n",
    "    marker = dict(\n",
    "        color = '#290AD8'\n",
    "))\n",
    "\n",
    "\n",
    "scenario12 = go.Scatter(\n",
    "    x=Result3['Reference']['BranchName'],\n",
    "    y=Result3['Reference']['Reliability'],\n",
    "    name = 'Base Case', \n",
    "        mode = 'lines+markers',\n",
    "    showlegend=False,\n",
    "\n",
    "    marker = dict(\n",
    "        color = '#000000',\n",
    "    \n",
    "))\n",
    "\n",
    "scenario13 = go.Scatter(\n",
    "    x=Result3['Evaporation']['BranchName'],\n",
    "    y=Result3['Evaporation']['Reliability'],\n",
    "    name = 'Increase evaporation by 10%', \n",
    "    mode = 'lines+markers',\n",
    "    showlegend=False,\n",
    "\n",
    "    marker = dict(\n",
    "        color = '#3FA0FF'\n",
    "))\n",
    "\n",
    "\n",
    "\n",
    "scenario14 = go.Scatter(\n",
    "    x=Result4['Reference']['BranchName'],\n",
    "    y=Result4['Reference']['Reliability'],\n",
    "    name = 'Reduce reservoir capacities by 10%',   \n",
    "    mode = 'lines+markers',\n",
    "    showlegend=False,\n",
    "\n",
    "    marker = dict(\n",
    "        color = '#72D9FF'\n",
    "))\n",
    "\n",
    "\n",
    "\n",
    "scenario15 = go.Scatter(\n",
    "    x=Result3['Headflow']['BranchName'],\n",
    "    y=Result3['Headflow']['Reliability'],\n",
    "    name = 'Reduce headflows by 10%',   \n",
    "    mode = 'lines+markers',\n",
    "    showlegend=False,\n",
    "    marker = dict(\n",
    "        color = '#AAF7FF'\n",
    "))\n",
    "\n",
    "\n",
    "\n",
    "\n",
    "layout = dict(\n",
    "    #title = \"Use Case 3.3\",\n",
    "    yaxis = dict(\n",
    "        title = \"Demand reliability (%)\",\n",
    "        tickformat= ',',\n",
    "        showline=True,\n",
    "        tick0=40,\n",
    "\n",
    "        dtick='10',\n",
    "        ticks='outside',\n",
    "        range = [40, 105],\n",
    "        ticklen=10,\n",
    "        tickcolor='#000',\n",
    "        gridwidth=1,\n",
    "        showgrid=True,\n",
    "\n",
    "                ),\n",
    "    \n",
    "    xaxis = dict(\n",
    "#         title = \"Updated input parameters in the <br>Bear_River_WEAP_Model_2017\",\n",
    "#         showline=True,\n",
    "        ticks='inside',\n",
    "        tickfont=dict(size=22),\n",
    "            tickcolor='#000',\n",
    "        gridwidth=1,\n",
    "        showgrid=True,\n",
    "\n",
    "        ticklen=10\n",
    "                    ),\n",
    "        legend=dict(\n",
    "        x=1,y=.56,\n",
    "          bordercolor='#00000f',\n",
    "            borderwidth=2\n",
    "        \n",
    "               ),\n",
    "    width=1100,\n",
    "    height=700,\n",
    "    #paper_bgcolor='rgb(233,233,233)',\n",
    "    #plot_bgcolor='rgb(233,233,233)',\n",
    "    margin=go.Margin(l=130,b=200),\n",
    "    font=dict(size=25,family='arial',color='#00000f'),\n",
    "\n",
    "    showlegend=True,\n",
    "    shapes=[{'type': 'line', \n",
    "                                           'x0': 0, 'x1': 1, 'xref': 'paper',\n",
    "                                           'y0': 40, 'y1': 40, 'yref': 'y'}]\n",
    "                )\n",
    "\n",
    "\n",
    "data = [scenario1, scenario2,scenario3,scenario4,scenario5,scenario11, scenario12,scenario13,scenario14,scenario15]\n",
    "\n",
    "\n",
    "# create a figure object\n",
    "fig = dict(data=data, layout=layout)\n",
    "#py.iplot(fig, filename = \"2.3Identify_SeasonalValues\") \n",
    "\n",
    "\n",
    "## it can be run from the local machine on Pycharm like this like below\n",
    "## It would also work here offline but in a seperate window  \n",
    "offline.iplot(fig,filename = 'jupyter/UnmentDemand@BirdRefuge' )       \n",
    "\n",
    "print \"Figure x is replicated!!\""
   ]
  },
  {
   "cell_type": "markdown",
   "metadata": {},
   "source": [
    "<a name=\"Close\"></a>\n",
    "# 7. Close WEAP API connection"
   ]
  },
  {
   "cell_type": "code",
   "execution_count": null,
   "metadata": {
    "collapsed": false
   },
   "outputs": [],
   "source": [
    "# 9. Close the WEAP API connection\n",
    "\n",
    "\n",
    "print 'connection disconnected'\n",
    "\n",
    "# Uncomment \n",
    "WEAP.SaveArea\n",
    "\n",
    "\n",
    "\n",
    "# this command will close WEAP\n",
    "WEAP.Quit\n",
    "\n",
    "print 'Connection with WEAP API is disconnected'"
   ]
  },
  {
   "cell_type": "markdown",
   "metadata": {},
   "source": [
    "# The End :) Congratulations!"
   ]
  }
 ],
 "metadata": {
  "kernelspec": {
   "display_name": "Python 2",
   "language": "python",
   "name": "python2"
  },
  "language_info": {
   "codemirror_mode": {
    "name": "ipython",
    "version": 2
   },
   "file_extension": ".py",
   "mimetype": "text/x-python",
   "name": "python",
   "nbconvert_exporter": "python",
   "pygments_lexer": "ipython2",
   "version": "2.7.13"
  }
 },
 "nbformat": 4,
 "nbformat_minor": 2
}
